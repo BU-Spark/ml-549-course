{
 "cells": [
  {
   "cell_type": "code",
   "execution_count": 1,
   "metadata": {},
   "outputs": [
    {
     "name": "stderr",
     "output_type": "stream",
     "text": [
      "[nltk_data] Downloading package stopwords to\n",
      "[nltk_data]     /usr4/ds549/saisurya/nltk_data...\n",
      "[nltk_data]   Package stopwords is already up-to-date!\n",
      "[nltk_data] Downloading package punkt to\n",
      "[nltk_data]     /usr4/ds549/saisurya/nltk_data...\n",
      "[nltk_data]   Package punkt is already up-to-date!\n"
     ]
    },
    {
     "data": {
      "text/plain": [
       "True"
      ]
     },
     "execution_count": 1,
     "metadata": {},
     "output_type": "execute_result"
    }
   ],
   "source": [
    "#Importing various libraries and modules\n",
    "\n",
    "import re\n",
    "import os\n",
    "import string\n",
    "import inflect\n",
    "import nltk\n",
    "from nltk.corpus import stopwords\n",
    "from nltk.tokenize import word_tokenize\n",
    "from nltk.stem import WordNetLemmatizer\n",
    "from sklearn.feature_extraction.text import TfidfVectorizer, CountVectorizer, TfidfTransformer\n",
    "from sklearn.decomposition import LatentDirichletAllocation\n",
    "import matplotlib.pyplot as plt\n",
    "import numpy as np\n",
    "import pyLDAvis\n",
    "import seaborn as sns\n",
    "import warnings\n",
    "\n",
    "# Ignore FutureWarning and UserWarning\n",
    "warnings.simplefilter(action='ignore', category=FutureWarning)\n",
    "warnings.simplefilter(action='ignore', category=UserWarning)\n",
    "nltk.download('stopwords')\n",
    "nltk.download('punkt')\n",
    "\n"
   ]
  },
  {
   "cell_type": "markdown",
   "metadata": {},
   "source": [
    "## Q2.2 Pre-Processing"
   ]
  },
  {
   "cell_type": "code",
   "execution_count": 2,
   "metadata": {},
   "outputs": [],
   "source": [
    "def read_files_from_directory(directory_path):\n",
    "    \"\"\"Read .md files from a directory.\"\"\"\n",
    "    contents = []\n",
    "    filenames = []\n",
    "\n",
    "    for filename in os.listdir(directory_path):\n",
    "        if filename.endswith('.md'):\n",
    "            with open(os.path.join(directory_path, filename), 'r', encoding='utf-8') as file:\n",
    "                contents.append(file.read())\n",
    "                filenames.append(filename)\n",
    "\n",
    "    return contents, filenames\n",
    "\n",
    "# Get content and names of .md files from a directory\n",
    "readmes, filenames = read_files_from_directory('/projectnb/ds549/students/saisurya/ml-549-course/homeworks/fall23_hw1/datasets/readmes')\n"
   ]
  },
  {
   "cell_type": "code",
   "execution_count": 3,
   "metadata": {},
   "outputs": [],
   "source": [
    "stop_words = set(stopwords.words('english'))\n",
    "lemmatizer = WordNetLemmatizer()\n",
    "p = inflect.engine()\n",
    "\n",
    "\n",
    "def clean_text(text):\n",
    "    # Removing emojis\n",
    "    emoji_pattern = re.compile(pattern = \"[\"\n",
    "        u\"\\U0001F600-\\U0001F64F\"  # emoticons\n",
    "        u\"\\U0001F300-\\U0001F5FF\"  # symbols & pictographs\n",
    "        u\"\\U0001F680-\\U0001F6FF\"  # transport & map symbols\n",
    "        u\"\\U0001F700-\\U0001F77F\"  # alchemical symbols\n",
    "        u\"\\U0001F780-\\U0001F7FF\"  # Geometric Shapes Extended\n",
    "        u\"\\U0001F800-\\U0001F8FF\"  # Supplemental Arrows-C\n",
    "        u\"\\U0001F900-\\U0001F9FF\"  # Supplemental Symbols and Pictographs\n",
    "        u\"\\U0001FA00-\\U0001FA6F\"  # Chess Symbols\n",
    "        u\"\\U0001FA70-\\U0001FAFF\"  # Symbols and Pictographs Extended-A\n",
    "                           \"]+\", flags = re.UNICODE)\n",
    "    text = emoji_pattern.sub(r'', text)\n",
    "    # Removing user mentions\n",
    "    text = re.sub(r'@\\w+', '', text)\n",
    "    text = re.sub(r'!\\[.*?\\]\\(.*?\\)', '', text)  # For images\n",
    "    text = re.sub(r'\\[.*?\\]\\(.*?\\)', '', text)   # For inline links\n",
    "    \n",
    "    # Removing hashtags\n",
    "    text = re.sub(r'#\\w+', '', text)\n",
    "\n",
    "    # Removing URLs\n",
    "    text = re.sub(r'https?://\\S+', '', text)    \n",
    "    # Removing HTML tags\n",
    "    text = re.sub(r'<.*?>', '', text)\n",
    "    #Convert to lowercase and remove some common words\n",
    "    text = re.sub(r'\\b(Code of Conduct|Community|Contributing|Documentation|Features|Getting Started|License|Roadmap|Architecture|Installation|Example|Using|Configuration|Config|Conduct|How|Reporting|Building|Authentication|Quick|Release|Demo|Support|Contact|Running|Usage|Get|Overview|Develop|support|Start|&|Prerequisites|image|Meeting|Status|Build|using|Why|Create|use|Releases|start|Project|Installing|Meetings|)\\b', \"\", text)\n",
    "    text  = text.lower()\n",
    "    text = re.sub(r'\\b(project|see|service|version|please|file|release|application|run|policy|resource|yes)\\b', \"\", text)\n",
    "    # Tokenizing\n",
    "    words = word_tokenize(text)\n",
    "    \n",
    "    # Lemmatization\n",
    "    words = [lemmatizer.lemmatize(word) for word in words]\n",
    "\n",
    "    # Filtering words\n",
    "    cleaned_words = [word for word in words if word.isalpha() and word not in stop_words and word not in string.punctuation]\n",
    "\n",
    "    return ' '.join(cleaned_words)\n",
    "\n",
    "cleaned_readmes = [clean_text(readme) for readme in readmes]\n",
    "\n"
   ]
  },
  {
   "cell_type": "code",
   "execution_count": 4,
   "metadata": {},
   "outputs": [],
   "source": [
    "\n",
    "\n",
    "# Set up CountVectorizer with max document frequency\n",
    "vectorizer = CountVectorizer(max_df=30)\n",
    "\n",
    "# Transform cleaned readmes using CountVectorizer\n",
    "X = vectorizer.fit_transform(cleaned_readmes)\n",
    "\n",
    "# Initialize TF-IDF transformer\n",
    "transformer = TfidfTransformer()\n",
    "\n",
    "# Convert the count matrix to a normalized tf-idf representation\n",
    "tfidf = transformer.fit_transform(X)\n",
    "\n"
   ]
  },
  {
   "cell_type": "markdown",
   "metadata": {},
   "source": [
    "## Q2.3 Training and Evaluation"
   ]
  },
  {
   "cell_type": "code",
   "execution_count": 5,
   "metadata": {},
   "outputs": [
    {
     "name": "stdout",
     "output_type": "stream",
     "text": [
      "Kubernetes Tooling and Extensions: helm, chart, specification, cni, app, falco, keptn, antrea, zot, kepler, strimzi, kuberhealthy, coredns, kubescape, plugins, dapr, spiffe, openmetrics, devstream, ko\n",
      "Service Mesh and Kubernetes Management: istio, edge, mesh, branch, kubectl, opa, function, proxy, harbor, plane, linux, registry, volume, traffic, karmada, spire, longhorn, openebs, controller, keycloak\n",
      "Monitoring, Tracing, and Advanced Configuration: nbsp, chaos, opentelemetry, sdk, etcd, instrumentation, jaeger, grpc, mesh, kyverno, bfe, provider, stability, linkerd, schemahero, experimental, pixie, keda, akri, branch\n"
     ]
    }
   ],
   "source": [
    "# Choosing the number of topics for LDA\n",
    "n_topics = 3\n",
    "lda = LatentDirichletAllocation(n_components=n_topics, random_state=42)\n",
    "lda.fit(tfidf)\n",
    "\n",
    "# Display the top words for each topic for interpretation\n",
    "def display_topics(model, feature_names, no_top_words=20):\n",
    "    \"\"\"Display top words for each topic and return topic labels.\"\"\"\n",
    "    topics_names = [\n",
    "        \"Kubernetes Tooling and Extensions\",\n",
    "        \"Service Mesh and Kubernetes Management\",\n",
    "        \"Monitoring, Tracing, and Advanced Configuration\"\n",
    "    ]\n",
    "\n",
    "    topics_labels = {}\n",
    "    for topic_idx, topic in enumerate(model.components_):\n",
    "        top_words = [feature_names[i] for i in topic.argsort()[:-no_top_words - 1:-1]]\n",
    "        topics_labels[topics_names[topic_idx]] = \", \".join(top_words)\n",
    "        print(f\"{topics_names[topic_idx]}: {', '.join(top_words)}\")\n",
    "    \n",
    "    return topics_labels\n",
    "\n",
    "feature_names = vectorizer.get_feature_names_out()\n",
    "topic_labels = display_topics(lda, feature_names)\n",
    "\n",
    "# Assign the most dominant topic to each repository based on its content\n",
    "repository_topics = {}\n",
    "for idx, repo in enumerate(cleaned_readmes):\n",
    "    topic_distribution = lda.transform(vectorizer.transform([repo]))\n",
    "    dominant_topic = topic_distribution[0].argmax()\n",
    "    repository_name = filenames[idx]\n",
    "    repository_topics[repository_name] = list(topic_labels.keys())[dominant_topic]\n"
   ]
  },
  {
   "cell_type": "code",
   "execution_count": 6,
   "metadata": {},
   "outputs": [],
   "source": [
    "# Group filenames by their dominant topics\n",
    "topics_grouped_by_files = {}\n",
    "for filename, topic in repository_topics.items():\n",
    "    if topic not in topics_grouped_by_files:\n",
    "        topics_grouped_by_files[topic] = []\n",
    "    topics_grouped_by_files[topic].append(filename)\n",
    "\n",
    "# Write to the 'hw1_output.txt' file\n",
    "with open('hw1_output.txt', 'w') as output_file:\n",
    "    for topic, associated_files in topics_grouped_by_files.items():\n",
    "        # Write the topic name\n",
    "        output_file.write(f\"**{topic}**:\\n\")\n",
    "        \n",
    "        # Write each filename associated with the topic\n",
    "        for filename in associated_files:\n",
    "            output_file.write(f\"    {filename}\\n\")\n",
    "        output_file.write(\"\\n\")  \n",
    "\n",
    "\n"
   ]
  },
  {
   "cell_type": "markdown",
   "metadata": {},
   "source": [
    "## Visualization and Analysis:"
   ]
  },
  {
   "cell_type": "code",
   "execution_count": 7,
   "metadata": {},
   "outputs": [
    {
     "data": {
      "image/png": "[encoded data removed]",
      "text/plain": [
       "<Figure size 1000x600 with 1 Axes>"
      ]
     },
     "metadata": {},
     "output_type": "display_data"
    }
   ],
   "source": [
    "# Count repositories per topic\n",
    "topic_counts = {label: 0 for label in topic_labels.keys()}  # Use custom topic names\n",
    "for topic in repository_topics.values():\n",
    "    topic_counts[topic] += 1\n",
    "\n",
    "plt.figure(figsize=(10, 6))\n",
    "ax = sns.barplot(x=list(topic_counts.values()), y=list(topic_counts.keys()), palette='viridis', orient='h')\n",
    "\n",
    "# Adding count numbers to the bars\n",
    "for p in ax.patches:\n",
    "    width = p.get_width()\n",
    "    ax.text(width + 0.5, p.get_y() + p.get_height()/2, '{:1.0f}'.format(width), ha=\"left\", va=\"center\")\n",
    "\n",
    "plt.xlabel('Number of Repositories')\n",
    "plt.title('Distribution of Repositories Across Topics')\n",
    "plt.tight_layout()\n",
    "plt.show()\n"
   ]
  },
  {
   "cell_type": "code",
   "execution_count": 8,
   "metadata": {},
   "outputs": [
    {
     "data": {
      "text/html": [
       "\n",
       "<link rel=\"stylesheet\" type=\"text/css\" href=\"https://cdn.jsdelivr.net/gh/bmabey/pyLDAvis@3.4.0/pyLDAvis/js/ldavis.v1.0.0.css\">\n",
       "\n",
       "\n",
       "<div id=\"ldavis_el17593481401171254223687098754545\" style=\"background-color:white;\"></div>\n",
       "<script type=\"text/javascript\">\n",
       "\n",
       "var ldavis_el17593481401171254223687098754545_data = {\"mdsDat\": {\"x\": [0.0016089257201187485, -0.0067500508303172295, 0.005141125110198485], \"y\": [-0.005831186301380945, 0.0017321173953032754, 0.004099068906077665], \"topics\": [1, 2, 3], \"cluster\": [1, 1, 1], \"Freq\": [27.52858431898871, 35.75378911438936, 36.71762656662194]}, \"tinfo\": {\"Term\": [\"istio\", \"edge\", \"nbsp\", \"chaos\", \"cni\", \"helm\", \"chart\", \"opentelemetry\", \"falco\", \"keptn\", \"antrea\", \"zot\", \"kepler\", \"strimzi\", \"coredns\", \"kuberhealthy\", \"kubescape\", \"mesh\", \"dapr\", \"openmetrics\", \"ko\", \"devstream\", \"tremor\", \"wasmcloud\", \"nocalhost\", \"flux\", \"headlamp\", \"eraser\", \"vitess\", \"cubefs\", \"falco\", \"keptn\", \"antrea\", \"zot\", \"kepler\", \"strimzi\", \"coredns\", \"kuberhealthy\", \"kubescape\", \"dapr\", \"openmetrics\", \"tremor\", \"ko\", \"devstream\", \"wasmcloud\", \"nocalhost\", \"flux\", \"headlamp\", \"cni\", \"eraser\", \"vitess\", \"cubefs\", \"dex\", \"openelb\", \"sealer\", \"carina\", \"piraeus\", \"chartmuseum\", \"clusterpedia\", \"buildpacks\", \"helm\", \"chart\", \"app\", \"specification\", \"spiffe\", \"plugins\", \"spec\", \"artifact\", \"istio\", \"edge\", \"harbor\", \"opa\", \"longhorn\", \"openebs\", \"openfga\", \"parsec\", \"armada\", \"backstage\", \"tikv\", \"oras\", \"spire\", \"osm\", \"volcano\", \"argo\", \"nats\", \"karmada\", \"contour\", \"openyurt\", \"opengitops\", \"kuma\", \"clusternet\", \"wasmedge\", \"rook\", \"gadget\", \"pipecd\", \"keylime\", \"kpt\", \"function\", \"metal\", \"mesh\", \"keycloak\", \"proxy\", \"kubectl\", \"branch\", \"plane\", \"linux\", \"volume\", \"registry\", \"traffic\", \"certificate\", \"controller\", \"extension\", \"chaos\", \"nbsp\", \"jaeger\", \"instrumentation\", \"opentelemetry\", \"kyverno\", \"bfe\", \"schemahero\", \"pixie\", \"keda\", \"akri\", \"submariner\", \"pravega\", \"etcd\", \"krustlet\", \"porter\", \"trickster\", \"skooner\", \"cortex\", \"fluid\", \"telepresence\", \"werf\", \"custodian\", \"stability\", \"capsule\", \"tuf\", \"aeraki\", \"kudo\", \"athenz\", \"paralus\", \"serving\", \"sdk\", \"experimental\", \"meshery\", \"grpc\", \"linkerd\", \"kubelet\", \"trace\", \"provider\", \"mesh\", \"java\", \"query\", \"secret\", \"protocol\", \"model\", \"branch\"], \"Freq\": [29.0, 21.0, 23.0, 17.0, 14.0, 20.0, 19.0, 18.0, 10.0, 10.0, 10.0, 10.0, 10.0, 10.0, 10.0, 10.0, 10.0, 23.0, 10.0, 9.0, 9.0, 9.0, 9.0, 9.0, 9.0, 9.0, 9.0, 9.0, 9.0, 9.0, 6.2060835889617545, 6.192433517009743, 6.180762204046778, 6.112413021897131, 6.072071888501705, 6.057084261686045, 6.042355912079851, 6.043175055887585, 5.998435062646941, 5.897354215666816, 5.771334995472338, 5.722805234367177, 5.730324681563224, 5.734762639559312, 5.714017792225018, 5.709275781160514, 5.661490915854686, 5.6366325444462415, 8.186403312653448, 5.583533264814082, 5.562132071500757, 5.555315251803495, 5.498080944744631, 5.457364055864256, 5.190282672478504, 5.156607614594165, 5.15388498997167, 5.140629447649476, 5.105818615205659, 4.794017522693058, 10.473726455289361, 9.84883913900974, 6.437660358178429, 8.764873674699666, 5.861452591199145, 5.9080118232599625, 5.651987387299679, 5.676510875012142, 25.416284072997183, 16.53649276529406, 8.667617053638079, 9.59347197585848, 7.591180475296091, 7.5763187848099225, 7.426262561621194, 7.322036893503112, 7.246356181387539, 7.243157370754667, 7.227774365403093, 7.243662646572018, 7.599447490130007, 7.212324434252422, 7.2044099520906, 7.1830488502618435, 7.251925149287818, 7.711599751686557, 7.0834041765408, 7.08019554981481, 7.059178143426338, 7.147249422097783, 6.950175760368155, 6.898993079022599, 6.860538880726754, 6.7884957927135, 6.705299474278701, 6.6779605204279555, 6.597316364572999, 9.246582711565342, 7.110291813180326, 13.558790162721714, 7.504711528374779, 9.14506866020427, 10.38982553301524, 10.479224625694197, 8.082515950317205, 7.89681948112934, 7.733104546571177, 7.895999111632792, 7.711657627378693, 7.436565766942479, 7.544118631281617, 7.212080110282773, 13.502793008450956, 17.827076879529145, 8.912448027534635, 9.125310673156342, 12.900592055424664, 8.057279303538257, 8.04283277574387, 7.773271775267668, 7.74769448086395, 7.550630002929149, 7.543911436103148, 7.501124254701116, 7.475792249515321, 9.995761351350433, 7.3183571275971575, 7.275599106732894, 7.227037844500858, 7.158104950091369, 7.106427166253491, 7.00834923032067, 6.898141032500556, 6.846048901811184, 6.795827802443926, 8.013555229483025, 6.7177634002633955, 6.617069669602852, 6.602718414382272, 6.567411907234317, 6.540681387726828, 6.535258887849238, 7.388074841699849, 10.078404444521388, 7.769073927654933, 7.020543612016002, 8.878457217408705, 7.816490276300317, 7.386375535619156, 7.502628368476887, 8.041494318931267, 8.62879421979495, 7.463067392222555, 7.401741450349743, 7.418098162386593, 7.363035980436159, 7.39634238736217, 7.510612062202369], \"Total\": [29.0, 21.0, 23.0, 17.0, 14.0, 20.0, 19.0, 18.0, 10.0, 10.0, 10.0, 10.0, 10.0, 10.0, 10.0, 10.0, 10.0, 23.0, 10.0, 9.0, 9.0, 9.0, 9.0, 9.0, 9.0, 9.0, 9.0, 9.0, 9.0, 9.0, 10.32989303282629, 10.320173649426724, 10.31267094458292, 10.251364549653534, 10.202983977785205, 10.188368878948339, 10.164012156721283, 10.166952653982422, 10.121836573275202, 10.02797401665405, 9.897904593819586, 9.843371687937957, 9.856540712065467, 9.871555081509685, 9.838098412663394, 9.831565103151732, 9.784842101073176, 9.761119940926456, 14.192602844114846, 9.70921986376105, 9.685399028264149, 9.679478703394048, 9.621121271402794, 9.585390456531131, 9.312597227843273, 9.27683895861203, 9.2777428894669, 9.261002577675118, 9.226627752533625, 8.919008258731463, 20.929035144004555, 19.992479247995224, 12.747762025307786, 20.614209443775707, 11.285629365897574, 14.391194784795115, 13.039264422481583, 15.304418779271824, 29.50935952668888, 21.516920900292458, 12.552181865922057, 14.015480395031126, 11.336635141436707, 11.319680549975601, 11.170888484160649, 11.066118163265486, 10.990422153025634, 10.986070092469, 10.969965333966657, 10.998761421235303, 11.542193645284176, 10.95605090130358, 10.947957031863563, 10.931902097977794, 11.076188963773685, 11.78514571199453, 10.826203223973879, 10.823062651829652, 10.805919706909904, 10.963567557651071, 10.693232072057295, 10.641655520473703, 10.603259236563304, 10.53205431643641, 10.448451190667363, 10.419719323469181, 10.339317531521957, 14.520600793967061, 11.279386163712745, 23.90904676212852, 12.1115193953528, 16.521156446681807, 20.92087781015113, 21.723959242752194, 14.5017544709622, 15.076407075254414, 14.984064986295436, 17.104572808456606, 15.585658457267304, 14.208397555967696, 15.731504716170875, 14.905551917489666, 17.303012719548942, 23.630310658106808, 12.567028987040832, 13.093539452900455, 18.610993413993587, 11.720145238641921, 11.704015305211154, 11.43517328872472, 11.406730583515838, 11.20996833138565, 11.20512164150924, 11.162468807417708, 11.131978451782697, 14.920285280447414, 10.977791131059014, 10.932340399813574, 10.88276168855246, 10.815293679303052, 10.76226926391538, 10.664290433036424, 10.553477980023825, 10.502619713584519, 10.449772353299718, 12.356592471849408, 10.37370684400762, 10.271865700399246, 10.262165479143405, 10.226345112946406, 10.197366020672414, 10.190514895165304, 11.537508565105753, 16.04520026930449, 12.37625587423337, 11.073836064383975, 15.152065488341167, 13.597149305156016, 12.425370599958342, 13.236365296696224, 17.63766826145804, 23.90904676212852, 13.914240990416973, 13.642860067289057, 14.068846442728145, 13.420525817975626, 14.266698051263806, 21.723959242752194], \"Category\": [\"Default\", \"Default\", \"Default\", \"Default\", \"Default\", \"Default\", \"Default\", \"Default\", \"Default\", \"Default\", \"Default\", \"Default\", \"Default\", \"Default\", \"Default\", \"Default\", \"Default\", \"Default\", \"Default\", \"Default\", \"Default\", \"Default\", \"Default\", \"Default\", \"Default\", \"Default\", \"Default\", \"Default\", \"Default\", \"Default\", \"Topic1\", \"Topic1\", \"Topic1\", \"Topic1\", \"Topic1\", \"Topic1\", \"Topic1\", \"Topic1\", \"Topic1\", \"Topic1\", \"Topic1\", \"Topic1\", \"Topic1\", \"Topic1\", \"Topic1\", \"Topic1\", \"Topic1\", \"Topic1\", \"Topic1\", \"Topic1\", \"Topic1\", \"Topic1\", \"Topic1\", \"Topic1\", \"Topic1\", \"Topic1\", \"Topic1\", \"Topic1\", \"Topic1\", \"Topic1\", \"Topic1\", \"Topic1\", \"Topic1\", \"Topic1\", \"Topic1\", \"Topic1\", \"Topic1\", \"Topic1\", \"Topic2\", \"Topic2\", \"Topic2\", \"Topic2\", \"Topic2\", \"Topic2\", \"Topic2\", \"Topic2\", \"Topic2\", \"Topic2\", \"Topic2\", \"Topic2\", \"Topic2\", \"Topic2\", \"Topic2\", \"Topic2\", \"Topic2\", \"Topic2\", \"Topic2\", \"Topic2\", \"Topic2\", \"Topic2\", \"Topic2\", \"Topic2\", \"Topic2\", \"Topic2\", \"Topic2\", \"Topic2\", \"Topic2\", \"Topic2\", \"Topic2\", \"Topic2\", \"Topic2\", \"Topic2\", \"Topic2\", \"Topic2\", \"Topic2\", \"Topic2\", \"Topic2\", \"Topic2\", \"Topic2\", \"Topic2\", \"Topic2\", \"Topic2\", \"Topic3\", \"Topic3\", \"Topic3\", \"Topic3\", \"Topic3\", \"Topic3\", \"Topic3\", \"Topic3\", \"Topic3\", \"Topic3\", \"Topic3\", \"Topic3\", \"Topic3\", \"Topic3\", \"Topic3\", \"Topic3\", \"Topic3\", \"Topic3\", \"Topic3\", \"Topic3\", \"Topic3\", \"Topic3\", \"Topic3\", \"Topic3\", \"Topic3\", \"Topic3\", \"Topic3\", \"Topic3\", \"Topic3\", \"Topic3\", \"Topic3\", \"Topic3\", \"Topic3\", \"Topic3\", \"Topic3\", \"Topic3\", \"Topic3\", \"Topic3\", \"Topic3\", \"Topic3\", \"Topic3\", \"Topic3\", \"Topic3\", \"Topic3\", \"Topic3\", \"Topic3\"], \"logprob\": [30.0, 29.0, 28.0, 27.0, 26.0, 25.0, 24.0, 23.0, 22.0, 21.0, 20.0, 19.0, 18.0, 17.0, 16.0, 15.0, 14.0, 13.0, 12.0, 11.0, 10.0, 9.0, 8.0, 7.0, 6.0, 5.0, 4.0, 3.0, 2.0, 1.0, -7.5378, -7.54, -7.5419, -7.553, -7.5597, -7.5621, -7.5646, -7.5644, -7.5719, -7.5888, -7.6104, -7.6189, -7.6176, -7.6168, -7.6204, -7.6213, -7.6297, -7.6341, -7.2609, -7.6435, -7.6474, -7.6486, -7.659, -7.6664, -7.7166, -7.7231, -7.7236, -7.7262, -7.733, -7.796, -7.0145, -7.076, -7.5012, -7.1926, -7.595, -7.587, -7.6313, -7.627, -6.3894, -6.8192, -7.4652, -7.3637, -7.5978, -7.5998, -7.6198, -7.6339, -7.6443, -7.6447, -7.6469, -7.6447, -7.5967, -7.649, -7.6501, -7.6531, -7.6435, -7.5821, -7.667, -7.6675, -7.6705, -7.6581, -7.686, -7.6934, -7.699, -7.7096, -7.7219, -7.726, -7.7381, -7.4005, -7.6632, -7.0177, -7.6093, -7.4116, -7.284, -7.2754, -7.5351, -7.5583, -7.5793, -7.5584, -7.5821, -7.6184, -7.604, -7.649, -7.0485, -6.7707, -7.4639, -7.4403, -7.0941, -7.5648, -7.5666, -7.6007, -7.604, -7.6298, -7.6306, -7.6363, -7.6397, -7.3492, -7.661, -7.6669, -7.6736, -7.6831, -7.6904, -7.7043, -7.7201, -7.7277, -7.7351, -7.5703, -7.7466, -7.7617, -7.7639, -7.7693, -7.7733, -7.7742, -7.6515, -7.341, -7.6012, -7.7025, -7.4678, -7.5951, -7.6517, -7.6361, -7.5668, -7.4963, -7.6414, -7.6497, -7.6475, -7.6549, -7.6504, -7.6351], \"loglift\": [30.0, 29.0, 28.0, 27.0, 26.0, 25.0, 24.0, 23.0, 22.0, 21.0, 20.0, 19.0, 18.0, 17.0, 16.0, 15.0, 14.0, 13.0, 12.0, 11.0, 10.0, 9.0, 8.0, 7.0, 6.0, 5.0, 4.0, 3.0, 2.0, 1.0, 0.7804, 0.7792, 0.778, 0.7729, 0.771, 0.7699, 0.7699, 0.7697, 0.7667, 0.7591, 0.7505, 0.7476, 0.7476, 0.7468, 0.7466, 0.7464, 0.7428, 0.7408, 0.7397, 0.7367, 0.7353, 0.7347, 0.7304, 0.7267, 0.7054, 0.7027, 0.7021, 0.7013, 0.6982, 0.6691, 0.5977, 0.5819, 0.6068, 0.4347, 0.6348, 0.3996, 0.454, 0.2981, 0.8792, 0.7652, 0.6582, 0.6494, 0.6275, 0.627, 0.6202, 0.6155, 0.612, 0.6119, 0.6113, 0.6109, 0.6106, 0.6104, 0.6101, 0.6086, 0.605, 0.6044, 0.6043, 0.6041, 0.6027, 0.6007, 0.5977, 0.5951, 0.5931, 0.5893, 0.585, 0.5836, 0.5792, 0.5772, 0.5671, 0.4613, 0.5499, 0.4371, 0.3286, 0.2995, 0.4439, 0.3818, 0.367, 0.2555, 0.3249, 0.3811, 0.2936, 0.3025, 0.7539, 0.7201, 0.6583, 0.6408, 0.6354, 0.6272, 0.6268, 0.6159, 0.6151, 0.6067, 0.6063, 0.6044, 0.6038, 0.6014, 0.5964, 0.5947, 0.5926, 0.5892, 0.5869, 0.5821, 0.5767, 0.574, 0.5716, 0.5689, 0.5674, 0.5622, 0.5609, 0.5591, 0.5578, 0.5577, 0.5562, 0.5369, 0.5363, 0.5462, 0.4674, 0.4483, 0.4818, 0.4342, 0.2165, -0.0172, 0.379, 0.3904, 0.3619, 0.4016, 0.345, -0.0602]}, \"token.table\": {\"Topic\": [1, 2, 3, 1, 2, 3, 1, 2, 3, 1, 2, 3, 1, 2, 3, 1, 2, 3, 1, 2, 3, 1, 2, 3, 1, 2, 3, 1, 2, 3, 1, 2, 3, 1, 2, 3, 1, 2, 3, 1, 2, 3, 1, 2, 3, 1, 2, 3, 1, 2, 3, 1, 2, 3, 1, 2, 3, 1, 2, 3, 1, 2, 3, 1, 2, 3, 1, 2, 3, 1, 2, 3, 1, 2, 3, 1, 2, 3, 1, 2, 3, 1, 2, 3, 1, 2, 3, 1, 2, 3, 1, 2, 3, 1, 2, 3, 1, 2, 3, 1, 2, 3, 1, 2, 3, 1, 2, 3, 1, 2, 3, 1, 2, 3, 1, 2, 3, 1, 2, 3, 1, 2, 3, 1, 2, 3, 1, 2, 3, 1, 2, 3, 1, 2, 3, 1, 2, 3, 1, 2, 3, 1, 2, 3, 1, 2, 3, 1, 2, 3, 1, 2, 3, 1, 2, 3, 1, 2, 3, 1, 2, 3, 1, 2, 3, 1, 2, 3, 1, 2, 3, 1, 2, 3, 1, 2, 3, 1, 2, 3, 1, 2, 3, 1, 2, 3, 1, 2, 3, 1, 2, 3, 1, 2, 3, 1, 2, 3, 1, 2, 3, 1, 2, 3, 1, 2, 3, 1, 2, 3, 1, 2, 3, 1, 2, 3, 1, 2, 3, 1, 2, 3, 1, 2, 3, 1, 2, 3, 1, 2, 3, 1, 2, 3, 1, 2, 3, 1, 2, 3, 1, 2, 3, 1, 2, 3, 1, 2, 3, 1, 2, 3, 1, 2, 3, 1, 2, 3, 1, 2, 3, 1, 2, 3, 1, 2, 3, 1, 2, 3, 1, 2, 3, 1, 2, 3, 1, 2, 3, 1, 2, 3, 1, 2, 3, 1, 2, 3, 1, 2, 3, 1, 2, 3, 1, 2, 3, 1, 2, 3, 1, 2, 3, 1, 2, 3, 1, 2, 3, 1, 2, 3, 1, 2, 3, 1, 2, 3, 1, 2, 3, 1, 2, 3, 1, 2, 3, 1, 2, 3, 1, 2, 3, 1, 2, 3, 1, 2, 3, 1, 2, 3, 1, 2, 3, 1, 2, 3, 1, 2, 3, 1, 2, 3, 1, 2, 3, 1, 2, 3, 1, 2, 3, 1, 2, 3, 1, 2, 3, 1, 2, 3, 1, 2, 3, 1, 2, 3], \"Freq\": [0.19489064019331545, 0.19489064019331545, 0.6821172406766041, 0.17848980707099366, 0.17848980707099366, 0.7139592282839746, 0.581808537501306, 0.19393617916710199, 0.19393617916710199, 0.47067085093747146, 0.1568902836458238, 0.3137805672916476, 0.18295077856304295, 0.6403277249706503, 0.18295077856304295, 0.18197663130250236, 0.6369182095587583, 0.18197663130250236, 0.39204363697407113, 0.26136242464938075, 0.39204363697407113, 0.19612907842530497, 0.19612907842530497, 0.6864517744885674, 0.18204872016709678, 0.6371705205848388, 0.18204872016709678, 0.17088152636894707, 0.17088152636894707, 0.6835261054757883, 0.1841284986453161, 0.4603212466132903, 0.3682569972906322, 0.560600445134148, 0.2242401780536592, 0.2242401780536592, 0.19279511461761634, 0.19279511461761634, 0.6747829011616572, 0.5389766947887261, 0.21559067791549044, 0.21559067791549044, 0.21114274063509464, 0.49266639481522084, 0.2815236541801262, 0.11558680747777525, 0.11558680747777525, 0.8091076523444268, 0.5001880895288545, 0.30011285371731267, 0.2000752358115418, 0.5398983488087097, 0.21595933952348387, 0.21595933952348387, 0.18703419008610514, 0.654619665301368, 0.18703419008610514, 0.5419097999945867, 0.21676391999783468, 0.21676391999783468, 0.5636739143530186, 0.2818369571765093, 0.14091847858825465, 0.18473697182878834, 0.6465794014007592, 0.18473697182878834, 0.1907001303515621, 0.508533680937499, 0.3178335505859369, 0.5903180660830187, 0.1967726886943396, 0.1967726886943396, 0.18583441381695998, 0.18583441381695998, 0.65042044835936, 0.6198680924723908, 0.20662269749079695, 0.20662269749079695, 0.19139172915747407, 0.19139172915747407, 0.6698710520511593, 0.5983262411764775, 0.19944208039215916, 0.19944208039215916, 0.6078069716937043, 0.20260232389790142, 0.20260232389790142, 0.5196899466241716, 0.20787597864966864, 0.20787597864966864, 0.0929501023528332, 0.7900758699990823, 0.1394251535292498, 0.6179693203152767, 0.2059897734384256, 0.2059897734384256, 0.13404569432870964, 0.20106854149306447, 0.6702284716435483, 0.1615997616988415, 0.1615997616988415, 0.646399046795366, 0.2012672872904426, 0.46962367034436603, 0.33544547881740433, 0.5808385412059182, 0.1936128470686394, 0.1936128470686394, 0.18754177903897762, 0.18754177903897762, 0.6563962266364217, 0.6131933390465172, 0.2043977796821724, 0.2043977796821724, 0.13773534775716367, 0.6198090649072365, 0.2066030216357455, 0.18989647602545912, 0.6646376660891069, 0.18989647602545912, 0.13199520563971362, 0.26399041127942724, 0.5939784253787113, 0.15933484882256238, 0.7170068197015308, 0.15933484882256238, 0.6146835646228647, 0.2048945215409549, 0.2048945215409549, 0.4778051129062514, 0.334463579034376, 0.19112204516250056, 0.15274708624007421, 0.15274708624007421, 0.687361888080334, 0.06777510701955962, 0.8471888377444953, 0.06777510701955962, 0.15914660514131126, 0.15914660514131126, 0.7161597231359006, 0.21560644249773755, 0.21560644249773755, 0.5030816991613877, 0.1697051567181275, 0.67882062687251, 0.1697051567181275, 0.17841263604647334, 0.17841263604647334, 0.7136505441858934, 0.588063258068787, 0.196021086022929, 0.196021086022929, 0.5813855661559817, 0.19379518871866055, 0.19379518871866055, 0.1651320478227861, 0.6605281912911444, 0.1651320478227861, 0.19194374991418794, 0.6718031246996577, 0.19194374991418794, 0.6087328379474306, 0.20291094598247686, 0.20291094598247686, 0.19343636501176284, 0.67702727754117, 0.19343636501176284, 0.18218601320820196, 0.18218601320820196, 0.6376510462287069, 0.2867948493580278, 0.47799141559671304, 0.23899570779835652, 0.16096099379174295, 0.24144149068761442, 0.5633634782711003, 0.5901473336408019, 0.19671577788026728, 0.19671577788026728, 0.5927777984325362, 0.19759259947751207, 0.19759259947751207, 0.19557329406652124, 0.19557329406652124, 0.6845065292328244, 0.18242237205026146, 0.6384783021759151, 0.18242237205026146, 0.170646349450167, 0.170646349450167, 0.682585397800668, 0.14708965497948923, 0.29417930995897845, 0.5883586199179569, 0.1989864020668449, 0.5306304055115864, 0.2653152027557932, 0.17641919097226386, 0.7056767638890554, 0.17641919097226386, 0.08365034457032233, 0.5855524119922563, 0.37642655056645047, 0.18060588836351513, 0.18060588836351513, 0.632120609272303, 0.1773146136652596, 0.6206011478284086, 0.1773146136652596, 0.280373214995299, 0.21027991124647424, 0.4906531262417732, 0.18056752250627864, 0.6319863287719752, 0.18056752250627864, 0.08463705911178378, 0.16927411822356755, 0.761733532006054, 0.6102792319481832, 0.20342641064939443, 0.20342641064939443, 0.1426993541162567, 0.7134967705812835, 0.21404903117438503, 0.17668343123024888, 0.7067337249209955, 0.17668343123024888, 0.5216271598610972, 0.20865086394443888, 0.20865086394443888, 0.17903678859885017, 0.6266287600959756, 0.17903678859885017, 0.18508373690034816, 0.6477930791512185, 0.18508373690034816, 0.6061889103019339, 0.2020629701006446, 0.2020629701006446, 0.16119504925214273, 0.10746336616809515, 0.6985118800926184, 0.18479057770786328, 0.6467670219775215, 0.18479057770786328, 0.18183865649986744, 0.636435297749536, 0.18183865649986744, 0.18254752720818726, 0.6389163452286555, 0.18254752720818726, 0.19626093681967552, 0.19626093681967552, 0.6869132788688643, 0.1807318492801836, 0.6325614724806427, 0.1807318492801836, 0.1914159298352674, 0.6699557544234359, 0.1914159298352674, 0.5389241822681401, 0.215569672907256, 0.215569672907256, 0.1753350782993202, 0.1753350782993202, 0.7013403131972809, 0.13791434712294495, 0.5516573884917798, 0.2758286942458899, 0.4169216030860235, 0.20846080154301175, 0.3474346692383529, 0.182943443659521, 0.182943443659521, 0.6403020528083235, 0.17966258277114397, 0.17966258277114397, 0.628819039699004, 0.22353818625956973, 0.29805091501275965, 0.5215891012723294, 0.28348418429697064, 0.28348418429697064, 0.453574694875153, 0.12105690097751541, 0.5447560543988194, 0.3631707029325462, 0.21989524082219247, 0.21989524082219247, 0.5130888952517824, 0.2338555919983208, 0.4677111839966416, 0.3507833879974812, 0.18862124893668392, 0.6601743712783937, 0.18862124893668392, 0.17489896737918567, 0.17489896737918567, 0.6995958695167427, 0.18697180151370218, 0.18697180151370218, 0.6232393383790072, 0.536907146059184, 0.21476285842367357, 0.21476285842367357, 0.2843161318366301, 0.2132370988774726, 0.49755323071410273, 0.17334765029330818, 0.17334765029330818, 0.6067167760265787, 0.18492331870999937, 0.18492331870999937, 0.6472316154849979, 0.4601486560587827, 0.30676577070585515, 0.23007432802939135, 0.4365920519313185, 0.29106136795421234, 0.29106136795421234, 0.5316495700390924, 0.2658247850195462, 0.17721652334636412, 0.1732772869234563, 0.6931091476938251, 0.1732772869234563, 0.16185692006565466, 0.24278538009848202, 0.6474276802626187, 0.5889068280986044, 0.19630227603286812, 0.19630227603286812, 0.1791718332660384, 0.1791718332660384, 0.7166873330641536, 0.18951098432059124, 0.18951098432059124, 0.6632884451220693, 0.18231598178412975, 0.6381059362444541, 0.18231598178412975, 0.15109888214547817, 0.30219776429095635, 0.6043955285819127, 0.12832309943680545, 0.5132923977472218, 0.3849692983104163, 0.6095472354612379, 0.2031824118204126, 0.2031824118204126, 0.18377688101943768, 0.18377688101943768, 0.6432190835680318, 0.19470659550409272, 0.19470659550409272, 0.6814730842643245, 0.6194891901191335, 0.20649639670637784, 0.20649639670637784, 0.18268248534215883, 0.6393886986975559, 0.18268248534215883, 0.2669502570669866, 0.5339005141339732, 0.2669502570669866, 0.6098739561577191, 0.2032913187192397, 0.2032913187192397, 0.1879406823639572, 0.6577923882738502, 0.1879406823639572, 0.1904286791811683, 0.1904286791811683, 0.666500377134089, 0.5852879361511715, 0.19509597871705714, 0.19509597871705714], \"Term\": [\"aeraki\", \"aeraki\", \"aeraki\", \"akri\", \"akri\", \"akri\", \"antrea\", \"antrea\", \"antrea\", \"app\", \"app\", \"app\", \"argo\", \"argo\", \"argo\", \"armada\", \"armada\", \"armada\", \"artifact\", \"artifact\", \"artifact\", \"athenz\", \"athenz\", \"athenz\", \"backstage\", \"backstage\", \"backstage\", \"bfe\", \"bfe\", \"bfe\", \"branch\", \"branch\", \"branch\", \"buildpacks\", \"buildpacks\", \"buildpacks\", \"capsule\", \"capsule\", \"capsule\", \"carina\", \"carina\", \"carina\", \"certificate\", \"certificate\", \"certificate\", \"chaos\", \"chaos\", \"chaos\", \"chart\", \"chart\", \"chart\", \"chartmuseum\", \"chartmuseum\", \"chartmuseum\", \"clusternet\", \"clusternet\", \"clusternet\", \"clusterpedia\", \"clusterpedia\", \"clusterpedia\", \"cni\", \"cni\", \"cni\", \"contour\", \"contour\", \"contour\", \"controller\", \"controller\", \"controller\", \"coredns\", \"coredns\", \"coredns\", \"cortex\", \"cortex\", \"cortex\", \"cubefs\", \"cubefs\", \"cubefs\", \"custodian\", \"custodian\", \"custodian\", \"dapr\", \"dapr\", \"dapr\", \"devstream\", \"devstream\", \"devstream\", \"dex\", \"dex\", \"dex\", \"edge\", \"edge\", \"edge\", \"eraser\", \"eraser\", \"eraser\", \"etcd\", \"etcd\", \"etcd\", \"experimental\", \"experimental\", \"experimental\", \"extension\", \"extension\", \"extension\", \"falco\", \"falco\", \"falco\", \"fluid\", \"fluid\", \"fluid\", \"flux\", \"flux\", \"flux\", \"function\", \"function\", \"function\", \"gadget\", \"gadget\", \"gadget\", \"grpc\", \"grpc\", \"grpc\", \"harbor\", \"harbor\", \"harbor\", \"headlamp\", \"headlamp\", \"headlamp\", \"helm\", \"helm\", \"helm\", \"instrumentation\", \"instrumentation\", \"instrumentation\", \"istio\", \"istio\", \"istio\", \"jaeger\", \"jaeger\", \"jaeger\", \"java\", \"java\", \"java\", \"karmada\", \"karmada\", \"karmada\", \"keda\", \"keda\", \"keda\", \"kepler\", \"kepler\", \"kepler\", \"keptn\", \"keptn\", \"keptn\", \"keycloak\", \"keycloak\", \"keycloak\", \"keylime\", \"keylime\", \"keylime\", \"ko\", \"ko\", \"ko\", \"kpt\", \"kpt\", \"kpt\", \"krustlet\", \"krustlet\", \"krustlet\", \"kubectl\", \"kubectl\", \"kubectl\", \"kubelet\", \"kubelet\", \"kubelet\", \"kuberhealthy\", \"kuberhealthy\", \"kuberhealthy\", \"kubescape\", \"kubescape\", \"kubescape\", \"kudo\", \"kudo\", \"kudo\", \"kuma\", \"kuma\", \"kuma\", \"kyverno\", \"kyverno\", \"kyverno\", \"linkerd\", \"linkerd\", \"linkerd\", \"linux\", \"linux\", \"linux\", \"longhorn\", \"longhorn\", \"longhorn\", \"mesh\", \"mesh\", \"mesh\", \"meshery\", \"meshery\", \"meshery\", \"metal\", \"metal\", \"metal\", \"model\", \"model\", \"model\", \"nats\", \"nats\", \"nats\", \"nbsp\", \"nbsp\", \"nbsp\", \"nocalhost\", \"nocalhost\", \"nocalhost\", \"opa\", \"opa\", \"opa\", \"openebs\", \"openebs\", \"openebs\", \"openelb\", \"openelb\", \"openelb\", \"openfga\", \"openfga\", \"openfga\", \"opengitops\", \"opengitops\", \"opengitops\", \"openmetrics\", \"openmetrics\", \"openmetrics\", \"opentelemetry\", \"opentelemetry\", \"opentelemetry\", \"openyurt\", \"openyurt\", \"openyurt\", \"oras\", \"oras\", \"oras\", \"osm\", \"osm\", \"osm\", \"paralus\", \"paralus\", \"paralus\", \"parsec\", \"parsec\", \"parsec\", \"pipecd\", \"pipecd\", \"pipecd\", \"piraeus\", \"piraeus\", \"piraeus\", \"pixie\", \"pixie\", \"pixie\", \"plane\", \"plane\", \"plane\", \"plugins\", \"plugins\", \"plugins\", \"porter\", \"porter\", \"porter\", \"pravega\", \"pravega\", \"pravega\", \"protocol\", \"protocol\", \"protocol\", \"provider\", \"provider\", \"provider\", \"proxy\", \"proxy\", \"proxy\", \"query\", \"query\", \"query\", \"registry\", \"registry\", \"registry\", \"rook\", \"rook\", \"rook\", \"schemahero\", \"schemahero\", \"schemahero\", \"sdk\", \"sdk\", \"sdk\", \"sealer\", \"sealer\", \"sealer\", \"secret\", \"secret\", \"secret\", \"serving\", \"serving\", \"serving\", \"skooner\", \"skooner\", \"skooner\", \"spec\", \"spec\", \"spec\", \"specification\", \"specification\", \"specification\", \"spiffe\", \"spiffe\", \"spiffe\", \"spire\", \"spire\", \"spire\", \"stability\", \"stability\", \"stability\", \"strimzi\", \"strimzi\", \"strimzi\", \"submariner\", \"submariner\", \"submariner\", \"telepresence\", \"telepresence\", \"telepresence\", \"tikv\", \"tikv\", \"tikv\", \"trace\", \"trace\", \"trace\", \"traffic\", \"traffic\", \"traffic\", \"tremor\", \"tremor\", \"tremor\", \"trickster\", \"trickster\", \"trickster\", \"tuf\", \"tuf\", \"tuf\", \"vitess\", \"vitess\", \"vitess\", \"volcano\", \"volcano\", \"volcano\", \"volume\", \"volume\", \"volume\", \"wasmcloud\", \"wasmcloud\", \"wasmcloud\", \"wasmedge\", \"wasmedge\", \"wasmedge\", \"werf\", \"werf\", \"werf\", \"zot\", \"zot\", \"zot\"]}, \"R\": 30, \"lambda.step\": 0.01, \"plot.opts\": {\"xlab\": \"PC1\", \"ylab\": \"PC2\"}, \"topic.order\": [1, 2, 3]};\n",
       "\n",
       "function LDAvis_load_lib(url, callback){\n",
       "  var s = document.createElement('script');\n",
       "  s.src = url;\n",
       "  s.async = true;\n",
       "  s.onreadystatechange = s.onload = callback;\n",
       "  s.onerror = function(){console.warn(\"failed to load library \" + url);};\n",
       "  document.getElementsByTagName(\"head\")[0].appendChild(s);\n",
       "}\n",
       "\n",
       "if(typeof(LDAvis) !== \"undefined\"){\n",
       "   // already loaded: just create the visualization\n",
       "   !function(LDAvis){\n",
       "       new LDAvis(\"#\" + \"ldavis_el17593481401171254223687098754545\", ldavis_el17593481401171254223687098754545_data);\n",
       "   }(LDAvis);\n",
       "}else if(typeof define === \"function\" && define.amd){\n",
       "   // require.js is available: use it to load d3/LDAvis\n",
       "   require.config({paths: {d3: \"https://d3js.org/d3.v5\"}});\n",
       "   require([\"d3\"], function(d3){\n",
       "      window.d3 = d3;\n",
       "      LDAvis_load_lib(\"https://cdn.jsdelivr.net/gh/bmabey/pyLDAvis@3.4.0/pyLDAvis/js/ldavis.v3.0.0.js\", function(){\n",
       "        new LDAvis(\"#\" + \"ldavis_el17593481401171254223687098754545\", ldavis_el17593481401171254223687098754545_data);\n",
       "      });\n",
       "    });\n",
       "}else{\n",
       "    // require.js not available: dynamically load d3 & LDAvis\n",
       "    LDAvis_load_lib(\"https://d3js.org/d3.v5.js\", function(){\n",
       "         LDAvis_load_lib(\"https://cdn.jsdelivr.net/gh/bmabey/pyLDAvis@3.4.0/pyLDAvis/js/ldavis.v3.0.0.js\", function(){\n",
       "                 new LDAvis(\"#\" + \"ldavis_el17593481401171254223687098754545\", ldavis_el17593481401171254223687098754545_data);\n",
       "            })\n",
       "         });\n",
       "}\n",
       "</script>"
      ],
      "text/plain": [
       "<IPython.core.display.HTML object>"
      ]
     },
     "execution_count": 8,
     "metadata": {},
     "output_type": "execute_result"
    }
   ],
   "source": [
    "import pyLDAvis\n",
    "\n",
    "def prepare_lda_visualization(model, document_term_matrix, vec):\n",
    "\n",
    "    #Prepare LDA data for visualization using pyLDAvis.\n",
    "    #model: Trained LDA model.\n",
    "    #document_term_matrix: Matrix representation of documents.\n",
    "    #vec: Vectorizer used to transform the documents.\n",
    "    \n",
    "    # Calculate topic-term distributions\n",
    "    topic_term_distribution = model.components_ / model.components_.sum(axis=1)[:, np.newaxis]\n",
    "\n",
    "    # Calculate document-topic distributions\n",
    "    doc_topic_distribution = model.transform(document_term_matrix)\n",
    "\n",
    "    # Retrieve terms/feature names from the vectorizer\n",
    "    terms = vec.get_feature_names_out()\n",
    "\n",
    "    # Prepare data for pyLDAvis\n",
    "    visualization_data = pyLDAvis.prepare(\n",
    "        topic_term_dists=topic_term_distribution,\n",
    "        doc_topic_dists=doc_topic_distribution,\n",
    "        doc_lengths=document_term_matrix.sum(axis=1).getA1(),\n",
    "        vocab=terms,\n",
    "        term_frequency=document_term_matrix.sum(axis=0).getA1(),\n",
    "        sort_topics=False\n",
    "    )\n",
    "    \n",
    "    return visualization_data\n",
    "\n",
    "# Prepare LDA visualization data\n",
    "visualization_data = prepare_lda_visualization(lda, X, vectorizer)\n",
    "\n",
    "# Display the visualization in the notebook\n",
    "pyLDAvis.display(visualization_data)\n"
   ]
  },
  {
   "cell_type": "markdown",
   "metadata": {},
   "source": [
    "## Steps and Analysis:\n",
    "\n",
    "**Data Collection and Reading:**\n",
    "\n",
    "I read the contents of Markdown files (.md) from the 'fall23_hw1/datasets/readmes' directory.\n",
    "\n",
    "**Data Preprocessing:**\n",
    "\n",
    "Removed emojis, user mentions, images, inline links, hashtags, URLs, and specific words.\n",
    "Lowercased and tokenized the text, and removed stopwords.\n",
    "Words were lemmatized.\n",
    "\n",
    "**Feature Engineering:**\n",
    "\n",
    "Transformed the preprocessed text into a document-term matrix (DTM) using CountVectorizer. Parameters like max_df were employed to eliminate high-frequency terms.\n",
    "Used TfidfTransformer to weight terms based on their importance.\n",
    "\n",
    "**Topic Modeling with LDA:**\n",
    "\n",
    "Initialized the LDA model with 3 topics.\n",
    "Trained the LDA model on the TF-IDF matrix.\n",
    "\n",
    "**Topic Interpretation:**\n",
    "\n",
    "Displayed top 20 terms for each topic.\n",
    "Assigned custom names based on the top words:\n",
    "Kubernetes Tooling and Extensions (52 repositories)\n",
    "Service Mesh and Kubernetes Management (72 repositories)\n",
    "Monitoring, Tracing, and Advanced Configuration (60 repositories)\n",
    "\n",
    "**Document-Topic Assignment:**\n",
    "\n",
    "Assigned a dominant topic to each repository based on content.\n",
    "\n",
    "**Output Generation:**\n",
    "\n",
    "Created a text file named 'hw1_output.txt', which contains the topic names, and under each topic, the respective filenames of repositories are listed.\n",
    "\n",
    "**Visualization and Analysis:**\n",
    "\n",
    "Visualized topics using pyLDAvis.\n",
    "Created a bar plot showing repository distribution across topics.\n",
    "\n",
    "**Analysis:**\n",
    "\n",
    "I initially tried 5 topics but later narrowed it to 3 based on pyLDAvis visualization, suggesting clearer categorization with three topics. The repository distribution showed \"Service Mesh and Kubernetes Management\" as the most prominent topic.\n",
    "\n",
    "Overall, my approach was iterative, using visualization tools, output file generation, and refining topic numbers for clarity and interpretability."
   ]
  }
 ],
 "metadata": {
  "kernelspec": {
   "display_name": "venv_ds549",
   "language": "python",
   "name": "python3"
  },
  "language_info": {
   "codemirror_mode": {
    "name": "ipython",
    "version": 3
   },
   "file_extension": ".py",
   "mimetype": "text/x-python",
   "name": "python",
   "nbconvert_exporter": "python",
   "pygments_lexer": "ipython3",
   "version": "3.10.12"
  },
  "orig_nbformat": 4
 },
 "nbformat": 4,
 "nbformat_minor": 2
}
