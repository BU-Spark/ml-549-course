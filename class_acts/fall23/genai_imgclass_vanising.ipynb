{
 "cells": [
  {
   "cell_type": "markdown",
   "metadata": {},
   "source": [
    "# GenAI -- Image Classification on CIFAR10\n",
    "\n",
    "For this exercise we will use GenAI to build a an image classifier for\n",
    "CIFAR10.\n",
    "\n",
    "Work individually on this notebook.\n",
    "\n",
    "Submitted by: "
   ]
  },
  {
   "cell_type": "markdown",
   "metadata": {},
   "source": [
    "Prompt:\n",
    "\n",
    "> write python code to define and train a model to classify CIFAR10\n"
   ]
  },
  {
   "cell_type": "markdown",
   "metadata": {},
   "source": [
    "Sure! Here's an example code snippet that shows how to define and train a model to classify CIFAR10 using Keras:\n",
    "\n"
   ]
  },
  {
   "cell_type": "code",
   "execution_count": 1,
   "metadata": {},
   "outputs": [
    {
     "name": "stderr",
     "output_type": "stream",
     "text": [
      "2023-10-12 21:29:23.111878: I tensorflow/core/util/port.cc:111] oneDNN custom operations are on. You may see slightly different numerical results due to floating-point round-off errors from different computation orders. To turn them off, set the environment variable `TF_ENABLE_ONEDNN_OPTS=0`.\n",
      "2023-10-12 21:29:23.115977: I tensorflow/tsl/cuda/cudart_stub.cc:28] Could not find cuda drivers on your machine, GPU will not be used.\n",
      "2023-10-12 21:29:23.154035: E tensorflow/compiler/xla/stream_executor/cuda/cuda_dnn.cc:9342] Unable to register cuDNN factory: Attempting to register factory for plugin cuDNN when one has already been registered\n",
      "2023-10-12 21:29:23.154065: E tensorflow/compiler/xla/stream_executor/cuda/cuda_fft.cc:609] Unable to register cuFFT factory: Attempting to register factory for plugin cuFFT when one has already been registered\n",
      "2023-10-12 21:29:23.154085: E tensorflow/compiler/xla/stream_executor/cuda/cuda_blas.cc:1518] Unable to register cuBLAS factory: Attempting to register factory for plugin cuBLAS when one has already been registered\n",
      "2023-10-12 21:29:23.161495: I tensorflow/tsl/cuda/cudart_stub.cc:28] Could not find cuda drivers on your machine, GPU will not be used.\n",
      "2023-10-12 21:29:23.165134: I tensorflow/core/platform/cpu_feature_guard.cc:182] This TensorFlow binary is optimized to use available CPU instructions in performance-critical operations.\n",
      "To enable the following instructions: AVX2 AVX512F AVX512_VNNI FMA, in other operations, rebuild TensorFlow with the appropriate compiler flags.\n",
      "2023-10-12 21:29:25.025642: W tensorflow/compiler/tf2tensorrt/utils/py_utils.cc:38] TF-TRT Warning: Could not find TensorRT\n"
     ]
    },
    {
     "name": "stdout",
     "output_type": "stream",
     "text": [
      "Epoch 1/10\n",
      "391/391 [==============================] - 10s 23ms/step - loss: 1.7893 - accuracy: 0.3507 - val_loss: 1.4332 - val_accuracy: 0.4845\n",
      "Epoch 2/10\n",
      "391/391 [==============================] - 8s 19ms/step - loss: 1.3706 - accuracy: 0.5095 - val_loss: 1.2209 - val_accuracy: 0.5646\n",
      "Epoch 3/10\n",
      "391/391 [==============================] - 8s 19ms/step - loss: 1.1646 - accuracy: 0.5901 - val_loss: 1.0166 - val_accuracy: 0.6437\n",
      "Epoch 4/10\n",
      "391/391 [==============================] - 8s 20ms/step - loss: 1.0277 - accuracy: 0.6411 - val_loss: 0.9401 - val_accuracy: 0.6704\n",
      "Epoch 5/10\n",
      "391/391 [==============================] - 8s 19ms/step - loss: 0.9220 - accuracy: 0.6796 - val_loss: 0.8289 - val_accuracy: 0.7157\n",
      "Epoch 6/10\n",
      "391/391 [==============================] - 8s 19ms/step - loss: 0.8467 - accuracy: 0.7062 - val_loss: 0.7652 - val_accuracy: 0.7364\n",
      "Epoch 7/10\n",
      "391/391 [==============================] - 8s 19ms/step - loss: 0.7831 - accuracy: 0.7291 - val_loss: 0.8252 - val_accuracy: 0.7166\n",
      "Epoch 8/10\n",
      "391/391 [==============================] - 7s 19ms/step - loss: 0.7296 - accuracy: 0.7454 - val_loss: 0.8140 - val_accuracy: 0.7217\n",
      "Epoch 9/10\n",
      "391/391 [==============================] - 7s 19ms/step - loss: 0.6849 - accuracy: 0.7612 - val_loss: 0.6982 - val_accuracy: 0.7608\n",
      "Epoch 10/10\n",
      "391/391 [==============================] - 8s 19ms/step - loss: 0.6500 - accuracy: 0.7755 - val_loss: 0.7672 - val_accuracy: 0.7405\n"
     ]
    }
   ],
   "source": [
    "import numpy as np\n",
    "from keras.datasets import cifar10\n",
    "from keras.models import Sequential\n",
    "from keras.layers import Conv2D, MaxPooling2D, Flatten, Dense, Dropout\n",
    "from keras.utils import to_categorical\n",
    "\n",
    "# Load the CIFAR10 dataset\n",
    "(train_data, train_labels), (test_data, test_labels) = cifar10.load_data()\n",
    "\n",
    "# Normalize the data\n",
    "train_data = train_data.astype('float32') / 255\n",
    "test_data = test_data.astype('float32') / 255\n",
    "\n",
    "# Convert the labels to one-hot encoded vectors\n",
    "num_classes = 10\n",
    "train_labels = to_categorical(train_labels, num_classes)\n",
    "test_labels = to_categorical(test_labels, num_classes)\n",
    "\n",
    "# Define the model\n",
    "model = Sequential()\n",
    "model.add(Conv2D(32, (3, 3), activation='relu', padding='same', input_shape=train_data.shape[1:]))\n",
    "model.add(Conv2D(32, (3, 3), activation='relu'))\n",
    "model.add(MaxPooling2D(pool_size=(2, 2)))\n",
    "model.add(Dropout(rate=0.25))\n",
    "model.add(Conv2D(64, (3, 3), activation='relu', padding='same'))\n",
    "model.add(Conv2D(64, (3, 3), activation='relu'))\n",
    "model.add(MaxPooling2D(pool_size=(2, 2)))\n",
    "model.add(Dropout(rate=0.25))\n",
    "model.add(Flatten())\n",
    "model.add(Dense(units=512, activation='relu'))\n",
    "model.add(Dropout(rate=0.5))\n",
    "model.add(Dense(units=num_classes, activation='softmax'))\n",
    "\n",
    "# Compile the model\n",
    "model.compile(optimizer='rmsprop', loss='categorical_crossentropy', metrics=['accuracy'])\n",
    "\n",
    "# Train the model\n",
    "history = model.fit(train_data, train_labels, epochs=10, batch_size=128, validation_data=(test_data, test_labels))"
   ]
  },
  {
   "cell_type": "markdown",
   "metadata": {},
   "source": [
    "\n",
    "\n",
    "In this example, the CIFAR10 dataset is loaded using the `cifar10.load_data()` function from Keras. The data is then normalized and the labels are converted to one-hot encoded vectors using the `to_categorical()` function. The model is defined using the `Sequential` class from Keras, and consists of several convolutional and pooling layers, followed by fully connected layers. The model is compiled using the `rmsprop` optimizer and the `categorical_crossentropy` loss function. The model is then trained using the `fit()` method, with the training data, labels, and validation data as inputs."
   ]
  },
  {
   "cell_type": "markdown",
   "metadata": {},
   "source": [
    "Prompt:\n",
    "\n",
    "> Explain the what the code is doing."
   ]
  },
  {
   "cell_type": "markdown",
   "metadata": {},
   "source": [
    "This code defines and trains a convolutional neural network (CNN) to classify images in the CIFAR10 dataset. The CIFAR10 dataset consists of 60,000 32x32 color images in 10 classes, with 6,000 images per class. The dataset is split into 50,000 training images and 10,000 test images.\n",
    "\n",
    "The code first loads the CIFAR10 dataset using the `cifar10.load_data()` function from Keras. The data is then normalized by dividing each pixel value by 255, so that the pixel values are in the range [0, 1]. The labels are converted to one-hot encoded vectors using the `to_categorical()` function from Keras.\n",
    "\n",
    "The CNN model consists of several convolutional and pooling layers, followed by fully connected layers. The `Conv2D` layers use 3x3 filters and the `MaxPooling2D` layers use 2x2 pooling windows. The `Dropout` layers are used to prevent overfitting. The `Flatten` layer is used to flatten the output of the convolutional layers into a 1D array, which is then passed to the fully connected layers. The `Dense` layers use the `relu` activation function, except for the output layer, which uses the `softmax` activation function to output class probabilities.\n",
    "\n",
    "The model is compiled using the `rmsprop` optimizer and the `categorical_crossentropy` loss function, which is commonly used for multi-class classification problems. The model is then trained using the `fit()` method, with the training data, labels, and validation data as inputs. The `epochs` parameter specifies the number of times to iterate over the entire training dataset, and the `batch_size` parameter specifies the number of samples to use in each batch. The `validation_data` parameter specifies the validation dataset to use during training, which is used to monitor the performance of the model on data that it has not seen before."
   ]
  },
  {
   "cell_type": "markdown",
   "metadata": {},
   "source": [
    "Question: What accuracy did you get?\n",
    "\n"
   ]
  },
  {
   "cell_type": "code",
   "execution_count": 2,
   "metadata": {},
   "outputs": [
    {
     "name": "stdout",
     "output_type": "stream",
     "text": [
      "Accuracy of the best-performing model: 0.7608000040054321\n"
     ]
    }
   ],
   "source": [
    "# Get the validation accuracy for each epoch\n",
    "val_acc = history.history['val_accuracy']\n",
    "\n",
    "# Determine the best epoch\n",
    "best_epoch = np.argmax(val_acc)\n",
    "\n",
    "# Determine the accuracy of the best-performing model\n",
    "best_acc = val_acc[best_epoch]\n",
    "\n",
    "print('Accuracy of the best-performing model:', best_acc)"
   ]
  },
  {
   "cell_type": "markdown",
   "metadata": {},
   "source": [
    "## Extra Credit\n",
    "\n",
    "Write a prompt that gets the evaluation accuracy above 95%."
   ]
  }
 ],
 "metadata": {
  "kernelspec": {
   "display_name": "venv_ds549",
   "language": "python",
   "name": "python3"
  },
  "language_info": {
   "codemirror_mode": {
    "name": "ipython",
    "version": 3
   },
   "file_extension": ".py",
   "mimetype": "text/x-python",
   "name": "python",
   "nbconvert_exporter": "python",
   "pygments_lexer": "ipython3",
   "version": "3.10.12"
  }
 },
 "nbformat": 4,
 "nbformat_minor": 2
}
