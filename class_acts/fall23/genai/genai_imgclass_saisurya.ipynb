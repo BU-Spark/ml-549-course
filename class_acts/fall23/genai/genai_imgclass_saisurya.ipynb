{
 "cells": [
  {
   "cell_type": "markdown",
   "metadata": {},
   "source": [
    "# GenAI -- Image Classification on CIFAR10\n",
    "\n",
    "For this exercise we will use GenAI to build a an image classifier for\n",
    "CIFAR10.\n",
    "\n",
    "Work individually on this notebook.\n",
    "\n",
    "Submitted by: Sai Surya Varshith Nukala"
   ]
  },
  {
   "cell_type": "markdown",
   "metadata": {},
   "source": [
    "Prompt:\n",
    "\n",
    "> write python code to define and train a model to classify CIFAR10\n"
   ]
  },
  {
   "cell_type": "code",
   "execution_count": 1,
   "metadata": {},
   "outputs": [
    {
     "name": "stderr",
     "output_type": "stream",
     "text": [
      "2023-10-12 18:22:09.348797: I tensorflow/core/util/port.cc:111] oneDNN custom operations are on. You may see slightly different numerical results due to floating-point round-off errors from different computation orders. To turn them off, set the environment variable `TF_ENABLE_ONEDNN_OPTS=0`.\n",
      "2023-10-12 18:22:09.352681: I tensorflow/tsl/cuda/cudart_stub.cc:28] Could not find cuda drivers on your machine, GPU will not be used.\n",
      "2023-10-12 18:22:09.390212: E tensorflow/compiler/xla/stream_executor/cuda/cuda_dnn.cc:9342] Unable to register cuDNN factory: Attempting to register factory for plugin cuDNN when one has already been registered\n",
      "2023-10-12 18:22:09.390244: E tensorflow/compiler/xla/stream_executor/cuda/cuda_fft.cc:609] Unable to register cuFFT factory: Attempting to register factory for plugin cuFFT when one has already been registered\n",
      "2023-10-12 18:22:09.390269: E tensorflow/compiler/xla/stream_executor/cuda/cuda_blas.cc:1518] Unable to register cuBLAS factory: Attempting to register factory for plugin cuBLAS when one has already been registered\n",
      "2023-10-12 18:22:09.397357: I tensorflow/tsl/cuda/cudart_stub.cc:28] Could not find cuda drivers on your machine, GPU will not be used.\n",
      "2023-10-12 18:22:09.402139: I tensorflow/core/platform/cpu_feature_guard.cc:182] This TensorFlow binary is optimized to use available CPU instructions in performance-critical operations.\n",
      "To enable the following instructions: AVX2 AVX512F AVX512_VNNI FMA, in other operations, rebuild TensorFlow with the appropriate compiler flags.\n",
      "2023-10-12 18:22:11.576952: W tensorflow/compiler/tf2tensorrt/utils/py_utils.cc:38] TF-TRT Warning: Could not find TensorRT\n"
     ]
    },
    {
     "name": "stdout",
     "output_type": "stream",
     "text": [
      "Downloading data from https://www.cs.toronto.edu/~kriz/cifar-10-python.tar.gz\n",
      "170498071/170498071 [==============================] - 2s 0us/step\n",
      "Epoch 1/10\n",
      "1563/1563 [==============================] - 11s 7ms/step - loss: 1.5437 - accuracy: 0.4370 - val_loss: 1.2827 - val_accuracy: 0.5331\n",
      "Epoch 2/10\n",
      "1563/1563 [==============================] - 10s 6ms/step - loss: 1.1848 - accuracy: 0.5777 - val_loss: 1.0531 - val_accuracy: 0.6307\n",
      "Epoch 3/10\n",
      "1563/1563 [==============================] - 10s 6ms/step - loss: 1.0250 - accuracy: 0.6422 - val_loss: 0.9937 - val_accuracy: 0.6512\n",
      "Epoch 4/10\n",
      "1563/1563 [==============================] - 10s 6ms/step - loss: 0.9349 - accuracy: 0.6724 - val_loss: 1.0212 - val_accuracy: 0.6464\n",
      "Epoch 5/10\n",
      "1563/1563 [==============================] - 10s 6ms/step - loss: 0.8673 - accuracy: 0.6966 - val_loss: 0.8928 - val_accuracy: 0.6900\n",
      "Epoch 6/10\n",
      "1563/1563 [==============================] - 10s 6ms/step - loss: 0.8088 - accuracy: 0.7173 - val_loss: 0.9133 - val_accuracy: 0.6807\n",
      "Epoch 7/10\n",
      "1563/1563 [==============================] - 10s 6ms/step - loss: 0.7570 - accuracy: 0.7345 - val_loss: 0.9248 - val_accuracy: 0.6854\n",
      "Epoch 8/10\n",
      "1563/1563 [==============================] - 10s 6ms/step - loss: 0.7188 - accuracy: 0.7466 - val_loss: 0.8682 - val_accuracy: 0.7047\n",
      "Epoch 9/10\n",
      "1563/1563 [==============================] - 10s 6ms/step - loss: 0.6768 - accuracy: 0.7613 - val_loss: 0.8940 - val_accuracy: 0.6988\n",
      "Epoch 10/10\n",
      "1563/1563 [==============================] - 10s 6ms/step - loss: 0.6455 - accuracy: 0.7733 - val_loss: 0.8543 - val_accuracy: 0.7145\n",
      "313/313 - 1s - loss: 0.8543 - accuracy: 0.7145 - 989ms/epoch - 3ms/step\n",
      "\n",
      "Test accuracy: 0.7145000100135803\n"
     ]
    },
    {
     "ename": "",
     "evalue": "",
     "output_type": "error",
     "traceback": [
      "\u001b[1;31mThe Kernel crashed while executing code in the the current cell or a previous cell. Please review the code in the cell(s) to identify a possible cause of the failure. Click <a href='https://aka.ms/vscodeJupyterKernelCrash'>here</a> for more info. View Jupyter <a href='command:jupyter.viewOutput'>log</a> for further details."
     ]
    }
   ],
   "source": [
    "import tensorflow as tf\n",
    "from tensorflow.keras import layers, models\n",
    "from tensorflow.keras.datasets import cifar10\n",
    "\n",
    "# Load and preprocess the CIFAR10 dataset\n",
    "(train_images, train_labels), (test_images, test_labels) = cifar10.load_data()\n",
    "train_images = train_images.astype('float32') / 255.0\n",
    "test_images = test_images.astype('float32') / 255.0\n",
    "\n",
    "# Define the model\n",
    "model = models.Sequential([\n",
    "    layers.Conv2D(32, (3, 3), activation='relu', input_shape=(32, 32, 3)),\n",
    "    layers.MaxPooling2D((2, 2)),\n",
    "    layers.Conv2D(64, (3, 3), activation='relu'),\n",
    "    layers.MaxPooling2D((2, 2)),\n",
    "    layers.Conv2D(64, (3, 3), activation='relu'),\n",
    "    layers.Flatten(),\n",
    "    layers.Dense(64, activation='relu'),\n",
    "    layers.Dense(10)\n",
    "])\n",
    "\n",
    "# Compile the model\n",
    "model.compile(optimizer='adam',\n",
    "              loss=tf.keras.losses.SparseCategoricalCrossentropy(from_logits=True),\n",
    "              metrics=['accuracy'])\n",
    "\n",
    "# Train the model\n",
    "history = model.fit(train_images, train_labels, epochs=10, \n",
    "                    validation_data=(test_images, test_labels))\n",
    "\n",
    "# Evaluate the model\n",
    "test_loss, test_acc = model.evaluate(test_images, test_labels, verbose=2)\n",
    "print(f\"\\nTest accuracy: {test_acc}\")\n"
   ]
  },
  {
   "cell_type": "markdown",
   "metadata": {},
   "source": [
    "Prompt:\n",
    "\n",
    "> Explain the what the code is doing."
   ]
  },
  {
   "cell_type": "markdown",
   "metadata": {},
   "source": [
    "Certainly! Let's break down the provided code step-by-step:\n",
    "\n",
    "1. **Import Necessary Libraries:**\n",
    "```python\n",
    "import tensorflow as tf\n",
    "from tensorflow.keras import layers, models\n",
    "from tensorflow.keras.datasets import cifar10\n",
    "```\n",
    "This imports the required TensorFlow libraries, Keras layers and models, and the CIFAR10 dataset from Keras datasets.\n",
    "\n",
    "2. **Load and Preprocess the CIFAR10 Dataset:**\n",
    "```python\n",
    "(train_images, train_labels), (test_images, test_labels) = cifar10.load_data()\n",
    "train_images = train_images.astype('float32') / 255.0\n",
    "test_images = test_images.astype('float32') / 255.0\n",
    "```\n",
    "- `cifar10.load_data()` loads the CIFAR10 dataset, which contains 60,000 32x32 color images in 10 classes, with 6,000 images per class. It returns two tuples: one for the training set (50,000 images) and another for the test set (10,000 images).\n",
    "- The images are then normalized to have values between 0 and 1 by converting their datatype to `float32` and dividing by 255.\n",
    "\n",
    "3. **Define the Model:**\n",
    "```python\n",
    "model = models.Sequential([\n",
    "    layers.Conv2D(32, (3, 3), activation='relu', input_shape=(32, 32, 3)),\n",
    "    layers.MaxPooling2D((2, 2)),\n",
    "    layers.Conv2D(64, (3, 3), activation='relu'),\n",
    "    layers.MaxPooling2D((2, 2)),\n",
    "    layers.Conv2D(64, (3, 3), activation='relu'),\n",
    "    layers.Flatten(),\n",
    "    layers.Dense(64, activation='relu'),\n",
    "    layers.Dense(10)\n",
    "])\n",
    "```\n",
    "- A sequential model is defined using Keras. This means that layers are added in sequence.\n",
    "- `Conv2D` layers are convolutional layers that process the image in 2D slices. They are instrumental in capturing spatial features.\n",
    "- `MaxPooling2D` layers are pooling layers that reduce the spatial dimensions of the image, keeping the most prominent features.\n",
    "- `Flatten` layer is used to flatten the 2D arrays for fully connected layers.\n",
    "- `Dense` layers are fully connected layers. The final dense layer has 10 units, corresponding to the 10 classes of CIFAR10.\n",
    "\n",
    "4. **Compile the Model:**\n",
    "```python\n",
    "model.compile(optimizer='adam',\n",
    "              loss=tf.keras.losses.SparseCategoricalCrossentropy(from_logits=True),\n",
    "              metrics=['accuracy'])\n",
    "```\n",
    "- The model is compiled using the Adam optimization algorithm.\n",
    "- The loss function used is `SparseCategoricalCrossentropy`, which is suitable for multi-class classification problems where labels are integers. The `from_logits=True` argument means that the model will output logits (values before activation), and this loss function will apply the softmax activation for us.\n",
    "- The metric used to evaluate the model during training and testing is accuracy.\n",
    "\n",
    "5. **Train the Model:**\n",
    "```python\n",
    "history = model.fit(train_images, train_labels, epochs=10, \n",
    "                    validation_data=(test_images, test_labels))\n",
    "```\n",
    "- The model is trained using the training images and labels for 10 epochs.\n",
    "- Validation data (test images and labels) is provided to evaluate the model's performance on unseen data after each epoch.\n",
    "\n",
    "6. **Evaluate the Model:**\n",
    "```python\n",
    "test_loss, test_acc = model.evaluate(test_images, test_labels, verbose=2)\n",
    "print(f\"\\nTest accuracy: {test_acc}\")\n",
    "```\n",
    "- After training, the model is evaluated on the test set to determine its performance.\n",
    "- The test accuracy is printed to provide a measure of how well the model classifies new, unseen images.\n",
    "\n",
    "In summary, this code sets up and trains a basic convolutional neural network (CNN) to classify images from the CIFAR10 dataset. After training, it evaluates the model's accuracy on a test set."
   ]
  },
  {
   "cell_type": "markdown",
   "metadata": {},
   "source": [
    "Question: What accuracy did you get?\n",
    "\n"
   ]
  },
  {
   "cell_type": "markdown",
   "metadata": {},
   "source": [
    "0.7145000100135803"
   ]
  },
  {
   "cell_type": "markdown",
   "metadata": {},
   "source": [
    "## Extra Credit\n",
    "\n",
    "Write a prompt that gets the evaluation accuracy above 95%."
   ]
  },
  {
   "cell_type": "code",
   "execution_count": null,
   "metadata": {},
   "outputs": [],
   "source": []
  }
 ],
 "metadata": {
  "kernelspec": {
   "display_name": "venv_ds549",
   "language": "python",
   "name": "python3"
  },
  "language_info": {
   "codemirror_mode": {
    "name": "ipython",
    "version": 3
   },
   "file_extension": ".py",
   "mimetype": "text/x-python",
   "name": "python",
   "nbconvert_exporter": "python",
   "pygments_lexer": "ipython3",
   "version": "3.10.12"
  }
 },
 "nbformat": 4,
 "nbformat_minor": 2
}
