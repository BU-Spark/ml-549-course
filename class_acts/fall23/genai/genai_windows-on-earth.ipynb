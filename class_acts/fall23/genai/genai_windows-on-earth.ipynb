{
 "cells": [
  {
   "cell_type": "markdown",
   "metadata": {},
   "source": [
    "# Windows on Earth GenAI Kickstarter\n",
    "\n",
    "## Team Members:\n",
    "- ...\n",
    "- ...\n",
    "- ...\n",
    "\n",
    "## Instructions:\n",
    "\n",
    "Document the prompts you attempted and the responses you used.\n",
    "\n",
    "Additional dataset info is at [project_data.ipynb](project_data.ipynb)."
   ]
  },
  {
   "cell_type": "markdown",
   "metadata": {},
   "source": [
    "## Questions and Prompts to Consider\n",
    "\n",
    "1. Retrieve EXIF data from the images to extract metadata like:\n",
    "    1. focal length\n",
    "    2. aperture\n",
    "    3. altitude\n",
    "    4. any other metadata that might help determine the field of view of the camera\n",
    "2. Use the metadata to determine the field of view of the camera\n",
    "3. Explore earth image dataset APIs so that you can specify a location and field of view\n",
    "4. Retrieve images, using the API, for candidate images in the approximate location of the camera\n",
    "5. Explore rotation and scale invariant image comparison algorithms\n",
    "    1. template matching\n",
    "    2. SIFT, e.g. https://www.analyticsvidhya.com/blog/2019/10/detailed-guide-powerful-sift-technique-image-matching-python/\n",
    "6. Try to apply image matching to the labeled test images\n",
    "\n",
    "See [project desription](https://docs.google.com/document/d/12sIHG_ojL2QaLsC0cHfGQsMW76cg01O8P-ZK6fb-398/edit?usp=sharing)\n",
    "for additional information."
   ]
  },
  {
   "cell_type": "markdown",
   "metadata": {},
   "source": [
    "**Copilot/ChatGPT Prompt**\n",
    "\n",
    "> prompt text here"
   ]
  },
  {
   "cell_type": "markdown",
   "metadata": {},
   "source": [
    "**Response**\n",
    "\n",
    "*response here and in code cell*"
   ]
  },
  {
   "cell_type": "code",
   "execution_count": null,
   "metadata": {},
   "outputs": [],
   "source": [
    "# Response Here\n",
    "\n"
   ]
  },
  {
   "cell_type": "code",
   "execution_count": null,
   "metadata": {},
   "outputs": [],
   "source": []
  }
 ],
 "metadata": {
  "language_info": {
   "name": "python"
  }
 },
 "nbformat": 4,
 "nbformat_minor": 2
}
