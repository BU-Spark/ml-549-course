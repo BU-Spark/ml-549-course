{
 "cells": [
  {
   "cell_type": "markdown",
   "metadata": {},
   "source": [
    "# Herbaria GenAI Kickstarter\n",
    "\n",
    "## Team Members:\n",
    "- ...\n",
    "- ...\n",
    "- ...\n",
    "\n",
    "## Instructions:\n",
    "\n",
    "Document the prompts you attempted and the responses you used.\n",
    "\n",
    "Additional dataset info is at [project_data.ipynb](project_data.ipynb)."
   ]
  },
  {
   "cell_type": "markdown",
   "metadata": {},
   "source": [
    "## Questions and Prompts to Consider\n",
    "\n",
    "Look at the suggested steps in [project description](https://docs.google.com/document/d/1avJCApL-YiF3xSqYCuY-YHAgkD1FJ5wXlFkUxF0c4lA/edit?usp=sharing)\n",
    "and try to make some headway.\n",
    "\n",
    "In particular:\n",
    "1. Are there new handwriting recognition models that can improve on hadwritten label recognition?\n",
    "2. Can you identify additional information from the OCR, such as\n",
    "    1. Geography\n",
    "    2. Collection codes\n",
    "    3. Locations\n",
    "    4. Collectors names\n",
    "    5. etc.\n",
    "3. Can you increase the evaluation dataset size?"
   ]
  },
  {
   "cell_type": "markdown",
   "metadata": {},
   "source": [
    "**Copilot/ChatGPT Prompt**\n",
    "\n",
    "> prompt text here"
   ]
  },
  {
   "cell_type": "markdown",
   "metadata": {},
   "source": [
    "**Response**\n",
    "\n",
    "*response here and in code cell*"
   ]
  },
  {
   "cell_type": "code",
   "execution_count": null,
   "metadata": {},
   "outputs": [],
   "source": [
    "# Response Here\n",
    "\n"
   ]
  },
  {
   "cell_type": "code",
   "execution_count": null,
   "metadata": {},
   "outputs": [],
   "source": []
  }
 ],
 "metadata": {
  "language_info": {
   "name": "python"
  }
 },
 "nbformat": 4,
 "nbformat_minor": 2
}
