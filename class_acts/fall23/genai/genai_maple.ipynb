{
 "cells": [
  {
   "cell_type": "markdown",
   "metadata": {},
   "source": [
    "# MAPLE GenAI Kickstarter\n",
    "\n",
    "## Team Members:\n",
    "- ...\n",
    "- ...\n",
    "- ...\n",
    "\n",
    "## Instructions:\n",
    "\n",
    "Document the prompts you attempted and the responses you used.\n",
    "\n",
    "Additional dataset info is at [project_data.ipynb](project_data.ipynb)."
   ]
  },
  {
   "cell_type": "markdown",
   "metadata": {},
   "source": [
    "## Questions and Prompts to Consider\n",
    "\n",
    "1. Use the API to extract information from the MA legislation website. See the MAPLE section of [project_data.ipynb](project_data.ipynb) for an example.\n",
    "2. Collect bills information from the website.\n",
    "3. Try to match it to MA General Law sections and subsections.\n",
    "4. Generate summaries of the bills.\n",
    "5. Find simlar bills.\n",
    "\n",
    "Look at the [project description](https://docs.google.com/document/d/1avJCApL-YiF3xSqYCuY-YHAgkD1FJ5wXlFkUxF0c4lA/edit?usp=sharing)\n",
    "for more information."
   ]
  },
  {
   "cell_type": "markdown",
   "metadata": {},
   "source": [
    "**Copilot/ChatGPT Prompt**\n",
    "\n",
    "> prompt text here"
   ]
  },
  {
   "cell_type": "markdown",
   "metadata": {},
   "source": [
    "**Response**\n",
    "\n",
    "*response here and in code cell*"
   ]
  },
  {
   "cell_type": "code",
   "execution_count": null,
   "metadata": {},
   "outputs": [],
   "source": [
    "# Response Here\n",
    "\n"
   ]
  },
  {
   "cell_type": "code",
   "execution_count": null,
   "metadata": {},
   "outputs": [],
   "source": []
  }
 ],
 "metadata": {
  "language_info": {
   "name": "python"
  }
 },
 "nbformat": 4,
 "nbformat_minor": 2
}
