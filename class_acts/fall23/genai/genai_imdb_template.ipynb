{
 "cells": [
  {
   "cell_type": "markdown",
   "metadata": {
    "slideshow": {
     "slide_type": "slide"
    }
   },
   "source": [
    "# Sentiment Analysis on IMDB Movie Reviews\n",
    "\n",
    "Work individually on this notebook.\n",
    "\n",
    "Submitted by: \n"
   ]
  },
  {
   "cell_type": "markdown",
   "metadata": {
    "slideshow": {
     "slide_type": "slide"
    }
   },
   "source": [
    "**Prompt:**\n",
    "\n",
    "> Describe the IMDB dataset."
   ]
  },
  {
   "cell_type": "markdown",
   "metadata": {
    "slideshow": {
     "slide_type": "fragment"
    }
   },
   "source": [
    "Response:"
   ]
  },
  {
   "cell_type": "markdown",
   "metadata": {
    "slideshow": {
     "slide_type": "fragment"
    }
   },
   "source": [
    "_response here_"
   ]
  },
  {
   "cell_type": "markdown",
   "metadata": {
    "slideshow": {
     "slide_type": "slide"
    }
   },
   "source": [
    "**Prompt:**\n",
    "\n",
    "> Write the python code to import the IMDB dataset.\n",
    "\n",
    "Note that Copilot might not include all the necessry dependent packages. You \n",
    "may have to add them manually.\n",
    "\n",
    "Also, if it's a package you don't have in your environment yet, you can open\n",
    "the integrated terminal window, make sure to activate the same environment, \n",
    "and then install the package."
   ]
  },
  {
   "cell_type": "markdown",
   "metadata": {
    "slideshow": {
     "slide_type": "fragment"
    }
   },
   "source": [
    "**Response:**\n"
   ]
  },
  {
   "cell_type": "code",
   "execution_count": null,
   "metadata": {},
   "outputs": [],
   "source": []
  },
  {
   "cell_type": "markdown",
   "metadata": {
    "slideshow": {
     "slide_type": "slide"
    }
   },
   "source": [
    "You might want to ask some questions about the dataset. For example, you might ask:\n",
    "\n",
    "> what are the labels for the imdb dataset?\n",
    "\n",
    "> what is the form of the training data?\n",
    "\n",
    "> what are the words used in the training data?\n",
    "\n",
    "For the last prompt, I got example python code, which also duplicated the\n",
    "dataset loading, so I just deleted the duplicate code."
   ]
  },
  {
   "cell_type": "markdown",
   "metadata": {
    "slideshow": {
     "slide_type": "notes"
    }
   },
   "source": [
    "Note that the dataset is already processed, so the records are lists of integers."
   ]
  },
  {
   "cell_type": "code",
   "execution_count": null,
   "metadata": {},
   "outputs": [],
   "source": []
  },
  {
   "cell_type": "markdown",
   "metadata": {
    "slideshow": {
     "slide_type": "slide"
    }
   },
   "source": [
    "Now let understand the word index a little bit more. Try a prompt like:\n",
    "\n",
    "> What's a good way to visualize the word index?\n"
   ]
  },
  {
   "cell_type": "code",
   "execution_count": null,
   "metadata": {},
   "outputs": [],
   "source": []
  },
  {
   "cell_type": "markdown",
   "metadata": {
    "slideshow": {
     "slide_type": "slide"
    }
   },
   "source": [
    "**Prompt:**\n",
    "\n",
    "> How do you create a word cloud from the word index, where the font size is proportional to the number of occurences of the word?"
   ]
  },
  {
   "cell_type": "code",
   "execution_count": null,
   "metadata": {},
   "outputs": [],
   "source": []
  },
  {
   "cell_type": "markdown",
   "metadata": {
    "slideshow": {
     "slide_type": "slide"
    }
   },
   "source": [
    "It's clear that the most common words are ones that are not in the word index\n",
    "(represented by '?') and stop words. So, let's remove those and try again.\n",
    "\n",
    "> Remove stop words and punctuation\n",
    "\n",
    "Note that here again, Copilot didn't include the necessary packages, so I had\n",
    "to add them manually, as well as download the stop words. I just requested that\n",
    "with the promp:\n",
    "\n",
    "> download the stop words"
   ]
  },
  {
   "cell_type": "code",
   "execution_count": null,
   "metadata": {},
   "outputs": [],
   "source": []
  },
  {
   "cell_type": "markdown",
   "metadata": {
    "slideshow": {
     "slide_type": "slide"
    }
   },
   "source": [
    "> now created a word cloud from the filtered words"
   ]
  },
  {
   "cell_type": "code",
   "execution_count": null,
   "metadata": {},
   "outputs": [],
   "source": []
  },
  {
   "cell_type": "markdown",
   "metadata": {},
   "source": [
    "Ok, so hopefully we understand the dataset enough to know that it is basically\n",
    "a binary classifier. So, let's prompt to define, train and evaluate a model.\n",
    "\n",
    "> write a classifer for the imdb dataset"
   ]
  },
  {
   "cell_type": "code",
   "execution_count": null,
   "metadata": {},
   "outputs": [],
   "source": []
  },
  {
   "cell_type": "markdown",
   "metadata": {
    "slideshow": {
     "slide_type": "slide"
    }
   },
   "source": [
    "We can inspect the code that was produced, but in addition we can ask Copilot to\n",
    "expain it for us by putting the cursor in the code cell above and either \n",
    "typing \"explain\", or clicking in the Copilot chat box and typing `/explain`.\n",
    "\n",
    "> /explain"
   ]
  },
  {
   "cell_type": "markdown",
   "metadata": {
    "slideshow": {
     "slide_type": "slide"
    }
   },
   "source": [
    "## Conclusion\n",
    "\n",
    "We'll leave it there but you may want to explore further, perhaps with prompts\n",
    "like\n",
    "\n",
    "> What is the accuracy of the best-performing model on the IMDB dataset?\n",
    "\n",
    "> What are some common deep learning models used for sentiment analysis on the IMDB dataset?"
   ]
  },
  {
   "cell_type": "markdown",
   "metadata": {},
   "source": [
    "## Extra Credit\n",
    "\n",
    "Try to get Copilot to generate a model that achieves > 90% accuracy on the IMDB."
   ]
  }
 ],
 "metadata": {
  "kernelspec": {
   "display_name": "venv_ds549",
   "language": "python",
   "name": "venv_ds549"
  },
  "language_info": {
   "codemirror_mode": {
    "name": "ipython",
    "version": 3
   },
   "file_extension": ".py",
   "mimetype": "text/x-python",
   "name": "python",
   "nbconvert_exporter": "python",
   "pygments_lexer": "ipython3",
   "version": "3.10.12"
  }
 },
 "nbformat": 4,
 "nbformat_minor": 2
}
