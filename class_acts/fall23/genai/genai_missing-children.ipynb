{
 "cells": [
  {
   "cell_type": "markdown",
   "metadata": {},
   "source": [
    "# Missing Children GenAI Kickstarter\n",
    "\n",
    "## Team Members:\n",
    "- ...\n",
    "- ...\n",
    "- ...\n",
    "\n",
    "## Instructions:\n",
    "\n",
    "Document the prompts you attempted and the responses you used.\n",
    "\n",
    "Additional dataset info is at [project_data.ipynb](project_data.ipynb)."
   ]
  },
  {
   "cell_type": "markdown",
   "metadata": {},
   "source": [
    "## Questions and Prompts to Consider\n",
    "\n",
    "1. Run a pre-trained face detector on the images provided in the SCC sparkgrp missing children datasets folder.\n",
    "2. Run a pre-trained face recognizer on all the images in the datsets folder to get embedding vectors.\n",
    "3. Run a clustering algorithm on the embedding vectors to group similar faces together. You may have to suggest a distance metric like cosine similarity.\n",
    "4. Manually evaluate the clusters to see if the faces are actually similar.\n",
    "5. Explore style transfer techniques that can make a person look homeless.\n",
    "6. Explore face aging techniques that can make a person look older, especially for young children.\n",
    "\n",
    "See [project description](https://docs.google.com/document/d/1bXUSUuH_V4328L-TO2cFc0izSnzypEnqzkFkKBGBaJk/edit?usp=sharing)\n",
    "for additional information."
   ]
  },
  {
   "cell_type": "markdown",
   "metadata": {},
   "source": [
    "**Copilot/ChatGPT Prompt**\n",
    "\n",
    "> prompt text here"
   ]
  },
  {
   "cell_type": "markdown",
   "metadata": {},
   "source": [
    "**Response**\n",
    "\n",
    "*response here and in code cell*"
   ]
  },
  {
   "cell_type": "code",
   "execution_count": null,
   "metadata": {},
   "outputs": [],
   "source": [
    "# Response Here\n",
    "\n"
   ]
  },
  {
   "cell_type": "code",
   "execution_count": null,
   "metadata": {},
   "outputs": [],
   "source": []
  }
 ],
 "metadata": {
  "language_info": {
   "name": "python"
  }
 },
 "nbformat": 4,
 "nbformat_minor": 2
}
