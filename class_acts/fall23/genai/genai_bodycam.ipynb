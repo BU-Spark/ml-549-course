{
 "cells": [
  {
   "cell_type": "markdown",
   "metadata": {},
   "source": [
    "# Body Camera GenAI Kickstarter\n",
    "\n",
    "## Team Members:\n",
    "- ...\n",
    "- ...\n",
    "- ...\n",
    "\n",
    "## Instructions:\n",
    "\n",
    "Document the prompts you attempted and the responses you used.\n",
    "\n",
    "Additional dataset info is at [project_data.ipynb](project_data.ipynb)."
   ]
  },
  {
   "cell_type": "markdown",
   "metadata": {},
   "source": [
    "## Questions and Prompts to Consider\n",
    "\n",
    "1. Write python code to extract the audio from the video files.\n",
    "2. Run a speech recognizer on the audio files to get the text.\n",
    "3. Investigate ways to evaluate the quality of the speech recognizer.\n",
    "4. Run a sentiment analyzer on the text to get the sentiment.\n",
    "5. Run a topic modeler on the text to get the topics.\n",
    "6. Try to run semantic analysis to find instances in the text for classses of topics like:\n",
    "    1. Protestors don't know where they are going\n",
    "    2. Officers are giving directions\n",
    "    3. Officers are stating they don't know what is going on\n",
    "    4. Offers are making aggressive comments\n",
    "\n",
    "You can also look at the [project description](https://docs.google.com/document/d/1K7D9O4DwbDDAD850JLbGM3pdOag0w0MrsDhjA5skpIM/edit?usp=sharing)\n",
    "for more ideas."
   ]
  },
  {
   "cell_type": "markdown",
   "metadata": {},
   "source": [
    "**Copilot/ChatGPT Prompt**\n",
    "\n",
    "> prompt text here"
   ]
  },
  {
   "cell_type": "markdown",
   "metadata": {},
   "source": [
    "**Response**\n",
    "\n",
    "*response here and in code cell*"
   ]
  },
  {
   "cell_type": "code",
   "execution_count": null,
   "metadata": {},
   "outputs": [],
   "source": [
    "# Response Here\n",
    "\n"
   ]
  },
  {
   "cell_type": "code",
   "execution_count": null,
   "metadata": {},
   "outputs": [],
   "source": []
  }
 ],
 "metadata": {
  "language_info": {
   "name": "python"
  }
 },
 "nbformat": 4,
 "nbformat_minor": 2
}
