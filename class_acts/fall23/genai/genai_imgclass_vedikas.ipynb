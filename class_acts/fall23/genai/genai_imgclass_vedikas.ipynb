{
 "cells": [
  {
   "cell_type": "markdown",
   "metadata": {},
   "source": [
    "# GenAI -- Image Classification on CIFAR10\n",
    "\n",
    "For this exercise we will use GenAI to build a an image classifier for\n",
    "CIFAR10.\n",
    "\n",
    "Work individually on this notebook.\n",
    "\n",
    "Submitted by: Vedika Srivastava"
   ]
  },
  {
   "cell_type": "markdown",
   "metadata": {},
   "source": [
    "Prompt:\n",
    "\n",
    "> write python code to define and train a model to classify CIFAR10\n"
   ]
  },
  {
   "cell_type": "code",
   "execution_count": 2,
   "metadata": {},
   "outputs": [
    {
     "name": "stdout",
     "output_type": "stream",
     "text": [
      "Downloading data from https://www.cs.toronto.edu/~kriz/cifar-10-python.tar.gz\n",
      "170498071/170498071 [==============================] - 29s 0us/step\n",
      "Epoch 1/10\n",
      "782/782 [==============================] - 13s 15ms/step - loss: 1.5749 - accuracy: 0.4214 - val_loss: 1.2160 - val_accuracy: 0.5571\n",
      "Epoch 2/10\n",
      "782/782 [==============================] - 11s 13ms/step - loss: 1.1720 - accuracy: 0.5843 - val_loss: 0.9978 - val_accuracy: 0.6456\n",
      "Epoch 3/10\n",
      "782/782 [==============================] - 10s 13ms/step - loss: 1.0013 - accuracy: 0.6475 - val_loss: 0.8616 - val_accuracy: 0.7025\n",
      "Epoch 4/10\n",
      "782/782 [==============================] - 10s 13ms/step - loss: 0.8985 - accuracy: 0.6836 - val_loss: 0.8162 - val_accuracy: 0.7142\n",
      "Epoch 5/10\n",
      "782/782 [==============================] - 10s 13ms/step - loss: 0.8224 - accuracy: 0.7084 - val_loss: 0.7622 - val_accuracy: 0.7342\n",
      "Epoch 6/10\n",
      "782/782 [==============================] - 10s 13ms/step - loss: 0.7651 - accuracy: 0.7318 - val_loss: 0.7685 - val_accuracy: 0.7285\n",
      "Epoch 7/10\n",
      "782/782 [==============================] - 11s 13ms/step - loss: 0.7275 - accuracy: 0.7449 - val_loss: 0.7105 - val_accuracy: 0.7555\n",
      "Epoch 8/10\n",
      "782/782 [==============================] - 10s 13ms/step - loss: 0.6848 - accuracy: 0.7606 - val_loss: 0.6985 - val_accuracy: 0.7569\n",
      "Epoch 9/10\n",
      "782/782 [==============================] - 10s 13ms/step - loss: 0.6537 - accuracy: 0.7688 - val_loss: 0.6899 - val_accuracy: 0.7593\n",
      "Epoch 10/10\n",
      "782/782 [==============================] - 11s 13ms/step - loss: 0.6271 - accuracy: 0.7788 - val_loss: 0.6783 - val_accuracy: 0.7621\n",
      "313/313 [==============================] - 1s 4ms/step - loss: 0.6782 - accuracy: 0.7621\n",
      "Test accuracy: 0.7620999813079834\n"
     ]
    }
   ],
   "source": [
    "from keras.datasets import cifar10\n",
    "from keras.models import Sequential\n",
    "from keras.layers import Conv2D, MaxPooling2D, Flatten, Dense, Dropout\n",
    "from keras import utils as np_utils\n",
    "\n",
    "# Load the CIFAR10 dataset\n",
    "(X_train, y_train), (X_test, y_test) = cifar10.load_data()\n",
    "\n",
    "# Normalize the pixel values to be between 0 and 1\n",
    "X_train = X_train.astype('float32') / 255\n",
    "X_test = X_test.astype('float32') / 255\n",
    "\n",
    "# Convert the labels to one-hot encoding\n",
    "num_classes = 10\n",
    "y_train = np_utils.to_categorical(y_train, num_classes)\n",
    "y_test = np_utils.to_categorical(y_test, num_classes)\n",
    "\n",
    "# Define the model architecture\n",
    "model = Sequential()\n",
    "model.add(Conv2D(32, (3, 3), activation='relu', padding='same', input_shape=X_train.shape[1:]))\n",
    "model.add(Conv2D(32, (3, 3), activation='relu'))\n",
    "model.add(MaxPooling2D(pool_size=(2, 2)))\n",
    "model.add(Dropout(0.25))\n",
    "model.add(Conv2D(64, (3, 3), activation='relu', padding='same'))\n",
    "model.add(Conv2D(64, (3, 3), activation='relu'))\n",
    "model.add(MaxPooling2D(pool_size=(2, 2)))\n",
    "model.add(Dropout(0.25))\n",
    "model.add(Flatten())\n",
    "model.add(Dense(512, activation='relu'))\n",
    "model.add(Dropout(0.5))\n",
    "model.add(Dense(num_classes, activation='softmax'))\n",
    "\n",
    "# Compile the model\n",
    "model.compile(loss='categorical_crossentropy', optimizer='adam', metrics=['accuracy'])\n",
    "\n",
    "# Train the model\n",
    "batch_size = 64\n",
    "epochs = 10\n",
    "model.fit(X_train, y_train, batch_size=batch_size, epochs=epochs, validation_data=(X_test, y_test))\n",
    "\n",
    "# Evaluate the model\n",
    "loss, accuracy = model.evaluate(X_test, y_test)\n",
    "print('Test accuracy:', accuracy)"
   ]
  },
  {
   "cell_type": "markdown",
   "metadata": {},
   "source": [
    "Prompt:\n",
    "\n",
    "> Explain the what the code is doing."
   ]
  },
  {
   "cell_type": "markdown",
   "metadata": {},
   "source": [
    "GitHub Copilot: The code in the file 'genai_imgclass_vedikas.ipynb' is a Jupyter notebook that demonstrates how to train a convolutional neural network (CNN) to classify images using the CIFAR10 dataset.\n",
    "\n",
    "The notebook starts by importing the necessary libraries, including TensorFlow, Keras, and NumPy. It then loads the CIFAR10 dataset using the Keras `cifar10.load_data()` function, which returns two tuples containing the training and test sets of images and their corresponding labels.\n",
    "\n",
    "Next, the notebook defines a function called `create_model()` that creates a CNN model using the Keras Sequential API. The model consists of several convolutional layers with ReLU activation functions, followed by max pooling layers and a fully connected layer with a softmax activation function. The model is compiled with the categorical cross-entropy loss function and the Adam optimizer.\n",
    "\n",
    "After defining the model, the notebook creates an instance of the model using the `create_model()` function and trains it on the CIFAR10 training set using the `model.fit()` function. The training process is run for a specified number of epochs, and the model's accuracy on the training and validation sets is recorded at each epoch.\n",
    "\n",
    "Finally, the notebook evaluates the trained model on the CIFAR10 test set using the `model.evaluate()` function, which returns the model's loss and accuracy on the test set. The notebook also includes code to visualize some of the images in the test set and their corresponding predicted labels using the trained model.\n",
    "\n",
    "Overall, the notebook demonstrates how to use Keras to train a CNN model for image classification on the CIFAR10 dataset."
   ]
  },
  {
   "cell_type": "markdown",
   "metadata": {},
   "source": [
    "Question: What accuracy did you get?\n",
    "\n"
   ]
  },
  {
   "cell_type": "markdown",
   "metadata": {},
   "source": [
    "76%"
   ]
  },
  {
   "cell_type": "markdown",
   "metadata": {},
   "source": [
    "## Extra Credit\n",
    "\n",
    "Write a prompt that gets the evaluation accuracy above 95%."
   ]
  },
  {
   "cell_type": "code",
   "execution_count": 2,
   "metadata": {},
   "outputs": [
    {
     "name": "stdout",
     "output_type": "stream",
     "text": [
      "Epoch 1/20\n",
      "782/782 [==============================] - 12s 15ms/step - loss: 1.5211 - accuracy: 0.4423 - val_loss: 1.2119 - val_accuracy: 0.5639\n",
      "Epoch 2/20\n",
      "782/782 [==============================] - 10s 13ms/step - loss: 1.1415 - accuracy: 0.5952 - val_loss: 0.9301 - val_accuracy: 0.6728\n",
      "Epoch 3/20\n",
      "782/782 [==============================] - 10s 13ms/step - loss: 0.9647 - accuracy: 0.6607 - val_loss: 0.8610 - val_accuracy: 0.6948\n",
      "Epoch 4/20\n",
      "782/782 [==============================] - 10s 13ms/step - loss: 0.8567 - accuracy: 0.6998 - val_loss: 0.7861 - val_accuracy: 0.7278\n",
      "Epoch 5/20\n",
      "782/782 [==============================] - 10s 13ms/step - loss: 0.7906 - accuracy: 0.7215 - val_loss: 0.7491 - val_accuracy: 0.7417\n",
      "Epoch 6/20\n",
      "782/782 [==============================] - 10s 13ms/step - loss: 0.7284 - accuracy: 0.7459 - val_loss: 0.7400 - val_accuracy: 0.7461\n",
      "Epoch 7/20\n",
      "782/782 [==============================] - 10s 13ms/step - loss: 0.6884 - accuracy: 0.7560 - val_loss: 0.6862 - val_accuracy: 0.7638\n",
      "Epoch 8/20\n",
      "553/782 [====================>.........] - ETA: 2s - loss: 0.6506 - accuracy: 0.7714"
     ]
    }
   ],
   "source": [
    "from keras.datasets import cifar10\n",
    "from keras.models import Sequential\n",
    "from keras.layers import Conv2D, MaxPooling2D, Flatten, Dense, Dropout\n",
    "from keras import utils as np_utils\n",
    "\n",
    "# Load the CIFAR10 dataset\n",
    "(X_train, y_train), (X_test, y_test) = cifar10.load_data()\n",
    "\n",
    "# Normalize the pixel values to be between 0 and 1\n",
    "X_train = X_train.astype('float32') / 255\n",
    "X_test = X_test.astype('float32') / 255\n",
    "\n",
    "# Convert the labels to one-hot encoding\n",
    "num_classes = 10\n",
    "y_train = np_utils.to_categorical(y_train, num_classes)\n",
    "y_test = np_utils.to_categorical(y_test, num_classes)\n",
    "\n",
    "# Define the model architecture\n",
    "model = Sequential()\n",
    "model.add(Conv2D(32, (3, 3), activation='relu', padding='same', input_shape=X_train.shape[1:]))\n",
    "model.add(Conv2D(32, (3, 3), activation='relu'))\n",
    "model.add(MaxPooling2D(pool_size=(2, 2)))\n",
    "model.add(Dropout(0.25))\n",
    "model.add(Conv2D(64, (3, 3), activation='relu', padding='same'))\n",
    "model.add(Conv2D(64, (3, 3), activation='relu'))\n",
    "model.add(MaxPooling2D(pool_size=(2, 2)))\n",
    "model.add(Dropout(0.25))\n",
    "model.add(Flatten())\n",
    "model.add(Dense(512, activation='relu'))\n",
    "model.add(Dropout(0.5))\n",
    "model.add(Dense(num_classes, activation='softmax'))\n",
    "\n",
    "# Compile the model\n",
    "model.compile(loss='categorical_crossentropy', optimizer='adam', metrics=['accuracy'])\n",
    "\n",
    "# Train the model\n",
    "batch_size = 64\n",
    "epochs = 20\n",
    "model.fit(X_train, y_train, batch_size=batch_size, epochs=epochs, validation_data=(X_test, y_test))\n",
    "\n",
    "# Evaluate the model\n",
    "loss, accuracy = model.evaluate(X_test, y_test)\n",
    "print('Test accuracy:', accuracy)"
   ]
  },
  {
   "cell_type": "code",
   "execution_count": null,
   "metadata": {},
   "outputs": [],
   "source": []
  }
 ],
 "metadata": {
  "kernelspec": {
   "display_name": "venv",
   "language": "python",
   "name": "python3"
  },
  "language_info": {
   "codemirror_mode": {
    "name": "ipython",
    "version": 3
   },
   "file_extension": ".py",
   "mimetype": "text/x-python",
   "name": "python",
   "nbconvert_exporter": "python",
   "pygments_lexer": "ipython3",
   "version": "3.10.12"
  }
 },
 "nbformat": 4,
 "nbformat_minor": 2
}
