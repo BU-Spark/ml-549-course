{
 "cells": [
  {
   "cell_type": "markdown",
   "metadata": {},
   "source": [
    "# EPIK GenAI Kickstarter\n",
    "\n",
    "## Team Members:\n",
    "- ...\n",
    "- ...\n",
    "- ...\n",
    "\n",
    "## Instructions:\n",
    "\n",
    "Document the prompts you attempted and the responses you used.\n",
    "\n",
    "Additional dataset info is at [project_data.ipynb](project_data.ipynb)."
   ]
  },
  {
   "cell_type": "markdown",
   "metadata": {},
   "source": [
    "## Questions and Prompts to Consider\n",
    "\n",
    "Look at the [project description](https://docs.google.com/document/d/1cs94NECHqK9jSCZo42EYMNUgtiS5V6T0-aiHN0k940k/edit?usp=sharing)\n",
    "and try to answer as many of the questions posed there as possible."
   ]
  },
  {
   "cell_type": "markdown",
   "metadata": {},
   "source": [
    "**Copilot/ChatGPT Prompt**\n",
    "\n",
    "> prompt text here"
   ]
  },
  {
   "cell_type": "markdown",
   "metadata": {},
   "source": [
    "**Response**\n",
    "\n",
    "*response here and in code cell*"
   ]
  },
  {
   "cell_type": "code",
   "execution_count": null,
   "metadata": {},
   "outputs": [],
   "source": [
    "# Response Here\n",
    "\n"
   ]
  },
  {
   "cell_type": "code",
   "execution_count": null,
   "metadata": {},
   "outputs": [],
   "source": []
  }
 ],
 "metadata": {
  "language_info": {
   "name": "python"
  }
 },
 "nbformat": 4,
 "nbformat_minor": 2
}
