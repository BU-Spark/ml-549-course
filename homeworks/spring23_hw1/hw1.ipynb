{
 "cells": [
  {
   "cell_type": "code",
   "execution_count": 1,
   "metadata": {},
   "outputs": [
    {
     "name": "stderr",
     "output_type": "stream",
     "text": [
      "2023-02-02 18:48:53.905320: I tensorflow/core/platform/cpu_feature_guard.cc:193] This TensorFlow binary is optimized with oneAPI Deep Neural Network Library (oneDNN) to use the following CPU instructions in performance-critical operations:  AVX2 FMA\n",
      "To enable them in other operations, rebuild TensorFlow with the appropriate compiler flags.\n"
     ]
    }
   ],
   "source": [
    "import wandb\n",
    "from wandb.keras import WandbMetricsLogger\n",
    "\n",
    "import tensorflow as tf\n",
    "from tensorflow import keras\n",
    "from keras import layers\n",
    "# from tensorflow.keras.layers \n",
    "import pickle \n",
    "import tensorflow_datasets as tfds\n",
    "from matplotlib import pyplot as plt"
   ]
  },
  {
   "cell_type": "code",
   "execution_count": 3,
   "metadata": {},
   "outputs": [],
   "source": [
    "(ds_cifar10_train, ds_cifar10_test), ds_cifar10_info = tfds.load(\n",
    "    'cifar10',\n",
    "    split=['train', 'test'],\n",
    "    data_dir='/Users/herbertzhang/Desktop/BU/CS549/ml-549-course/homeworks/hw1datasets',\n",
    "    shuffle_files=True, # load in random order\n",
    "    as_supervised=True, # Include labels\n",
    "    with_info=True, # Include info\n",
    ")\n",
    "\n",
    "    # Optionally uncomment the next 3 lines to visualize random samples from each dataset\n",
    "    #fig_train = tfds.show_examples(ds_cifar10_train, ds_cifar10_info)\n",
    "    #fig_test = tfds.show_examples(ds_cifar10_test, ds_cifar10_info)\n",
    "    #plt.show()  # Display the plots\n",
    "\n",
    "def normalize_img(image, label):\n",
    "    \"\"\"Normalizes images: `uint8` -> `float32`.\"\"\"\n",
    "    return tf.cast(image, tf.float32) / 255., label\n",
    "\n",
    "# Prepare cifar10 training dataset\n",
    "ds_cifar10_train = ds_cifar10_train.map(normalize_img, num_parallel_calls=tf.data.AUTOTUNE)\n",
    "ds_cifar10_train = ds_cifar10_train.cache()     # Cache data\n",
    "ds_cifar10_train = ds_cifar10_train.shuffle(ds_cifar10_info.splits['train'].num_examples)\n",
    "ds_cifar10_train = ds_cifar10_train.batch(32)  # <<<<< To change batch size, you have to change it here\n",
    "ds_cifar10_train = ds_cifar10_train.prefetch(tf.data.AUTOTUNE)\n",
    "\n",
    "# Prepare cifar10 test dataset\n",
    "ds_cifar10_test = ds_cifar10_test.map(normalize_img, num_parallel_calls=tf.data.AUTOTUNE)\n",
    "ds_cifar10_test = ds_cifar10_test.batch(32)    # <<<<< To change batch size, you have to change it here\n",
    "ds_cifar10_test = ds_cifar10_test.cache()\n",
    "ds_cifar10_test = ds_cifar10_test.prefetch(tf.data.AUTOTUNE)\n",
    "\n"
   ]
  },
  {
   "cell_type": "code",
   "execution_count": 5,
   "metadata": {},
   "outputs": [],
   "source": [
    "\n",
    "# Define the model here\n",
    "model = tf.keras.models.Sequential([\n",
    "    keras.Input(shape=(32, 32, 3)),\n",
    "    #####################################\n",
    "    layers.Conv2D(64, (3,3)),\n",
    "    layers.Activation(\"relu\"), \n",
    "    layers.MaxPooling2D(pool_size=(2,2)),\n",
    "    \n",
    "    layers.Conv2D(64, (3,3)),\n",
    "    layers.Activation(\"relu\"), \n",
    "    layers.MaxPooling2D(pool_size=(2,2)),\n",
    "    \n",
    "    # vvvvvvvvvvvvvvvvvvvvvvvvvvvvvvvvvvv\n",
    "    layers.Flatten(),\n",
    "    layers.Dense(128, activation='relu'),\n",
    "    # ^^^^^^^^^^^^^^^^^^^^^^^^^^^^^^^^^^\n",
    "    tf.keras.layers.Dense(10)\n",
    "])"
   ]
  },
  {
   "cell_type": "code",
   "execution_count": 6,
   "metadata": {},
   "outputs": [
    {
     "ename": "Error",
     "evalue": "You must call `wandb.init()` before WandbMetricsLogger()",
     "output_type": "error",
     "traceback": [
      "\u001b[0;31m---------------------------------------------------------------------------\u001b[0m",
      "\u001b[0;31mError\u001b[0m                                     Traceback (most recent call last)",
      "\u001b[1;32m/Users/herbertzhang/Desktop/BU/CS549/ml-549-course/homeworks/spring23_hw1/hw1.ipynb Cell 4\u001b[0m in \u001b[0;36m<module>\u001b[0;34m\u001b[0m\n\u001b[1;32m      <a href='vscode-notebook-cell:/Users/herbertzhang/Desktop/BU/CS549/ml-549-course/homeworks/spring23_hw1/hw1.ipynb#W3sZmlsZQ%3D%3D?line=2'>3</a>\u001b[0m wandb\u001b[39m.\u001b[39mconfig \u001b[39m=\u001b[39m {\n\u001b[1;32m      <a href='vscode-notebook-cell:/Users/herbertzhang/Desktop/BU/CS549/ml-549-course/homeworks/spring23_hw1/hw1.ipynb#W3sZmlsZQ%3D%3D?line=3'>4</a>\u001b[0m     \u001b[39m#####################################\u001b[39;00m\n\u001b[1;32m      <a href='vscode-notebook-cell:/Users/herbertzhang/Desktop/BU/CS549/ml-549-course/homeworks/spring23_hw1/hw1.ipynb#W3sZmlsZQ%3D%3D?line=4'>5</a>\u001b[0m     \u001b[39m# Edit these as desired\u001b[39;00m\n\u001b[0;32m   (...)\u001b[0m\n\u001b[1;32m     <a href='vscode-notebook-cell:/Users/herbertzhang/Desktop/BU/CS549/ml-549-course/homeworks/spring23_hw1/hw1.ipynb#W3sZmlsZQ%3D%3D?line=10'>11</a>\u001b[0m     \u001b[39m# ^^^^^^^^^^^^^^^^^^^^^^^^^^^^^^^^^^\u001b[39;00m\n\u001b[1;32m     <a href='vscode-notebook-cell:/Users/herbertzhang/Desktop/BU/CS549/ml-549-course/homeworks/spring23_hw1/hw1.ipynb#W3sZmlsZQ%3D%3D?line=11'>12</a>\u001b[0m }\n\u001b[1;32m     <a href='vscode-notebook-cell:/Users/herbertzhang/Desktop/BU/CS549/ml-549-course/homeworks/spring23_hw1/hw1.ipynb#W3sZmlsZQ%3D%3D?line=13'>14</a>\u001b[0m model\u001b[39m.\u001b[39mcompile(\n\u001b[1;32m     <a href='vscode-notebook-cell:/Users/herbertzhang/Desktop/BU/CS549/ml-549-course/homeworks/spring23_hw1/hw1.ipynb#W3sZmlsZQ%3D%3D?line=14'>15</a>\u001b[0m     optimizer\u001b[39m=\u001b[39mtf\u001b[39m.\u001b[39mkeras\u001b[39m.\u001b[39moptimizers\u001b[39m.\u001b[39mAdam(learning_rate\u001b[39m=\u001b[39m\u001b[39m.\u001b[39m\u001b[39m001\u001b[39m),\n\u001b[1;32m     <a href='vscode-notebook-cell:/Users/herbertzhang/Desktop/BU/CS549/ml-549-course/homeworks/spring23_hw1/hw1.ipynb#W3sZmlsZQ%3D%3D?line=15'>16</a>\u001b[0m     loss\u001b[39m=\u001b[39mtf\u001b[39m.\u001b[39mkeras\u001b[39m.\u001b[39mlosses\u001b[39m.\u001b[39mSparseCategoricalCrossentropy(from_logits\u001b[39m=\u001b[39m\u001b[39mTrue\u001b[39;00m),\n\u001b[1;32m     <a href='vscode-notebook-cell:/Users/herbertzhang/Desktop/BU/CS549/ml-549-course/homeworks/spring23_hw1/hw1.ipynb#W3sZmlsZQ%3D%3D?line=16'>17</a>\u001b[0m     metrics\u001b[39m=\u001b[39m[tf\u001b[39m.\u001b[39mkeras\u001b[39m.\u001b[39mmetrics\u001b[39m.\u001b[39mSparseCategoricalAccuracy()],\n\u001b[1;32m     <a href='vscode-notebook-cell:/Users/herbertzhang/Desktop/BU/CS549/ml-549-course/homeworks/spring23_hw1/hw1.ipynb#W3sZmlsZQ%3D%3D?line=17'>18</a>\u001b[0m )\n\u001b[1;32m     <a href='vscode-notebook-cell:/Users/herbertzhang/Desktop/BU/CS549/ml-549-course/homeworks/spring23_hw1/hw1.ipynb#W3sZmlsZQ%3D%3D?line=19'>20</a>\u001b[0m history \u001b[39m=\u001b[39m model\u001b[39m.\u001b[39mfit(\n\u001b[1;32m     <a href='vscode-notebook-cell:/Users/herbertzhang/Desktop/BU/CS549/ml-549-course/homeworks/spring23_hw1/hw1.ipynb#W3sZmlsZQ%3D%3D?line=20'>21</a>\u001b[0m     ds_cifar10_train,\n\u001b[1;32m     <a href='vscode-notebook-cell:/Users/herbertzhang/Desktop/BU/CS549/ml-549-course/homeworks/spring23_hw1/hw1.ipynb#W3sZmlsZQ%3D%3D?line=21'>22</a>\u001b[0m     epochs\u001b[39m=\u001b[39m\u001b[39m10\u001b[39m,\n\u001b[1;32m     <a href='vscode-notebook-cell:/Users/herbertzhang/Desktop/BU/CS549/ml-549-course/homeworks/spring23_hw1/hw1.ipynb#W3sZmlsZQ%3D%3D?line=22'>23</a>\u001b[0m     validation_data\u001b[39m=\u001b[39mds_cifar10_test,\n\u001b[0;32m---> <a href='vscode-notebook-cell:/Users/herbertzhang/Desktop/BU/CS549/ml-549-course/homeworks/spring23_hw1/hw1.ipynb#W3sZmlsZQ%3D%3D?line=23'>24</a>\u001b[0m     callbacks\u001b[39m=\u001b[39m[WandbMetricsLogger()]\n\u001b[1;32m     <a href='vscode-notebook-cell:/Users/herbertzhang/Desktop/BU/CS549/ml-549-course/homeworks/spring23_hw1/hw1.ipynb#W3sZmlsZQ%3D%3D?line=24'>25</a>\u001b[0m )\n",
      "File \u001b[0;32m/Library/Frameworks/Python.framework/Versions/3.8/lib/python3.8/site-packages/wandb/integration/keras/callbacks/metrics_logger.py:61\u001b[0m, in \u001b[0;36mWandbMetricsLogger.__init__\u001b[0;34m(self, log_freq, initial_global_step, *args, **kwargs)\u001b[0m\n\u001b[1;32m     58\u001b[0m \u001b[39msuper\u001b[39m()\u001b[39m.\u001b[39m\u001b[39m__init__\u001b[39m(\u001b[39m*\u001b[39margs, \u001b[39m*\u001b[39m\u001b[39m*\u001b[39mkwargs)\n\u001b[1;32m     60\u001b[0m \u001b[39mif\u001b[39;00m wandb\u001b[39m.\u001b[39mrun \u001b[39mis\u001b[39;00m \u001b[39mNone\u001b[39;00m:\n\u001b[0;32m---> 61\u001b[0m     \u001b[39mraise\u001b[39;00m wandb\u001b[39m.\u001b[39mError(\n\u001b[1;32m     62\u001b[0m         \u001b[39m\"\u001b[39m\u001b[39mYou must call `wandb.init()` before WandbMetricsLogger()\u001b[39m\u001b[39m\"\u001b[39m\n\u001b[1;32m     63\u001b[0m     )\n\u001b[1;32m     65\u001b[0m \u001b[39mwith\u001b[39;00m telemetry\u001b[39m.\u001b[39mcontext(run\u001b[39m=\u001b[39mwandb\u001b[39m.\u001b[39mrun) \u001b[39mas\u001b[39;00m tel:\n\u001b[1;32m     66\u001b[0m     tel\u001b[39m.\u001b[39mfeature\u001b[39m.\u001b[39mkeras_metrics_logger \u001b[39m=\u001b[39m \u001b[39mTrue\u001b[39;00m\n",
      "\u001b[0;31mError\u001b[0m: You must call `wandb.init()` before WandbMetricsLogger()"
     ]
    }
   ],
   "source": [
    "\n",
    "# Log the training hyper-parameters for WandB\n",
    "# If you change these in model.compile() or model.fit(), be sure to update them here.\n",
    "wandb.config = {\n",
    "    #####################################\n",
    "    # Edit these as desired\n",
    "    # vvvvvvvvvvvvvvvvvvvvvvvvvvvvvvvvvvv\n",
    "    \"learning_rate\": 0.001,\n",
    "    \"optimizer\": \"adam\",\n",
    "    \"epochs\": 5,\n",
    "    \"batch_size\": 32\n",
    "    # ^^^^^^^^^^^^^^^^^^^^^^^^^^^^^^^^^^\n",
    "}\n",
    "\n",
    "model.compile(\n",
    "    optimizer=tf.keras.optimizers.Adam(learning_rate=.001),\n",
    "    loss=tf.keras.losses.SparseCategoricalCrossentropy(from_logits=True),\n",
    "    metrics=[tf.keras.metrics.SparseCategoricalAccuracy()],\n",
    ")\n",
    "\n",
    "history = model.fit(\n",
    "    ds_cifar10_train,\n",
    "    epochs=10,\n",
    "    validation_data=ds_cifar10_test,\n",
    "    # callbacks=[WandbMetricsLogger()]\n",
    ")\n",
    "print(model.summary())"
   ]
  }
 ],
 "metadata": {
  "kernelspec": {
   "display_name": "Python 3",
   "language": "python",
   "name": "python3"
  },
  "language_info": {
   "codemirror_mode": {
    "name": "ipython",
    "version": 3
   },
   "file_extension": ".py",
   "mimetype": "text/x-python",
   "name": "python",
   "nbconvert_exporter": "python",
   "pygments_lexer": "ipython3",
   "version": "3.8.5"
  },
  "orig_nbformat": 4,
  "vscode": {
   "interpreter": {
    "hash": "082e9a3bcad0a290d0001e938aa60b99250c6c2ef33a923c00b70f9826caf4b7"
   }
  }
 },
 "nbformat": 4,
 "nbformat_minor": 2
}
