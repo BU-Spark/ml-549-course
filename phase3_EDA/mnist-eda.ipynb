{
 "cells": [
  {
   "cell_type": "markdown",
   "metadata": {},
   "source": [
    "# MNIST EDA"
   ]
  },
  {
   "cell_type": "markdown",
   "metadata": {},
   "source": [
    "<a href=\"https://colab.research.google.com/github/BU-Spark/ml-549-course/blob/main/phase3_EDA/mnist-eda.ipynb\" target=\"_parent\"><img src=\"https://colab.research.google.com/assets/colab-badge.svg\" alt=\"Open In Colab\"/></a>\n",
    "\n",
    "Here we'll do some basic data exploration on the MNIST data set. MNIST is fairly structured. Other image datasets\n",
    "may not be all the same size, in which case it is good to show some statistics on the image sizes."
   ]
  },
  {
   "cell_type": "code",
   "execution_count": null,
   "metadata": {},
   "outputs": [],
   "source": [
    "import numpy as np\n",
    "import matplotlib.pyplot as plt\n",
    "from tensorflow.keras.datasets import mnist"
   ]
  },
  {
   "cell_type": "code",
   "execution_count": null,
   "metadata": {},
   "outputs": [],
   "source": [
    "# Load the CIFAR-10 dataset\n",
    "(x_train, y_train), (x_test, y_test) = mnist.load_data()"
   ]
  },
  {
   "cell_type": "code",
   "execution_count": null,
   "metadata": {},
   "outputs": [],
   "source": [
    "print('Training data shape : ', x_train.shape, y_train.shape)\n",
    "print('Testing data shape : ', x_test.shape, y_test.shape)"
   ]
  },
  {
   "cell_type": "code",
   "execution_count": null,
   "metadata": {},
   "outputs": [],
   "source": [
    "\n",
    "# Visualize some images from the dataset\n",
    "def visualize_images(images, labels, classes, num_images=10):\n",
    "\n",
    "    # Shuffle the indices every time this function is called\n",
    "    # create a permutation of indices [0, 1, 2, ..., len(images)-1]\n",
    "    indices = np.random.permutation(len(images))\n",
    "    images = images[indices]\n",
    "    labels = labels[indices]\n",
    "\n",
    "    fig, axes = plt.subplots(1, num_images, figsize=(15, 3))\n",
    "    for i, ax in enumerate(axes):\n",
    "        ax.imshow(images[i], cmap='gray')\n",
    "        ax.set_title(classes[labels[i]])\n",
    "        ax.axis('off')\n",
    "    plt.show()\n",
    "\n",
    "# Class names in MNIST dataset\n",
    "classes = ['0', '1', '2', '3', '4', '5', '6', '7', '8', '9']\n",
    "\n",
    "visualize_images(x_train, y_train, classes)\n"
   ]
  },
  {
   "cell_type": "code",
   "execution_count": null,
   "metadata": {},
   "outputs": [],
   "source": [
    "\n",
    "# Display the distribution of classes\n",
    "def plot_class_distribution(labels, classes):\n",
    "    unique, counts = np.unique(labels, return_counts=True)\n",
    "    plt.bar(classes, counts)\n",
    "    plt.xlabel('Classes')\n",
    "    plt.ylabel('Number of examples')\n",
    "    plt.title('Distribution of classes in CIFAR-10')\n",
    "    plt.xticks(rotation=45)\n",
    "    plt.show()\n",
    "\n",
    "plot_class_distribution(y_train.flatten(), classes)\n"
   ]
  },
  {
   "cell_type": "code",
   "execution_count": null,
   "metadata": {},
   "outputs": [],
   "source": [
    "\n",
    "# Basic statistics about the images\n",
    "def image_statistics(images):\n",
    "    print(f\"Mean: {np.mean(images)}\")\n",
    "    print(f\"Standard Deviation: {np.std(images)}\")\n",
    "    print(f\"Min Pixel Value: {np.min(images)}\")\n",
    "    print(f\"Max Pixel Value: {np.max(images)}\")\n",
    "\n",
    "image_statistics(x_train)\n"
   ]
  }
 ],
 "metadata": {
  "kernelspec": {
   "display_name": ".venv",
   "language": "python",
   "name": "python3"
  },
  "language_info": {
   "codemirror_mode": {
    "name": "ipython",
    "version": 3
   },
   "file_extension": ".py",
   "mimetype": "text/x-python",
   "name": "python",
   "nbconvert_exporter": "python",
   "pygments_lexer": "ipython3",
   "version": "3.11.5"
  }
 },
 "nbformat": 4,
 "nbformat_minor": 2
}
