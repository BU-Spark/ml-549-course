{
 "cells": [
  {
   "cell_type": "markdown",
   "metadata": {
    "id": "ddjpnB8_3XGb"
   },
   "source": [
    "# Getting Started With Exploratory Data Analysis (EDA)"
   ]
  },
  {
   "cell_type": "markdown",
   "metadata": {},
   "source": [
    "<a href=\"https://colab.research.google.com/github/BU-Spark/ml-549-course/blob/main/phase3_EDA/eda.ipynb\" target=\"_parent\"><img src=\"https://colab.research.google.com/assets/colab-badge.svg\" alt=\"Open In Colab\"/></a>\n",
    "\n",
    "This notebook serves as a starter guide or template for exploratory data analysis. It will go over the topics mentioned in the EDA guide. "
   ]
  },
  {
   "cell_type": "code",
   "execution_count": 1,
   "metadata": {
    "executionInfo": {
     "elapsed": 684,
     "status": "ok",
     "timestamp": 1660749047476,
     "user": {
      "displayName": "Michelle Voong",
      "userId": "06511363073265027000"
     },
     "user_tz": 240
    },
    "id": "Sz9Ta_KR3XGd"
   },
   "outputs": [],
   "source": [
    "# let's start off by importing the libraries we will need for eda\n",
    "import pandas as pd\n",
    "import numpy as np \n",
    "\n",
    "# for visualizations : \n",
    "import seaborn as sns\n",
    "import matplotlib.pyplot as plt"
   ]
  },
  {
   "cell_type": "markdown",
   "metadata": {
    "id": "Fp7TlhYn3XGe"
   },
   "source": [
    "The dataset we will be using in this tutorial is from Analyze Boston. Analyze Boston is the City of Boston's data hub and is a great resource for data sets regarding the city. \n",
    "\n",
    "We will be working with the 2022 311 Service Requests dataset. The dataset consists of service requests from all channels of engagement. 311 allows you to report non-emergency issues or request non-emergency City services. \n",
    "\n",
    "Link: https://data.boston.gov/dataset/311-service-requests "
   ]
  },
  {
   "cell_type": "code",
   "execution_count": 9,
   "metadata": {},
   "outputs": [
    {
     "name": "stdout",
     "output_type": "stream",
     "text": [
      "The file your2.csv already exists.\n"
     ]
    }
   ],
   "source": [
    "import os\n",
    "import requests\n",
    "from tqdm import tqdm\n",
    "\n",
    "def download_csv(url, filename):\n",
    "    # Check if the file already exists\n",
    "    if os.path.exists(filename):\n",
    "        print(f\"The file {filename} already exists.\")\n",
    "        return\n",
    "\n",
    "    response = requests.get(url, stream=True)\n",
    "\n",
    "    total_size_in_bytes= int(response.headers.get('content-length', 0))\n",
    "    block_size = 1024 #1 Kibibyte\n",
    "    progress_bar = tqdm(total=total_size_in_bytes, unit='iB', unit_scale=True)\n",
    "\n",
    "    with open(filename, 'wb') as file:\n",
    "        for data in response.iter_content(block_size):\n",
    "            progress_bar.update(len(data))\n",
    "            file.write(data)\n",
    "    progress_bar.close()\n",
    "    if total_size_in_bytes != 0 and progress_bar.n != total_size_in_bytes:\n",
    "        print(\"ERROR, something went wrong\")\n",
    "\n",
    "# Use the function\n",
    "url = \"https://data.boston.gov/datastore/dump/81a7b022-f8fc-4da5-80e4-b160058ca207?bom=True\"\n",
    "filename = \"311-requests.csv\"\n",
    "download_csv(url, filename)"
   ]
  },
  {
   "cell_type": "code",
   "execution_count": 10,
   "metadata": {
    "executionInfo": {
     "elapsed": 3235,
     "status": "ok",
     "timestamp": 1660749130571,
     "user": {
      "displayName": "Michelle Voong",
      "userId": "06511363073265027000"
     },
     "user_tz": 240
    },
    "id": "NHmBeJL-3XGe"
   },
   "outputs": [],
   "source": [
    "# read in dataset\n",
    "df = pd.read_csv('311-requests.csv') "
   ]
  },
  {
   "cell_type": "code",
   "execution_count": 11,
   "metadata": {
    "colab": {
     "base_uri": "https://localhost:8080/",
     "height": 473
    },
    "executionInfo": {
     "elapsed": 185,
     "status": "ok",
     "timestamp": 1660749131739,
     "user": {
      "displayName": "Michelle Voong",
      "userId": "06511363073265027000"
     },
     "user_tz": 240
    },
    "id": "RuB_ntWw3XGe",
    "outputId": "a0b882db-254c-4b59-e463-fc82d73a859d"
   },
   "outputs": [
    {
     "data": {
      "text/html": [
       "<div>\n",
       "<style scoped>\n",
       "    .dataframe tbody tr th:only-of-type {\n",
       "        vertical-align: middle;\n",
       "    }\n",
       "\n",
       "    .dataframe tbody tr th {\n",
       "        vertical-align: top;\n",
       "    }\n",
       "\n",
       "    .dataframe thead th {\n",
       "        text-align: right;\n",
       "    }\n",
       "</style>\n",
       "<table border=\"1\" class=\"dataframe\">\n",
       "  <thead>\n",
       "    <tr style=\"text-align: right;\">\n",
       "      <th></th>\n",
       "      <th>case_enquiry_id</th>\n",
       "      <th>open_dt</th>\n",
       "      <th>target_dt</th>\n",
       "      <th>closed_dt</th>\n",
       "      <th>ontime</th>\n",
       "      <th>case_status</th>\n",
       "      <th>closure_reason</th>\n",
       "      <th>case_title</th>\n",
       "      <th>subject</th>\n",
       "      <th>reason</th>\n",
       "      <th>...</th>\n",
       "      <th>police_district</th>\n",
       "      <th>neighborhood</th>\n",
       "      <th>neighborhood_services_district</th>\n",
       "      <th>ward</th>\n",
       "      <th>precinct</th>\n",
       "      <th>location_street_name</th>\n",
       "      <th>location_zipcode</th>\n",
       "      <th>latitude</th>\n",
       "      <th>longitude</th>\n",
       "      <th>source</th>\n",
       "    </tr>\n",
       "  </thead>\n",
       "  <tbody>\n",
       "    <tr>\n",
       "      <th>0</th>\n",
       "      <td>101004116078</td>\n",
       "      <td>2022-01-04 15:34:00</td>\n",
       "      <td>NaN</td>\n",
       "      <td>NaN</td>\n",
       "      <td>ONTIME</td>\n",
       "      <td>Open</td>\n",
       "      <td></td>\n",
       "      <td>Abandoned Bicycle</td>\n",
       "      <td>Mayor's 24 Hour Hotline</td>\n",
       "      <td>Abandoned Bicycle</td>\n",
       "      <td>...</td>\n",
       "      <td>A7</td>\n",
       "      <td>East Boston</td>\n",
       "      <td>1</td>\n",
       "      <td>Ward 1</td>\n",
       "      <td>0109</td>\n",
       "      <td>163 Falcon St</td>\n",
       "      <td>2128.0</td>\n",
       "      <td>42.3818</td>\n",
       "      <td>-71.0322</td>\n",
       "      <td>Citizens Connect App</td>\n",
       "    </tr>\n",
       "    <tr>\n",
       "      <th>1</th>\n",
       "      <td>101004113538</td>\n",
       "      <td>2022-01-01 13:40:13</td>\n",
       "      <td>2022-01-04 08:30:00</td>\n",
       "      <td>2022-01-01 17:22:15</td>\n",
       "      <td>ONTIME</td>\n",
       "      <td>Closed</td>\n",
       "      <td>Case Closed. Closed date : Sat Jan 01 17:22:15...</td>\n",
       "      <td>CE Collection</td>\n",
       "      <td>Public Works Department</td>\n",
       "      <td>Street Cleaning</td>\n",
       "      <td>...</td>\n",
       "      <td>D4</td>\n",
       "      <td>South End</td>\n",
       "      <td>6</td>\n",
       "      <td>Ward 9</td>\n",
       "      <td>0902</td>\n",
       "      <td>520 Shawmut Ave</td>\n",
       "      <td>2118.0</td>\n",
       "      <td>42.3376</td>\n",
       "      <td>-71.0774</td>\n",
       "      <td>City Worker App</td>\n",
       "    </tr>\n",
       "    <tr>\n",
       "      <th>2</th>\n",
       "      <td>101004120888</td>\n",
       "      <td>2022-01-09 12:40:43</td>\n",
       "      <td>2022-01-11 08:30:00</td>\n",
       "      <td>2022-01-10 01:24:50</td>\n",
       "      <td>ONTIME</td>\n",
       "      <td>Closed</td>\n",
       "      <td>Case Closed. Closed date : Mon Jan 10 01:24:50...</td>\n",
       "      <td>CE Collection</td>\n",
       "      <td>Public Works Department</td>\n",
       "      <td>Street Cleaning</td>\n",
       "      <td>...</td>\n",
       "      <td>D4</td>\n",
       "      <td>South End</td>\n",
       "      <td>4</td>\n",
       "      <td>03</td>\n",
       "      <td>0307</td>\n",
       "      <td>44 Bradford St</td>\n",
       "      <td>2118.0</td>\n",
       "      <td>42.3431</td>\n",
       "      <td>-71.0683</td>\n",
       "      <td>City Worker App</td>\n",
       "    </tr>\n",
       "    <tr>\n",
       "      <th>3</th>\n",
       "      <td>101004120982</td>\n",
       "      <td>2022-01-09 13:56:00</td>\n",
       "      <td>NaN</td>\n",
       "      <td>NaN</td>\n",
       "      <td>ONTIME</td>\n",
       "      <td>Open</td>\n",
       "      <td></td>\n",
       "      <td>Animal Generic Request</td>\n",
       "      <td>Animal Control</td>\n",
       "      <td>Animal Issues</td>\n",
       "      <td>...</td>\n",
       "      <td>A7</td>\n",
       "      <td>East Boston</td>\n",
       "      <td>1</td>\n",
       "      <td>Ward 1</td>\n",
       "      <td>0110</td>\n",
       "      <td>433 Chelsea St</td>\n",
       "      <td>2128.0</td>\n",
       "      <td>42.3810</td>\n",
       "      <td>-71.0256</td>\n",
       "      <td>Constituent Call</td>\n",
       "    </tr>\n",
       "    <tr>\n",
       "      <th>4</th>\n",
       "      <td>101004127209</td>\n",
       "      <td>2022-01-15 20:42:00</td>\n",
       "      <td>2022-01-20 08:30:00</td>\n",
       "      <td>2022-01-16 08:18:09</td>\n",
       "      <td>ONTIME</td>\n",
       "      <td>Closed</td>\n",
       "      <td>Case Closed Case Resolved</td>\n",
       "      <td>Building Inspection Request</td>\n",
       "      <td>Inspectional Services</td>\n",
       "      <td>Building</td>\n",
       "      <td>...</td>\n",
       "      <td>B2</td>\n",
       "      <td>Roxbury</td>\n",
       "      <td>13</td>\n",
       "      <td>Ward 8</td>\n",
       "      <td>0806</td>\n",
       "      <td>71 Proctor St</td>\n",
       "      <td>2119.0</td>\n",
       "      <td>42.3266</td>\n",
       "      <td>-71.0704</td>\n",
       "      <td>Constituent Call</td>\n",
       "    </tr>\n",
       "  </tbody>\n",
       "</table>\n",
       "<p>5 rows × 29 columns</p>\n",
       "</div>"
      ],
      "text/plain": [
       "   case_enquiry_id              open_dt            target_dt  \\\n",
       "0     101004116078  2022-01-04 15:34:00                  NaN   \n",
       "1     101004113538  2022-01-01 13:40:13  2022-01-04 08:30:00   \n",
       "2     101004120888  2022-01-09 12:40:43  2022-01-11 08:30:00   \n",
       "3     101004120982  2022-01-09 13:56:00                  NaN   \n",
       "4     101004127209  2022-01-15 20:42:00  2022-01-20 08:30:00   \n",
       "\n",
       "             closed_dt  ontime case_status  \\\n",
       "0                  NaN  ONTIME        Open   \n",
       "1  2022-01-01 17:22:15  ONTIME      Closed   \n",
       "2  2022-01-10 01:24:50  ONTIME      Closed   \n",
       "3                  NaN  ONTIME        Open   \n",
       "4  2022-01-16 08:18:09  ONTIME      Closed   \n",
       "\n",
       "                                      closure_reason  \\\n",
       "0                                                      \n",
       "1  Case Closed. Closed date : Sat Jan 01 17:22:15...   \n",
       "2  Case Closed. Closed date : Mon Jan 10 01:24:50...   \n",
       "3                                                      \n",
       "4                      Case Closed Case Resolved       \n",
       "\n",
       "                    case_title                  subject             reason  \\\n",
       "0            Abandoned Bicycle  Mayor's 24 Hour Hotline  Abandoned Bicycle   \n",
       "1                CE Collection  Public Works Department    Street Cleaning   \n",
       "2                CE Collection  Public Works Department    Street Cleaning   \n",
       "3       Animal Generic Request           Animal Control      Animal Issues   \n",
       "4  Building Inspection Request    Inspectional Services           Building   \n",
       "\n",
       "   ... police_district neighborhood neighborhood_services_district    ward  \\\n",
       "0  ...              A7  East Boston                              1  Ward 1   \n",
       "1  ...              D4    South End                              6  Ward 9   \n",
       "2  ...              D4    South End                              4      03   \n",
       "3  ...              A7  East Boston                              1  Ward 1   \n",
       "4  ...              B2      Roxbury                             13  Ward 8   \n",
       "\n",
       "   precinct location_street_name location_zipcode latitude longitude  \\\n",
       "0      0109        163 Falcon St           2128.0  42.3818  -71.0322   \n",
       "1      0902      520 Shawmut Ave           2118.0  42.3376  -71.0774   \n",
       "2      0307       44 Bradford St           2118.0  42.3431  -71.0683   \n",
       "3      0110       433 Chelsea St           2128.0  42.3810  -71.0256   \n",
       "4      0806        71 Proctor St           2119.0  42.3266  -71.0704   \n",
       "\n",
       "                 source  \n",
       "0  Citizens Connect App  \n",
       "1       City Worker App  \n",
       "2       City Worker App  \n",
       "3      Constituent Call  \n",
       "4      Constituent Call  \n",
       "\n",
       "[5 rows x 29 columns]"
      ]
     },
     "execution_count": 11,
     "metadata": {},
     "output_type": "execute_result"
    }
   ],
   "source": [
    "# let's look at the first five rows of the dataset\n",
    "df.head()"
   ]
  },
  {
   "cell_type": "markdown",
   "metadata": {
    "id": "V9awyGqH3XGf"
   },
   "source": [
    "How many observations/rows are there? <br>\n",
    "\n",
    "How many variables/columns are there? <br>\n",
    "\n",
    "What kinds of variables are there? Qualitative? Quantitative? Both? <br>"
   ]
  },
  {
   "cell_type": "code",
   "execution_count": 12,
   "metadata": {
    "colab": {
     "base_uri": "https://localhost:8080/"
    },
    "executionInfo": {
     "elapsed": 146,
     "status": "ok",
     "timestamp": 1660749139509,
     "user": {
      "displayName": "Michelle Voong",
      "userId": "06511363073265027000"
     },
     "user_tz": 240
    },
    "id": "7_i0S7QS3XGg",
    "outputId": "c8239e1d-45a7-4992-e9f8-9285d1f371c1"
   },
   "outputs": [
    {
     "data": {
      "text/plain": [
       "146373"
      ]
     },
     "execution_count": 12,
     "metadata": {},
     "output_type": "execute_result"
    }
   ],
   "source": [
    "# number of observations \n",
    "df.shape[0]"
   ]
  },
  {
   "cell_type": "code",
   "execution_count": 13,
   "metadata": {
    "colab": {
     "base_uri": "https://localhost:8080/"
    },
    "executionInfo": {
     "elapsed": 410,
     "status": "ok",
     "timestamp": 1660749141906,
     "user": {
      "displayName": "Michelle Voong",
      "userId": "06511363073265027000"
     },
     "user_tz": 240
    },
    "id": "FXPERBa33XGg",
    "outputId": "7919a93f-397b-434c-ae3d-6acd9e82f811"
   },
   "outputs": [
    {
     "name": "stdout",
     "output_type": "stream",
     "text": [
      "<class 'pandas.core.frame.DataFrame'>\n",
      "RangeIndex: 146373 entries, 0 to 146372\n",
      "Data columns (total 29 columns):\n",
      " #   Column                          Non-Null Count   Dtype  \n",
      "---  ------                          --------------   -----  \n",
      " 0   case_enquiry_id                 146373 non-null  int64  \n",
      " 1   open_dt                         146373 non-null  object \n",
      " 2   target_dt                       129475 non-null  object \n",
      " 3   closed_dt                       125848 non-null  object \n",
      " 4   ontime                          146373 non-null  object \n",
      " 5   case_status                     146373 non-null  object \n",
      " 6   closure_reason                  146373 non-null  object \n",
      " 7   case_title                      146371 non-null  object \n",
      " 8   subject                         146373 non-null  object \n",
      " 9   reason                          146373 non-null  object \n",
      " 10  type                            146373 non-null  object \n",
      " 11  queue                           146373 non-null  object \n",
      " 12  department                      146373 non-null  object \n",
      " 13  submittedphoto                  55740 non-null   object \n",
      " 14  closedphoto                     0 non-null       float64\n",
      " 15  location                        146373 non-null  object \n",
      " 16  fire_district                   146149 non-null  object \n",
      " 17  pwd_district                    146306 non-null  object \n",
      " 18  city_council_district           146358 non-null  object \n",
      " 19  police_district                 146306 non-null  object \n",
      " 20  neighborhood                    146210 non-null  object \n",
      " 21  neighborhood_services_district  146358 non-null  object \n",
      " 22  ward                            146373 non-null  object \n",
      " 23  precinct                        146270 non-null  object \n",
      " 24  location_street_name            145030 non-null  object \n",
      " 25  location_zipcode                110519 non-null  float64\n",
      " 26  latitude                        146373 non-null  float64\n",
      " 27  longitude                       146373 non-null  float64\n",
      " 28  source                          146373 non-null  object \n",
      "dtypes: float64(4), int64(1), object(24)\n",
      "memory usage: 32.4+ MB\n"
     ]
    }
   ],
   "source": [
    "# to see column name, count, and dtype of each column \n",
    "df.info()"
   ]
  },
  {
   "cell_type": "markdown",
   "metadata": {
    "id": "L4hHLcT_3XGg"
   },
   "source": [
    "There are 146373 rows (observations). <br>\n",
    "\n",
    "There are 29 columns (variables). <br> \n",
    "\n",
    "There are both categorical and numerical variables. At quick glance there seems to be more categorical variables than numerical variables. \n",
    "\n",
    "Categorical Variables:\n",
    "```case_status```, ```neighborhood```, ```source```, etc. \n",
    "\n",
    "Numerical Variables: \n",
    "... maybe not?\n",
    "\n",
    "The ```case_enquiry_id``` is a unique identifier for each row, ```closedphoto``` has 0 non-null values so it might be worth it to drop this column since there is no additional information we can gather, columns such as ```location_zipcode```, ```latitude```, ```longitude``` not exactly numeric varaibles, since they are numbers that represent different codes. "
   ]
  },
  {
   "cell_type": "markdown",
   "metadata": {
    "id": "kx8VeHIz3XGh"
   },
   "source": [
    "### Cleaning \n",
    "\n",
    "Let's convert the three time variables (```open_dt```, ```target_dt```, and ```closed_dt```) from objects to pandas datetime objects.\n",
    "Let's focus on service requests for a set period of time in 2022. \n",
    "We will start by filtering for service requests that were opened from January 2022 to March 2022. "
   ]
  },
  {
   "cell_type": "code",
   "execution_count": 14,
   "metadata": {
    "executionInfo": {
     "elapsed": 397,
     "status": "ok",
     "timestamp": 1660749154304,
     "user": {
      "displayName": "Michelle Voong",
      "userId": "06511363073265027000"
     },
     "user_tz": 240
    },
    "id": "192xeVVj3XGi"
   },
   "outputs": [],
   "source": [
    "# changing the three columns with dates and times to pandas datetime object \n",
    "df['open_dt'] = pd.to_datetime(df['open_dt'])\n",
    "df['target_dt'] = pd.to_datetime(df['target_dt'])\n",
    "df['closed_dt'] = pd.to_datetime(df['closed_dt'])\n",
    "\n",
    "# output is long, but run the line below to check the type of the three columns \n",
    "#df.dtypes"
   ]
  },
  {
   "cell_type": "code",
   "execution_count": 15,
   "metadata": {
    "colab": {
     "base_uri": "https://localhost:8080/",
     "height": 473
    },
    "executionInfo": {
     "elapsed": 466,
     "status": "ok",
     "timestamp": 1660749168157,
     "user": {
      "displayName": "Michelle Voong",
      "userId": "06511363073265027000"
     },
     "user_tz": 240
    },
    "id": "by1Bndru3XGi",
    "outputId": "136b7f95-18a7-4cf6-e7e5-fe23b29fd5d2"
   },
   "outputs": [
    {
     "data": {
      "text/html": [
       "<div>\n",
       "<style scoped>\n",
       "    .dataframe tbody tr th:only-of-type {\n",
       "        vertical-align: middle;\n",
       "    }\n",
       "\n",
       "    .dataframe tbody tr th {\n",
       "        vertical-align: top;\n",
       "    }\n",
       "\n",
       "    .dataframe thead th {\n",
       "        text-align: right;\n",
       "    }\n",
       "</style>\n",
       "<table border=\"1\" class=\"dataframe\">\n",
       "  <thead>\n",
       "    <tr style=\"text-align: right;\">\n",
       "      <th></th>\n",
       "      <th>case_enquiry_id</th>\n",
       "      <th>open_dt</th>\n",
       "      <th>target_dt</th>\n",
       "      <th>closed_dt</th>\n",
       "      <th>ontime</th>\n",
       "      <th>case_status</th>\n",
       "      <th>closure_reason</th>\n",
       "      <th>case_title</th>\n",
       "      <th>subject</th>\n",
       "      <th>reason</th>\n",
       "      <th>...</th>\n",
       "      <th>police_district</th>\n",
       "      <th>neighborhood</th>\n",
       "      <th>neighborhood_services_district</th>\n",
       "      <th>ward</th>\n",
       "      <th>precinct</th>\n",
       "      <th>location_street_name</th>\n",
       "      <th>location_zipcode</th>\n",
       "      <th>latitude</th>\n",
       "      <th>longitude</th>\n",
       "      <th>source</th>\n",
       "    </tr>\n",
       "  </thead>\n",
       "  <tbody>\n",
       "    <tr>\n",
       "      <th>0</th>\n",
       "      <td>101004116078</td>\n",
       "      <td>2022-01-04 15:34:00</td>\n",
       "      <td>NaT</td>\n",
       "      <td>NaT</td>\n",
       "      <td>ONTIME</td>\n",
       "      <td>Open</td>\n",
       "      <td></td>\n",
       "      <td>Abandoned Bicycle</td>\n",
       "      <td>Mayor's 24 Hour Hotline</td>\n",
       "      <td>Abandoned Bicycle</td>\n",
       "      <td>...</td>\n",
       "      <td>A7</td>\n",
       "      <td>East Boston</td>\n",
       "      <td>1</td>\n",
       "      <td>Ward 1</td>\n",
       "      <td>0109</td>\n",
       "      <td>163 Falcon St</td>\n",
       "      <td>2128.0</td>\n",
       "      <td>42.3818</td>\n",
       "      <td>-71.0322</td>\n",
       "      <td>Citizens Connect App</td>\n",
       "    </tr>\n",
       "    <tr>\n",
       "      <th>1</th>\n",
       "      <td>101004113538</td>\n",
       "      <td>2022-01-01 13:40:13</td>\n",
       "      <td>2022-01-04 08:30:00</td>\n",
       "      <td>2022-01-01 17:22:15</td>\n",
       "      <td>ONTIME</td>\n",
       "      <td>Closed</td>\n",
       "      <td>Case Closed. Closed date : Sat Jan 01 17:22:15...</td>\n",
       "      <td>CE Collection</td>\n",
       "      <td>Public Works Department</td>\n",
       "      <td>Street Cleaning</td>\n",
       "      <td>...</td>\n",
       "      <td>D4</td>\n",
       "      <td>South End</td>\n",
       "      <td>6</td>\n",
       "      <td>Ward 9</td>\n",
       "      <td>0902</td>\n",
       "      <td>520 Shawmut Ave</td>\n",
       "      <td>2118.0</td>\n",
       "      <td>42.3376</td>\n",
       "      <td>-71.0774</td>\n",
       "      <td>City Worker App</td>\n",
       "    </tr>\n",
       "    <tr>\n",
       "      <th>2</th>\n",
       "      <td>101004120888</td>\n",
       "      <td>2022-01-09 12:40:43</td>\n",
       "      <td>2022-01-11 08:30:00</td>\n",
       "      <td>2022-01-10 01:24:50</td>\n",
       "      <td>ONTIME</td>\n",
       "      <td>Closed</td>\n",
       "      <td>Case Closed. Closed date : Mon Jan 10 01:24:50...</td>\n",
       "      <td>CE Collection</td>\n",
       "      <td>Public Works Department</td>\n",
       "      <td>Street Cleaning</td>\n",
       "      <td>...</td>\n",
       "      <td>D4</td>\n",
       "      <td>South End</td>\n",
       "      <td>4</td>\n",
       "      <td>03</td>\n",
       "      <td>0307</td>\n",
       "      <td>44 Bradford St</td>\n",
       "      <td>2118.0</td>\n",
       "      <td>42.3431</td>\n",
       "      <td>-71.0683</td>\n",
       "      <td>City Worker App</td>\n",
       "    </tr>\n",
       "    <tr>\n",
       "      <th>3</th>\n",
       "      <td>101004120982</td>\n",
       "      <td>2022-01-09 13:56:00</td>\n",
       "      <td>NaT</td>\n",
       "      <td>NaT</td>\n",
       "      <td>ONTIME</td>\n",
       "      <td>Open</td>\n",
       "      <td></td>\n",
       "      <td>Animal Generic Request</td>\n",
       "      <td>Animal Control</td>\n",
       "      <td>Animal Issues</td>\n",
       "      <td>...</td>\n",
       "      <td>A7</td>\n",
       "      <td>East Boston</td>\n",
       "      <td>1</td>\n",
       "      <td>Ward 1</td>\n",
       "      <td>0110</td>\n",
       "      <td>433 Chelsea St</td>\n",
       "      <td>2128.0</td>\n",
       "      <td>42.3810</td>\n",
       "      <td>-71.0256</td>\n",
       "      <td>Constituent Call</td>\n",
       "    </tr>\n",
       "    <tr>\n",
       "      <th>4</th>\n",
       "      <td>101004127209</td>\n",
       "      <td>2022-01-15 20:42:00</td>\n",
       "      <td>2022-01-20 08:30:00</td>\n",
       "      <td>2022-01-16 08:18:09</td>\n",
       "      <td>ONTIME</td>\n",
       "      <td>Closed</td>\n",
       "      <td>Case Closed Case Resolved</td>\n",
       "      <td>Building Inspection Request</td>\n",
       "      <td>Inspectional Services</td>\n",
       "      <td>Building</td>\n",
       "      <td>...</td>\n",
       "      <td>B2</td>\n",
       "      <td>Roxbury</td>\n",
       "      <td>13</td>\n",
       "      <td>Ward 8</td>\n",
       "      <td>0806</td>\n",
       "      <td>71 Proctor St</td>\n",
       "      <td>2119.0</td>\n",
       "      <td>42.3266</td>\n",
       "      <td>-71.0704</td>\n",
       "      <td>Constituent Call</td>\n",
       "    </tr>\n",
       "  </tbody>\n",
       "</table>\n",
       "<p>5 rows × 29 columns</p>\n",
       "</div>"
      ],
      "text/plain": [
       "   case_enquiry_id             open_dt           target_dt  \\\n",
       "0     101004116078 2022-01-04 15:34:00                 NaT   \n",
       "1     101004113538 2022-01-01 13:40:13 2022-01-04 08:30:00   \n",
       "2     101004120888 2022-01-09 12:40:43 2022-01-11 08:30:00   \n",
       "3     101004120982 2022-01-09 13:56:00                 NaT   \n",
       "4     101004127209 2022-01-15 20:42:00 2022-01-20 08:30:00   \n",
       "\n",
       "            closed_dt  ontime case_status  \\\n",
       "0                 NaT  ONTIME        Open   \n",
       "1 2022-01-01 17:22:15  ONTIME      Closed   \n",
       "2 2022-01-10 01:24:50  ONTIME      Closed   \n",
       "3                 NaT  ONTIME        Open   \n",
       "4 2022-01-16 08:18:09  ONTIME      Closed   \n",
       "\n",
       "                                      closure_reason  \\\n",
       "0                                                      \n",
       "1  Case Closed. Closed date : Sat Jan 01 17:22:15...   \n",
       "2  Case Closed. Closed date : Mon Jan 10 01:24:50...   \n",
       "3                                                      \n",
       "4                      Case Closed Case Resolved       \n",
       "\n",
       "                    case_title                  subject             reason  \\\n",
       "0            Abandoned Bicycle  Mayor's 24 Hour Hotline  Abandoned Bicycle   \n",
       "1                CE Collection  Public Works Department    Street Cleaning   \n",
       "2                CE Collection  Public Works Department    Street Cleaning   \n",
       "3       Animal Generic Request           Animal Control      Animal Issues   \n",
       "4  Building Inspection Request    Inspectional Services           Building   \n",
       "\n",
       "   ... police_district neighborhood neighborhood_services_district    ward  \\\n",
       "0  ...              A7  East Boston                              1  Ward 1   \n",
       "1  ...              D4    South End                              6  Ward 9   \n",
       "2  ...              D4    South End                              4      03   \n",
       "3  ...              A7  East Boston                              1  Ward 1   \n",
       "4  ...              B2      Roxbury                             13  Ward 8   \n",
       "\n",
       "   precinct location_street_name location_zipcode latitude longitude  \\\n",
       "0      0109        163 Falcon St           2128.0  42.3818  -71.0322   \n",
       "1      0902      520 Shawmut Ave           2118.0  42.3376  -71.0774   \n",
       "2      0307       44 Bradford St           2118.0  42.3431  -71.0683   \n",
       "3      0110       433 Chelsea St           2128.0  42.3810  -71.0256   \n",
       "4      0806        71 Proctor St           2119.0  42.3266  -71.0704   \n",
       "\n",
       "                 source  \n",
       "0  Citizens Connect App  \n",
       "1       City Worker App  \n",
       "2       City Worker App  \n",
       "3      Constituent Call  \n",
       "4      Constituent Call  \n",
       "\n",
       "[5 rows x 29 columns]"
      ]
     },
     "execution_count": 15,
     "metadata": {},
     "output_type": "execute_result"
    }
   ],
   "source": [
    "# filter data for 311 requests from january 2022 to march 2022 \n",
    "df_filtered = df.loc[(df['open_dt'] >= '2022-01-01') &\n",
    "                  (df['open_dt'] < '2022-03-31')]\n",
    "df_filtered.head()"
   ]
  },
  {
   "cell_type": "markdown",
   "metadata": {
    "id": "bN8js-KV3XGi"
   },
   "source": [
    "From our previous observation, since ```closedphoto``` column does not contain any non-null values, let's drop it. "
   ]
  },
  {
   "cell_type": "code",
   "execution_count": 16,
   "metadata": {
    "executionInfo": {
     "elapsed": 169,
     "status": "ok",
     "timestamp": 1660749175696,
     "user": {
      "displayName": "Michelle Voong",
      "userId": "06511363073265027000"
     },
     "user_tz": 240
    },
    "id": "1WbGfbB-3XGj"
   },
   "outputs": [],
   "source": [
    "# drop closedphoto column\n",
    "df_filtered = df_filtered.drop(columns=['closedphoto'])"
   ]
  },
  {
   "cell_type": "markdown",
   "metadata": {
    "id": "1-1Xft-j3XGj"
   },
   "source": [
    "After filtering the service requests, let's see how many observations we are left with.  "
   ]
  },
  {
   "cell_type": "code",
   "execution_count": 17,
   "metadata": {
    "colab": {
     "base_uri": "https://localhost:8080/"
    },
    "executionInfo": {
     "elapsed": 168,
     "status": "ok",
     "timestamp": 1660749180879,
     "user": {
      "displayName": "Michelle Voong",
      "userId": "06511363073265027000"
     },
     "user_tz": 240
    },
    "id": "zer9SUz53XGj",
    "outputId": "b79298af-30e4-4a51-f561-aa5f1fdf7df6"
   },
   "outputs": [
    {
     "data": {
      "text/plain": [
       "66520"
      ]
     },
     "execution_count": 17,
     "metadata": {},
     "output_type": "execute_result"
    }
   ],
   "source": [
    "# how many requests were opened from Jan 2022 to March 2022\n",
    "df_filtered.shape[0]"
   ]
  },
  {
   "cell_type": "markdown",
   "metadata": {
    "id": "Yp8drXE53XGj"
   },
   "source": [
    "From a quick preview of the dataframe, we can see that some of the requests are still open. \n",
    "Let's see how many observations are open vs. closed and then how many are ontime vs. overdue from the set of requests from January 2022 to March 2022. "
   ]
  },
  {
   "cell_type": "code",
   "execution_count": 18,
   "metadata": {
    "colab": {
     "base_uri": "https://localhost:8080/"
    },
    "executionInfo": {
     "elapsed": 154,
     "status": "ok",
     "timestamp": 1660749184353,
     "user": {
      "displayName": "Michelle Voong",
      "userId": "06511363073265027000"
     },
     "user_tz": 240
    },
    "id": "qVvAdLR33XGj",
    "outputId": "0ad96441-4ed2-47ce-c5fa-0d41370b5968"
   },
   "outputs": [
    {
     "data": {
      "text/plain": [
       "case_status\n",
       "Closed    59420\n",
       "Open       7100\n",
       "Name: count, dtype: int64"
      ]
     },
     "execution_count": 18,
     "metadata": {},
     "output_type": "execute_result"
    }
   ],
   "source": [
    "# checking how many open vs. closed cases\n",
    "df_filtered['case_status'].value_counts()"
   ]
  },
  {
   "cell_type": "code",
   "execution_count": 19,
   "metadata": {
    "colab": {
     "base_uri": "https://localhost:8080/",
     "height": 248
    },
    "executionInfo": {
     "elapsed": 418,
     "status": "ok",
     "timestamp": 1660749326726,
     "user": {
      "displayName": "Michelle Voong",
      "userId": "06511363073265027000"
     },
     "user_tz": 240
    },
    "id": "_r0bJVQKXme0",
    "outputId": "59e17c22-4fcb-487b-9161-63712109c85f"
   },
   "outputs": [
    {
     "data": {
      "image/png": "[encoded data removed]",
      "text/plain": [
       "<Figure size 640x480 with 1 Axes>"
      ]
     },
     "metadata": {},
     "output_type": "display_data"
    }
   ],
   "source": [
    "# visualize case_status in pie chart, set color palette \n",
    "colors = sns.color_palette('muted')[0:5]\n",
    "ax = df_filtered['case_status'].value_counts().plot.pie(colors=colors)\n",
    "ax.yaxis.set_visible(False)"
   ]
  },
  {
   "cell_type": "code",
   "execution_count": 20,
   "metadata": {
    "colab": {
     "base_uri": "https://localhost:8080/"
    },
    "executionInfo": {
     "elapsed": 224,
     "status": "ok",
     "timestamp": 1660749189364,
     "user": {
      "displayName": "Michelle Voong",
      "userId": "06511363073265027000"
     },
     "user_tz": 240
    },
    "id": "nQPtlHzC3XGk",
    "outputId": "3e1bcf12-7b65-49d8-e7ef-ac83f656b833"
   },
   "outputs": [
    {
     "data": {
      "text/plain": [
       "ontime\n",
       "ONTIME     55089\n",
       "OVERDUE    11431\n",
       "Name: count, dtype: int64"
      ]
     },
     "execution_count": 20,
     "metadata": {},
     "output_type": "execute_result"
    }
   ],
   "source": [
    "# checking how many ontime vs. overdue cases \n",
    "df_filtered['ontime'].value_counts()"
   ]
  },
  {
   "cell_type": "code",
   "execution_count": 21,
   "metadata": {
    "colab": {
     "base_uri": "https://localhost:8080/",
     "height": 248
    },
    "executionInfo": {
     "elapsed": 183,
     "status": "ok",
     "timestamp": 1660749624425,
     "user": {
      "displayName": "Michelle Voong",
      "userId": "06511363073265027000"
     },
     "user_tz": 240
    },
    "id": "ShFJvIZZY8pK",
    "outputId": "db9988e0-e740-47f4-ccb9-9547fbf12028"
   },
   "outputs": [
    {
     "data": {
      "image/png": "[encoded data removed]",
      "text/plain": [
       "<Figure size 640x480 with 1 Axes>"
      ]
     },
     "metadata": {},
     "output_type": "display_data"
    }
   ],
   "source": [
    "# visualize ontime in pie chart, set color palette \n",
    "colors = sns.color_palette('bright')[0:5]\n",
    "ax = df_filtered['ontime'].value_counts().plot.pie(colors=colors)\n",
    "ax.yaxis.set_visible(False)"
   ]
  },
  {
   "cell_type": "markdown",
   "metadata": {
    "id": "eRG8V6HJ3XGk"
   },
   "source": [
    "### Descriptive Statistics \n",
    "\n",
    "Pandas makes this easy! We can use ```describe()``` to get the descriptive statistics of the numerical columns. "
   ]
  },
  {
   "cell_type": "code",
   "execution_count": 22,
   "metadata": {
    "colab": {
     "base_uri": "https://localhost:8080/",
     "height": 300
    },
    "executionInfo": {
     "elapsed": 411,
     "status": "ok",
     "timestamp": 1660749657584,
     "user": {
      "displayName": "Michelle Voong",
      "userId": "06511363073265027000"
     },
     "user_tz": 240
    },
    "id": "TmoyIhcQ3XGk",
    "outputId": "9f5f96f5-63e6-49db-df1a-267feea6fd4e"
   },
   "outputs": [
    {
     "data": {
      "text/html": [
       "<div>\n",
       "<style scoped>\n",
       "    .dataframe tbody tr th:only-of-type {\n",
       "        vertical-align: middle;\n",
       "    }\n",
       "\n",
       "    .dataframe tbody tr th {\n",
       "        vertical-align: top;\n",
       "    }\n",
       "\n",
       "    .dataframe thead th {\n",
       "        text-align: right;\n",
       "    }\n",
       "</style>\n",
       "<table border=\"1\" class=\"dataframe\">\n",
       "  <thead>\n",
       "    <tr style=\"text-align: right;\">\n",
       "      <th></th>\n",
       "      <th>case_enquiry_id</th>\n",
       "      <th>open_dt</th>\n",
       "      <th>target_dt</th>\n",
       "      <th>closed_dt</th>\n",
       "      <th>location_zipcode</th>\n",
       "      <th>latitude</th>\n",
       "      <th>longitude</th>\n",
       "    </tr>\n",
       "  </thead>\n",
       "  <tbody>\n",
       "    <tr>\n",
       "      <th>count</th>\n",
       "      <td>6.652000e+04</td>\n",
       "      <td>66520</td>\n",
       "      <td>59499</td>\n",
       "      <td>59420</td>\n",
       "      <td>49807.000000</td>\n",
       "      <td>66520.000000</td>\n",
       "      <td>66520.000000</td>\n",
       "    </tr>\n",
       "    <tr>\n",
       "      <th>mean</th>\n",
       "      <td>1.010042e+11</td>\n",
       "      <td>2022-02-16 00:24:51.125015040</td>\n",
       "      <td>2022-03-08 23:02:41.569135360</td>\n",
       "      <td>2022-02-19 23:41:35.984365568</td>\n",
       "      <td>2126.916719</td>\n",
       "      <td>42.335694</td>\n",
       "      <td>-71.075337</td>\n",
       "    </tr>\n",
       "    <tr>\n",
       "      <th>min</th>\n",
       "      <td>1.010041e+11</td>\n",
       "      <td>2022-01-01 00:16:00</td>\n",
       "      <td>2022-01-02 09:10:15</td>\n",
       "      <td>2022-01-01 05:01:32</td>\n",
       "      <td>2108.000000</td>\n",
       "      <td>42.231500</td>\n",
       "      <td>-71.185400</td>\n",
       "    </tr>\n",
       "    <tr>\n",
       "      <th>25%</th>\n",
       "      <td>1.010042e+11</td>\n",
       "      <td>2022-01-29 19:33:15</td>\n",
       "      <td>2022-02-02 13:04:10.500000</td>\n",
       "      <td>2022-01-31 15:15:18.249999872</td>\n",
       "      <td>2119.000000</td>\n",
       "      <td>42.314500</td>\n",
       "      <td>-71.087600</td>\n",
       "    </tr>\n",
       "    <tr>\n",
       "      <th>50%</th>\n",
       "      <td>1.010042e+11</td>\n",
       "      <td>2022-02-14 18:52:30</td>\n",
       "      <td>2022-02-22 08:30:00</td>\n",
       "      <td>2022-02-17 05:29:19</td>\n",
       "      <td>2126.000000</td>\n",
       "      <td>42.345900</td>\n",
       "      <td>-71.062200</td>\n",
       "    </tr>\n",
       "    <tr>\n",
       "      <th>75%</th>\n",
       "      <td>1.010042e+11</td>\n",
       "      <td>2022-03-08 13:41:15</td>\n",
       "      <td>2022-03-16 15:05:26.500000</td>\n",
       "      <td>2022-03-11 12:08:20.750000128</td>\n",
       "      <td>2130.000000</td>\n",
       "      <td>42.359400</td>\n",
       "      <td>-71.058700</td>\n",
       "    </tr>\n",
       "    <tr>\n",
       "      <th>max</th>\n",
       "      <td>1.010042e+11</td>\n",
       "      <td>2022-03-30 23:41:46</td>\n",
       "      <td>2024-03-19 20:43:37</td>\n",
       "      <td>2022-07-10 09:39:55</td>\n",
       "      <td>2467.000000</td>\n",
       "      <td>42.395200</td>\n",
       "      <td>-70.994900</td>\n",
       "    </tr>\n",
       "    <tr>\n",
       "      <th>std</th>\n",
       "      <td>3.745629e+04</td>\n",
       "      <td>NaN</td>\n",
       "      <td>NaN</td>\n",
       "      <td>NaN</td>\n",
       "      <td>17.188931</td>\n",
       "      <td>0.032066</td>\n",
       "      <td>0.032259</td>\n",
       "    </tr>\n",
       "  </tbody>\n",
       "</table>\n",
       "</div>"
      ],
      "text/plain": [
       "       case_enquiry_id                        open_dt  \\\n",
       "count     6.652000e+04                          66520   \n",
       "mean      1.010042e+11  2022-02-16 00:24:51.125015040   \n",
       "min       1.010041e+11            2022-01-01 00:16:00   \n",
       "25%       1.010042e+11            2022-01-29 19:33:15   \n",
       "50%       1.010042e+11            2022-02-14 18:52:30   \n",
       "75%       1.010042e+11            2022-03-08 13:41:15   \n",
       "max       1.010042e+11            2022-03-30 23:41:46   \n",
       "std       3.745629e+04                            NaN   \n",
       "\n",
       "                           target_dt                      closed_dt  \\\n",
       "count                          59499                          59420   \n",
       "mean   2022-03-08 23:02:41.569135360  2022-02-19 23:41:35.984365568   \n",
       "min              2022-01-02 09:10:15            2022-01-01 05:01:32   \n",
       "25%       2022-02-02 13:04:10.500000  2022-01-31 15:15:18.249999872   \n",
       "50%              2022-02-22 08:30:00            2022-02-17 05:29:19   \n",
       "75%       2022-03-16 15:05:26.500000  2022-03-11 12:08:20.750000128   \n",
       "max              2024-03-19 20:43:37            2022-07-10 09:39:55   \n",
       "std                              NaN                            NaN   \n",
       "\n",
       "       location_zipcode      latitude     longitude  \n",
       "count      49807.000000  66520.000000  66520.000000  \n",
       "mean        2126.916719     42.335694    -71.075337  \n",
       "min         2108.000000     42.231500    -71.185400  \n",
       "25%         2119.000000     42.314500    -71.087600  \n",
       "50%         2126.000000     42.345900    -71.062200  \n",
       "75%         2130.000000     42.359400    -71.058700  \n",
       "max         2467.000000     42.395200    -70.994900  \n",
       "std           17.188931      0.032066      0.032259  "
      ]
     },
     "execution_count": 22,
     "metadata": {},
     "output_type": "execute_result"
    }
   ],
   "source": [
    "df_filtered.describe()"
   ]
  },
  {
   "cell_type": "markdown",
   "metadata": {
    "id": "ZD_Qbb3q3XGk"
   },
   "source": [
    "As mentioned before, the ```case_enquiry_id```, ```location_zipcode```, ```latitude```, and ```longitude``` columns are not numeric variables. The descriptive statistics are not very useful in this situation. \n",
    "\n",
    "What would be a useful numeric variable is the duration of a request. Let's calculate the duration of each of the requests from January 2022 to March 2022 and add it as a new column in our dataframe. "
   ]
  },
  {
   "cell_type": "code",
   "execution_count": 23,
   "metadata": {
    "colab": {
     "base_uri": "https://localhost:8080/",
     "height": 473
    },
    "executionInfo": {
     "elapsed": 292,
     "status": "ok",
     "timestamp": 1660750056171,
     "user": {
      "displayName": "Michelle Voong",
      "userId": "06511363073265027000"
     },
     "user_tz": 240
    },
    "id": "hn8idfZv3XGk",
    "outputId": "5699059b-f1c0-478f-8b3f-a59c7cf97def"
   },
   "outputs": [
    {
     "data": {
      "text/html": [
       "<div>\n",
       "<style scoped>\n",
       "    .dataframe tbody tr th:only-of-type {\n",
       "        vertical-align: middle;\n",
       "    }\n",
       "\n",
       "    .dataframe tbody tr th {\n",
       "        vertical-align: top;\n",
       "    }\n",
       "\n",
       "    .dataframe thead th {\n",
       "        text-align: right;\n",
       "    }\n",
       "</style>\n",
       "<table border=\"1\" class=\"dataframe\">\n",
       "  <thead>\n",
       "    <tr style=\"text-align: right;\">\n",
       "      <th></th>\n",
       "      <th>case_enquiry_id</th>\n",
       "      <th>open_dt</th>\n",
       "      <th>target_dt</th>\n",
       "      <th>closed_dt</th>\n",
       "      <th>ontime</th>\n",
       "      <th>case_status</th>\n",
       "      <th>closure_reason</th>\n",
       "      <th>case_title</th>\n",
       "      <th>subject</th>\n",
       "      <th>reason</th>\n",
       "      <th>...</th>\n",
       "      <th>neighborhood</th>\n",
       "      <th>neighborhood_services_district</th>\n",
       "      <th>ward</th>\n",
       "      <th>precinct</th>\n",
       "      <th>location_street_name</th>\n",
       "      <th>location_zipcode</th>\n",
       "      <th>latitude</th>\n",
       "      <th>longitude</th>\n",
       "      <th>source</th>\n",
       "      <th>case_duration</th>\n",
       "    </tr>\n",
       "  </thead>\n",
       "  <tbody>\n",
       "    <tr>\n",
       "      <th>0</th>\n",
       "      <td>101004116078</td>\n",
       "      <td>2022-01-04 15:34:00</td>\n",
       "      <td>NaT</td>\n",
       "      <td>NaT</td>\n",
       "      <td>ONTIME</td>\n",
       "      <td>Open</td>\n",
       "      <td></td>\n",
       "      <td>Abandoned Bicycle</td>\n",
       "      <td>Mayor's 24 Hour Hotline</td>\n",
       "      <td>Abandoned Bicycle</td>\n",
       "      <td>...</td>\n",
       "      <td>East Boston</td>\n",
       "      <td>1</td>\n",
       "      <td>Ward 1</td>\n",
       "      <td>0109</td>\n",
       "      <td>163 Falcon St</td>\n",
       "      <td>2128.0</td>\n",
       "      <td>42.3818</td>\n",
       "      <td>-71.0322</td>\n",
       "      <td>Citizens Connect App</td>\n",
       "      <td>NaT</td>\n",
       "    </tr>\n",
       "    <tr>\n",
       "      <th>1</th>\n",
       "      <td>101004113538</td>\n",
       "      <td>2022-01-01 13:40:13</td>\n",
       "      <td>2022-01-04 08:30:00</td>\n",
       "      <td>2022-01-01 17:22:15</td>\n",
       "      <td>ONTIME</td>\n",
       "      <td>Closed</td>\n",
       "      <td>Case Closed. Closed date : Sat Jan 01 17:22:15...</td>\n",
       "      <td>CE Collection</td>\n",
       "      <td>Public Works Department</td>\n",
       "      <td>Street Cleaning</td>\n",
       "      <td>...</td>\n",
       "      <td>South End</td>\n",
       "      <td>6</td>\n",
       "      <td>Ward 9</td>\n",
       "      <td>0902</td>\n",
       "      <td>520 Shawmut Ave</td>\n",
       "      <td>2118.0</td>\n",
       "      <td>42.3376</td>\n",
       "      <td>-71.0774</td>\n",
       "      <td>City Worker App</td>\n",
       "      <td>0 days 03:42:02</td>\n",
       "    </tr>\n",
       "    <tr>\n",
       "      <th>2</th>\n",
       "      <td>101004120888</td>\n",
       "      <td>2022-01-09 12:40:43</td>\n",
       "      <td>2022-01-11 08:30:00</td>\n",
       "      <td>2022-01-10 01:24:50</td>\n",
       "      <td>ONTIME</td>\n",
       "      <td>Closed</td>\n",
       "      <td>Case Closed. Closed date : Mon Jan 10 01:24:50...</td>\n",
       "      <td>CE Collection</td>\n",
       "      <td>Public Works Department</td>\n",
       "      <td>Street Cleaning</td>\n",
       "      <td>...</td>\n",
       "      <td>South End</td>\n",
       "      <td>4</td>\n",
       "      <td>03</td>\n",
       "      <td>0307</td>\n",
       "      <td>44 Bradford St</td>\n",
       "      <td>2118.0</td>\n",
       "      <td>42.3431</td>\n",
       "      <td>-71.0683</td>\n",
       "      <td>City Worker App</td>\n",
       "      <td>0 days 12:44:07</td>\n",
       "    </tr>\n",
       "    <tr>\n",
       "      <th>3</th>\n",
       "      <td>101004120982</td>\n",
       "      <td>2022-01-09 13:56:00</td>\n",
       "      <td>NaT</td>\n",
       "      <td>NaT</td>\n",
       "      <td>ONTIME</td>\n",
       "      <td>Open</td>\n",
       "      <td></td>\n",
       "      <td>Animal Generic Request</td>\n",
       "      <td>Animal Control</td>\n",
       "      <td>Animal Issues</td>\n",
       "      <td>...</td>\n",
       "      <td>East Boston</td>\n",
       "      <td>1</td>\n",
       "      <td>Ward 1</td>\n",
       "      <td>0110</td>\n",
       "      <td>433 Chelsea St</td>\n",
       "      <td>2128.0</td>\n",
       "      <td>42.3810</td>\n",
       "      <td>-71.0256</td>\n",
       "      <td>Constituent Call</td>\n",
       "      <td>NaT</td>\n",
       "    </tr>\n",
       "    <tr>\n",
       "      <th>4</th>\n",
       "      <td>101004127209</td>\n",
       "      <td>2022-01-15 20:42:00</td>\n",
       "      <td>2022-01-20 08:30:00</td>\n",
       "      <td>2022-01-16 08:18:09</td>\n",
       "      <td>ONTIME</td>\n",
       "      <td>Closed</td>\n",
       "      <td>Case Closed Case Resolved</td>\n",
       "      <td>Building Inspection Request</td>\n",
       "      <td>Inspectional Services</td>\n",
       "      <td>Building</td>\n",
       "      <td>...</td>\n",
       "      <td>Roxbury</td>\n",
       "      <td>13</td>\n",
       "      <td>Ward 8</td>\n",
       "      <td>0806</td>\n",
       "      <td>71 Proctor St</td>\n",
       "      <td>2119.0</td>\n",
       "      <td>42.3266</td>\n",
       "      <td>-71.0704</td>\n",
       "      <td>Constituent Call</td>\n",
       "      <td>0 days 11:36:09</td>\n",
       "    </tr>\n",
       "  </tbody>\n",
       "</table>\n",
       "<p>5 rows × 29 columns</p>\n",
       "</div>"
      ],
      "text/plain": [
       "   case_enquiry_id             open_dt           target_dt  \\\n",
       "0     101004116078 2022-01-04 15:34:00                 NaT   \n",
       "1     101004113538 2022-01-01 13:40:13 2022-01-04 08:30:00   \n",
       "2     101004120888 2022-01-09 12:40:43 2022-01-11 08:30:00   \n",
       "3     101004120982 2022-01-09 13:56:00                 NaT   \n",
       "4     101004127209 2022-01-15 20:42:00 2022-01-20 08:30:00   \n",
       "\n",
       "            closed_dt  ontime case_status  \\\n",
       "0                 NaT  ONTIME        Open   \n",
       "1 2022-01-01 17:22:15  ONTIME      Closed   \n",
       "2 2022-01-10 01:24:50  ONTIME      Closed   \n",
       "3                 NaT  ONTIME        Open   \n",
       "4 2022-01-16 08:18:09  ONTIME      Closed   \n",
       "\n",
       "                                      closure_reason  \\\n",
       "0                                                      \n",
       "1  Case Closed. Closed date : Sat Jan 01 17:22:15...   \n",
       "2  Case Closed. Closed date : Mon Jan 10 01:24:50...   \n",
       "3                                                      \n",
       "4                      Case Closed Case Resolved       \n",
       "\n",
       "                    case_title                  subject             reason  \\\n",
       "0            Abandoned Bicycle  Mayor's 24 Hour Hotline  Abandoned Bicycle   \n",
       "1                CE Collection  Public Works Department    Street Cleaning   \n",
       "2                CE Collection  Public Works Department    Street Cleaning   \n",
       "3       Animal Generic Request           Animal Control      Animal Issues   \n",
       "4  Building Inspection Request    Inspectional Services           Building   \n",
       "\n",
       "   ... neighborhood neighborhood_services_district    ward precinct  \\\n",
       "0  ...  East Boston                              1  Ward 1     0109   \n",
       "1  ...    South End                              6  Ward 9     0902   \n",
       "2  ...    South End                              4      03     0307   \n",
       "3  ...  East Boston                              1  Ward 1     0110   \n",
       "4  ...      Roxbury                             13  Ward 8     0806   \n",
       "\n",
       "  location_street_name location_zipcode latitude longitude  \\\n",
       "0        163 Falcon St           2128.0  42.3818  -71.0322   \n",
       "1      520 Shawmut Ave           2118.0  42.3376  -71.0774   \n",
       "2       44 Bradford St           2118.0  42.3431  -71.0683   \n",
       "3       433 Chelsea St           2128.0  42.3810  -71.0256   \n",
       "4        71 Proctor St           2119.0  42.3266  -71.0704   \n",
       "\n",
       "                 source   case_duration  \n",
       "0  Citizens Connect App             NaT  \n",
       "1       City Worker App 0 days 03:42:02  \n",
       "2       City Worker App 0 days 12:44:07  \n",
       "3      Constituent Call             NaT  \n",
       "4      Constituent Call 0 days 11:36:09  \n",
       "\n",
       "[5 rows x 29 columns]"
      ]
     },
     "execution_count": 23,
     "metadata": {},
     "output_type": "execute_result"
    }
   ],
   "source": [
    "# calculating case duration and adding a new column (case_duration) to the dataframe \n",
    "duration = df_filtered['closed_dt'] - df_filtered['open_dt']\n",
    "df_filtered = df_filtered.assign(case_duration=duration)\n",
    "df_filtered.head()"
   ]
  },
  {
   "cell_type": "markdown",
   "metadata": {
    "id": "zkGd14C03XGl"
   },
   "source": [
    "Now we can see the new ```case_duration``` column. Some values are ```NaT```, which means there is a missing date. This makes sense because the ```case_status``` is ```OPEN```. \n",
    "\n",
    "Let's filter out the open cases and focus on analyzing the duration of the closed cases. "
   ]
  },
  {
   "cell_type": "code",
   "execution_count": 24,
   "metadata": {
    "colab": {
     "base_uri": "https://localhost:8080/",
     "height": 508
    },
    "executionInfo": {
     "elapsed": 186,
     "status": "ok",
     "timestamp": 1660750101255,
     "user": {
      "displayName": "Michelle Voong",
      "userId": "06511363073265027000"
     },
     "user_tz": 240
    },
    "id": "_iklB0Lp3XGl",
    "outputId": "7d94f836-1ddd-46df-8f52-3bafbb9080df"
   },
   "outputs": [
    {
     "data": {
      "text/html": [
       "<div>\n",
       "<style scoped>\n",
       "    .dataframe tbody tr th:only-of-type {\n",
       "        vertical-align: middle;\n",
       "    }\n",
       "\n",
       "    .dataframe tbody tr th {\n",
       "        vertical-align: top;\n",
       "    }\n",
       "\n",
       "    .dataframe thead th {\n",
       "        text-align: right;\n",
       "    }\n",
       "</style>\n",
       "<table border=\"1\" class=\"dataframe\">\n",
       "  <thead>\n",
       "    <tr style=\"text-align: right;\">\n",
       "      <th></th>\n",
       "      <th>case_enquiry_id</th>\n",
       "      <th>open_dt</th>\n",
       "      <th>target_dt</th>\n",
       "      <th>closed_dt</th>\n",
       "      <th>ontime</th>\n",
       "      <th>case_status</th>\n",
       "      <th>closure_reason</th>\n",
       "      <th>case_title</th>\n",
       "      <th>subject</th>\n",
       "      <th>reason</th>\n",
       "      <th>...</th>\n",
       "      <th>neighborhood</th>\n",
       "      <th>neighborhood_services_district</th>\n",
       "      <th>ward</th>\n",
       "      <th>precinct</th>\n",
       "      <th>location_street_name</th>\n",
       "      <th>location_zipcode</th>\n",
       "      <th>latitude</th>\n",
       "      <th>longitude</th>\n",
       "      <th>source</th>\n",
       "      <th>case_duration</th>\n",
       "    </tr>\n",
       "  </thead>\n",
       "  <tbody>\n",
       "    <tr>\n",
       "      <th>1</th>\n",
       "      <td>101004113538</td>\n",
       "      <td>2022-01-01 13:40:13</td>\n",
       "      <td>2022-01-04 08:30:00</td>\n",
       "      <td>2022-01-01 17:22:15</td>\n",
       "      <td>ONTIME</td>\n",
       "      <td>Closed</td>\n",
       "      <td>Case Closed. Closed date : Sat Jan 01 17:22:15...</td>\n",
       "      <td>CE Collection</td>\n",
       "      <td>Public Works Department</td>\n",
       "      <td>Street Cleaning</td>\n",
       "      <td>...</td>\n",
       "      <td>South End</td>\n",
       "      <td>6</td>\n",
       "      <td>Ward 9</td>\n",
       "      <td>0902</td>\n",
       "      <td>520 Shawmut Ave</td>\n",
       "      <td>2118.0</td>\n",
       "      <td>42.3376</td>\n",
       "      <td>-71.0774</td>\n",
       "      <td>City Worker App</td>\n",
       "      <td>0 days 03:42:02</td>\n",
       "    </tr>\n",
       "    <tr>\n",
       "      <th>2</th>\n",
       "      <td>101004120888</td>\n",
       "      <td>2022-01-09 12:40:43</td>\n",
       "      <td>2022-01-11 08:30:00</td>\n",
       "      <td>2022-01-10 01:24:50</td>\n",
       "      <td>ONTIME</td>\n",
       "      <td>Closed</td>\n",
       "      <td>Case Closed. Closed date : Mon Jan 10 01:24:50...</td>\n",
       "      <td>CE Collection</td>\n",
       "      <td>Public Works Department</td>\n",
       "      <td>Street Cleaning</td>\n",
       "      <td>...</td>\n",
       "      <td>South End</td>\n",
       "      <td>4</td>\n",
       "      <td>03</td>\n",
       "      <td>0307</td>\n",
       "      <td>44 Bradford St</td>\n",
       "      <td>2118.0</td>\n",
       "      <td>42.3431</td>\n",
       "      <td>-71.0683</td>\n",
       "      <td>City Worker App</td>\n",
       "      <td>0 days 12:44:07</td>\n",
       "    </tr>\n",
       "    <tr>\n",
       "      <th>4</th>\n",
       "      <td>101004127209</td>\n",
       "      <td>2022-01-15 20:42:00</td>\n",
       "      <td>2022-01-20 08:30:00</td>\n",
       "      <td>2022-01-16 08:18:09</td>\n",
       "      <td>ONTIME</td>\n",
       "      <td>Closed</td>\n",
       "      <td>Case Closed Case Resolved</td>\n",
       "      <td>Building Inspection Request</td>\n",
       "      <td>Inspectional Services</td>\n",
       "      <td>Building</td>\n",
       "      <td>...</td>\n",
       "      <td>Roxbury</td>\n",
       "      <td>13</td>\n",
       "      <td>Ward 8</td>\n",
       "      <td>0806</td>\n",
       "      <td>71 Proctor St</td>\n",
       "      <td>2119.0</td>\n",
       "      <td>42.3266</td>\n",
       "      <td>-71.0704</td>\n",
       "      <td>Constituent Call</td>\n",
       "      <td>0 days 11:36:09</td>\n",
       "    </tr>\n",
       "    <tr>\n",
       "      <th>5</th>\n",
       "      <td>101004113302</td>\n",
       "      <td>2022-01-01 00:36:24</td>\n",
       "      <td>2022-01-04 08:30:00</td>\n",
       "      <td>2022-01-03 00:13:17</td>\n",
       "      <td>ONTIME</td>\n",
       "      <td>Closed</td>\n",
       "      <td>Case Closed. Closed date : 2022-01-03 00:13:17...</td>\n",
       "      <td>Parking Enforcement</td>\n",
       "      <td>Transportation - Traffic Division</td>\n",
       "      <td>Enforcement &amp; Abandoned Vehicles</td>\n",
       "      <td>...</td>\n",
       "      <td>South Boston / South Boston Waterfront</td>\n",
       "      <td>5</td>\n",
       "      <td>6</td>\n",
       "      <td>0601</td>\n",
       "      <td>INTERSECTION Seaport Blvd &amp; Sleeper St</td>\n",
       "      <td>NaN</td>\n",
       "      <td>42.3594</td>\n",
       "      <td>-71.0587</td>\n",
       "      <td>Citizens Connect App</td>\n",
       "      <td>1 days 23:36:53</td>\n",
       "    </tr>\n",
       "    <tr>\n",
       "      <th>6</th>\n",
       "      <td>101004113331</td>\n",
       "      <td>2022-01-01 03:11:23</td>\n",
       "      <td>NaT</td>\n",
       "      <td>2022-01-04 08:23:30</td>\n",
       "      <td>ONTIME</td>\n",
       "      <td>Closed</td>\n",
       "      <td>Case Closed. Closed date : 2022-01-04 08:23:30...</td>\n",
       "      <td>Loud Parties/Music/People</td>\n",
       "      <td>Boston Police Department</td>\n",
       "      <td>Noise Disturbance</td>\n",
       "      <td>...</td>\n",
       "      <td>South End</td>\n",
       "      <td>6</td>\n",
       "      <td>9</td>\n",
       "      <td>0901</td>\n",
       "      <td>INTERSECTION W Brookline St &amp; Newland St</td>\n",
       "      <td>NaN</td>\n",
       "      <td>42.3594</td>\n",
       "      <td>-71.0587</td>\n",
       "      <td>Constituent Call</td>\n",
       "      <td>3 days 05:12:07</td>\n",
       "    </tr>\n",
       "  </tbody>\n",
       "</table>\n",
       "<p>5 rows × 29 columns</p>\n",
       "</div>"
      ],
      "text/plain": [
       "   case_enquiry_id             open_dt           target_dt  \\\n",
       "1     101004113538 2022-01-01 13:40:13 2022-01-04 08:30:00   \n",
       "2     101004120888 2022-01-09 12:40:43 2022-01-11 08:30:00   \n",
       "4     101004127209 2022-01-15 20:42:00 2022-01-20 08:30:00   \n",
       "5     101004113302 2022-01-01 00:36:24 2022-01-04 08:30:00   \n",
       "6     101004113331 2022-01-01 03:11:23                 NaT   \n",
       "\n",
       "            closed_dt  ontime case_status  \\\n",
       "1 2022-01-01 17:22:15  ONTIME      Closed   \n",
       "2 2022-01-10 01:24:50  ONTIME      Closed   \n",
       "4 2022-01-16 08:18:09  ONTIME      Closed   \n",
       "5 2022-01-03 00:13:17  ONTIME      Closed   \n",
       "6 2022-01-04 08:23:30  ONTIME      Closed   \n",
       "\n",
       "                                      closure_reason  \\\n",
       "1  Case Closed. Closed date : Sat Jan 01 17:22:15...   \n",
       "2  Case Closed. Closed date : Mon Jan 10 01:24:50...   \n",
       "4                      Case Closed Case Resolved       \n",
       "5  Case Closed. Closed date : 2022-01-03 00:13:17...   \n",
       "6  Case Closed. Closed date : 2022-01-04 08:23:30...   \n",
       "\n",
       "                    case_title                            subject  \\\n",
       "1                CE Collection            Public Works Department   \n",
       "2                CE Collection            Public Works Department   \n",
       "4  Building Inspection Request              Inspectional Services   \n",
       "5          Parking Enforcement  Transportation - Traffic Division   \n",
       "6    Loud Parties/Music/People           Boston Police Department   \n",
       "\n",
       "                             reason  ...  \\\n",
       "1                   Street Cleaning  ...   \n",
       "2                   Street Cleaning  ...   \n",
       "4                          Building  ...   \n",
       "5  Enforcement & Abandoned Vehicles  ...   \n",
       "6                 Noise Disturbance  ...   \n",
       "\n",
       "                             neighborhood neighborhood_services_district  \\\n",
       "1                               South End                              6   \n",
       "2                               South End                              4   \n",
       "4                                 Roxbury                             13   \n",
       "5  South Boston / South Boston Waterfront                              5   \n",
       "6                               South End                              6   \n",
       "\n",
       "     ward precinct                      location_street_name location_zipcode  \\\n",
       "1  Ward 9     0902                           520 Shawmut Ave           2118.0   \n",
       "2      03     0307                            44 Bradford St           2118.0   \n",
       "4  Ward 8     0806                             71 Proctor St           2119.0   \n",
       "5       6     0601    INTERSECTION Seaport Blvd & Sleeper St              NaN   \n",
       "6       9     0901  INTERSECTION W Brookline St & Newland St              NaN   \n",
       "\n",
       "  latitude longitude                source   case_duration  \n",
       "1  42.3376  -71.0774       City Worker App 0 days 03:42:02  \n",
       "2  42.3431  -71.0683       City Worker App 0 days 12:44:07  \n",
       "4  42.3266  -71.0704      Constituent Call 0 days 11:36:09  \n",
       "5  42.3594  -71.0587  Citizens Connect App 1 days 23:36:53  \n",
       "6  42.3594  -71.0587      Constituent Call 3 days 05:12:07  \n",
       "\n",
       "[5 rows x 29 columns]"
      ]
     },
     "execution_count": 24,
     "metadata": {},
     "output_type": "execute_result"
    }
   ],
   "source": [
    "# filter out the open cases\n",
    "df_closed = df_filtered.loc[(df_filtered['case_status'] == \"Closed\")]\n",
    "df_closed.head()"
   ]
  },
  {
   "cell_type": "markdown",
   "metadata": {
    "id": "0QDlAacu3XGl"
   },
   "source": [
    "With the closed cases, let's calculate the descriptive statistics of the new ```case_duration``` column. "
   ]
  },
  {
   "cell_type": "code",
   "execution_count": 25,
   "metadata": {
    "colab": {
     "base_uri": "https://localhost:8080/",
     "height": 300
    },
    "executionInfo": {
     "elapsed": 203,
     "status": "ok",
     "timestamp": 1660750128267,
     "user": {
      "displayName": "Michelle Voong",
      "userId": "06511363073265027000"
     },
     "user_tz": 240
    },
    "id": "yLcXjhBp3XGl",
    "outputId": "9d545e11-f7eb-494a-be03-6c68c34fe324"
   },
   "outputs": [
    {
     "data": {
      "text/html": [
       "<div>\n",
       "<style scoped>\n",
       "    .dataframe tbody tr th:only-of-type {\n",
       "        vertical-align: middle;\n",
       "    }\n",
       "\n",
       "    .dataframe tbody tr th {\n",
       "        vertical-align: top;\n",
       "    }\n",
       "\n",
       "    .dataframe thead th {\n",
       "        text-align: right;\n",
       "    }\n",
       "</style>\n",
       "<table border=\"1\" class=\"dataframe\">\n",
       "  <thead>\n",
       "    <tr style=\"text-align: right;\">\n",
       "      <th></th>\n",
       "      <th>case_duration</th>\n",
       "    </tr>\n",
       "  </thead>\n",
       "  <tbody>\n",
       "    <tr>\n",
       "      <th>count</th>\n",
       "      <td>59420</td>\n",
       "    </tr>\n",
       "    <tr>\n",
       "      <th>mean</th>\n",
       "      <td>4 days 12:09:14.466526422</td>\n",
       "    </tr>\n",
       "    <tr>\n",
       "      <th>std</th>\n",
       "      <td>15 days 09:54:44.441079417</td>\n",
       "    </tr>\n",
       "    <tr>\n",
       "      <th>min</th>\n",
       "      <td>0 days 00:00:04</td>\n",
       "    </tr>\n",
       "    <tr>\n",
       "      <th>25%</th>\n",
       "      <td>0 days 01:26:54.750000</td>\n",
       "    </tr>\n",
       "    <tr>\n",
       "      <th>50%</th>\n",
       "      <td>0 days 09:01:45</td>\n",
       "    </tr>\n",
       "    <tr>\n",
       "      <th>75%</th>\n",
       "      <td>1 days 15:40:08.250000</td>\n",
       "    </tr>\n",
       "    <tr>\n",
       "      <th>max</th>\n",
       "      <td>181 days 14:24:23</td>\n",
       "    </tr>\n",
       "  </tbody>\n",
       "</table>\n",
       "</div>"
      ],
      "text/plain": [
       "                    case_duration\n",
       "count                       59420\n",
       "mean    4 days 12:09:14.466526422\n",
       "std    15 days 09:54:44.441079417\n",
       "min               0 days 00:00:04\n",
       "25%        0 days 01:26:54.750000\n",
       "50%               0 days 09:01:45\n",
       "75%        1 days 15:40:08.250000\n",
       "max             181 days 14:24:23"
      ]
     },
     "execution_count": 25,
     "metadata": {},
     "output_type": "execute_result"
    }
   ],
   "source": [
    "# let's calculate the descriptive statistics again \n",
    "# using double brackets to display in a *fancy* table format\n",
    "df_closed[['case_duration']].describe()"
   ]
  },
  {
   "cell_type": "markdown",
   "metadata": {
    "id": "lrbhQFgx3XGl"
   },
   "source": [
    "From the table, we can see that the average case duration is ~4.5 days. <br>\n",
    "The standard deviation for the case duration is ~15.4 days. <br>\n",
    "The minimum time a case takes to close is 4 minutes. <br>\n",
    "The maximum time a case takes to close is ~181.6 days. <br>\n",
    "The inter-quartile range (IQR) is the difference between the 25% and 75% quantiles. <br>\n"
   ]
  },
  {
   "cell_type": "markdown",
   "metadata": {
    "id": "WPWkF9m83XGl"
   },
   "source": [
    "We can also calculate the *mode* and *median*."
   ]
  },
  {
   "cell_type": "code",
   "execution_count": 26,
   "metadata": {
    "colab": {
     "base_uri": "https://localhost:8080/"
    },
    "executionInfo": {
     "elapsed": 225,
     "status": "ok",
     "timestamp": 1660750137193,
     "user": {
      "displayName": "Michelle Voong",
      "userId": "06511363073265027000"
     },
     "user_tz": 240
    },
    "id": "8hiIOjvL3XGl",
    "outputId": "2f775a60-400f-4b4d-fd3a-7cdfb9cbc531"
   },
   "outputs": [
    {
     "data": {
      "text/plain": [
       "0   0 days 00:00:54\n",
       "1   0 days 00:00:57\n",
       "2   0 days 00:01:03\n",
       "Name: case_duration, dtype: timedelta64[ns]"
      ]
     },
     "execution_count": 26,
     "metadata": {},
     "output_type": "execute_result"
    }
   ],
   "source": [
    "df_closed['case_duration'].mode()"
   ]
  },
  {
   "cell_type": "code",
   "execution_count": 27,
   "metadata": {
    "colab": {
     "base_uri": "https://localhost:8080/"
    },
    "executionInfo": {
     "elapsed": 173,
     "status": "ok",
     "timestamp": 1660750139752,
     "user": {
      "displayName": "Michelle Voong",
      "userId": "06511363073265027000"
     },
     "user_tz": 240
    },
    "id": "HN9ce8lG3XGm",
    "outputId": "047ea66b-4b0a-4824-e7a6-e912b1584c63"
   },
   "outputs": [
    {
     "data": {
      "text/plain": [
       "Timedelta('0 days 09:01:45')"
      ]
     },
     "execution_count": 27,
     "metadata": {},
     "output_type": "execute_result"
    }
   ],
   "source": [
    "df_closed['case_duration'].median()"
   ]
  },
  {
   "cell_type": "markdown",
   "metadata": {
    "id": "cd58E_un3XGm"
   },
   "source": [
    "The descriptive statistics summary in table form is nice, but it would be nice to visualize the data in a histogram. Simply trying to plot using the values in the ```case_duration``` column will case an error. \n",
    "\n",
    "Currently, the values in ```case_duration``` are of type ```timedelta64[ns]```, ```df_closed['case_duration']``` is a Timedelta Series. We will need to apply what is called a frequency conversion to the values. \n",
    "\n",
    "\"Timedelta Series, TimedeltaIndex, and Timedelta scalars can be converted to other 'frequences' by dividing by another timedelta, or by astyping to a specific timedelta type.\" (See the link below for more information and code examples!)\n",
    "\n",
    "https://pandas.pydata.org/pandas-docs/stable/user_guide/timedeltas.html\n"
   ]
  },
  {
   "cell_type": "code",
   "execution_count": 28,
   "metadata": {
    "colab": {
     "base_uri": "https://localhost:8080/",
     "height": 300
    },
    "executionInfo": {
     "elapsed": 704,
     "status": "ok",
     "timestamp": 1660750262997,
     "user": {
      "displayName": "Michelle Voong",
      "userId": "06511363073265027000"
     },
     "user_tz": 240
    },
    "id": "s6WHP4lz3XGm",
    "outputId": "d6132bff-aebc-4f2d-a220-dd7a0456cd7c"
   },
   "outputs": [
    {
     "data": {
      "text/html": [
       "<div>\n",
       "<style scoped>\n",
       "    .dataframe tbody tr th:only-of-type {\n",
       "        vertical-align: middle;\n",
       "    }\n",
       "\n",
       "    .dataframe tbody tr th {\n",
       "        vertical-align: top;\n",
       "    }\n",
       "\n",
       "    .dataframe thead th {\n",
       "        text-align: right;\n",
       "    }\n",
       "</style>\n",
       "<table border=\"1\" class=\"dataframe\">\n",
       "  <thead>\n",
       "    <tr style=\"text-align: right;\">\n",
       "      <th></th>\n",
       "      <th>duration_in_days</th>\n",
       "    </tr>\n",
       "  </thead>\n",
       "  <tbody>\n",
       "    <tr>\n",
       "      <th>count</th>\n",
       "      <td>59420.000000</td>\n",
       "    </tr>\n",
       "    <tr>\n",
       "      <th>mean</th>\n",
       "      <td>4.506417</td>\n",
       "    </tr>\n",
       "    <tr>\n",
       "      <th>std</th>\n",
       "      <td>15.413014</td>\n",
       "    </tr>\n",
       "    <tr>\n",
       "      <th>min</th>\n",
       "      <td>0.000046</td>\n",
       "    </tr>\n",
       "    <tr>\n",
       "      <th>25%</th>\n",
       "      <td>0.060356</td>\n",
       "    </tr>\n",
       "    <tr>\n",
       "      <th>50%</th>\n",
       "      <td>0.376215</td>\n",
       "    </tr>\n",
       "    <tr>\n",
       "      <th>75%</th>\n",
       "      <td>1.652873</td>\n",
       "    </tr>\n",
       "    <tr>\n",
       "      <th>max</th>\n",
       "      <td>181.600266</td>\n",
       "    </tr>\n",
       "  </tbody>\n",
       "</table>\n",
       "</div>"
      ],
      "text/plain": [
       "       duration_in_days\n",
       "count      59420.000000\n",
       "mean           4.506417\n",
       "std           15.413014\n",
       "min            0.000046\n",
       "25%            0.060356\n",
       "50%            0.376215\n",
       "75%            1.652873\n",
       "max          181.600266"
      ]
     },
     "execution_count": 28,
     "metadata": {},
     "output_type": "execute_result"
    }
   ],
   "source": [
    "# dividing the case_duration values by Timedelta of 1 day \n",
    "duration_days = ( df_closed['case_duration'] / pd.Timedelta(days=1))\n",
    "\n",
    "# adding calculation to dataframe under duration_in_days column \n",
    "df_closed = df_closed.assign(duration_in_days=duration_days)\n",
    "\n",
    "# display descriptive statistics summary with new column addition \n",
    "df_closed[['duration_in_days']].describe()"
   ]
  },
  {
   "cell_type": "code",
   "execution_count": 29,
   "metadata": {
    "colab": {
     "base_uri": "https://localhost:8080/",
     "height": 383
    },
    "executionInfo": {
     "elapsed": 892,
     "status": "ok",
     "timestamp": 1660750281062,
     "user": {
      "displayName": "Michelle Voong",
      "userId": "06511363073265027000"
     },
     "user_tz": 240
    },
    "id": "4PRQnuLk3XGm",
    "outputId": "f7a4803a-043d-4cd3-8984-f3532ff87488"
   },
   "outputs": [
    {
     "data": {
      "text/plain": [
       "<seaborn.axisgrid.FacetGrid at 0x15ecc1690>"
      ]
     },
     "execution_count": 29,
     "metadata": {},
     "output_type": "execute_result"
    },
    {
     "data": {
      "image/png": "[encoded data removed]",
      "text/plain": [
       "<Figure size 500x500 with 1 Axes>"
      ]
     },
     "metadata": {},
     "output_type": "display_data"
    }
   ],
   "source": [
    "# using seaborn library for visualizations \n",
    "sns.set_theme() # use this if you dont want the visualizations to be default matplotlibstyle\n",
    "sns.displot(df_closed, x=\"duration_in_days\", binwidth=1)"
   ]
  },
  {
   "cell_type": "markdown",
   "metadata": {
    "id": "dioIWQPo3XGm"
   },
   "source": [
    "From the plot above, the data seems to be skewed right meaning the right tail is much longer than the left. Let's try playing with different bin widths. "
   ]
  },
  {
   "cell_type": "code",
   "execution_count": 30,
   "metadata": {
    "colab": {
     "base_uri": "https://localhost:8080/",
     "height": 383
    },
    "executionInfo": {
     "elapsed": 880,
     "status": "ok",
     "timestamp": 1660750295412,
     "user": {
      "displayName": "Michelle Voong",
      "userId": "06511363073265027000"
     },
     "user_tz": 240
    },
    "id": "Iooy6P8t3XGm",
    "outputId": "f792b0a1-e687-4ee6-d6cd-8a684887fe50"
   },
   "outputs": [
    {
     "data": {
      "text/plain": [
       "<seaborn.axisgrid.FacetGrid at 0x15edf0110>"
      ]
     },
     "execution_count": 30,
     "metadata": {},
     "output_type": "execute_result"
    },
    {
     "data": {
      "image/png": "[encoded data removed]",
      "text/plain": [
       "<Figure size 500x500 with 1 Axes>"
      ]
     },
     "metadata": {},
     "output_type": "display_data"
    }
   ],
   "source": [
    "# trying different bin sizes \n",
    "sns.displot(df_closed, x=\"duration_in_days\", binwidth=5)"
   ]
  },
  {
   "cell_type": "code",
   "execution_count": 31,
   "metadata": {
    "colab": {
     "base_uri": "https://localhost:8080/",
     "height": 383
    },
    "executionInfo": {
     "elapsed": 697,
     "status": "ok",
     "timestamp": 1660750334892,
     "user": {
      "displayName": "Michelle Voong",
      "userId": "06511363073265027000"
     },
     "user_tz": 240
    },
    "id": "oL04U4hf3XGm",
    "outputId": "820da582-7ae8-47c3-ed0a-256858c8b684"
   },
   "outputs": [
    {
     "data": {
      "text/plain": [
       "<seaborn.axisgrid.FacetGrid at 0x15ee59cd0>"
      ]
     },
     "execution_count": 31,
     "metadata": {},
     "output_type": "execute_result"
    },
    {
     "data": {
      "image/png": "[encoded data removed]",
      "text/plain": [
       "<Figure size 500x500 with 1 Axes>"
      ]
     },
     "metadata": {},
     "output_type": "display_data"
    }
   ],
   "source": [
    "# trying different bin sizes\n",
    "sns.displot(df_closed, x=\"duration_in_days\", binwidth=25)"
   ]
  },
  {
   "cell_type": "markdown",
   "metadata": {
    "id": "rtfMqO0C3XGm"
   },
   "source": [
    "Since the data is heavily skewed, let's apply log transformation to the data. The log transformation will *hopefully* reduce or remove the skewness of the original data. The assumption is that the original data follows a log-normal distribution. "
   ]
  },
  {
   "cell_type": "code",
   "execution_count": 32,
   "metadata": {
    "colab": {
     "base_uri": "https://localhost:8080/",
     "height": 383
    },
    "executionInfo": {
     "elapsed": 2337,
     "status": "ok",
     "timestamp": 1660750340765,
     "user": {
      "displayName": "Michelle Voong",
      "userId": "06511363073265027000"
     },
     "user_tz": 240
    },
    "id": "6VV_sVWT3XGn",
    "outputId": "67a01f0b-3990-4999-ee00-5540a082aeca"
   },
   "outputs": [
    {
     "data": {
      "text/plain": [
       "<seaborn.axisgrid.FacetGrid at 0x15edbbbd0>"
      ]
     },
     "execution_count": 32,
     "metadata": {},
     "output_type": "execute_result"
    },
    {
     "data": {
      "image/png": "[encoded data removed]",
      "text/plain": [
       "<Figure size 500x500 with 1 Axes>"
      ]
     },
     "metadata": {},
     "output_type": "display_data"
    }
   ],
   "source": [
    "# log-scale transformation since the data is heavliy skewed \n",
    "# add bin_width parameter to change bin sizes\n",
    "sns.displot(df_closed, x=\"duration_in_days\", log_scale=True)"
   ]
  },
  {
   "cell_type": "markdown",
   "metadata": {
    "id": "binkoCYV3XGn"
   },
   "source": [
    "### Which neighborhoods had the most requests from January 2022 - March 2022? \n",
    "\n",
    "To answer this question, we will take a look at the ```neighborhood``` column. "
   ]
  },
  {
   "cell_type": "code",
   "execution_count": 33,
   "metadata": {
    "colab": {
     "base_uri": "https://localhost:8080/"
    },
    "executionInfo": {
     "elapsed": 170,
     "status": "ok",
     "timestamp": 1660750403927,
     "user": {
      "displayName": "Michelle Voong",
      "userId": "06511363073265027000"
     },
     "user_tz": 240
    },
    "id": "QUO3mqWS3XGn",
    "outputId": "96f8ee2b-dc02-4274-9a34-eba7d7f35507"
   },
   "outputs": [
    {
     "data": {
      "text/plain": [
       "25"
      ]
     },
     "execution_count": 33,
     "metadata": {},
     "output_type": "execute_result"
    }
   ],
   "source": [
    "# has 25 unique values so a pie chart probably is not the best option\n",
    "len(df_closed['neighborhood'].unique()) "
   ]
  },
  {
   "cell_type": "code",
   "execution_count": 34,
   "metadata": {
    "colab": {
     "base_uri": "https://localhost:8080/",
     "height": 319
    },
    "executionInfo": {
     "elapsed": 557,
     "status": "ok",
     "timestamp": 1660750411947,
     "user": {
      "displayName": "Michelle Voong",
      "userId": "06511363073265027000"
     },
     "user_tz": 240
    },
    "id": "mpqvvxBc3XGn",
    "outputId": "9715e1f9-fcdc-46af-db35-11f2cdffea58"
   },
   "outputs": [
    {
     "data": {
      "text/plain": [
       "Text(0.5, 1.0, 'Number of Requests by Neighborhood')"
      ]
     },
     "execution_count": 34,
     "metadata": {},
     "output_type": "execute_result"
    },
    {
     "data": {
      "image/png": "[encoded data removed]",
      "text/plain": [
       "<Figure size 640x480 with 1 Axes>"
      ]
     },
     "metadata": {},
     "output_type": "display_data"
    }
   ],
   "source": [
    "# plot neighborhood counts \n",
    "sns.countplot(x=\"neighborhood\", data=df_closed).set_title('Number of Requests by Neighborhood')"
   ]
  },
  {
   "cell_type": "markdown",
   "metadata": {
    "id": "6_5kRhbj3XGn"
   },
   "source": [
    "Yikes! The x-axis labels are pretty hard to read. Let's fix that by plotting the bars horizontally. "
   ]
  },
  {
   "cell_type": "code",
   "execution_count": 35,
   "metadata": {
    "colab": {
     "base_uri": "https://localhost:8080/",
     "height": 319
    },
    "executionInfo": {
     "elapsed": 444,
     "status": "ok",
     "timestamp": 1660750414818,
     "user": {
      "displayName": "Michelle Voong",
      "userId": "06511363073265027000"
     },
     "user_tz": 240
    },
    "id": "XSimqizn3XGn",
    "outputId": "2f340f13-5e7f-4320-b3bb-75748160bea4"
   },
   "outputs": [
    {
     "data": {
      "text/plain": [
       "Text(0.5, 1.0, 'Number of Requests by Neighborhood')"
      ]
     },
     "execution_count": 35,
     "metadata": {},
     "output_type": "execute_result"
    },
    {
     "data": {
      "image/png": "[encoded data removed]",
      "text/plain": [
       "<Figure size 640x480 with 1 Axes>"
      ]
     },
     "metadata": {},
     "output_type": "display_data"
    }
   ],
   "source": [
    "# fixing orientation of the labels \n",
    "sns.countplot(y=\"neighborhood\", data=df_closed).set_title('Number of Requests by Neighborhood')"
   ]
  },
  {
   "cell_type": "markdown",
   "metadata": {
    "id": "y2UdSXDo3XGn"
   },
   "source": [
    "From the plot we can see that Dorchester has the most requests, followed by South Boston/South Boston Waterfront, then Roxbury. There's a bar that doesn't have a name...that's strange. Let's display the exact counts for each neighborhood. "
   ]
  },
  {
   "cell_type": "code",
   "execution_count": 36,
   "metadata": {
    "colab": {
     "base_uri": "https://localhost:8080/"
    },
    "executionInfo": {
     "elapsed": 180,
     "status": "ok",
     "timestamp": 1660750418544,
     "user": {
      "displayName": "Michelle Voong",
      "userId": "06511363073265027000"
     },
     "user_tz": 240
    },
    "id": "NT82lbGY3XGn",
    "outputId": "ae3b0945-c10a-4134-ab17-b60caceaebc7"
   },
   "outputs": [
    {
     "data": {
      "text/plain": [
       "neighborhood\n",
       "Dorchester                                      9148\n",
       "South Boston / South Boston Waterfront          5608\n",
       "Roxbury                                         5097\n",
       "East Boston                                     4420\n",
       "Allston / Brighton                              3945\n",
       "Jamaica Plain                                   3696\n",
       "South End                                       3666\n",
       "Downtown / Financial District                   3419\n",
       "Back Bay                                        2740\n",
       "Greater Mattapan                                2429\n",
       "Hyde Park                                       2308\n",
       "Charlestown                                     2096\n",
       "Roslindale                                      2083\n",
       "Boston                                          1803\n",
       "West Roxbury                                    1698\n",
       "Beacon Hill                                     1595\n",
       "Fenway / Kenmore / Audubon Circle / Longwood    1034\n",
       "Mission Hill                                     990\n",
       "South Boston                                     600\n",
       "                                                 476\n",
       "Brighton                                         293\n",
       "Allston                                          141\n",
       "Mattapan                                          72\n",
       "Chestnut Hill                                      4\n",
       "Name: count, dtype: int64"
      ]
     },
     "execution_count": 36,
     "metadata": {},
     "output_type": "execute_result"
    }
   ],
   "source": [
    "# displaying number of requests by neighborhood in table form \n",
    "df_closed['neighborhood'].value_counts()"
   ]
  },
  {
   "cell_type": "markdown",
   "metadata": {
    "id": "2CXjK5bh3XGo"
   },
   "source": [
    "There are 476 requests without a neighborhood label. "
   ]
  },
  {
   "cell_type": "code",
   "execution_count": 37,
   "metadata": {
    "colab": {
     "base_uri": "https://localhost:8080/",
     "height": 1000
    },
    "executionInfo": {
     "elapsed": 188,
     "status": "ok",
     "timestamp": 1660750423767,
     "user": {
      "displayName": "Michelle Voong",
      "userId": "06511363073265027000"
     },
     "user_tz": 240
    },
    "id": "e8_Vk8og3XGo",
    "outputId": "7a7308f8-a331-4145-9319-2d6d7b9f2975"
   },
   "outputs": [
    {
     "data": {
      "text/html": [
       "<div>\n",
       "<style scoped>\n",
       "    .dataframe tbody tr th:only-of-type {\n",
       "        vertical-align: middle;\n",
       "    }\n",
       "\n",
       "    .dataframe tbody tr th {\n",
       "        vertical-align: top;\n",
       "    }\n",
       "\n",
       "    .dataframe thead th {\n",
       "        text-align: right;\n",
       "    }\n",
       "</style>\n",
       "<table border=\"1\" class=\"dataframe\">\n",
       "  <thead>\n",
       "    <tr style=\"text-align: right;\">\n",
       "      <th></th>\n",
       "      <th>case_enquiry_id</th>\n",
       "      <th>open_dt</th>\n",
       "      <th>target_dt</th>\n",
       "      <th>closed_dt</th>\n",
       "      <th>ontime</th>\n",
       "      <th>case_status</th>\n",
       "      <th>closure_reason</th>\n",
       "      <th>case_title</th>\n",
       "      <th>subject</th>\n",
       "      <th>reason</th>\n",
       "      <th>...</th>\n",
       "      <th>neighborhood_services_district</th>\n",
       "      <th>ward</th>\n",
       "      <th>precinct</th>\n",
       "      <th>location_street_name</th>\n",
       "      <th>location_zipcode</th>\n",
       "      <th>latitude</th>\n",
       "      <th>longitude</th>\n",
       "      <th>source</th>\n",
       "      <th>case_duration</th>\n",
       "      <th>duration_in_days</th>\n",
       "    </tr>\n",
       "  </thead>\n",
       "  <tbody>\n",
       "    <tr>\n",
       "      <th>163</th>\n",
       "      <td>101004115729</td>\n",
       "      <td>2022-01-04 11:11:00</td>\n",
       "      <td>2022-02-03 11:11:34</td>\n",
       "      <td>2022-01-05 09:43:58</td>\n",
       "      <td>ONTIME</td>\n",
       "      <td>Closed</td>\n",
       "      <td>Case Closed. Closed date : Wed Jan 05 09:43:58...</td>\n",
       "      <td>DISPATCHED Heat - Excessive  Insufficient</td>\n",
       "      <td>Inspectional Services</td>\n",
       "      <td>Housing</td>\n",
       "      <td>...</td>\n",
       "      <td></td>\n",
       "      <td></td>\n",
       "      <td></td>\n",
       "      <td>NaN</td>\n",
       "      <td>NaN</td>\n",
       "      <td>42.3594</td>\n",
       "      <td>-71.0587</td>\n",
       "      <td>Constituent Call</td>\n",
       "      <td>0 days 22:32:58</td>\n",
       "      <td>0.939560</td>\n",
       "    </tr>\n",
       "    <tr>\n",
       "      <th>207</th>\n",
       "      <td>101004117130</td>\n",
       "      <td>2022-01-05 14:25:00</td>\n",
       "      <td>2022-01-14 14:25:51</td>\n",
       "      <td>2022-02-10 10:59:15</td>\n",
       "      <td>OVERDUE</td>\n",
       "      <td>Closed</td>\n",
       "      <td>Case Closed. Closed date : Thu Feb 10 10:59:15...</td>\n",
       "      <td>printed</td>\n",
       "      <td>Parks &amp; Recreation Department</td>\n",
       "      <td>Park Maintenance &amp; Safety</td>\n",
       "      <td>...</td>\n",
       "      <td></td>\n",
       "      <td></td>\n",
       "      <td></td>\n",
       "      <td>NaN</td>\n",
       "      <td>NaN</td>\n",
       "      <td>42.3594</td>\n",
       "      <td>-71.0587</td>\n",
       "      <td>Constituent Call</td>\n",
       "      <td>35 days 20:34:15</td>\n",
       "      <td>35.857118</td>\n",
       "    </tr>\n",
       "    <tr>\n",
       "      <th>301</th>\n",
       "      <td>101004118921</td>\n",
       "      <td>2022-01-07 12:55:08</td>\n",
       "      <td>NaT</td>\n",
       "      <td>2022-01-10 09:20:39</td>\n",
       "      <td>ONTIME</td>\n",
       "      <td>Closed</td>\n",
       "      <td>Case Closed. Closed date : 2022-01-10 09:20:39...</td>\n",
       "      <td>General Comments For An Employee</td>\n",
       "      <td>Mayor's 24 Hour Hotline</td>\n",
       "      <td>Employee &amp; General Comments</td>\n",
       "      <td>...</td>\n",
       "      <td></td>\n",
       "      <td></td>\n",
       "      <td></td>\n",
       "      <td>NaN</td>\n",
       "      <td>NaN</td>\n",
       "      <td>42.3594</td>\n",
       "      <td>-71.0587</td>\n",
       "      <td>Constituent Call</td>\n",
       "      <td>2 days 20:25:31</td>\n",
       "      <td>2.851053</td>\n",
       "    </tr>\n",
       "    <tr>\n",
       "      <th>640</th>\n",
       "      <td>101004123032</td>\n",
       "      <td>2022-01-11 14:00:00</td>\n",
       "      <td>2022-01-25 14:00:53</td>\n",
       "      <td>2022-01-12 12:37:49</td>\n",
       "      <td>ONTIME</td>\n",
       "      <td>Closed</td>\n",
       "      <td>Case Closed. Closed date : Wed Jan 12 12:37:49...</td>\n",
       "      <td>PublicWorks: Complaint</td>\n",
       "      <td>Mayor's 24 Hour Hotline</td>\n",
       "      <td>Employee &amp; General Comments</td>\n",
       "      <td>...</td>\n",
       "      <td></td>\n",
       "      <td></td>\n",
       "      <td></td>\n",
       "      <td>NaN</td>\n",
       "      <td>NaN</td>\n",
       "      <td>42.3594</td>\n",
       "      <td>-71.0587</td>\n",
       "      <td>Constituent Call</td>\n",
       "      <td>0 days 22:37:49</td>\n",
       "      <td>0.942928</td>\n",
       "    </tr>\n",
       "    <tr>\n",
       "      <th>882</th>\n",
       "      <td>101004121696</td>\n",
       "      <td>2022-01-10 10:35:00</td>\n",
       "      <td>2022-01-17 10:35:33</td>\n",
       "      <td>2022-01-10 11:06:04</td>\n",
       "      <td>ONTIME</td>\n",
       "      <td>Closed</td>\n",
       "      <td>Case Closed. Closed date : Mon Jan 10 11:06:04...</td>\n",
       "      <td>Ground Maintenance: Brewer/Burroughs Tot Lot -...</td>\n",
       "      <td>Parks &amp; Recreation Department</td>\n",
       "      <td>Park Maintenance &amp; Safety</td>\n",
       "      <td>...</td>\n",
       "      <td></td>\n",
       "      <td></td>\n",
       "      <td></td>\n",
       "      <td>NaN</td>\n",
       "      <td>NaN</td>\n",
       "      <td>42.3594</td>\n",
       "      <td>-71.0587</td>\n",
       "      <td>Employee Generated</td>\n",
       "      <td>0 days 00:31:04</td>\n",
       "      <td>0.021574</td>\n",
       "    </tr>\n",
       "    <tr>\n",
       "      <th>1280</th>\n",
       "      <td>101004141822</td>\n",
       "      <td>2022-01-20 12:49:51</td>\n",
       "      <td>2022-01-31 12:49:51</td>\n",
       "      <td>2022-01-21 10:30:31</td>\n",
       "      <td>ONTIME</td>\n",
       "      <td>Closed</td>\n",
       "      <td>Case Closed. Closed date : Fri Jan 21 10:30:31...</td>\n",
       "      <td>Parks Lighting Issue: Mozart St. Playground - ...</td>\n",
       "      <td>Parks &amp; Recreation Department</td>\n",
       "      <td>Park Maintenance &amp; Safety</td>\n",
       "      <td>...</td>\n",
       "      <td></td>\n",
       "      <td></td>\n",
       "      <td></td>\n",
       "      <td>NaN</td>\n",
       "      <td>NaN</td>\n",
       "      <td>42.3594</td>\n",
       "      <td>-71.0587</td>\n",
       "      <td>Self Service</td>\n",
       "      <td>0 days 21:40:40</td>\n",
       "      <td>0.903241</td>\n",
       "    </tr>\n",
       "    <tr>\n",
       "      <th>1509</th>\n",
       "      <td>101004129011</td>\n",
       "      <td>2022-01-18 09:11:00</td>\n",
       "      <td>2022-02-01 09:11:09</td>\n",
       "      <td>2022-01-18 10:22:18</td>\n",
       "      <td>ONTIME</td>\n",
       "      <td>Closed</td>\n",
       "      <td>Case Closed. Closed date : Tue Jan 18 10:22:18...</td>\n",
       "      <td>PublicWorks: Complaint</td>\n",
       "      <td>Mayor's 24 Hour Hotline</td>\n",
       "      <td>Employee &amp; General Comments</td>\n",
       "      <td>...</td>\n",
       "      <td></td>\n",
       "      <td></td>\n",
       "      <td></td>\n",
       "      <td>NaN</td>\n",
       "      <td>NaN</td>\n",
       "      <td>42.3594</td>\n",
       "      <td>-71.0587</td>\n",
       "      <td>Constituent Call</td>\n",
       "      <td>0 days 01:11:18</td>\n",
       "      <td>0.049514</td>\n",
       "    </tr>\n",
       "    <tr>\n",
       "      <th>1574</th>\n",
       "      <td>101004144874</td>\n",
       "      <td>2022-01-24 09:32:51</td>\n",
       "      <td>2022-02-07 09:32:51</td>\n",
       "      <td>2022-01-24 09:55:04</td>\n",
       "      <td>ONTIME</td>\n",
       "      <td>Closed</td>\n",
       "      <td>Case Closed Case Noted</td>\n",
       "      <td>PublicWorks: Complaint</td>\n",
       "      <td>Mayor's 24 Hour Hotline</td>\n",
       "      <td>Employee &amp; General Comments</td>\n",
       "      <td>...</td>\n",
       "      <td></td>\n",
       "      <td></td>\n",
       "      <td></td>\n",
       "      <td>NaN</td>\n",
       "      <td>NaN</td>\n",
       "      <td>42.3594</td>\n",
       "      <td>-71.0587</td>\n",
       "      <td>Constituent Call</td>\n",
       "      <td>0 days 00:22:13</td>\n",
       "      <td>0.015428</td>\n",
       "    </tr>\n",
       "    <tr>\n",
       "      <th>1612</th>\n",
       "      <td>101004146190</td>\n",
       "      <td>2022-01-25 12:48:25</td>\n",
       "      <td>2022-02-08 12:48:25</td>\n",
       "      <td>2022-01-25 16:24:50</td>\n",
       "      <td>ONTIME</td>\n",
       "      <td>Closed</td>\n",
       "      <td>Case Closed. Closed date : 2022-01-25 16:24:50...</td>\n",
       "      <td>Other: Comment</td>\n",
       "      <td>Mayor's 24 Hour Hotline</td>\n",
       "      <td>Employee &amp; General Comments</td>\n",
       "      <td>...</td>\n",
       "      <td></td>\n",
       "      <td></td>\n",
       "      <td></td>\n",
       "      <td>NaN</td>\n",
       "      <td>NaN</td>\n",
       "      <td>42.3594</td>\n",
       "      <td>-71.0587</td>\n",
       "      <td>Constituent Call</td>\n",
       "      <td>0 days 03:36:25</td>\n",
       "      <td>0.150289</td>\n",
       "    </tr>\n",
       "    <tr>\n",
       "      <th>1777</th>\n",
       "      <td>101004145555</td>\n",
       "      <td>2022-01-24 18:24:00</td>\n",
       "      <td>2022-02-03 08:30:00</td>\n",
       "      <td>2022-02-09 09:32:31</td>\n",
       "      <td>OVERDUE</td>\n",
       "      <td>Closed</td>\n",
       "      <td>Case Closed. Closed date : Wed Feb 09 09:32:31...</td>\n",
       "      <td>Parks Lighting Issue: Brophy Park - BPRD</td>\n",
       "      <td>Parks &amp; Recreation Department</td>\n",
       "      <td>Park Maintenance &amp; Safety</td>\n",
       "      <td>...</td>\n",
       "      <td></td>\n",
       "      <td></td>\n",
       "      <td></td>\n",
       "      <td>NaN</td>\n",
       "      <td>NaN</td>\n",
       "      <td>42.3594</td>\n",
       "      <td>-71.0587</td>\n",
       "      <td>Constituent Call</td>\n",
       "      <td>15 days 15:08:31</td>\n",
       "      <td>15.630914</td>\n",
       "    </tr>\n",
       "    <tr>\n",
       "      <th>2433</th>\n",
       "      <td>101004115813</td>\n",
       "      <td>2022-01-04 12:06:54</td>\n",
       "      <td>2022-01-06 12:07:26</td>\n",
       "      <td>2022-01-04 14:57:18</td>\n",
       "      <td>ONTIME</td>\n",
       "      <td>Closed</td>\n",
       "      <td>Case Closed. Closed date : Tue Jan 04 14:57:18...</td>\n",
       "      <td>Improper Storage of Trash (Barrels)</td>\n",
       "      <td>Public Works Department</td>\n",
       "      <td>Code Enforcement</td>\n",
       "      <td>...</td>\n",
       "      <td></td>\n",
       "      <td></td>\n",
       "      <td></td>\n",
       "      <td>NaN</td>\n",
       "      <td>NaN</td>\n",
       "      <td>42.3594</td>\n",
       "      <td>-71.0587</td>\n",
       "      <td>Constituent Call</td>\n",
       "      <td>0 days 02:50:24</td>\n",
       "      <td>0.118333</td>\n",
       "    </tr>\n",
       "    <tr>\n",
       "      <th>2489</th>\n",
       "      <td>101004116451</td>\n",
       "      <td>2022-01-05 02:15:02</td>\n",
       "      <td>2022-01-12 08:30:00</td>\n",
       "      <td>2022-01-05 07:40:59</td>\n",
       "      <td>ONTIME</td>\n",
       "      <td>Closed</td>\n",
       "      <td>Case Closed. Closed date : 2022-01-05 07:40:59...</td>\n",
       "      <td>Cemetery Maintenance Request</td>\n",
       "      <td>Parks &amp; Recreation Department</td>\n",
       "      <td>Cemetery</td>\n",
       "      <td>...</td>\n",
       "      <td></td>\n",
       "      <td></td>\n",
       "      <td></td>\n",
       "      <td>NaN</td>\n",
       "      <td>NaN</td>\n",
       "      <td>42.3594</td>\n",
       "      <td>-71.0587</td>\n",
       "      <td>Constituent Call</td>\n",
       "      <td>0 days 05:25:57</td>\n",
       "      <td>0.226354</td>\n",
       "    </tr>\n",
       "    <tr>\n",
       "      <th>2521</th>\n",
       "      <td>101004155729</td>\n",
       "      <td>2022-01-31 12:20:00</td>\n",
       "      <td>2022-02-07 12:21:11</td>\n",
       "      <td>2022-01-31 14:48:06</td>\n",
       "      <td>ONTIME</td>\n",
       "      <td>Closed</td>\n",
       "      <td>Case Closed. Closed date : Mon Jan 31 14:48:06...</td>\n",
       "      <td>Ground Maintenance: Franklin Park - BPRD</td>\n",
       "      <td>Parks &amp; Recreation Department</td>\n",
       "      <td>Park Maintenance &amp; Safety</td>\n",
       "      <td>...</td>\n",
       "      <td></td>\n",
       "      <td></td>\n",
       "      <td></td>\n",
       "      <td>NaN</td>\n",
       "      <td>NaN</td>\n",
       "      <td>42.3594</td>\n",
       "      <td>-71.0587</td>\n",
       "      <td>Employee Generated</td>\n",
       "      <td>0 days 02:28:06</td>\n",
       "      <td>0.102847</td>\n",
       "    </tr>\n",
       "    <tr>\n",
       "      <th>2677</th>\n",
       "      <td>101004156474</td>\n",
       "      <td>2022-01-31 15:32:00</td>\n",
       "      <td>2022-02-14 15:32:53</td>\n",
       "      <td>2022-02-03 18:30:57</td>\n",
       "      <td>ONTIME</td>\n",
       "      <td>Closed</td>\n",
       "      <td>Case Closed. Closed date : Thu Feb 03 18:30:57...</td>\n",
       "      <td>PublicWorks: Complaint</td>\n",
       "      <td>Mayor's 24 Hour Hotline</td>\n",
       "      <td>Employee &amp; General Comments</td>\n",
       "      <td>...</td>\n",
       "      <td></td>\n",
       "      <td></td>\n",
       "      <td></td>\n",
       "      <td>NaN</td>\n",
       "      <td>NaN</td>\n",
       "      <td>42.3594</td>\n",
       "      <td>-71.0587</td>\n",
       "      <td>Constituent Call</td>\n",
       "      <td>3 days 02:58:57</td>\n",
       "      <td>3.124271</td>\n",
       "    </tr>\n",
       "    <tr>\n",
       "      <th>2687</th>\n",
       "      <td>101004156811</td>\n",
       "      <td>2022-01-31 16:48:07</td>\n",
       "      <td>2022-02-14 16:48:07</td>\n",
       "      <td>2022-01-31 16:51:07</td>\n",
       "      <td>ONTIME</td>\n",
       "      <td>Closed</td>\n",
       "      <td>Case Closed Case Noted</td>\n",
       "      <td>PublicWorks: Complaint</td>\n",
       "      <td>Mayor's 24 Hour Hotline</td>\n",
       "      <td>Employee &amp; General Comments</td>\n",
       "      <td>...</td>\n",
       "      <td></td>\n",
       "      <td></td>\n",
       "      <td></td>\n",
       "      <td>NaN</td>\n",
       "      <td>NaN</td>\n",
       "      <td>42.3594</td>\n",
       "      <td>-71.0587</td>\n",
       "      <td>Constituent Call</td>\n",
       "      <td>0 days 00:03:00</td>\n",
       "      <td>0.002083</td>\n",
       "    </tr>\n",
       "  </tbody>\n",
       "</table>\n",
       "<p>15 rows × 30 columns</p>\n",
       "</div>"
      ],
      "text/plain": [
       "      case_enquiry_id             open_dt           target_dt  \\\n",
       "163      101004115729 2022-01-04 11:11:00 2022-02-03 11:11:34   \n",
       "207      101004117130 2022-01-05 14:25:00 2022-01-14 14:25:51   \n",
       "301      101004118921 2022-01-07 12:55:08                 NaT   \n",
       "640      101004123032 2022-01-11 14:00:00 2022-01-25 14:00:53   \n",
       "882      101004121696 2022-01-10 10:35:00 2022-01-17 10:35:33   \n",
       "1280     101004141822 2022-01-20 12:49:51 2022-01-31 12:49:51   \n",
       "1509     101004129011 2022-01-18 09:11:00 2022-02-01 09:11:09   \n",
       "1574     101004144874 2022-01-24 09:32:51 2022-02-07 09:32:51   \n",
       "1612     101004146190 2022-01-25 12:48:25 2022-02-08 12:48:25   \n",
       "1777     101004145555 2022-01-24 18:24:00 2022-02-03 08:30:00   \n",
       "2433     101004115813 2022-01-04 12:06:54 2022-01-06 12:07:26   \n",
       "2489     101004116451 2022-01-05 02:15:02 2022-01-12 08:30:00   \n",
       "2521     101004155729 2022-01-31 12:20:00 2022-02-07 12:21:11   \n",
       "2677     101004156474 2022-01-31 15:32:00 2022-02-14 15:32:53   \n",
       "2687     101004156811 2022-01-31 16:48:07 2022-02-14 16:48:07   \n",
       "\n",
       "               closed_dt   ontime case_status  \\\n",
       "163  2022-01-05 09:43:58   ONTIME      Closed   \n",
       "207  2022-02-10 10:59:15  OVERDUE      Closed   \n",
       "301  2022-01-10 09:20:39   ONTIME      Closed   \n",
       "640  2022-01-12 12:37:49   ONTIME      Closed   \n",
       "882  2022-01-10 11:06:04   ONTIME      Closed   \n",
       "1280 2022-01-21 10:30:31   ONTIME      Closed   \n",
       "1509 2022-01-18 10:22:18   ONTIME      Closed   \n",
       "1574 2022-01-24 09:55:04   ONTIME      Closed   \n",
       "1612 2022-01-25 16:24:50   ONTIME      Closed   \n",
       "1777 2022-02-09 09:32:31  OVERDUE      Closed   \n",
       "2433 2022-01-04 14:57:18   ONTIME      Closed   \n",
       "2489 2022-01-05 07:40:59   ONTIME      Closed   \n",
       "2521 2022-01-31 14:48:06   ONTIME      Closed   \n",
       "2677 2022-02-03 18:30:57   ONTIME      Closed   \n",
       "2687 2022-01-31 16:51:07   ONTIME      Closed   \n",
       "\n",
       "                                         closure_reason  \\\n",
       "163   Case Closed. Closed date : Wed Jan 05 09:43:58...   \n",
       "207   Case Closed. Closed date : Thu Feb 10 10:59:15...   \n",
       "301   Case Closed. Closed date : 2022-01-10 09:20:39...   \n",
       "640   Case Closed. Closed date : Wed Jan 12 12:37:49...   \n",
       "882   Case Closed. Closed date : Mon Jan 10 11:06:04...   \n",
       "1280  Case Closed. Closed date : Fri Jan 21 10:30:31...   \n",
       "1509  Case Closed. Closed date : Tue Jan 18 10:22:18...   \n",
       "1574                         Case Closed Case Noted       \n",
       "1612  Case Closed. Closed date : 2022-01-25 16:24:50...   \n",
       "1777  Case Closed. Closed date : Wed Feb 09 09:32:31...   \n",
       "2433  Case Closed. Closed date : Tue Jan 04 14:57:18...   \n",
       "2489  Case Closed. Closed date : 2022-01-05 07:40:59...   \n",
       "2521  Case Closed. Closed date : Mon Jan 31 14:48:06...   \n",
       "2677  Case Closed. Closed date : Thu Feb 03 18:30:57...   \n",
       "2687                         Case Closed Case Noted       \n",
       "\n",
       "                                             case_title  \\\n",
       "163           DISPATCHED Heat - Excessive  Insufficient   \n",
       "207                                             printed   \n",
       "301                    General Comments For An Employee   \n",
       "640                              PublicWorks: Complaint   \n",
       "882   Ground Maintenance: Brewer/Burroughs Tot Lot -...   \n",
       "1280  Parks Lighting Issue: Mozart St. Playground - ...   \n",
       "1509                             PublicWorks: Complaint   \n",
       "1574                             PublicWorks: Complaint   \n",
       "1612                                     Other: Comment   \n",
       "1777           Parks Lighting Issue: Brophy Park - BPRD   \n",
       "2433                Improper Storage of Trash (Barrels)   \n",
       "2489                       Cemetery Maintenance Request   \n",
       "2521           Ground Maintenance: Franklin Park - BPRD   \n",
       "2677                             PublicWorks: Complaint   \n",
       "2687                             PublicWorks: Complaint   \n",
       "\n",
       "                            subject                       reason  ...  \\\n",
       "163           Inspectional Services                      Housing  ...   \n",
       "207   Parks & Recreation Department    Park Maintenance & Safety  ...   \n",
       "301         Mayor's 24 Hour Hotline  Employee & General Comments  ...   \n",
       "640         Mayor's 24 Hour Hotline  Employee & General Comments  ...   \n",
       "882   Parks & Recreation Department    Park Maintenance & Safety  ...   \n",
       "1280  Parks & Recreation Department    Park Maintenance & Safety  ...   \n",
       "1509        Mayor's 24 Hour Hotline  Employee & General Comments  ...   \n",
       "1574        Mayor's 24 Hour Hotline  Employee & General Comments  ...   \n",
       "1612        Mayor's 24 Hour Hotline  Employee & General Comments  ...   \n",
       "1777  Parks & Recreation Department    Park Maintenance & Safety  ...   \n",
       "2433        Public Works Department             Code Enforcement  ...   \n",
       "2489  Parks & Recreation Department                     Cemetery  ...   \n",
       "2521  Parks & Recreation Department    Park Maintenance & Safety  ...   \n",
       "2677        Mayor's 24 Hour Hotline  Employee & General Comments  ...   \n",
       "2687        Mayor's 24 Hour Hotline  Employee & General Comments  ...   \n",
       "\n",
       "     neighborhood_services_district ward precinct location_street_name  \\\n",
       "163                                                                NaN   \n",
       "207                                                                NaN   \n",
       "301                                                                NaN   \n",
       "640                                                                NaN   \n",
       "882                                                                NaN   \n",
       "1280                                                               NaN   \n",
       "1509                                                               NaN   \n",
       "1574                                                               NaN   \n",
       "1612                                                               NaN   \n",
       "1777                                                               NaN   \n",
       "2433                                                               NaN   \n",
       "2489                                                               NaN   \n",
       "2521                                                               NaN   \n",
       "2677                                                               NaN   \n",
       "2687                                                               NaN   \n",
       "\n",
       "     location_zipcode latitude longitude              source    case_duration  \\\n",
       "163               NaN  42.3594  -71.0587    Constituent Call  0 days 22:32:58   \n",
       "207               NaN  42.3594  -71.0587    Constituent Call 35 days 20:34:15   \n",
       "301               NaN  42.3594  -71.0587    Constituent Call  2 days 20:25:31   \n",
       "640               NaN  42.3594  -71.0587    Constituent Call  0 days 22:37:49   \n",
       "882               NaN  42.3594  -71.0587  Employee Generated  0 days 00:31:04   \n",
       "1280              NaN  42.3594  -71.0587        Self Service  0 days 21:40:40   \n",
       "1509              NaN  42.3594  -71.0587    Constituent Call  0 days 01:11:18   \n",
       "1574              NaN  42.3594  -71.0587    Constituent Call  0 days 00:22:13   \n",
       "1612              NaN  42.3594  -71.0587    Constituent Call  0 days 03:36:25   \n",
       "1777              NaN  42.3594  -71.0587    Constituent Call 15 days 15:08:31   \n",
       "2433              NaN  42.3594  -71.0587    Constituent Call  0 days 02:50:24   \n",
       "2489              NaN  42.3594  -71.0587    Constituent Call  0 days 05:25:57   \n",
       "2521              NaN  42.3594  -71.0587  Employee Generated  0 days 02:28:06   \n",
       "2677              NaN  42.3594  -71.0587    Constituent Call  3 days 02:58:57   \n",
       "2687              NaN  42.3594  -71.0587    Constituent Call  0 days 00:03:00   \n",
       "\n",
       "     duration_in_days  \n",
       "163          0.939560  \n",
       "207         35.857118  \n",
       "301          2.851053  \n",
       "640          0.942928  \n",
       "882          0.021574  \n",
       "1280         0.903241  \n",
       "1509         0.049514  \n",
       "1574         0.015428  \n",
       "1612         0.150289  \n",
       "1777        15.630914  \n",
       "2433         0.118333  \n",
       "2489         0.226354  \n",
       "2521         0.102847  \n",
       "2677         3.124271  \n",
       "2687         0.002083  \n",
       "\n",
       "[15 rows x 30 columns]"
      ]
     },
     "execution_count": 37,
     "metadata": {},
     "output_type": "execute_result"
    }
   ],
   "source": [
    "# uncomment and run the line below to check for the empty neighborhood label \n",
    "# print(df_closed['neighborhood'].unique())\n",
    "\n",
    "# gather the rows where neighborhood == ' ' \n",
    "df_no_neighborhood = df_closed.loc[(df_closed['neighborhood'] == ' ')]\n",
    "df_no_neighborhood.head(15) # display first 15 rows"
   ]
  },
  {
   "cell_type": "code",
   "execution_count": 38,
   "metadata": {
    "colab": {
     "base_uri": "https://localhost:8080/"
    },
    "executionInfo": {
     "elapsed": 181,
     "status": "ok",
     "timestamp": 1660750427158,
     "user": {
      "displayName": "Michelle Voong",
      "userId": "06511363073265027000"
     },
     "user_tz": 240
    },
    "id": "Bd4Yz5PI3XGo",
    "outputId": "f3a6c416-1997-49b6-e0b3-ac21d73def68"
   },
   "outputs": [
    {
     "name": "stdout",
     "output_type": "stream",
     "text": [
      "[42.3594]\n",
      "[-71.0587]\n"
     ]
    }
   ],
   "source": [
    "print(df_no_neighborhood['latitude'].unique())\n",
    "print(df_no_neighborhood['longitude'].unique())"
   ]
  },
  {
   "cell_type": "markdown",
   "metadata": {
    "id": "6NGLLmUA3XGo"
   },
   "source": [
    "The latitude and longitude values are the same for all of the rows without a ```neighborhood``` value. We can use the *Geopy* module to convert the latitude and longitude coordinates to a place or location address - also referred to as reverse geocoding. "
   ]
  },
  {
   "cell_type": "code",
   "execution_count": 39,
   "metadata": {
    "colab": {
     "base_uri": "https://localhost:8080/"
    },
    "executionInfo": {
     "elapsed": 342,
     "status": "ok",
     "timestamp": 1660750428607,
     "user": {
      "displayName": "Michelle Voong",
      "userId": "06511363073265027000"
     },
     "user_tz": 240
    },
    "id": "9-6lVzmX3XGo",
    "outputId": "1b3862bb-72a2-404a-d124-46d5cc46489c"
   },
   "outputs": [
    {
     "ename": "ModuleNotFoundError",
     "evalue": "No module named 'geopy'",
     "output_type": "error",
     "traceback": [
      "\u001b[0;31m---------------------------------------------------------------------------\u001b[0m",
      "\u001b[0;31mModuleNotFoundError\u001b[0m                       Traceback (most recent call last)",
      "Cell \u001b[0;32mIn[39], line 2\u001b[0m\n\u001b[1;32m      1\u001b[0m \u001b[38;5;66;03m# import geopy \u001b[39;00m\n\u001b[0;32m----> 2\u001b[0m \u001b[38;5;28;01mfrom\u001b[39;00m \u001b[38;5;21;01mgeopy\u001b[39;00m\u001b[38;5;21;01m.\u001b[39;00m\u001b[38;5;21;01mgeocoders\u001b[39;00m \u001b[38;5;28;01mimport\u001b[39;00m Nominatim \n\u001b[1;32m      4\u001b[0m \u001b[38;5;66;03m# make a Nominatim object and initialize, specify a user_agent \u001b[39;00m\n\u001b[1;32m      5\u001b[0m \u001b[38;5;66;03m# Nominatim requires this value to be set to your application name, to be able to limit the number of requests per application\u001b[39;00m\n\u001b[1;32m      6\u001b[0m \u001b[38;5;66;03m# Nominatim is a free service but provides low request limits: https://operations.osmfoundation.org/policies/nominatim/\u001b[39;00m\n\u001b[1;32m      7\u001b[0m geolocator \u001b[38;5;241m=\u001b[39m Nominatim(user_agent\u001b[38;5;241m=\u001b[39m\u001b[38;5;124m\"\u001b[39m\u001b[38;5;124meda_geotest\u001b[39m\u001b[38;5;124m\"\u001b[39m)\n",
      "\u001b[0;31mModuleNotFoundError\u001b[0m: No module named 'geopy'"
     ]
    }
   ],
   "source": [
    "# import geopy \n",
    "from geopy.geocoders import Nominatim \n",
    "\n",
    "# make a Nominatim object and initialize, specify a user_agent \n",
    "# Nominatim requires this value to be set to your application name, to be able to limit the number of requests per application\n",
    "# Nominatim is a free service but provides low request limits: https://operations.osmfoundation.org/policies/nominatim/\n",
    "geolocator = Nominatim(user_agent=\"eda_geotest\")\n",
    "\n",
    "# set latitude and longitude and convert to string \n",
    "lat = str(df_no_neighborhood['latitude'].unique()[0])\n",
    "long = str(df_no_neighborhood['longitude'].unique()[0])\n",
    "\n",
    "# get the location information\n",
    "location = geolocator.reverse(lat + \",\" +long)\n",
    "\n",
    "# display location information, add .raw for more details\n",
    "print(location.raw)"
   ]
  },
  {
   "cell_type": "markdown",
   "metadata": {
    "id": "zaSDa5ZT3XGp"
   },
   "source": [
    "Quick Google Maps search of the location confirms that (42.3594, -71.0587) is Government Center. The output from *geopy* is Sear's Crescent and Sears' Block which are a pair of buildings adjacent to City Hall and City Hall Plaza, Government Center.\n",
    "\n",
    "Another quick look at the output from *geopy* shows that the ```lat``` and ```lon``` values are similar but different from the latitude and longitude values in the dataset. \n",
    "\n",
    "The requests without a neighborhood value have a general location of Government Center. At least we can confirm that requests without a neighborhood value are not outside of Boston or erroneous. "
   ]
  },
  {
   "cell_type": "markdown",
   "metadata": {
    "id": "CQGzIR183XGp"
   },
   "source": [
    "\n",
    "### During January 2022 - March 2022, where did the most case requests come from?\n",
    "\n",
    "To answer this question, we will take a look at the ```source``` column. "
   ]
  },
  {
   "cell_type": "code",
   "execution_count": null,
   "metadata": {
    "colab": {
     "base_uri": "https://localhost:8080/"
    },
    "executionInfo": {
     "elapsed": 208,
     "status": "ok",
     "timestamp": 1660750433463,
     "user": {
      "displayName": "Michelle Voong",
      "userId": "06511363073265027000"
     },
     "user_tz": 240
    },
    "id": "KxlMdrp93XGp",
    "outputId": "aa8fe38a-c178-42ca-ae2f-0061474179a5"
   },
   "outputs": [],
   "source": [
    "# has only 5 unique values so in this case we can use a pie chart \n",
    "len(df_closed['source'].unique())"
   ]
  },
  {
   "cell_type": "code",
   "execution_count": null,
   "metadata": {
    "colab": {
     "base_uri": "https://localhost:8080/"
    },
    "executionInfo": {
     "elapsed": 183,
     "status": "ok",
     "timestamp": 1660750434887,
     "user": {
      "displayName": "Michelle Voong",
      "userId": "06511363073265027000"
     },
     "user_tz": 240
    },
    "id": "F13WugP83XGp",
    "outputId": "c4656084-14ca-4fe2-bdd5-470d3357f71e"
   },
   "outputs": [],
   "source": [
    "# displaying the number of requests by each source type \n",
    "df_closed['source'].value_counts()"
   ]
  },
  {
   "cell_type": "code",
   "execution_count": null,
   "metadata": {
    "colab": {
     "base_uri": "https://localhost:8080/",
     "height": 248
    },
    "executionInfo": {
     "elapsed": 159,
     "status": "ok",
     "timestamp": 1660750436878,
     "user": {
      "displayName": "Michelle Voong",
      "userId": "06511363073265027000"
     },
     "user_tz": 240
    },
    "id": "Xs6qo0lP3XGp",
    "outputId": "f2fe9d7f-e665-45eb-8d34-5603a0663da7"
   },
   "outputs": [],
   "source": [
    "# visualizing the breakdown of where case requests come from \n",
    "# seaborn doesn't have a default pie chart but you can add seaborn color palettes to matplotlib plots\n",
    "\n",
    "colors = sns.color_palette('pastel')[0:5]\n",
    "ax = df_closed['source'].value_counts().plot.pie(colors=colors)"
   ]
  },
  {
   "cell_type": "code",
   "execution_count": null,
   "metadata": {
    "colab": {
     "base_uri": "https://localhost:8080/",
     "height": 248
    },
    "executionInfo": {
     "elapsed": 189,
     "status": "ok",
     "timestamp": 1660750438754,
     "user": {
      "displayName": "Michelle Voong",
      "userId": "06511363073265027000"
     },
     "user_tz": 240
    },
    "id": "CApeB0973XGp",
    "outputId": "1056d626-6e09-4729-d3a9-53ab836745d2"
   },
   "outputs": [],
   "source": [
    "# label each slice with the percentage of requests per source \n",
    "ax = df_closed['source'].value_counts().plot.pie(colors=colors,autopct='%1.1f%%')\n",
    "\n",
    "# run the following to remove the default column name label *source*\n",
    "#ax.yaxis.set_visible(False)"
   ]
  },
  {
   "cell_type": "markdown",
   "metadata": {
    "id": "tKYqYK1_3XGp"
   },
   "source": [
    "From the pie chart, 54% of the requests from January 2022 - March 2022 came from the Citizens Connect App, 35.4% came from a Constituent Call, followed by 6.4% from the City Worker App. "
   ]
  },
  {
   "cell_type": "markdown",
   "metadata": {
    "id": "cnjoCNnQ3XGp"
   },
   "source": [
    "### How many different types of requests were there from January 2022 - March 2022?\n",
    "\n",
    "To answer this question, we will take a look at the ```reason``` column. "
   ]
  },
  {
   "cell_type": "code",
   "execution_count": null,
   "metadata": {
    "colab": {
     "base_uri": "https://localhost:8080/"
    },
    "executionInfo": {
     "elapsed": 182,
     "status": "ok",
     "timestamp": 1660750441902,
     "user": {
      "displayName": "Michelle Voong",
      "userId": "06511363073265027000"
     },
     "user_tz": 240
    },
    "id": "zVpNc1UV3XGp",
    "outputId": "7881f507-6fde-4441-c23d-cfcd10accdc1"
   },
   "outputs": [],
   "source": [
    "# how many different reasons are there \n",
    "len(df_closed['reason'].unique())"
   ]
  },
  {
   "cell_type": "code",
   "execution_count": null,
   "metadata": {
    "colab": {
     "base_uri": "https://localhost:8080/"
    },
    "executionInfo": {
     "elapsed": 211,
     "status": "ok",
     "timestamp": 1660750444724,
     "user": {
      "displayName": "Michelle Voong",
      "userId": "06511363073265027000"
     },
     "user_tz": 240
    },
    "id": "Ie2Y3L243XGq",
    "outputId": "655b0a45-81f6-4c1a-85c0-ff78f91cde16"
   },
   "outputs": [],
   "source": [
    "# number of requests by reason \n",
    "df_closed['reason'].value_counts()"
   ]
  },
  {
   "cell_type": "markdown",
   "metadata": {
    "id": "8mTokvaI3XGq"
   },
   "source": [
    "There were 38 different types of requests from January 2022 - March 2022, the top three with most requests being *Enforcement & Abandoned Vehicles* with 14,908 requests, *Code Enforcement* with 10,437 requests, then *Street Cleaning* with 8,477 requests. "
   ]
  },
  {
   "cell_type": "code",
   "execution_count": null,
   "metadata": {
    "colab": {
     "base_uri": "https://localhost:8080/",
     "height": 834
    },
    "executionInfo": {
     "elapsed": 177,
     "status": "ok",
     "timestamp": 1660750447335,
     "user": {
      "displayName": "Michelle Voong",
      "userId": "06511363073265027000"
     },
     "user_tz": 240
    },
    "id": "PuNkyumW3XGq",
    "outputId": "f4730770-a7a1-4436-8006-caf5a04c567d"
   },
   "outputs": [],
   "source": [
    "# top case request reason by neighborhood \n",
    "df_closed.groupby(['neighborhood'])['reason'].describe()"
   ]
  },
  {
   "cell_type": "code",
   "execution_count": null,
   "metadata": {
    "colab": {
     "base_uri": "https://localhost:8080/",
     "height": 455
    },
    "executionInfo": {
     "elapsed": 1542,
     "status": "ok",
     "timestamp": 1660750453246,
     "user": {
      "displayName": "Michelle Voong",
      "userId": "06511363073265027000"
     },
     "user_tz": 240
    },
    "id": "5exMcqY93XGq",
    "outputId": "194adbb6-e49b-4309-da8a-b6f8f85133ed"
   },
   "outputs": [],
   "source": [
    "# get counts for each request reason by neighborhood \n",
    "reason_by_neighborhood = df_closed.groupby(['neighborhood', 'reason'])['duration_in_days'].describe()[['count']]\n",
    "reason_by_neighborhood"
   ]
  },
  {
   "cell_type": "code",
   "execution_count": null,
   "metadata": {
    "executionInfo": {
     "elapsed": 156,
     "status": "ok",
     "timestamp": 1660750455720,
     "user": {
      "displayName": "Michelle Voong",
      "userId": "06511363073265027000"
     },
     "user_tz": 240
    },
    "id": "UePCakuX3XGq"
   },
   "outputs": [],
   "source": [
    "# run this cell to write the reason by neighborhood to a csv to see all rows of data \n",
    "reason_by_neighborhood.to_csv('reasons_by_neighborhood.csv')"
   ]
  },
  {
   "cell_type": "code",
   "execution_count": null,
   "metadata": {
    "colab": {
     "base_uri": "https://localhost:8080/",
     "height": 928
    },
    "executionInfo": {
     "elapsed": 168,
     "status": "ok",
     "timestamp": 1660750456753,
     "user": {
      "displayName": "Michelle Voong",
      "userId": "06511363073265027000"
     },
     "user_tz": 240
    },
    "id": "j71KzjHc3XGq",
    "outputId": "2a00b53b-0a92-4511-c0a4-f464cb6b45b7"
   },
   "outputs": [],
   "source": [
    "# let's take a look at the South End neighborhood specifically \n",
    "south_end_df = df_closed.loc[(df_closed['neighborhood'] == 'South End')]\n",
    "south_end_df.groupby(['reason'])['duration_in_days'].describe()[['count']]"
   ]
  },
  {
   "cell_type": "markdown",
   "metadata": {
    "id": "BLqIuZGT3XGq"
   },
   "source": [
    "### What types of cases typically take the longest to resolve?\n",
    "\n",
    "To answer this question, let's take a look at the ```duration_in_days``` and ```reason``` columns."
   ]
  },
  {
   "cell_type": "code",
   "execution_count": null,
   "metadata": {
    "colab": {
     "base_uri": "https://localhost:8080/",
     "height": 383
    },
    "executionInfo": {
     "elapsed": 2775,
     "status": "ok",
     "timestamp": 1660750466295,
     "user": {
      "displayName": "Michelle Voong",
      "userId": "06511363073265027000"
     },
     "user_tz": 240
    },
    "id": "-UOoc__b3XGq",
    "outputId": "88753974-a3d6-4517-91a0-83d9dbdd2551"
   },
   "outputs": [],
   "source": [
    "# what types of cases typically take the longest \n",
    "# case_duration by reason \n",
    "\n",
    "sns.catplot(x=\"reason\", y=\"duration_in_days\", kind=\"box\", data=df_closed,)"
   ]
  },
  {
   "cell_type": "code",
   "execution_count": null,
   "metadata": {
    "colab": {
     "base_uri": "https://localhost:8080/",
     "height": 599
    },
    "executionInfo": {
     "elapsed": 2784,
     "status": "ok",
     "timestamp": 1660750476929,
     "user": {
      "displayName": "Michelle Voong",
      "userId": "06511363073265027000"
     },
     "user_tz": 240
    },
    "id": "0X3NFnhz3XGq",
    "outputId": "7ea80894-7944-48e1-98d0-f1793cccf6cd"
   },
   "outputs": [],
   "source": [
    "# The chart is kind of difficult to read... \n",
    "# Let's fix the size of the chart and flip the labels on the x-axis \n",
    "\n",
    "sns.catplot(y=\"reason\", x=\"duration_in_days\", kind=\"box\", data=df_closed,\n",
    "            height = 8, aspect = 1.25)"
   ]
  },
  {
   "cell_type": "markdown",
   "metadata": {
    "id": "S4efwpI-3XGr"
   },
   "source": [
    "Box plots display the five-number-summary, which includes: the minimum, the maximum, the sample median, and the first and third quartiles. \n",
    "\n",
    "The box plot shows the distribution ```duration_in_days``` in a way that allows comparisions between case ```reasons```. Box plots show the distribution of a numerical variable broken down by a categorical variable. \n",
    "\n",
    "The box shows the quartiles of the ```duration_in_days``` and the whiskers extend to show the rest of the distribution (minimum and maximum). Points that are shown outside of the whiskers are determined to be *outliers*. The line inside the box is the median. "
   ]
  },
  {
   "cell_type": "code",
   "execution_count": null,
   "metadata": {
    "colab": {
     "base_uri": "https://localhost:8080/",
     "height": 1000
    },
    "executionInfo": {
     "elapsed": 163,
     "status": "ok",
     "timestamp": 1660750480961,
     "user": {
      "displayName": "Michelle Voong",
      "userId": "06511363073265027000"
     },
     "user_tz": 240
    },
    "id": "jNLPgTf83XGr",
    "outputId": "7be078db-25f5-47e6-ebb9-2372ae714892"
   },
   "outputs": [],
   "source": [
    "# descriptive statistics for duration_in_days by case reason \n",
    "# box plot in table form \n",
    "df_closed.groupby(['reason'])['duration_in_days'].describe()"
   ]
  },
  {
   "cell_type": "markdown",
   "metadata": {
    "id": "T_IsTpoz3XGr"
   },
   "source": [
    "Graffiti cases take on average take the longests time to resolve, 60.796 days. "
   ]
  },
  {
   "cell_type": "markdown",
   "metadata": {
    "id": "-ByM_sxd3XGr"
   },
   "source": [
    "Do cases typically take longer in one neighborhood over another?"
   ]
  },
  {
   "cell_type": "code",
   "execution_count": null,
   "metadata": {
    "colab": {
     "base_uri": "https://localhost:8080/",
     "height": 599
    },
    "executionInfo": {
     "elapsed": 3773,
     "status": "ok",
     "timestamp": 1660750490053,
     "user": {
      "displayName": "Michelle Voong",
      "userId": "06511363073265027000"
     },
     "user_tz": 240
    },
    "id": "Rqv_P4YC3XGr",
    "outputId": "75d10473-471d-44a9-df91-6ff7770b018d"
   },
   "outputs": [],
   "source": [
    "# do cases typically take longer in one neighborhood over another?\n",
    "\n",
    "sns.catplot(y=\"neighborhood\", x=\"duration_in_days\", kind=\"box\", data=df_closed,\n",
    "            height = 8, aspect = 1.25)"
   ]
  },
  {
   "cell_type": "markdown",
   "metadata": {
    "id": "Eny2G4fw3XGr"
   },
   "source": [
    "The box plot above shows several outliers for each category (```neighborhood```) making it difficult to read and quite overwhelming. \n",
    "\n",
    "Let's display the information in table form. "
   ]
  },
  {
   "cell_type": "code",
   "execution_count": null,
   "metadata": {
    "colab": {
     "base_uri": "https://localhost:8080/",
     "height": 834
    },
    "executionInfo": {
     "elapsed": 171,
     "status": "ok",
     "timestamp": 1660750491278,
     "user": {
      "displayName": "Michelle Voong",
      "userId": "06511363073265027000"
     },
     "user_tz": 240
    },
    "id": "ATal5UEM3XGs",
    "outputId": "11f169b2-c65b-4664-d4e6-354230542862"
   },
   "outputs": [],
   "source": [
    "# in table form \n",
    "df_closed.groupby(['neighborhood'])['duration_in_days'].describe()"
   ]
  },
  {
   "cell_type": "markdown",
   "metadata": {
    "id": "PPQ6jDXE3XGs"
   },
   "source": [
    "In January 2022 - March 2022, cases took the longest in Chestnut Hill. Cases typically lasted on average 19.075 days but there were only 4 cases located in Chestnut Hill during this time. Smaller sample sizes could mean more variability (look at standard deviation to explain the spread of observations).  \n",
    "\n",
    "We can further look at the population of Chestnut Hill versus the other neighborhoods to try and make sense of this low case count. Additionally, we can broaden the time period of the cases to see if Chestnut Hill still has a low case count. \n",
    "\n",
    "From the table above we can see how long cases take by each neighborhood, it would be interesting to further breakdown by case reason for each neighborhood. "
   ]
  },
  {
   "cell_type": "markdown",
   "metadata": {
    "id": "k-jjw5d13XGs"
   },
   "source": [
    "### Wrap Up, Next Steps \n",
    "\n",
    "Further analysis could be done using the 311 dataset. Using the 311 data from previous years, we can see how number of requests have changed over the years, or how case duration may have changed over the years. \n",
    "\n",
    "Since most requests have latitude and longitude coordinates it could be interesting to plot each case request on a map to see if there are clusters of requests in certain locations.  \n",
    "\n",
    "Next steps could include gathering demographic data to overlay on top of the 311 dataset for further analysis. Another possible next step would be to build a model to predict how long a request could take given the request reason, subject, location, source, etc. "
   ]
  }
 ],
 "metadata": {
  "colab": {
   "name": "eda.ipynb",
   "provenance": []
  },
  "kernelspec": {
   "display_name": "Python 3",
   "language": "python",
   "name": "python3"
  },
  "language_info": {
   "codemirror_mode": {
    "name": "ipython",
    "version": 3
   },
   "file_extension": ".py",
   "mimetype": "text/x-python",
   "name": "python",
   "nbconvert_exporter": "python",
   "pygments_lexer": "ipython3",
   "version": "3.11.5"
  },
  "vscode": {
   "interpreter": {
    "hash": "56b72aab97c5d88c22a6bf5872989e2e65e9296dc12395fbfb8350007c775deb"
   }
  }
 },
 "nbformat": 4,
 "nbformat_minor": 4
}
