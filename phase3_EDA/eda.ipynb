{
 "cells": [
  {
   "cell_type": "markdown",
   "metadata": {
    "id": "ddjpnB8_3XGb"
   },
   "source": [
    "# Getting Started With Exploratory Data Analysis (EDA)\n",
    "\n",
    "This notebook serves as a starter guide or template for exploratory data analysis. It will go over the topics mentioned in the EDA guide. "
   ]
  },
  {
   "cell_type": "code",
   "execution_count": 1,
   "metadata": {
    "executionInfo": {
     "elapsed": 684,
     "status": "ok",
     "timestamp": 1660749047476,
     "user": {
      "displayName": "Michelle Voong",
      "userId": "06511363073265027000"
     },
     "user_tz": 240
    },
    "id": "Sz9Ta_KR3XGd"
   },
   "outputs": [],
   "source": [
    "# let's start off by importing the libraries we will need for eda\n",
    "import pandas as pd\n",
    "import numpy as np \n",
    "\n",
    "# for visualizations : \n",
    "import seaborn as sns\n",
    "import matplotlib.pyplot as plt"
   ]
  },
  {
   "cell_type": "markdown",
   "metadata": {
    "id": "Fp7TlhYn3XGe"
   },
   "source": [
    "The dataset we will be using in this tutorial is from Analyze Boston. Analyze Boston is the City of Boston's data hub and is a great resource for data sets regarding the city. \n",
    "\n",
    "We will be working with the 2022 311 Service Requests dataset. The dataset consists of service requests from all channels of engagement. 311 allows you to report non-emergency issues or request non-emergency City services. \n",
    "\n",
    "Link: https://data.boston.gov/dataset/311-service-requests "
   ]
  },
  {
   "cell_type": "code",
   "execution_count": 2,
   "metadata": {
    "executionInfo": {
     "elapsed": 3235,
     "status": "ok",
     "timestamp": 1660749130571,
     "user": {
      "displayName": "Michelle Voong",
      "userId": "06511363073265027000"
     },
     "user_tz": 240
    },
    "id": "NHmBeJL-3XGe"
   },
   "outputs": [],
   "source": [
    "# read in dataset\n",
    "df = pd.read_csv('311-requests.csv') "
   ]
  },
  {
   "cell_type": "code",
   "execution_count": 3,
   "metadata": {
    "colab": {
     "base_uri": "https://localhost:8080/",
     "height": 473
    },
    "executionInfo": {
     "elapsed": 185,
     "status": "ok",
     "timestamp": 1660749131739,
     "user": {
      "displayName": "Michelle Voong",
      "userId": "06511363073265027000"
     },
     "user_tz": 240
    },
    "id": "RuB_ntWw3XGe",
    "outputId": "a0b882db-254c-4b59-e463-fc82d73a859d"
   },
   "outputs": [
    {
     "data": {
      "text/html": [
       "<div>\n",
       "<style scoped>\n",
       "    .dataframe tbody tr th:only-of-type {\n",
       "        vertical-align: middle;\n",
       "    }\n",
       "\n",
       "    .dataframe tbody tr th {\n",
       "        vertical-align: top;\n",
       "    }\n",
       "\n",
       "    .dataframe thead th {\n",
       "        text-align: right;\n",
       "    }\n",
       "</style>\n",
       "<table border=\"1\" class=\"dataframe\">\n",
       "  <thead>\n",
       "    <tr style=\"text-align: right;\">\n",
       "      <th></th>\n",
       "      <th>case_enquiry_id</th>\n",
       "      <th>open_dt</th>\n",
       "      <th>target_dt</th>\n",
       "      <th>closed_dt</th>\n",
       "      <th>ontime</th>\n",
       "      <th>case_status</th>\n",
       "      <th>closure_reason</th>\n",
       "      <th>case_title</th>\n",
       "      <th>subject</th>\n",
       "      <th>reason</th>\n",
       "      <th>...</th>\n",
       "      <th>police_district</th>\n",
       "      <th>neighborhood</th>\n",
       "      <th>neighborhood_services_district</th>\n",
       "      <th>ward</th>\n",
       "      <th>precinct</th>\n",
       "      <th>location_street_name</th>\n",
       "      <th>location_zipcode</th>\n",
       "      <th>latitude</th>\n",
       "      <th>longitude</th>\n",
       "      <th>source</th>\n",
       "    </tr>\n",
       "  </thead>\n",
       "  <tbody>\n",
       "    <tr>\n",
       "      <th>0</th>\n",
       "      <td>101004116078</td>\n",
       "      <td>2022-01-04 15:34:00</td>\n",
       "      <td>NaN</td>\n",
       "      <td>NaN</td>\n",
       "      <td>ONTIME</td>\n",
       "      <td>Open</td>\n",
       "      <td></td>\n",
       "      <td>Abandoned Bicycle</td>\n",
       "      <td>Mayor's 24 Hour Hotline</td>\n",
       "      <td>Abandoned Bicycle</td>\n",
       "      <td>...</td>\n",
       "      <td>A7</td>\n",
       "      <td>East Boston</td>\n",
       "      <td>1</td>\n",
       "      <td>Ward 1</td>\n",
       "      <td>0109</td>\n",
       "      <td>163 Falcon St</td>\n",
       "      <td>2128.0</td>\n",
       "      <td>42.3818</td>\n",
       "      <td>-71.0322</td>\n",
       "      <td>Citizens Connect App</td>\n",
       "    </tr>\n",
       "    <tr>\n",
       "      <th>1</th>\n",
       "      <td>101004113538</td>\n",
       "      <td>2022-01-01 13:40:13</td>\n",
       "      <td>2022-01-04 08:30:00</td>\n",
       "      <td>2022-01-01 17:22:15</td>\n",
       "      <td>ONTIME</td>\n",
       "      <td>Closed</td>\n",
       "      <td>Case Closed. Closed date : Sat Jan 01 17:22:15...</td>\n",
       "      <td>CE Collection</td>\n",
       "      <td>Public Works Department</td>\n",
       "      <td>Street Cleaning</td>\n",
       "      <td>...</td>\n",
       "      <td>D4</td>\n",
       "      <td>South End</td>\n",
       "      <td>6</td>\n",
       "      <td>Ward 9</td>\n",
       "      <td>0902</td>\n",
       "      <td>520 Shawmut Ave</td>\n",
       "      <td>2118.0</td>\n",
       "      <td>42.3376</td>\n",
       "      <td>-71.0774</td>\n",
       "      <td>City Worker App</td>\n",
       "    </tr>\n",
       "    <tr>\n",
       "      <th>2</th>\n",
       "      <td>101004120888</td>\n",
       "      <td>2022-01-09 12:40:43</td>\n",
       "      <td>2022-01-11 08:30:00</td>\n",
       "      <td>2022-01-10 01:24:50</td>\n",
       "      <td>ONTIME</td>\n",
       "      <td>Closed</td>\n",
       "      <td>Case Closed. Closed date : Mon Jan 10 01:24:50...</td>\n",
       "      <td>CE Collection</td>\n",
       "      <td>Public Works Department</td>\n",
       "      <td>Street Cleaning</td>\n",
       "      <td>...</td>\n",
       "      <td>D4</td>\n",
       "      <td>South End</td>\n",
       "      <td>4</td>\n",
       "      <td>03</td>\n",
       "      <td>0307</td>\n",
       "      <td>44 Bradford St</td>\n",
       "      <td>2118.0</td>\n",
       "      <td>42.3431</td>\n",
       "      <td>-71.0683</td>\n",
       "      <td>City Worker App</td>\n",
       "    </tr>\n",
       "    <tr>\n",
       "      <th>3</th>\n",
       "      <td>101004120982</td>\n",
       "      <td>2022-01-09 13:56:00</td>\n",
       "      <td>NaN</td>\n",
       "      <td>NaN</td>\n",
       "      <td>ONTIME</td>\n",
       "      <td>Open</td>\n",
       "      <td></td>\n",
       "      <td>Animal Generic Request</td>\n",
       "      <td>Animal Control</td>\n",
       "      <td>Animal Issues</td>\n",
       "      <td>...</td>\n",
       "      <td>A7</td>\n",
       "      <td>East Boston</td>\n",
       "      <td>1</td>\n",
       "      <td>Ward 1</td>\n",
       "      <td>0110</td>\n",
       "      <td>433 Chelsea St</td>\n",
       "      <td>2128.0</td>\n",
       "      <td>42.3810</td>\n",
       "      <td>-71.0256</td>\n",
       "      <td>Constituent Call</td>\n",
       "    </tr>\n",
       "    <tr>\n",
       "      <th>4</th>\n",
       "      <td>101004127209</td>\n",
       "      <td>2022-01-15 20:42:00</td>\n",
       "      <td>2022-01-20 08:30:00</td>\n",
       "      <td>2022-01-16 08:18:09</td>\n",
       "      <td>ONTIME</td>\n",
       "      <td>Closed</td>\n",
       "      <td>Case Closed Case Resolved</td>\n",
       "      <td>Building Inspection Request</td>\n",
       "      <td>Inspectional Services</td>\n",
       "      <td>Building</td>\n",
       "      <td>...</td>\n",
       "      <td>B2</td>\n",
       "      <td>Roxbury</td>\n",
       "      <td>13</td>\n",
       "      <td>Ward 8</td>\n",
       "      <td>0806</td>\n",
       "      <td>71 Proctor St</td>\n",
       "      <td>2119.0</td>\n",
       "      <td>42.3266</td>\n",
       "      <td>-71.0704</td>\n",
       "      <td>Constituent Call</td>\n",
       "    </tr>\n",
       "  </tbody>\n",
       "</table>\n",
       "<p>5 rows × 29 columns</p>\n",
       "</div>"
      ],
      "text/plain": [
       "   case_enquiry_id              open_dt            target_dt  \\\n",
       "0     101004116078  2022-01-04 15:34:00                  NaN   \n",
       "1     101004113538  2022-01-01 13:40:13  2022-01-04 08:30:00   \n",
       "2     101004120888  2022-01-09 12:40:43  2022-01-11 08:30:00   \n",
       "3     101004120982  2022-01-09 13:56:00                  NaN   \n",
       "4     101004127209  2022-01-15 20:42:00  2022-01-20 08:30:00   \n",
       "\n",
       "             closed_dt  ontime case_status  \\\n",
       "0                  NaN  ONTIME        Open   \n",
       "1  2022-01-01 17:22:15  ONTIME      Closed   \n",
       "2  2022-01-10 01:24:50  ONTIME      Closed   \n",
       "3                  NaN  ONTIME        Open   \n",
       "4  2022-01-16 08:18:09  ONTIME      Closed   \n",
       "\n",
       "                                      closure_reason  \\\n",
       "0                                                      \n",
       "1  Case Closed. Closed date : Sat Jan 01 17:22:15...   \n",
       "2  Case Closed. Closed date : Mon Jan 10 01:24:50...   \n",
       "3                                                      \n",
       "4                      Case Closed Case Resolved       \n",
       "\n",
       "                    case_title                  subject             reason  \\\n",
       "0            Abandoned Bicycle  Mayor's 24 Hour Hotline  Abandoned Bicycle   \n",
       "1                CE Collection  Public Works Department    Street Cleaning   \n",
       "2                CE Collection  Public Works Department    Street Cleaning   \n",
       "3       Animal Generic Request           Animal Control      Animal Issues   \n",
       "4  Building Inspection Request    Inspectional Services           Building   \n",
       "\n",
       "   ... police_district neighborhood neighborhood_services_district    ward  \\\n",
       "0  ...              A7  East Boston                              1  Ward 1   \n",
       "1  ...              D4    South End                              6  Ward 9   \n",
       "2  ...              D4    South End                              4      03   \n",
       "3  ...              A7  East Boston                              1  Ward 1   \n",
       "4  ...              B2      Roxbury                             13  Ward 8   \n",
       "\n",
       "   precinct location_street_name location_zipcode latitude longitude  \\\n",
       "0      0109        163 Falcon St           2128.0  42.3818  -71.0322   \n",
       "1      0902      520 Shawmut Ave           2118.0  42.3376  -71.0774   \n",
       "2      0307       44 Bradford St           2118.0  42.3431  -71.0683   \n",
       "3      0110       433 Chelsea St           2128.0  42.3810  -71.0256   \n",
       "4      0806        71 Proctor St           2119.0  42.3266  -71.0704   \n",
       "\n",
       "                 source  \n",
       "0  Citizens Connect App  \n",
       "1       City Worker App  \n",
       "2       City Worker App  \n",
       "3      Constituent Call  \n",
       "4      Constituent Call  \n",
       "\n",
       "[5 rows x 29 columns]"
      ]
     },
     "execution_count": 3,
     "metadata": {},
     "output_type": "execute_result"
    }
   ],
   "source": [
    "# let's look at the first five rows of the dataset\n",
    "df.head()"
   ]
  },
  {
   "cell_type": "markdown",
   "metadata": {
    "id": "V9awyGqH3XGf"
   },
   "source": [
    "How many observations/rows are there? <br>\n",
    "\n",
    "How many variables/columns are there? <br>\n",
    "\n",
    "What kinds of variables are there? Qualitative? Quantitative? Both? <br>"
   ]
  },
  {
   "cell_type": "code",
   "execution_count": 4,
   "metadata": {
    "colab": {
     "base_uri": "https://localhost:8080/"
    },
    "executionInfo": {
     "elapsed": 146,
     "status": "ok",
     "timestamp": 1660749139509,
     "user": {
      "displayName": "Michelle Voong",
      "userId": "06511363073265027000"
     },
     "user_tz": 240
    },
    "id": "7_i0S7QS3XGg",
    "outputId": "c8239e1d-45a7-4992-e9f8-9285d1f371c1"
   },
   "outputs": [
    {
     "data": {
      "text/plain": [
       "146373"
      ]
     },
     "execution_count": 4,
     "metadata": {},
     "output_type": "execute_result"
    }
   ],
   "source": [
    "# number of observations \n",
    "df.shape[0]"
   ]
  },
  {
   "cell_type": "code",
   "execution_count": 5,
   "metadata": {
    "colab": {
     "base_uri": "https://localhost:8080/"
    },
    "executionInfo": {
     "elapsed": 410,
     "status": "ok",
     "timestamp": 1660749141906,
     "user": {
      "displayName": "Michelle Voong",
      "userId": "06511363073265027000"
     },
     "user_tz": 240
    },
    "id": "FXPERBa33XGg",
    "outputId": "7919a93f-397b-434c-ae3d-6acd9e82f811"
   },
   "outputs": [
    {
     "name": "stdout",
     "output_type": "stream",
     "text": [
      "<class 'pandas.core.frame.DataFrame'>\n",
      "RangeIndex: 146373 entries, 0 to 146372\n",
      "Data columns (total 29 columns):\n",
      " #   Column                          Non-Null Count   Dtype  \n",
      "---  ------                          --------------   -----  \n",
      " 0   case_enquiry_id                 146373 non-null  int64  \n",
      " 1   open_dt                         146373 non-null  object \n",
      " 2   target_dt                       129475 non-null  object \n",
      " 3   closed_dt                       125848 non-null  object \n",
      " 4   ontime                          146373 non-null  object \n",
      " 5   case_status                     146373 non-null  object \n",
      " 6   closure_reason                  146373 non-null  object \n",
      " 7   case_title                      146371 non-null  object \n",
      " 8   subject                         146373 non-null  object \n",
      " 9   reason                          146373 non-null  object \n",
      " 10  type                            146373 non-null  object \n",
      " 11  queue                           146373 non-null  object \n",
      " 12  department                      146373 non-null  object \n",
      " 13  submittedphoto                  55740 non-null   object \n",
      " 14  closedphoto                     0 non-null       float64\n",
      " 15  location                        146373 non-null  object \n",
      " 16  fire_district                   146149 non-null  object \n",
      " 17  pwd_district                    146306 non-null  object \n",
      " 18  city_council_district           146358 non-null  object \n",
      " 19  police_district                 146306 non-null  object \n",
      " 20  neighborhood                    146210 non-null  object \n",
      " 21  neighborhood_services_district  146358 non-null  object \n",
      " 22  ward                            146373 non-null  object \n",
      " 23  precinct                        146270 non-null  object \n",
      " 24  location_street_name            145030 non-null  object \n",
      " 25  location_zipcode                110519 non-null  float64\n",
      " 26  latitude                        146373 non-null  float64\n",
      " 27  longitude                       146373 non-null  float64\n",
      " 28  source                          146373 non-null  object \n",
      "dtypes: float64(4), int64(1), object(24)\n",
      "memory usage: 32.4+ MB\n"
     ]
    }
   ],
   "source": [
    "# to see column name, count, and dtype of each column \n",
    "df.info()"
   ]
  },
  {
   "cell_type": "markdown",
   "metadata": {
    "id": "L4hHLcT_3XGg"
   },
   "source": [
    "There are 146373 rows (observations). <br>\n",
    "\n",
    "There are 29 columns (variables). <br> \n",
    "\n",
    "There are both categorical and numerical variables. At quick glance there seems to be more categorical variables than numerical variables. \n",
    "\n",
    "Categorical Variables:\n",
    "```case_status```, ```neighborhood```, ```source```, etc. \n",
    "\n",
    "Numerical Variables: \n",
    "... maybe not?\n",
    "\n",
    "The ```case_enquiry_id``` is a unique identifier for each row, ```closedphoto``` has 0 non-null values so it might be worth it to drop this column since there is no additional information we can gather, columns such as ```location_zipcode```, ```latitude```, ```longitude``` not exactly numeric varaibles, since they are numbers that represent different codes. "
   ]
  },
  {
   "cell_type": "markdown",
   "metadata": {
    "id": "kx8VeHIz3XGh"
   },
   "source": [
    "### Cleaning \n",
    "\n",
    "Let's convert the three time variables (```open_dt```, ```target_dt```, and ```closed_dt```) from objects to pandas datetime objects.\n",
    "Let's focus on service requests for a set period of time in 2022. \n",
    "We will start by filtering for service requests that were opened from January 2022 to March 2022. "
   ]
  },
  {
   "cell_type": "code",
   "execution_count": 6,
   "metadata": {
    "executionInfo": {
     "elapsed": 397,
     "status": "ok",
     "timestamp": 1660749154304,
     "user": {
      "displayName": "Michelle Voong",
      "userId": "06511363073265027000"
     },
     "user_tz": 240
    },
    "id": "192xeVVj3XGi"
   },
   "outputs": [],
   "source": [
    "# changing the three columns with dates and times to pandas datetime object \n",
    "df['open_dt'] = pd.to_datetime(df['open_dt'])\n",
    "df['target_dt'] = pd.to_datetime(df['target_dt'])\n",
    "df['closed_dt'] = pd.to_datetime(df['closed_dt'])\n",
    "\n",
    "# output is long, but run the line below to check the type of the three columns \n",
    "#df.dtypes"
   ]
  },
  {
   "cell_type": "code",
   "execution_count": 7,
   "metadata": {
    "colab": {
     "base_uri": "https://localhost:8080/",
     "height": 473
    },
    "executionInfo": {
     "elapsed": 466,
     "status": "ok",
     "timestamp": 1660749168157,
     "user": {
      "displayName": "Michelle Voong",
      "userId": "06511363073265027000"
     },
     "user_tz": 240
    },
    "id": "by1Bndru3XGi",
    "outputId": "136b7f95-18a7-4cf6-e7e5-fe23b29fd5d2"
   },
   "outputs": [
    {
     "data": {
      "text/html": [
       "<div>\n",
       "<style scoped>\n",
       "    .dataframe tbody tr th:only-of-type {\n",
       "        vertical-align: middle;\n",
       "    }\n",
       "\n",
       "    .dataframe tbody tr th {\n",
       "        vertical-align: top;\n",
       "    }\n",
       "\n",
       "    .dataframe thead th {\n",
       "        text-align: right;\n",
       "    }\n",
       "</style>\n",
       "<table border=\"1\" class=\"dataframe\">\n",
       "  <thead>\n",
       "    <tr style=\"text-align: right;\">\n",
       "      <th></th>\n",
       "      <th>case_enquiry_id</th>\n",
       "      <th>open_dt</th>\n",
       "      <th>target_dt</th>\n",
       "      <th>closed_dt</th>\n",
       "      <th>ontime</th>\n",
       "      <th>case_status</th>\n",
       "      <th>closure_reason</th>\n",
       "      <th>case_title</th>\n",
       "      <th>subject</th>\n",
       "      <th>reason</th>\n",
       "      <th>...</th>\n",
       "      <th>police_district</th>\n",
       "      <th>neighborhood</th>\n",
       "      <th>neighborhood_services_district</th>\n",
       "      <th>ward</th>\n",
       "      <th>precinct</th>\n",
       "      <th>location_street_name</th>\n",
       "      <th>location_zipcode</th>\n",
       "      <th>latitude</th>\n",
       "      <th>longitude</th>\n",
       "      <th>source</th>\n",
       "    </tr>\n",
       "  </thead>\n",
       "  <tbody>\n",
       "    <tr>\n",
       "      <th>0</th>\n",
       "      <td>101004116078</td>\n",
       "      <td>2022-01-04 15:34:00</td>\n",
       "      <td>NaT</td>\n",
       "      <td>NaT</td>\n",
       "      <td>ONTIME</td>\n",
       "      <td>Open</td>\n",
       "      <td></td>\n",
       "      <td>Abandoned Bicycle</td>\n",
       "      <td>Mayor's 24 Hour Hotline</td>\n",
       "      <td>Abandoned Bicycle</td>\n",
       "      <td>...</td>\n",
       "      <td>A7</td>\n",
       "      <td>East Boston</td>\n",
       "      <td>1</td>\n",
       "      <td>Ward 1</td>\n",
       "      <td>0109</td>\n",
       "      <td>163 Falcon St</td>\n",
       "      <td>2128.0</td>\n",
       "      <td>42.3818</td>\n",
       "      <td>-71.0322</td>\n",
       "      <td>Citizens Connect App</td>\n",
       "    </tr>\n",
       "    <tr>\n",
       "      <th>1</th>\n",
       "      <td>101004113538</td>\n",
       "      <td>2022-01-01 13:40:13</td>\n",
       "      <td>2022-01-04 08:30:00</td>\n",
       "      <td>2022-01-01 17:22:15</td>\n",
       "      <td>ONTIME</td>\n",
       "      <td>Closed</td>\n",
       "      <td>Case Closed. Closed date : Sat Jan 01 17:22:15...</td>\n",
       "      <td>CE Collection</td>\n",
       "      <td>Public Works Department</td>\n",
       "      <td>Street Cleaning</td>\n",
       "      <td>...</td>\n",
       "      <td>D4</td>\n",
       "      <td>South End</td>\n",
       "      <td>6</td>\n",
       "      <td>Ward 9</td>\n",
       "      <td>0902</td>\n",
       "      <td>520 Shawmut Ave</td>\n",
       "      <td>2118.0</td>\n",
       "      <td>42.3376</td>\n",
       "      <td>-71.0774</td>\n",
       "      <td>City Worker App</td>\n",
       "    </tr>\n",
       "    <tr>\n",
       "      <th>2</th>\n",
       "      <td>101004120888</td>\n",
       "      <td>2022-01-09 12:40:43</td>\n",
       "      <td>2022-01-11 08:30:00</td>\n",
       "      <td>2022-01-10 01:24:50</td>\n",
       "      <td>ONTIME</td>\n",
       "      <td>Closed</td>\n",
       "      <td>Case Closed. Closed date : Mon Jan 10 01:24:50...</td>\n",
       "      <td>CE Collection</td>\n",
       "      <td>Public Works Department</td>\n",
       "      <td>Street Cleaning</td>\n",
       "      <td>...</td>\n",
       "      <td>D4</td>\n",
       "      <td>South End</td>\n",
       "      <td>4</td>\n",
       "      <td>03</td>\n",
       "      <td>0307</td>\n",
       "      <td>44 Bradford St</td>\n",
       "      <td>2118.0</td>\n",
       "      <td>42.3431</td>\n",
       "      <td>-71.0683</td>\n",
       "      <td>City Worker App</td>\n",
       "    </tr>\n",
       "    <tr>\n",
       "      <th>3</th>\n",
       "      <td>101004120982</td>\n",
       "      <td>2022-01-09 13:56:00</td>\n",
       "      <td>NaT</td>\n",
       "      <td>NaT</td>\n",
       "      <td>ONTIME</td>\n",
       "      <td>Open</td>\n",
       "      <td></td>\n",
       "      <td>Animal Generic Request</td>\n",
       "      <td>Animal Control</td>\n",
       "      <td>Animal Issues</td>\n",
       "      <td>...</td>\n",
       "      <td>A7</td>\n",
       "      <td>East Boston</td>\n",
       "      <td>1</td>\n",
       "      <td>Ward 1</td>\n",
       "      <td>0110</td>\n",
       "      <td>433 Chelsea St</td>\n",
       "      <td>2128.0</td>\n",
       "      <td>42.3810</td>\n",
       "      <td>-71.0256</td>\n",
       "      <td>Constituent Call</td>\n",
       "    </tr>\n",
       "    <tr>\n",
       "      <th>4</th>\n",
       "      <td>101004127209</td>\n",
       "      <td>2022-01-15 20:42:00</td>\n",
       "      <td>2022-01-20 08:30:00</td>\n",
       "      <td>2022-01-16 08:18:09</td>\n",
       "      <td>ONTIME</td>\n",
       "      <td>Closed</td>\n",
       "      <td>Case Closed Case Resolved</td>\n",
       "      <td>Building Inspection Request</td>\n",
       "      <td>Inspectional Services</td>\n",
       "      <td>Building</td>\n",
       "      <td>...</td>\n",
       "      <td>B2</td>\n",
       "      <td>Roxbury</td>\n",
       "      <td>13</td>\n",
       "      <td>Ward 8</td>\n",
       "      <td>0806</td>\n",
       "      <td>71 Proctor St</td>\n",
       "      <td>2119.0</td>\n",
       "      <td>42.3266</td>\n",
       "      <td>-71.0704</td>\n",
       "      <td>Constituent Call</td>\n",
       "    </tr>\n",
       "  </tbody>\n",
       "</table>\n",
       "<p>5 rows × 29 columns</p>\n",
       "</div>"
      ],
      "text/plain": [
       "   case_enquiry_id             open_dt           target_dt  \\\n",
       "0     101004116078 2022-01-04 15:34:00                 NaT   \n",
       "1     101004113538 2022-01-01 13:40:13 2022-01-04 08:30:00   \n",
       "2     101004120888 2022-01-09 12:40:43 2022-01-11 08:30:00   \n",
       "3     101004120982 2022-01-09 13:56:00                 NaT   \n",
       "4     101004127209 2022-01-15 20:42:00 2022-01-20 08:30:00   \n",
       "\n",
       "            closed_dt  ontime case_status  \\\n",
       "0                 NaT  ONTIME        Open   \n",
       "1 2022-01-01 17:22:15  ONTIME      Closed   \n",
       "2 2022-01-10 01:24:50  ONTIME      Closed   \n",
       "3                 NaT  ONTIME        Open   \n",
       "4 2022-01-16 08:18:09  ONTIME      Closed   \n",
       "\n",
       "                                      closure_reason  \\\n",
       "0                                                      \n",
       "1  Case Closed. Closed date : Sat Jan 01 17:22:15...   \n",
       "2  Case Closed. Closed date : Mon Jan 10 01:24:50...   \n",
       "3                                                      \n",
       "4                      Case Closed Case Resolved       \n",
       "\n",
       "                    case_title                  subject             reason  \\\n",
       "0            Abandoned Bicycle  Mayor's 24 Hour Hotline  Abandoned Bicycle   \n",
       "1                CE Collection  Public Works Department    Street Cleaning   \n",
       "2                CE Collection  Public Works Department    Street Cleaning   \n",
       "3       Animal Generic Request           Animal Control      Animal Issues   \n",
       "4  Building Inspection Request    Inspectional Services           Building   \n",
       "\n",
       "   ... police_district neighborhood neighborhood_services_district    ward  \\\n",
       "0  ...              A7  East Boston                              1  Ward 1   \n",
       "1  ...              D4    South End                              6  Ward 9   \n",
       "2  ...              D4    South End                              4      03   \n",
       "3  ...              A7  East Boston                              1  Ward 1   \n",
       "4  ...              B2      Roxbury                             13  Ward 8   \n",
       "\n",
       "   precinct location_street_name location_zipcode latitude longitude  \\\n",
       "0      0109        163 Falcon St           2128.0  42.3818  -71.0322   \n",
       "1      0902      520 Shawmut Ave           2118.0  42.3376  -71.0774   \n",
       "2      0307       44 Bradford St           2118.0  42.3431  -71.0683   \n",
       "3      0110       433 Chelsea St           2128.0  42.3810  -71.0256   \n",
       "4      0806        71 Proctor St           2119.0  42.3266  -71.0704   \n",
       "\n",
       "                 source  \n",
       "0  Citizens Connect App  \n",
       "1       City Worker App  \n",
       "2       City Worker App  \n",
       "3      Constituent Call  \n",
       "4      Constituent Call  \n",
       "\n",
       "[5 rows x 29 columns]"
      ]
     },
     "execution_count": 7,
     "metadata": {},
     "output_type": "execute_result"
    }
   ],
   "source": [
    "# filter data for 311 requests from january 2022 to march 2022 \n",
    "df_filtered = df.loc[(df['open_dt'] >= '2022-01-01') &\n",
    "                  (df['open_dt'] < '2022-03-31')]\n",
    "df_filtered.head()"
   ]
  },
  {
   "cell_type": "markdown",
   "metadata": {
    "id": "bN8js-KV3XGi"
   },
   "source": [
    "From our previous observation, since ```closedphoto``` column does not contain any non-null values, let's drop it. "
   ]
  },
  {
   "cell_type": "code",
   "execution_count": 8,
   "metadata": {
    "executionInfo": {
     "elapsed": 169,
     "status": "ok",
     "timestamp": 1660749175696,
     "user": {
      "displayName": "Michelle Voong",
      "userId": "06511363073265027000"
     },
     "user_tz": 240
    },
    "id": "1WbGfbB-3XGj"
   },
   "outputs": [],
   "source": [
    "# drop closedphoto column\n",
    "df_filtered = df_filtered.drop(columns=['closedphoto'])"
   ]
  },
  {
   "cell_type": "markdown",
   "metadata": {
    "id": "1-1Xft-j3XGj"
   },
   "source": [
    "After filtering the service requests, let's see how many observations we are left with.  "
   ]
  },
  {
   "cell_type": "code",
   "execution_count": 9,
   "metadata": {
    "colab": {
     "base_uri": "https://localhost:8080/"
    },
    "executionInfo": {
     "elapsed": 168,
     "status": "ok",
     "timestamp": 1660749180879,
     "user": {
      "displayName": "Michelle Voong",
      "userId": "06511363073265027000"
     },
     "user_tz": 240
    },
    "id": "zer9SUz53XGj",
    "outputId": "b79298af-30e4-4a51-f561-aa5f1fdf7df6"
   },
   "outputs": [
    {
     "data": {
      "text/plain": [
       "66520"
      ]
     },
     "execution_count": 9,
     "metadata": {},
     "output_type": "execute_result"
    }
   ],
   "source": [
    "# how many requests were opened from Jan 2022 to March 2022\n",
    "df_filtered.shape[0]"
   ]
  },
  {
   "cell_type": "markdown",
   "metadata": {
    "id": "Yp8drXE53XGj"
   },
   "source": [
    "From a quick preview of the dataframe, we can see that some of the requests are still open. \n",
    "Let's see how many observations are open vs. closed and then how many are ontime vs. overdue from the set of requests from January 2022 to March 2022. "
   ]
  },
  {
   "cell_type": "code",
   "execution_count": 10,
   "metadata": {
    "colab": {
     "base_uri": "https://localhost:8080/"
    },
    "executionInfo": {
     "elapsed": 154,
     "status": "ok",
     "timestamp": 1660749184353,
     "user": {
      "displayName": "Michelle Voong",
      "userId": "06511363073265027000"
     },
     "user_tz": 240
    },
    "id": "qVvAdLR33XGj",
    "outputId": "0ad96441-4ed2-47ce-c5fa-0d41370b5968"
   },
   "outputs": [
    {
     "data": {
      "text/plain": [
       "Closed    59420\n",
       "Open       7100\n",
       "Name: case_status, dtype: int64"
      ]
     },
     "execution_count": 10,
     "metadata": {},
     "output_type": "execute_result"
    }
   ],
   "source": [
    "# checking how many open vs. closed cases\n",
    "df_filtered['case_status'].value_counts()"
   ]
  },
  {
   "cell_type": "code",
   "execution_count": 11,
   "metadata": {
    "colab": {
     "base_uri": "https://localhost:8080/",
     "height": 248
    },
    "executionInfo": {
     "elapsed": 418,
     "status": "ok",
     "timestamp": 1660749326726,
     "user": {
      "displayName": "Michelle Voong",
      "userId": "06511363073265027000"
     },
     "user_tz": 240
    },
    "id": "_r0bJVQKXme0",
    "outputId": "59e17c22-4fcb-487b-9161-63712109c85f"
   },
   "outputs": [
    {
     "data": {
      "image/png": "[encoded data removed]",
      "text/plain": [
       "<Figure size 432x288 with 1 Axes>"
      ]
     },
     "metadata": {},
     "output_type": "display_data"
    }
   ],
   "source": [
    "# visualize case_status in pie chart, set color palette \n",
    "colors = sns.color_palette('muted')[0:5]\n",
    "ax = df_filtered['case_status'].value_counts().plot.pie(colors=colors)\n",
    "ax.yaxis.set_visible(False)"
   ]
  },
  {
   "cell_type": "code",
   "execution_count": 12,
   "metadata": {
    "colab": {
     "base_uri": "https://localhost:8080/"
    },
    "executionInfo": {
     "elapsed": 224,
     "status": "ok",
     "timestamp": 1660749189364,
     "user": {
      "displayName": "Michelle Voong",
      "userId": "06511363073265027000"
     },
     "user_tz": 240
    },
    "id": "nQPtlHzC3XGk",
    "outputId": "3e1bcf12-7b65-49d8-e7ef-ac83f656b833"
   },
   "outputs": [
    {
     "data": {
      "text/plain": [
       "ONTIME     55089\n",
       "OVERDUE    11431\n",
       "Name: ontime, dtype: int64"
      ]
     },
     "execution_count": 12,
     "metadata": {},
     "output_type": "execute_result"
    }
   ],
   "source": [
    "# checking how many ontime vs. overdue cases \n",
    "df_filtered['ontime'].value_counts()"
   ]
  },
  {
   "cell_type": "code",
   "execution_count": 13,
   "metadata": {
    "colab": {
     "base_uri": "https://localhost:8080/",
     "height": 248
    },
    "executionInfo": {
     "elapsed": 183,
     "status": "ok",
     "timestamp": 1660749624425,
     "user": {
      "displayName": "Michelle Voong",
      "userId": "06511363073265027000"
     },
     "user_tz": 240
    },
    "id": "ShFJvIZZY8pK",
    "outputId": "db9988e0-e740-47f4-ccb9-9547fbf12028"
   },
   "outputs": [
    {
     "data": {
      "image/png": "[encoded data removed]",
      "text/plain": [
       "<Figure size 432x288 with 1 Axes>"
      ]
     },
     "metadata": {},
     "output_type": "display_data"
    }
   ],
   "source": [
    "# visualize ontime in pie chart, set color palette \n",
    "colors = sns.color_palette('bright')[0:5]\n",
    "ax = df_filtered['ontime'].value_counts().plot.pie(colors=colors)\n",
    "ax.yaxis.set_visible(False)"
   ]
  },
  {
   "cell_type": "markdown",
   "metadata": {
    "id": "eRG8V6HJ3XGk"
   },
   "source": [
    "### Descriptive Statistics \n",
    "\n",
    "Pandas makes this easy! We can use ```describe()``` to get the descriptive statistics of the numerical columns. "
   ]
  },
  {
   "cell_type": "code",
   "execution_count": 14,
   "metadata": {
    "colab": {
     "base_uri": "https://localhost:8080/",
     "height": 300
    },
    "executionInfo": {
     "elapsed": 411,
     "status": "ok",
     "timestamp": 1660749657584,
     "user": {
      "displayName": "Michelle Voong",
      "userId": "06511363073265027000"
     },
     "user_tz": 240
    },
    "id": "TmoyIhcQ3XGk",
    "outputId": "9f5f96f5-63e6-49db-df1a-267feea6fd4e"
   },
   "outputs": [
    {
     "data": {
      "text/html": [
       "<div>\n",
       "<style scoped>\n",
       "    .dataframe tbody tr th:only-of-type {\n",
       "        vertical-align: middle;\n",
       "    }\n",
       "\n",
       "    .dataframe tbody tr th {\n",
       "        vertical-align: top;\n",
       "    }\n",
       "\n",
       "    .dataframe thead th {\n",
       "        text-align: right;\n",
       "    }\n",
       "</style>\n",
       "<table border=\"1\" class=\"dataframe\">\n",
       "  <thead>\n",
       "    <tr style=\"text-align: right;\">\n",
       "      <th></th>\n",
       "      <th>case_enquiry_id</th>\n",
       "      <th>location_zipcode</th>\n",
       "      <th>latitude</th>\n",
       "      <th>longitude</th>\n",
       "    </tr>\n",
       "  </thead>\n",
       "  <tbody>\n",
       "    <tr>\n",
       "      <th>count</th>\n",
       "      <td>6.652000e+04</td>\n",
       "      <td>49807.000000</td>\n",
       "      <td>66520.000000</td>\n",
       "      <td>66520.000000</td>\n",
       "    </tr>\n",
       "    <tr>\n",
       "      <th>mean</th>\n",
       "      <td>1.010042e+11</td>\n",
       "      <td>2126.916719</td>\n",
       "      <td>42.335694</td>\n",
       "      <td>-71.075337</td>\n",
       "    </tr>\n",
       "    <tr>\n",
       "      <th>std</th>\n",
       "      <td>3.745629e+04</td>\n",
       "      <td>17.188931</td>\n",
       "      <td>0.032066</td>\n",
       "      <td>0.032259</td>\n",
       "    </tr>\n",
       "    <tr>\n",
       "      <th>min</th>\n",
       "      <td>1.010041e+11</td>\n",
       "      <td>2108.000000</td>\n",
       "      <td>42.231500</td>\n",
       "      <td>-71.185400</td>\n",
       "    </tr>\n",
       "    <tr>\n",
       "      <th>25%</th>\n",
       "      <td>1.010042e+11</td>\n",
       "      <td>2119.000000</td>\n",
       "      <td>42.314500</td>\n",
       "      <td>-71.087600</td>\n",
       "    </tr>\n",
       "    <tr>\n",
       "      <th>50%</th>\n",
       "      <td>1.010042e+11</td>\n",
       "      <td>2126.000000</td>\n",
       "      <td>42.345900</td>\n",
       "      <td>-71.062200</td>\n",
       "    </tr>\n",
       "    <tr>\n",
       "      <th>75%</th>\n",
       "      <td>1.010042e+11</td>\n",
       "      <td>2130.000000</td>\n",
       "      <td>42.359400</td>\n",
       "      <td>-71.058700</td>\n",
       "    </tr>\n",
       "    <tr>\n",
       "      <th>max</th>\n",
       "      <td>1.010042e+11</td>\n",
       "      <td>2467.000000</td>\n",
       "      <td>42.395200</td>\n",
       "      <td>-70.994900</td>\n",
       "    </tr>\n",
       "  </tbody>\n",
       "</table>\n",
       "</div>"
      ],
      "text/plain": [
       "       case_enquiry_id  location_zipcode      latitude     longitude\n",
       "count     6.652000e+04      49807.000000  66520.000000  66520.000000\n",
       "mean      1.010042e+11       2126.916719     42.335694    -71.075337\n",
       "std       3.745629e+04         17.188931      0.032066      0.032259\n",
       "min       1.010041e+11       2108.000000     42.231500    -71.185400\n",
       "25%       1.010042e+11       2119.000000     42.314500    -71.087600\n",
       "50%       1.010042e+11       2126.000000     42.345900    -71.062200\n",
       "75%       1.010042e+11       2130.000000     42.359400    -71.058700\n",
       "max       1.010042e+11       2467.000000     42.395200    -70.994900"
      ]
     },
     "execution_count": 14,
     "metadata": {},
     "output_type": "execute_result"
    }
   ],
   "source": [
    "df_filtered.describe()"
   ]
  },
  {
   "cell_type": "markdown",
   "metadata": {
    "id": "ZD_Qbb3q3XGk"
   },
   "source": [
    "As mentioned before, the ```case_enquiry_id```, ```location_zipcode```, ```latitude```, and ```longitude``` columns are not numeric variables. The descriptive statistics are not very useful in this situation. \n",
    "\n",
    "What would be a useful numeric variable is the duration of a request. Let's calculate the duration of each of the requests from January 2022 to March 2022 and add it as a new column in our dataframe. "
   ]
  },
  {
   "cell_type": "code",
   "execution_count": 15,
   "metadata": {
    "colab": {
     "base_uri": "https://localhost:8080/",
     "height": 473
    },
    "executionInfo": {
     "elapsed": 292,
     "status": "ok",
     "timestamp": 1660750056171,
     "user": {
      "displayName": "Michelle Voong",
      "userId": "06511363073265027000"
     },
     "user_tz": 240
    },
    "id": "hn8idfZv3XGk",
    "outputId": "5699059b-f1c0-478f-8b3f-a59c7cf97def"
   },
   "outputs": [
    {
     "data": {
      "text/html": [
       "<div>\n",
       "<style scoped>\n",
       "    .dataframe tbody tr th:only-of-type {\n",
       "        vertical-align: middle;\n",
       "    }\n",
       "\n",
       "    .dataframe tbody tr th {\n",
       "        vertical-align: top;\n",
       "    }\n",
       "\n",
       "    .dataframe thead th {\n",
       "        text-align: right;\n",
       "    }\n",
       "</style>\n",
       "<table border=\"1\" class=\"dataframe\">\n",
       "  <thead>\n",
       "    <tr style=\"text-align: right;\">\n",
       "      <th></th>\n",
       "      <th>case_enquiry_id</th>\n",
       "      <th>open_dt</th>\n",
       "      <th>target_dt</th>\n",
       "      <th>closed_dt</th>\n",
       "      <th>ontime</th>\n",
       "      <th>case_status</th>\n",
       "      <th>closure_reason</th>\n",
       "      <th>case_title</th>\n",
       "      <th>subject</th>\n",
       "      <th>reason</th>\n",
       "      <th>...</th>\n",
       "      <th>neighborhood</th>\n",
       "      <th>neighborhood_services_district</th>\n",
       "      <th>ward</th>\n",
       "      <th>precinct</th>\n",
       "      <th>location_street_name</th>\n",
       "      <th>location_zipcode</th>\n",
       "      <th>latitude</th>\n",
       "      <th>longitude</th>\n",
       "      <th>source</th>\n",
       "      <th>case_duration</th>\n",
       "    </tr>\n",
       "  </thead>\n",
       "  <tbody>\n",
       "    <tr>\n",
       "      <th>0</th>\n",
       "      <td>101004116078</td>\n",
       "      <td>2022-01-04 15:34:00</td>\n",
       "      <td>NaT</td>\n",
       "      <td>NaT</td>\n",
       "      <td>ONTIME</td>\n",
       "      <td>Open</td>\n",
       "      <td></td>\n",
       "      <td>Abandoned Bicycle</td>\n",
       "      <td>Mayor's 24 Hour Hotline</td>\n",
       "      <td>Abandoned Bicycle</td>\n",
       "      <td>...</td>\n",
       "      <td>East Boston</td>\n",
       "      <td>1</td>\n",
       "      <td>Ward 1</td>\n",
       "      <td>0109</td>\n",
       "      <td>163 Falcon St</td>\n",
       "      <td>2128.0</td>\n",
       "      <td>42.3818</td>\n",
       "      <td>-71.0322</td>\n",
       "      <td>Citizens Connect App</td>\n",
       "      <td>NaT</td>\n",
       "    </tr>\n",
       "    <tr>\n",
       "      <th>1</th>\n",
       "      <td>101004113538</td>\n",
       "      <td>2022-01-01 13:40:13</td>\n",
       "      <td>2022-01-04 08:30:00</td>\n",
       "      <td>2022-01-01 17:22:15</td>\n",
       "      <td>ONTIME</td>\n",
       "      <td>Closed</td>\n",
       "      <td>Case Closed. Closed date : Sat Jan 01 17:22:15...</td>\n",
       "      <td>CE Collection</td>\n",
       "      <td>Public Works Department</td>\n",
       "      <td>Street Cleaning</td>\n",
       "      <td>...</td>\n",
       "      <td>South End</td>\n",
       "      <td>6</td>\n",
       "      <td>Ward 9</td>\n",
       "      <td>0902</td>\n",
       "      <td>520 Shawmut Ave</td>\n",
       "      <td>2118.0</td>\n",
       "      <td>42.3376</td>\n",
       "      <td>-71.0774</td>\n",
       "      <td>City Worker App</td>\n",
       "      <td>0 days 03:42:02</td>\n",
       "    </tr>\n",
       "    <tr>\n",
       "      <th>2</th>\n",
       "      <td>101004120888</td>\n",
       "      <td>2022-01-09 12:40:43</td>\n",
       "      <td>2022-01-11 08:30:00</td>\n",
       "      <td>2022-01-10 01:24:50</td>\n",
       "      <td>ONTIME</td>\n",
       "      <td>Closed</td>\n",
       "      <td>Case Closed. Closed date : Mon Jan 10 01:24:50...</td>\n",
       "      <td>CE Collection</td>\n",
       "      <td>Public Works Department</td>\n",
       "      <td>Street Cleaning</td>\n",
       "      <td>...</td>\n",
       "      <td>South End</td>\n",
       "      <td>4</td>\n",
       "      <td>03</td>\n",
       "      <td>0307</td>\n",
       "      <td>44 Bradford St</td>\n",
       "      <td>2118.0</td>\n",
       "      <td>42.3431</td>\n",
       "      <td>-71.0683</td>\n",
       "      <td>City Worker App</td>\n",
       "      <td>0 days 12:44:07</td>\n",
       "    </tr>\n",
       "    <tr>\n",
       "      <th>3</th>\n",
       "      <td>101004120982</td>\n",
       "      <td>2022-01-09 13:56:00</td>\n",
       "      <td>NaT</td>\n",
       "      <td>NaT</td>\n",
       "      <td>ONTIME</td>\n",
       "      <td>Open</td>\n",
       "      <td></td>\n",
       "      <td>Animal Generic Request</td>\n",
       "      <td>Animal Control</td>\n",
       "      <td>Animal Issues</td>\n",
       "      <td>...</td>\n",
       "      <td>East Boston</td>\n",
       "      <td>1</td>\n",
       "      <td>Ward 1</td>\n",
       "      <td>0110</td>\n",
       "      <td>433 Chelsea St</td>\n",
       "      <td>2128.0</td>\n",
       "      <td>42.3810</td>\n",
       "      <td>-71.0256</td>\n",
       "      <td>Constituent Call</td>\n",
       "      <td>NaT</td>\n",
       "    </tr>\n",
       "    <tr>\n",
       "      <th>4</th>\n",
       "      <td>101004127209</td>\n",
       "      <td>2022-01-15 20:42:00</td>\n",
       "      <td>2022-01-20 08:30:00</td>\n",
       "      <td>2022-01-16 08:18:09</td>\n",
       "      <td>ONTIME</td>\n",
       "      <td>Closed</td>\n",
       "      <td>Case Closed Case Resolved</td>\n",
       "      <td>Building Inspection Request</td>\n",
       "      <td>Inspectional Services</td>\n",
       "      <td>Building</td>\n",
       "      <td>...</td>\n",
       "      <td>Roxbury</td>\n",
       "      <td>13</td>\n",
       "      <td>Ward 8</td>\n",
       "      <td>0806</td>\n",
       "      <td>71 Proctor St</td>\n",
       "      <td>2119.0</td>\n",
       "      <td>42.3266</td>\n",
       "      <td>-71.0704</td>\n",
       "      <td>Constituent Call</td>\n",
       "      <td>0 days 11:36:09</td>\n",
       "    </tr>\n",
       "  </tbody>\n",
       "</table>\n",
       "<p>5 rows × 29 columns</p>\n",
       "</div>"
      ],
      "text/plain": [
       "   case_enquiry_id             open_dt           target_dt  \\\n",
       "0     101004116078 2022-01-04 15:34:00                 NaT   \n",
       "1     101004113538 2022-01-01 13:40:13 2022-01-04 08:30:00   \n",
       "2     101004120888 2022-01-09 12:40:43 2022-01-11 08:30:00   \n",
       "3     101004120982 2022-01-09 13:56:00                 NaT   \n",
       "4     101004127209 2022-01-15 20:42:00 2022-01-20 08:30:00   \n",
       "\n",
       "            closed_dt  ontime case_status  \\\n",
       "0                 NaT  ONTIME        Open   \n",
       "1 2022-01-01 17:22:15  ONTIME      Closed   \n",
       "2 2022-01-10 01:24:50  ONTIME      Closed   \n",
       "3                 NaT  ONTIME        Open   \n",
       "4 2022-01-16 08:18:09  ONTIME      Closed   \n",
       "\n",
       "                                      closure_reason  \\\n",
       "0                                                      \n",
       "1  Case Closed. Closed date : Sat Jan 01 17:22:15...   \n",
       "2  Case Closed. Closed date : Mon Jan 10 01:24:50...   \n",
       "3                                                      \n",
       "4                      Case Closed Case Resolved       \n",
       "\n",
       "                    case_title                  subject             reason  \\\n",
       "0            Abandoned Bicycle  Mayor's 24 Hour Hotline  Abandoned Bicycle   \n",
       "1                CE Collection  Public Works Department    Street Cleaning   \n",
       "2                CE Collection  Public Works Department    Street Cleaning   \n",
       "3       Animal Generic Request           Animal Control      Animal Issues   \n",
       "4  Building Inspection Request    Inspectional Services           Building   \n",
       "\n",
       "   ... neighborhood neighborhood_services_district    ward precinct  \\\n",
       "0  ...  East Boston                              1  Ward 1     0109   \n",
       "1  ...    South End                              6  Ward 9     0902   \n",
       "2  ...    South End                              4      03     0307   \n",
       "3  ...  East Boston                              1  Ward 1     0110   \n",
       "4  ...      Roxbury                             13  Ward 8     0806   \n",
       "\n",
       "  location_street_name location_zipcode latitude longitude  \\\n",
       "0        163 Falcon St           2128.0  42.3818  -71.0322   \n",
       "1      520 Shawmut Ave           2118.0  42.3376  -71.0774   \n",
       "2       44 Bradford St           2118.0  42.3431  -71.0683   \n",
       "3       433 Chelsea St           2128.0  42.3810  -71.0256   \n",
       "4        71 Proctor St           2119.0  42.3266  -71.0704   \n",
       "\n",
       "                 source   case_duration  \n",
       "0  Citizens Connect App             NaT  \n",
       "1       City Worker App 0 days 03:42:02  \n",
       "2       City Worker App 0 days 12:44:07  \n",
       "3      Constituent Call             NaT  \n",
       "4      Constituent Call 0 days 11:36:09  \n",
       "\n",
       "[5 rows x 29 columns]"
      ]
     },
     "execution_count": 15,
     "metadata": {},
     "output_type": "execute_result"
    }
   ],
   "source": [
    "# calculating case duration and adding a new column (case_duration) to the dataframe \n",
    "duration = df_filtered['closed_dt'] - df_filtered['open_dt']\n",
    "df_filtered = df_filtered.assign(case_duration=duration)\n",
    "df_filtered.head()"
   ]
  },
  {
   "cell_type": "markdown",
   "metadata": {
    "id": "zkGd14C03XGl"
   },
   "source": [
    "Now we can see the new ```case_duration``` column. Some values are ```NaT```, which means there is a missing date. This makes sense because the ```case_status``` is ```OPEN```. \n",
    "\n",
    "Let's filter out the open cases and focus on analyzing the duration of the closed cases. "
   ]
  },
  {
   "cell_type": "code",
   "execution_count": 16,
   "metadata": {
    "colab": {
     "base_uri": "https://localhost:8080/",
     "height": 508
    },
    "executionInfo": {
     "elapsed": 186,
     "status": "ok",
     "timestamp": 1660750101255,
     "user": {
      "displayName": "Michelle Voong",
      "userId": "06511363073265027000"
     },
     "user_tz": 240
    },
    "id": "_iklB0Lp3XGl",
    "outputId": "7d94f836-1ddd-46df-8f52-3bafbb9080df"
   },
   "outputs": [
    {
     "data": {
      "text/html": [
       "<div>\n",
       "<style scoped>\n",
       "    .dataframe tbody tr th:only-of-type {\n",
       "        vertical-align: middle;\n",
       "    }\n",
       "\n",
       "    .dataframe tbody tr th {\n",
       "        vertical-align: top;\n",
       "    }\n",
       "\n",
       "    .dataframe thead th {\n",
       "        text-align: right;\n",
       "    }\n",
       "</style>\n",
       "<table border=\"1\" class=\"dataframe\">\n",
       "  <thead>\n",
       "    <tr style=\"text-align: right;\">\n",
       "      <th></th>\n",
       "      <th>case_enquiry_id</th>\n",
       "      <th>open_dt</th>\n",
       "      <th>target_dt</th>\n",
       "      <th>closed_dt</th>\n",
       "      <th>ontime</th>\n",
       "      <th>case_status</th>\n",
       "      <th>closure_reason</th>\n",
       "      <th>case_title</th>\n",
       "      <th>subject</th>\n",
       "      <th>reason</th>\n",
       "      <th>...</th>\n",
       "      <th>neighborhood</th>\n",
       "      <th>neighborhood_services_district</th>\n",
       "      <th>ward</th>\n",
       "      <th>precinct</th>\n",
       "      <th>location_street_name</th>\n",
       "      <th>location_zipcode</th>\n",
       "      <th>latitude</th>\n",
       "      <th>longitude</th>\n",
       "      <th>source</th>\n",
       "      <th>case_duration</th>\n",
       "    </tr>\n",
       "  </thead>\n",
       "  <tbody>\n",
       "    <tr>\n",
       "      <th>1</th>\n",
       "      <td>101004113538</td>\n",
       "      <td>2022-01-01 13:40:13</td>\n",
       "      <td>2022-01-04 08:30:00</td>\n",
       "      <td>2022-01-01 17:22:15</td>\n",
       "      <td>ONTIME</td>\n",
       "      <td>Closed</td>\n",
       "      <td>Case Closed. Closed date : Sat Jan 01 17:22:15...</td>\n",
       "      <td>CE Collection</td>\n",
       "      <td>Public Works Department</td>\n",
       "      <td>Street Cleaning</td>\n",
       "      <td>...</td>\n",
       "      <td>South End</td>\n",
       "      <td>6</td>\n",
       "      <td>Ward 9</td>\n",
       "      <td>0902</td>\n",
       "      <td>520 Shawmut Ave</td>\n",
       "      <td>2118.0</td>\n",
       "      <td>42.3376</td>\n",
       "      <td>-71.0774</td>\n",
       "      <td>City Worker App</td>\n",
       "      <td>0 days 03:42:02</td>\n",
       "    </tr>\n",
       "    <tr>\n",
       "      <th>2</th>\n",
       "      <td>101004120888</td>\n",
       "      <td>2022-01-09 12:40:43</td>\n",
       "      <td>2022-01-11 08:30:00</td>\n",
       "      <td>2022-01-10 01:24:50</td>\n",
       "      <td>ONTIME</td>\n",
       "      <td>Closed</td>\n",
       "      <td>Case Closed. Closed date : Mon Jan 10 01:24:50...</td>\n",
       "      <td>CE Collection</td>\n",
       "      <td>Public Works Department</td>\n",
       "      <td>Street Cleaning</td>\n",
       "      <td>...</td>\n",
       "      <td>South End</td>\n",
       "      <td>4</td>\n",
       "      <td>03</td>\n",
       "      <td>0307</td>\n",
       "      <td>44 Bradford St</td>\n",
       "      <td>2118.0</td>\n",
       "      <td>42.3431</td>\n",
       "      <td>-71.0683</td>\n",
       "      <td>City Worker App</td>\n",
       "      <td>0 days 12:44:07</td>\n",
       "    </tr>\n",
       "    <tr>\n",
       "      <th>4</th>\n",
       "      <td>101004127209</td>\n",
       "      <td>2022-01-15 20:42:00</td>\n",
       "      <td>2022-01-20 08:30:00</td>\n",
       "      <td>2022-01-16 08:18:09</td>\n",
       "      <td>ONTIME</td>\n",
       "      <td>Closed</td>\n",
       "      <td>Case Closed Case Resolved</td>\n",
       "      <td>Building Inspection Request</td>\n",
       "      <td>Inspectional Services</td>\n",
       "      <td>Building</td>\n",
       "      <td>...</td>\n",
       "      <td>Roxbury</td>\n",
       "      <td>13</td>\n",
       "      <td>Ward 8</td>\n",
       "      <td>0806</td>\n",
       "      <td>71 Proctor St</td>\n",
       "      <td>2119.0</td>\n",
       "      <td>42.3266</td>\n",
       "      <td>-71.0704</td>\n",
       "      <td>Constituent Call</td>\n",
       "      <td>0 days 11:36:09</td>\n",
       "    </tr>\n",
       "    <tr>\n",
       "      <th>5</th>\n",
       "      <td>101004113302</td>\n",
       "      <td>2022-01-01 00:36:24</td>\n",
       "      <td>2022-01-04 08:30:00</td>\n",
       "      <td>2022-01-03 00:13:17</td>\n",
       "      <td>ONTIME</td>\n",
       "      <td>Closed</td>\n",
       "      <td>Case Closed. Closed date : 2022-01-03 00:13:17...</td>\n",
       "      <td>Parking Enforcement</td>\n",
       "      <td>Transportation - Traffic Division</td>\n",
       "      <td>Enforcement &amp; Abandoned Vehicles</td>\n",
       "      <td>...</td>\n",
       "      <td>South Boston / South Boston Waterfront</td>\n",
       "      <td>5</td>\n",
       "      <td>6</td>\n",
       "      <td>0601</td>\n",
       "      <td>INTERSECTION Seaport Blvd &amp; Sleeper St</td>\n",
       "      <td>NaN</td>\n",
       "      <td>42.3594</td>\n",
       "      <td>-71.0587</td>\n",
       "      <td>Citizens Connect App</td>\n",
       "      <td>1 days 23:36:53</td>\n",
       "    </tr>\n",
       "    <tr>\n",
       "      <th>6</th>\n",
       "      <td>101004113331</td>\n",
       "      <td>2022-01-01 03:11:23</td>\n",
       "      <td>NaT</td>\n",
       "      <td>2022-01-04 08:23:30</td>\n",
       "      <td>ONTIME</td>\n",
       "      <td>Closed</td>\n",
       "      <td>Case Closed. Closed date : 2022-01-04 08:23:30...</td>\n",
       "      <td>Loud Parties/Music/People</td>\n",
       "      <td>Boston Police Department</td>\n",
       "      <td>Noise Disturbance</td>\n",
       "      <td>...</td>\n",
       "      <td>South End</td>\n",
       "      <td>6</td>\n",
       "      <td>9</td>\n",
       "      <td>0901</td>\n",
       "      <td>INTERSECTION W Brookline St &amp; Newland St</td>\n",
       "      <td>NaN</td>\n",
       "      <td>42.3594</td>\n",
       "      <td>-71.0587</td>\n",
       "      <td>Constituent Call</td>\n",
       "      <td>3 days 05:12:07</td>\n",
       "    </tr>\n",
       "  </tbody>\n",
       "</table>\n",
       "<p>5 rows × 29 columns</p>\n",
       "</div>"
      ],
      "text/plain": [
       "   case_enquiry_id             open_dt           target_dt  \\\n",
       "1     101004113538 2022-01-01 13:40:13 2022-01-04 08:30:00   \n",
       "2     101004120888 2022-01-09 12:40:43 2022-01-11 08:30:00   \n",
       "4     101004127209 2022-01-15 20:42:00 2022-01-20 08:30:00   \n",
       "5     101004113302 2022-01-01 00:36:24 2022-01-04 08:30:00   \n",
       "6     101004113331 2022-01-01 03:11:23                 NaT   \n",
       "\n",
       "            closed_dt  ontime case_status  \\\n",
       "1 2022-01-01 17:22:15  ONTIME      Closed   \n",
       "2 2022-01-10 01:24:50  ONTIME      Closed   \n",
       "4 2022-01-16 08:18:09  ONTIME      Closed   \n",
       "5 2022-01-03 00:13:17  ONTIME      Closed   \n",
       "6 2022-01-04 08:23:30  ONTIME      Closed   \n",
       "\n",
       "                                      closure_reason  \\\n",
       "1  Case Closed. Closed date : Sat Jan 01 17:22:15...   \n",
       "2  Case Closed. Closed date : Mon Jan 10 01:24:50...   \n",
       "4                      Case Closed Case Resolved       \n",
       "5  Case Closed. Closed date : 2022-01-03 00:13:17...   \n",
       "6  Case Closed. Closed date : 2022-01-04 08:23:30...   \n",
       "\n",
       "                    case_title                            subject  \\\n",
       "1                CE Collection            Public Works Department   \n",
       "2                CE Collection            Public Works Department   \n",
       "4  Building Inspection Request              Inspectional Services   \n",
       "5          Parking Enforcement  Transportation - Traffic Division   \n",
       "6    Loud Parties/Music/People           Boston Police Department   \n",
       "\n",
       "                             reason  ...  \\\n",
       "1                   Street Cleaning  ...   \n",
       "2                   Street Cleaning  ...   \n",
       "4                          Building  ...   \n",
       "5  Enforcement & Abandoned Vehicles  ...   \n",
       "6                 Noise Disturbance  ...   \n",
       "\n",
       "                             neighborhood neighborhood_services_district  \\\n",
       "1                               South End                              6   \n",
       "2                               South End                              4   \n",
       "4                                 Roxbury                             13   \n",
       "5  South Boston / South Boston Waterfront                              5   \n",
       "6                               South End                              6   \n",
       "\n",
       "     ward precinct                      location_street_name location_zipcode  \\\n",
       "1  Ward 9     0902                           520 Shawmut Ave           2118.0   \n",
       "2      03     0307                            44 Bradford St           2118.0   \n",
       "4  Ward 8     0806                             71 Proctor St           2119.0   \n",
       "5       6     0601    INTERSECTION Seaport Blvd & Sleeper St              NaN   \n",
       "6       9     0901  INTERSECTION W Brookline St & Newland St              NaN   \n",
       "\n",
       "  latitude longitude                source   case_duration  \n",
       "1  42.3376  -71.0774       City Worker App 0 days 03:42:02  \n",
       "2  42.3431  -71.0683       City Worker App 0 days 12:44:07  \n",
       "4  42.3266  -71.0704      Constituent Call 0 days 11:36:09  \n",
       "5  42.3594  -71.0587  Citizens Connect App 1 days 23:36:53  \n",
       "6  42.3594  -71.0587      Constituent Call 3 days 05:12:07  \n",
       "\n",
       "[5 rows x 29 columns]"
      ]
     },
     "execution_count": 16,
     "metadata": {},
     "output_type": "execute_result"
    }
   ],
   "source": [
    "# filter out the open cases\n",
    "df_closed = df_filtered.loc[(df_filtered['case_status'] == \"Closed\")]\n",
    "df_closed.head()"
   ]
  },
  {
   "cell_type": "markdown",
   "metadata": {
    "id": "0QDlAacu3XGl"
   },
   "source": [
    "With the closed cases, let's calculate the descriptive statistics of the new ```case_duration``` column. "
   ]
  },
  {
   "cell_type": "code",
   "execution_count": 17,
   "metadata": {
    "colab": {
     "base_uri": "https://localhost:8080/",
     "height": 300
    },
    "executionInfo": {
     "elapsed": 203,
     "status": "ok",
     "timestamp": 1660750128267,
     "user": {
      "displayName": "Michelle Voong",
      "userId": "06511363073265027000"
     },
     "user_tz": 240
    },
    "id": "yLcXjhBp3XGl",
    "outputId": "9d545e11-f7eb-494a-be03-6c68c34fe324"
   },
   "outputs": [
    {
     "data": {
      "text/html": [
       "<div>\n",
       "<style scoped>\n",
       "    .dataframe tbody tr th:only-of-type {\n",
       "        vertical-align: middle;\n",
       "    }\n",
       "\n",
       "    .dataframe tbody tr th {\n",
       "        vertical-align: top;\n",
       "    }\n",
       "\n",
       "    .dataframe thead th {\n",
       "        text-align: right;\n",
       "    }\n",
       "</style>\n",
       "<table border=\"1\" class=\"dataframe\">\n",
       "  <thead>\n",
       "    <tr style=\"text-align: right;\">\n",
       "      <th></th>\n",
       "      <th>case_duration</th>\n",
       "    </tr>\n",
       "  </thead>\n",
       "  <tbody>\n",
       "    <tr>\n",
       "      <th>count</th>\n",
       "      <td>59420</td>\n",
       "    </tr>\n",
       "    <tr>\n",
       "      <th>mean</th>\n",
       "      <td>4 days 12:09:14.466526422</td>\n",
       "    </tr>\n",
       "    <tr>\n",
       "      <th>std</th>\n",
       "      <td>15 days 09:54:44.441079417</td>\n",
       "    </tr>\n",
       "    <tr>\n",
       "      <th>min</th>\n",
       "      <td>0 days 00:00:04</td>\n",
       "    </tr>\n",
       "    <tr>\n",
       "      <th>25%</th>\n",
       "      <td>0 days 01:26:54.750000</td>\n",
       "    </tr>\n",
       "    <tr>\n",
       "      <th>50%</th>\n",
       "      <td>0 days 09:01:45</td>\n",
       "    </tr>\n",
       "    <tr>\n",
       "      <th>75%</th>\n",
       "      <td>1 days 15:40:08.250000</td>\n",
       "    </tr>\n",
       "    <tr>\n",
       "      <th>max</th>\n",
       "      <td>181 days 14:24:23</td>\n",
       "    </tr>\n",
       "  </tbody>\n",
       "</table>\n",
       "</div>"
      ],
      "text/plain": [
       "                    case_duration\n",
       "count                       59420\n",
       "mean    4 days 12:09:14.466526422\n",
       "std    15 days 09:54:44.441079417\n",
       "min               0 days 00:00:04\n",
       "25%        0 days 01:26:54.750000\n",
       "50%               0 days 09:01:45\n",
       "75%        1 days 15:40:08.250000\n",
       "max             181 days 14:24:23"
      ]
     },
     "execution_count": 17,
     "metadata": {},
     "output_type": "execute_result"
    }
   ],
   "source": [
    "# let's calculate the descriptive statistics again \n",
    "# using double brackets to display in a *fancy* table format\n",
    "df_closed[['case_duration']].describe()"
   ]
  },
  {
   "cell_type": "markdown",
   "metadata": {
    "id": "lrbhQFgx3XGl"
   },
   "source": [
    "From the table, we can see that the average case duration is ~4.5 days. <br>\n",
    "The standard deviation for the case duration is ~15.4 days. <br>\n",
    "The minimum time a case takes to close is 4 minutes. <br>\n",
    "The maximum time a case takes to close is ~181.6 days. <br>\n",
    "The inter-quartile range (IQR) is the difference between the 25% and 75% quantiles. <br>\n"
   ]
  },
  {
   "cell_type": "markdown",
   "metadata": {
    "id": "WPWkF9m83XGl"
   },
   "source": [
    "We can also calculate the *mode* and *median*."
   ]
  },
  {
   "cell_type": "code",
   "execution_count": 18,
   "metadata": {
    "colab": {
     "base_uri": "https://localhost:8080/"
    },
    "executionInfo": {
     "elapsed": 225,
     "status": "ok",
     "timestamp": 1660750137193,
     "user": {
      "displayName": "Michelle Voong",
      "userId": "06511363073265027000"
     },
     "user_tz": 240
    },
    "id": "8hiIOjvL3XGl",
    "outputId": "2f775a60-400f-4b4d-fd3a-7cdfb9cbc531"
   },
   "outputs": [
    {
     "data": {
      "text/plain": [
       "0   0 days 00:00:54\n",
       "1   0 days 00:00:57\n",
       "2   0 days 00:01:03\n",
       "dtype: timedelta64[ns]"
      ]
     },
     "execution_count": 18,
     "metadata": {},
     "output_type": "execute_result"
    }
   ],
   "source": [
    "df_closed['case_duration'].mode()"
   ]
  },
  {
   "cell_type": "code",
   "execution_count": 19,
   "metadata": {
    "colab": {
     "base_uri": "https://localhost:8080/"
    },
    "executionInfo": {
     "elapsed": 173,
     "status": "ok",
     "timestamp": 1660750139752,
     "user": {
      "displayName": "Michelle Voong",
      "userId": "06511363073265027000"
     },
     "user_tz": 240
    },
    "id": "HN9ce8lG3XGm",
    "outputId": "047ea66b-4b0a-4824-e7a6-e912b1584c63"
   },
   "outputs": [
    {
     "data": {
      "text/plain": [
       "Timedelta('0 days 09:01:45')"
      ]
     },
     "execution_count": 19,
     "metadata": {},
     "output_type": "execute_result"
    }
   ],
   "source": [
    "df_closed['case_duration'].median()"
   ]
  },
  {
   "cell_type": "markdown",
   "metadata": {
    "id": "cd58E_un3XGm"
   },
   "source": [
    "The descriptive statistics summary in table form is nice, but it would be nice to visualize the data in a histogram. Simply trying to plot using the values in the ```case_duration``` column will case an error. \n",
    "\n",
    "Currently, the values in ```case_duration``` are of type ```timedelta64[ns]```, ```df_closed['case_duration']``` is a Timedelta Series. We will need to apply what is called a frequency conversion to the values. \n",
    "\n",
    "\"Timedelta Series, TimedeltaIndex, and Timedelta scalars can be converted to other 'frequences' by dividing by another timedelta, or by astyping to a specific timedelta type.\" (See the link below for more information and code examples!)\n",
    "\n",
    "https://pandas.pydata.org/pandas-docs/stable/user_guide/timedeltas.html\n"
   ]
  },
  {
   "cell_type": "code",
   "execution_count": 20,
   "metadata": {
    "colab": {
     "base_uri": "https://localhost:8080/",
     "height": 300
    },
    "executionInfo": {
     "elapsed": 704,
     "status": "ok",
     "timestamp": 1660750262997,
     "user": {
      "displayName": "Michelle Voong",
      "userId": "06511363073265027000"
     },
     "user_tz": 240
    },
    "id": "s6WHP4lz3XGm",
    "outputId": "d6132bff-aebc-4f2d-a220-dd7a0456cd7c"
   },
   "outputs": [
    {
     "data": {
      "text/html": [
       "<div>\n",
       "<style scoped>\n",
       "    .dataframe tbody tr th:only-of-type {\n",
       "        vertical-align: middle;\n",
       "    }\n",
       "\n",
       "    .dataframe tbody tr th {\n",
       "        vertical-align: top;\n",
       "    }\n",
       "\n",
       "    .dataframe thead th {\n",
       "        text-align: right;\n",
       "    }\n",
       "</style>\n",
       "<table border=\"1\" class=\"dataframe\">\n",
       "  <thead>\n",
       "    <tr style=\"text-align: right;\">\n",
       "      <th></th>\n",
       "      <th>duration_in_days</th>\n",
       "    </tr>\n",
       "  </thead>\n",
       "  <tbody>\n",
       "    <tr>\n",
       "      <th>count</th>\n",
       "      <td>59420.000000</td>\n",
       "    </tr>\n",
       "    <tr>\n",
       "      <th>mean</th>\n",
       "      <td>4.506417</td>\n",
       "    </tr>\n",
       "    <tr>\n",
       "      <th>std</th>\n",
       "      <td>15.413014</td>\n",
       "    </tr>\n",
       "    <tr>\n",
       "      <th>min</th>\n",
       "      <td>0.000046</td>\n",
       "    </tr>\n",
       "    <tr>\n",
       "      <th>25%</th>\n",
       "      <td>0.060356</td>\n",
       "    </tr>\n",
       "    <tr>\n",
       "      <th>50%</th>\n",
       "      <td>0.376215</td>\n",
       "    </tr>\n",
       "    <tr>\n",
       "      <th>75%</th>\n",
       "      <td>1.652873</td>\n",
       "    </tr>\n",
       "    <tr>\n",
       "      <th>max</th>\n",
       "      <td>181.600266</td>\n",
       "    </tr>\n",
       "  </tbody>\n",
       "</table>\n",
       "</div>"
      ],
      "text/plain": [
       "       duration_in_days\n",
       "count      59420.000000\n",
       "mean           4.506417\n",
       "std           15.413014\n",
       "min            0.000046\n",
       "25%            0.060356\n",
       "50%            0.376215\n",
       "75%            1.652873\n",
       "max          181.600266"
      ]
     },
     "execution_count": 20,
     "metadata": {},
     "output_type": "execute_result"
    }
   ],
   "source": [
    "# dividing the case_duration values by Timedelta of 1 day \n",
    "duration_days = ( df_closed['case_duration'] / pd.Timedelta(days=1))\n",
    "\n",
    "# adding calculation to dataframe under duration_in_days column \n",
    "df_closed = df_closed.assign(duration_in_days=duration_days)\n",
    "\n",
    "# display descriptive statistics summary with new column addition \n",
    "df_closed[['duration_in_days']].describe()"
   ]
  },
  {
   "cell_type": "code",
   "execution_count": 21,
   "metadata": {
    "colab": {
     "base_uri": "https://localhost:8080/",
     "height": 383
    },
    "executionInfo": {
     "elapsed": 892,
     "status": "ok",
     "timestamp": 1660750281062,
     "user": {
      "displayName": "Michelle Voong",
      "userId": "06511363073265027000"
     },
     "user_tz": 240
    },
    "id": "4PRQnuLk3XGm",
    "outputId": "f7a4803a-043d-4cd3-8984-f3532ff87488"
   },
   "outputs": [
    {
     "data": {
      "text/plain": [
       "<seaborn.axisgrid.FacetGrid at 0x7f3cc55146d0>"
      ]
     },
     "execution_count": 21,
     "metadata": {},
     "output_type": "execute_result"
    },
    {
     "data": {
      "image/png": "[encoded data removed]",
      "text/plain": [
       "<Figure size 360x360 with 1 Axes>"
      ]
     },
     "metadata": {},
     "output_type": "display_data"
    }
   ],
   "source": [
    "# using seaborn library for visualizations \n",
    "sns.set_theme() # use this if you dont want the visualizations to be default matplotlibstyle\n",
    "sns.displot(df_closed, x=\"duration_in_days\", binwidth=1)"
   ]
  },
  {
   "cell_type": "markdown",
   "metadata": {
    "id": "dioIWQPo3XGm"
   },
   "source": [
    "From the plot above, the data seems to be skewed right meaning the right tail is much longer than the left. Let's try playing with different bin widths. "
   ]
  },
  {
   "cell_type": "code",
   "execution_count": 22,
   "metadata": {
    "colab": {
     "base_uri": "https://localhost:8080/",
     "height": 383
    },
    "executionInfo": {
     "elapsed": 880,
     "status": "ok",
     "timestamp": 1660750295412,
     "user": {
      "displayName": "Michelle Voong",
      "userId": "06511363073265027000"
     },
     "user_tz": 240
    },
    "id": "Iooy6P8t3XGm",
    "outputId": "f792b0a1-e687-4ee6-d6cd-8a684887fe50"
   },
   "outputs": [
    {
     "data": {
      "text/plain": [
       "<seaborn.axisgrid.FacetGrid at 0x7f3cc54ac040>"
      ]
     },
     "execution_count": 22,
     "metadata": {},
     "output_type": "execute_result"
    },
    {
     "data": {
      "image/png": "[encoded data removed]",
      "text/plain": [
       "<Figure size 360x360 with 1 Axes>"
      ]
     },
     "metadata": {},
     "output_type": "display_data"
    }
   ],
   "source": [
    "# trying different bin sizes \n",
    "sns.displot(df_closed, x=\"duration_in_days\", binwidth=5)"
   ]
  },
  {
   "cell_type": "code",
   "execution_count": 23,
   "metadata": {
    "colab": {
     "base_uri": "https://localhost:8080/",
     "height": 383
    },
    "executionInfo": {
     "elapsed": 697,
     "status": "ok",
     "timestamp": 1660750334892,
     "user": {
      "displayName": "Michelle Voong",
      "userId": "06511363073265027000"
     },
     "user_tz": 240
    },
    "id": "oL04U4hf3XGm",
    "outputId": "820da582-7ae8-47c3-ed0a-256858c8b684"
   },
   "outputs": [
    {
     "data": {
      "text/plain": [
       "<seaborn.axisgrid.FacetGrid at 0x7f3cc5308a90>"
      ]
     },
     "execution_count": 23,
     "metadata": {},
     "output_type": "execute_result"
    },
    {
     "data": {
      "image/png": "[encoded data removed]",
      "text/plain": [
       "<Figure size 360x360 with 1 Axes>"
      ]
     },
     "metadata": {},
     "output_type": "display_data"
    }
   ],
   "source": [
    "# trying different bin sizes\n",
    "sns.displot(df_closed, x=\"duration_in_days\", binwidth=25)"
   ]
  },
  {
   "cell_type": "markdown",
   "metadata": {
    "id": "rtfMqO0C3XGm"
   },
   "source": [
    "Since the data is heavily skewed, let's apply log transformation to the data. The log transformation will *hopefully* reduce or remove the skewness of the original data. The assumption is that the original data follows a log-normal distribution. "
   ]
  },
  {
   "cell_type": "code",
   "execution_count": 24,
   "metadata": {
    "colab": {
     "base_uri": "https://localhost:8080/",
     "height": 383
    },
    "executionInfo": {
     "elapsed": 2337,
     "status": "ok",
     "timestamp": 1660750340765,
     "user": {
      "displayName": "Michelle Voong",
      "userId": "06511363073265027000"
     },
     "user_tz": 240
    },
    "id": "6VV_sVWT3XGn",
    "outputId": "67a01f0b-3990-4999-ee00-5540a082aeca"
   },
   "outputs": [
    {
     "data": {
      "text/plain": [
       "<seaborn.axisgrid.FacetGrid at 0x7f3d2033f280>"
      ]
     },
     "execution_count": 24,
     "metadata": {},
     "output_type": "execute_result"
    },
    {
     "data": {
      "image/png": "[encoded data removed]",
      "text/plain": [
       "<Figure size 360x360 with 1 Axes>"
      ]
     },
     "metadata": {},
     "output_type": "display_data"
    }
   ],
   "source": [
    "# log-scale transformation since the data is heavliy skewed \n",
    "# add bin_width parameter to change bin sizes\n",
    "sns.displot(df_closed, x=\"duration_in_days\", log_scale=True)"
   ]
  },
  {
   "cell_type": "markdown",
   "metadata": {
    "id": "binkoCYV3XGn"
   },
   "source": [
    "### Which neighborhoods had the most requests from January 2022 - March 2022? \n",
    "\n",
    "To answer this question, we will take a look at the ```neighborhood``` column. "
   ]
  },
  {
   "cell_type": "code",
   "execution_count": 25,
   "metadata": {
    "colab": {
     "base_uri": "https://localhost:8080/"
    },
    "executionInfo": {
     "elapsed": 170,
     "status": "ok",
     "timestamp": 1660750403927,
     "user": {
      "displayName": "Michelle Voong",
      "userId": "06511363073265027000"
     },
     "user_tz": 240
    },
    "id": "QUO3mqWS3XGn",
    "outputId": "96f8ee2b-dc02-4274-9a34-eba7d7f35507"
   },
   "outputs": [
    {
     "data": {
      "text/plain": [
       "25"
      ]
     },
     "execution_count": 25,
     "metadata": {},
     "output_type": "execute_result"
    }
   ],
   "source": [
    "# has 25 unique values so a pie chart probably is not the best option\n",
    "len(df_closed['neighborhood'].unique()) "
   ]
  },
  {
   "cell_type": "code",
   "execution_count": 26,
   "metadata": {
    "colab": {
     "base_uri": "https://localhost:8080/",
     "height": 319
    },
    "executionInfo": {
     "elapsed": 557,
     "status": "ok",
     "timestamp": 1660750411947,
     "user": {
      "displayName": "Michelle Voong",
      "userId": "06511363073265027000"
     },
     "user_tz": 240
    },
    "id": "mpqvvxBc3XGn",
    "outputId": "9715e1f9-fcdc-46af-db35-11f2cdffea58"
   },
   "outputs": [
    {
     "data": {
      "text/plain": [
       "Text(0.5, 1.0, 'Number of Requests by Neighborhood')"
      ]
     },
     "execution_count": 26,
     "metadata": {},
     "output_type": "execute_result"
    },
    {
     "data": {
      "image/png": "[encoded data removed]",
      "text/plain": [
       "<Figure size 432x288 with 1 Axes>"
      ]
     },
     "metadata": {},
     "output_type": "display_data"
    }
   ],
   "source": [
    "# plot neighborhood counts \n",
    "sns.countplot(x=\"neighborhood\", data=df_closed).set_title('Number of Requests by Neighborhood')"
   ]
  },
  {
   "cell_type": "markdown",
   "metadata": {
    "id": "6_5kRhbj3XGn"
   },
   "source": [
    "Yikes! The x-axis labels are pretty hard to read. Let's fix that by plotting the bars horizontally. "
   ]
  },
  {
   "cell_type": "code",
   "execution_count": 27,
   "metadata": {
    "colab": {
     "base_uri": "https://localhost:8080/",
     "height": 319
    },
    "executionInfo": {
     "elapsed": 444,
     "status": "ok",
     "timestamp": 1660750414818,
     "user": {
      "displayName": "Michelle Voong",
      "userId": "06511363073265027000"
     },
     "user_tz": 240
    },
    "id": "XSimqizn3XGn",
    "outputId": "2f340f13-5e7f-4320-b3bb-75748160bea4"
   },
   "outputs": [
    {
     "data": {
      "text/plain": [
       "Text(0.5, 1.0, 'Number of Requests by Neighborhood')"
      ]
     },
     "execution_count": 27,
     "metadata": {},
     "output_type": "execute_result"
    },
    {
     "data": {
      "image/png": "[encoded data removed]",
      "text/plain": [
       "<Figure size 432x288 with 1 Axes>"
      ]
     },
     "metadata": {},
     "output_type": "display_data"
    }
   ],
   "source": [
    "# fixing orientation of the labels \n",
    "sns.countplot(y=\"neighborhood\", data=df_closed).set_title('Number of Requests by Neighborhood')"
   ]
  },
  {
   "cell_type": "markdown",
   "metadata": {
    "id": "y2UdSXDo3XGn"
   },
   "source": [
    "From the plot we can see that Dorchester has the most requests, followed by South Boston/South Boston Waterfront, then Roxbury. There's a bar that doesn't have a name...that's strange. Let's display the exact counts for each neighborhood. "
   ]
  },
  {
   "cell_type": "code",
   "execution_count": 28,
   "metadata": {
    "colab": {
     "base_uri": "https://localhost:8080/"
    },
    "executionInfo": {
     "elapsed": 180,
     "status": "ok",
     "timestamp": 1660750418544,
     "user": {
      "displayName": "Michelle Voong",
      "userId": "06511363073265027000"
     },
     "user_tz": 240
    },
    "id": "NT82lbGY3XGn",
    "outputId": "ae3b0945-c10a-4134-ab17-b60caceaebc7"
   },
   "outputs": [
    {
     "data": {
      "text/plain": [
       "Dorchester                                      9148\n",
       "South Boston / South Boston Waterfront          5608\n",
       "Roxbury                                         5097\n",
       "East Boston                                     4420\n",
       "Allston / Brighton                              3945\n",
       "Jamaica Plain                                   3696\n",
       "South End                                       3666\n",
       "Downtown / Financial District                   3419\n",
       "Back Bay                                        2740\n",
       "Greater Mattapan                                2429\n",
       "Hyde Park                                       2308\n",
       "Charlestown                                     2096\n",
       "Roslindale                                      2083\n",
       "Boston                                          1803\n",
       "West Roxbury                                    1698\n",
       "Beacon Hill                                     1595\n",
       "Fenway / Kenmore / Audubon Circle / Longwood    1034\n",
       "Mission Hill                                     990\n",
       "South Boston                                     600\n",
       "                                                 476\n",
       "Brighton                                         293\n",
       "Allston                                          141\n",
       "Mattapan                                          72\n",
       "Chestnut Hill                                      4\n",
       "Name: neighborhood, dtype: int64"
      ]
     },
     "execution_count": 28,
     "metadata": {},
     "output_type": "execute_result"
    }
   ],
   "source": [
    "# displaying number of requests by neighborhood in table form \n",
    "df_closed['neighborhood'].value_counts()"
   ]
  },
  {
   "cell_type": "markdown",
   "metadata": {
    "id": "2CXjK5bh3XGo"
   },
   "source": [
    "There are 476 requests without a neighborhood label. "
   ]
  },
  {
   "cell_type": "code",
   "execution_count": 29,
   "metadata": {
    "colab": {
     "base_uri": "https://localhost:8080/",
     "height": 1000
    },
    "executionInfo": {
     "elapsed": 188,
     "status": "ok",
     "timestamp": 1660750423767,
     "user": {
      "displayName": "Michelle Voong",
      "userId": "06511363073265027000"
     },
     "user_tz": 240
    },
    "id": "e8_Vk8og3XGo",
    "outputId": "7a7308f8-a331-4145-9319-2d6d7b9f2975"
   },
   "outputs": [
    {
     "data": {
      "text/html": [
       "<div>\n",
       "<style scoped>\n",
       "    .dataframe tbody tr th:only-of-type {\n",
       "        vertical-align: middle;\n",
       "    }\n",
       "\n",
       "    .dataframe tbody tr th {\n",
       "        vertical-align: top;\n",
       "    }\n",
       "\n",
       "    .dataframe thead th {\n",
       "        text-align: right;\n",
       "    }\n",
       "</style>\n",
       "<table border=\"1\" class=\"dataframe\">\n",
       "  <thead>\n",
       "    <tr style=\"text-align: right;\">\n",
       "      <th></th>\n",
       "      <th>case_enquiry_id</th>\n",
       "      <th>open_dt</th>\n",
       "      <th>target_dt</th>\n",
       "      <th>closed_dt</th>\n",
       "      <th>ontime</th>\n",
       "      <th>case_status</th>\n",
       "      <th>closure_reason</th>\n",
       "      <th>case_title</th>\n",
       "      <th>subject</th>\n",
       "      <th>reason</th>\n",
       "      <th>...</th>\n",
       "      <th>neighborhood_services_district</th>\n",
       "      <th>ward</th>\n",
       "      <th>precinct</th>\n",
       "      <th>location_street_name</th>\n",
       "      <th>location_zipcode</th>\n",
       "      <th>latitude</th>\n",
       "      <th>longitude</th>\n",
       "      <th>source</th>\n",
       "      <th>case_duration</th>\n",
       "      <th>duration_in_days</th>\n",
       "    </tr>\n",
       "  </thead>\n",
       "  <tbody>\n",
       "    <tr>\n",
       "      <th>163</th>\n",
       "      <td>101004115729</td>\n",
       "      <td>2022-01-04 11:11:00</td>\n",
       "      <td>2022-02-03 11:11:34</td>\n",
       "      <td>2022-01-05 09:43:58</td>\n",
       "      <td>ONTIME</td>\n",
       "      <td>Closed</td>\n",
       "      <td>Case Closed. Closed date : Wed Jan 05 09:43:58...</td>\n",
       "      <td>DISPATCHED Heat - Excessive  Insufficient</td>\n",
       "      <td>Inspectional Services</td>\n",
       "      <td>Housing</td>\n",
       "      <td>...</td>\n",
       "      <td></td>\n",
       "      <td></td>\n",
       "      <td></td>\n",
       "      <td>NaN</td>\n",
       "      <td>NaN</td>\n",
       "      <td>42.3594</td>\n",
       "      <td>-71.0587</td>\n",
       "      <td>Constituent Call</td>\n",
       "      <td>0 days 22:32:58</td>\n",
       "      <td>0.939560</td>\n",
       "    </tr>\n",
       "    <tr>\n",
       "      <th>207</th>\n",
       "      <td>101004117130</td>\n",
       "      <td>2022-01-05 14:25:00</td>\n",
       "      <td>2022-01-14 14:25:51</td>\n",
       "      <td>2022-02-10 10:59:15</td>\n",
       "      <td>OVERDUE</td>\n",
       "      <td>Closed</td>\n",
       "      <td>Case Closed. Closed date : Thu Feb 10 10:59:15...</td>\n",
       "      <td>printed</td>\n",
       "      <td>Parks &amp; Recreation Department</td>\n",
       "      <td>Park Maintenance &amp; Safety</td>\n",
       "      <td>...</td>\n",
       "      <td></td>\n",
       "      <td></td>\n",
       "      <td></td>\n",
       "      <td>NaN</td>\n",
       "      <td>NaN</td>\n",
       "      <td>42.3594</td>\n",
       "      <td>-71.0587</td>\n",
       "      <td>Constituent Call</td>\n",
       "      <td>35 days 20:34:15</td>\n",
       "      <td>35.857118</td>\n",
       "    </tr>\n",
       "    <tr>\n",
       "      <th>301</th>\n",
       "      <td>101004118921</td>\n",
       "      <td>2022-01-07 12:55:08</td>\n",
       "      <td>NaT</td>\n",
       "      <td>2022-01-10 09:20:39</td>\n",
       "      <td>ONTIME</td>\n",
       "      <td>Closed</td>\n",
       "      <td>Case Closed. Closed date : 2022-01-10 09:20:39...</td>\n",
       "      <td>General Comments For An Employee</td>\n",
       "      <td>Mayor's 24 Hour Hotline</td>\n",
       "      <td>Employee &amp; General Comments</td>\n",
       "      <td>...</td>\n",
       "      <td></td>\n",
       "      <td></td>\n",
       "      <td></td>\n",
       "      <td>NaN</td>\n",
       "      <td>NaN</td>\n",
       "      <td>42.3594</td>\n",
       "      <td>-71.0587</td>\n",
       "      <td>Constituent Call</td>\n",
       "      <td>2 days 20:25:31</td>\n",
       "      <td>2.851053</td>\n",
       "    </tr>\n",
       "    <tr>\n",
       "      <th>640</th>\n",
       "      <td>101004123032</td>\n",
       "      <td>2022-01-11 14:00:00</td>\n",
       "      <td>2022-01-25 14:00:53</td>\n",
       "      <td>2022-01-12 12:37:49</td>\n",
       "      <td>ONTIME</td>\n",
       "      <td>Closed</td>\n",
       "      <td>Case Closed. Closed date : Wed Jan 12 12:37:49...</td>\n",
       "      <td>PublicWorks: Complaint</td>\n",
       "      <td>Mayor's 24 Hour Hotline</td>\n",
       "      <td>Employee &amp; General Comments</td>\n",
       "      <td>...</td>\n",
       "      <td></td>\n",
       "      <td></td>\n",
       "      <td></td>\n",
       "      <td>NaN</td>\n",
       "      <td>NaN</td>\n",
       "      <td>42.3594</td>\n",
       "      <td>-71.0587</td>\n",
       "      <td>Constituent Call</td>\n",
       "      <td>0 days 22:37:49</td>\n",
       "      <td>0.942928</td>\n",
       "    </tr>\n",
       "    <tr>\n",
       "      <th>882</th>\n",
       "      <td>101004121696</td>\n",
       "      <td>2022-01-10 10:35:00</td>\n",
       "      <td>2022-01-17 10:35:33</td>\n",
       "      <td>2022-01-10 11:06:04</td>\n",
       "      <td>ONTIME</td>\n",
       "      <td>Closed</td>\n",
       "      <td>Case Closed. Closed date : Mon Jan 10 11:06:04...</td>\n",
       "      <td>Ground Maintenance: Brewer/Burroughs Tot Lot -...</td>\n",
       "      <td>Parks &amp; Recreation Department</td>\n",
       "      <td>Park Maintenance &amp; Safety</td>\n",
       "      <td>...</td>\n",
       "      <td></td>\n",
       "      <td></td>\n",
       "      <td></td>\n",
       "      <td>NaN</td>\n",
       "      <td>NaN</td>\n",
       "      <td>42.3594</td>\n",
       "      <td>-71.0587</td>\n",
       "      <td>Employee Generated</td>\n",
       "      <td>0 days 00:31:04</td>\n",
       "      <td>0.021574</td>\n",
       "    </tr>\n",
       "    <tr>\n",
       "      <th>1280</th>\n",
       "      <td>101004141822</td>\n",
       "      <td>2022-01-20 12:49:51</td>\n",
       "      <td>2022-01-31 12:49:51</td>\n",
       "      <td>2022-01-21 10:30:31</td>\n",
       "      <td>ONTIME</td>\n",
       "      <td>Closed</td>\n",
       "      <td>Case Closed. Closed date : Fri Jan 21 10:30:31...</td>\n",
       "      <td>Parks Lighting Issue: Mozart St. Playground - ...</td>\n",
       "      <td>Parks &amp; Recreation Department</td>\n",
       "      <td>Park Maintenance &amp; Safety</td>\n",
       "      <td>...</td>\n",
       "      <td></td>\n",
       "      <td></td>\n",
       "      <td></td>\n",
       "      <td>NaN</td>\n",
       "      <td>NaN</td>\n",
       "      <td>42.3594</td>\n",
       "      <td>-71.0587</td>\n",
       "      <td>Self Service</td>\n",
       "      <td>0 days 21:40:40</td>\n",
       "      <td>0.903241</td>\n",
       "    </tr>\n",
       "    <tr>\n",
       "      <th>1509</th>\n",
       "      <td>101004129011</td>\n",
       "      <td>2022-01-18 09:11:00</td>\n",
       "      <td>2022-02-01 09:11:09</td>\n",
       "      <td>2022-01-18 10:22:18</td>\n",
       "      <td>ONTIME</td>\n",
       "      <td>Closed</td>\n",
       "      <td>Case Closed. Closed date : Tue Jan 18 10:22:18...</td>\n",
       "      <td>PublicWorks: Complaint</td>\n",
       "      <td>Mayor's 24 Hour Hotline</td>\n",
       "      <td>Employee &amp; General Comments</td>\n",
       "      <td>...</td>\n",
       "      <td></td>\n",
       "      <td></td>\n",
       "      <td></td>\n",
       "      <td>NaN</td>\n",
       "      <td>NaN</td>\n",
       "      <td>42.3594</td>\n",
       "      <td>-71.0587</td>\n",
       "      <td>Constituent Call</td>\n",
       "      <td>0 days 01:11:18</td>\n",
       "      <td>0.049514</td>\n",
       "    </tr>\n",
       "    <tr>\n",
       "      <th>1574</th>\n",
       "      <td>101004144874</td>\n",
       "      <td>2022-01-24 09:32:51</td>\n",
       "      <td>2022-02-07 09:32:51</td>\n",
       "      <td>2022-01-24 09:55:04</td>\n",
       "      <td>ONTIME</td>\n",
       "      <td>Closed</td>\n",
       "      <td>Case Closed Case Noted</td>\n",
       "      <td>PublicWorks: Complaint</td>\n",
       "      <td>Mayor's 24 Hour Hotline</td>\n",
       "      <td>Employee &amp; General Comments</td>\n",
       "      <td>...</td>\n",
       "      <td></td>\n",
       "      <td></td>\n",
       "      <td></td>\n",
       "      <td>NaN</td>\n",
       "      <td>NaN</td>\n",
       "      <td>42.3594</td>\n",
       "      <td>-71.0587</td>\n",
       "      <td>Constituent Call</td>\n",
       "      <td>0 days 00:22:13</td>\n",
       "      <td>0.015428</td>\n",
       "    </tr>\n",
       "    <tr>\n",
       "      <th>1612</th>\n",
       "      <td>101004146190</td>\n",
       "      <td>2022-01-25 12:48:25</td>\n",
       "      <td>2022-02-08 12:48:25</td>\n",
       "      <td>2022-01-25 16:24:50</td>\n",
       "      <td>ONTIME</td>\n",
       "      <td>Closed</td>\n",
       "      <td>Case Closed. Closed date : 2022-01-25 16:24:50...</td>\n",
       "      <td>Other: Comment</td>\n",
       "      <td>Mayor's 24 Hour Hotline</td>\n",
       "      <td>Employee &amp; General Comments</td>\n",
       "      <td>...</td>\n",
       "      <td></td>\n",
       "      <td></td>\n",
       "      <td></td>\n",
       "      <td>NaN</td>\n",
       "      <td>NaN</td>\n",
       "      <td>42.3594</td>\n",
       "      <td>-71.0587</td>\n",
       "      <td>Constituent Call</td>\n",
       "      <td>0 days 03:36:25</td>\n",
       "      <td>0.150289</td>\n",
       "    </tr>\n",
       "    <tr>\n",
       "      <th>1777</th>\n",
       "      <td>101004145555</td>\n",
       "      <td>2022-01-24 18:24:00</td>\n",
       "      <td>2022-02-03 08:30:00</td>\n",
       "      <td>2022-02-09 09:32:31</td>\n",
       "      <td>OVERDUE</td>\n",
       "      <td>Closed</td>\n",
       "      <td>Case Closed. Closed date : Wed Feb 09 09:32:31...</td>\n",
       "      <td>Parks Lighting Issue: Brophy Park - BPRD</td>\n",
       "      <td>Parks &amp; Recreation Department</td>\n",
       "      <td>Park Maintenance &amp; Safety</td>\n",
       "      <td>...</td>\n",
       "      <td></td>\n",
       "      <td></td>\n",
       "      <td></td>\n",
       "      <td>NaN</td>\n",
       "      <td>NaN</td>\n",
       "      <td>42.3594</td>\n",
       "      <td>-71.0587</td>\n",
       "      <td>Constituent Call</td>\n",
       "      <td>15 days 15:08:31</td>\n",
       "      <td>15.630914</td>\n",
       "    </tr>\n",
       "    <tr>\n",
       "      <th>2433</th>\n",
       "      <td>101004115813</td>\n",
       "      <td>2022-01-04 12:06:54</td>\n",
       "      <td>2022-01-06 12:07:26</td>\n",
       "      <td>2022-01-04 14:57:18</td>\n",
       "      <td>ONTIME</td>\n",
       "      <td>Closed</td>\n",
       "      <td>Case Closed. Closed date : Tue Jan 04 14:57:18...</td>\n",
       "      <td>Improper Storage of Trash (Barrels)</td>\n",
       "      <td>Public Works Department</td>\n",
       "      <td>Code Enforcement</td>\n",
       "      <td>...</td>\n",
       "      <td></td>\n",
       "      <td></td>\n",
       "      <td></td>\n",
       "      <td>NaN</td>\n",
       "      <td>NaN</td>\n",
       "      <td>42.3594</td>\n",
       "      <td>-71.0587</td>\n",
       "      <td>Constituent Call</td>\n",
       "      <td>0 days 02:50:24</td>\n",
       "      <td>0.118333</td>\n",
       "    </tr>\n",
       "    <tr>\n",
       "      <th>2489</th>\n",
       "      <td>101004116451</td>\n",
       "      <td>2022-01-05 02:15:02</td>\n",
       "      <td>2022-01-12 08:30:00</td>\n",
       "      <td>2022-01-05 07:40:59</td>\n",
       "      <td>ONTIME</td>\n",
       "      <td>Closed</td>\n",
       "      <td>Case Closed. Closed date : 2022-01-05 07:40:59...</td>\n",
       "      <td>Cemetery Maintenance Request</td>\n",
       "      <td>Parks &amp; Recreation Department</td>\n",
       "      <td>Cemetery</td>\n",
       "      <td>...</td>\n",
       "      <td></td>\n",
       "      <td></td>\n",
       "      <td></td>\n",
       "      <td>NaN</td>\n",
       "      <td>NaN</td>\n",
       "      <td>42.3594</td>\n",
       "      <td>-71.0587</td>\n",
       "      <td>Constituent Call</td>\n",
       "      <td>0 days 05:25:57</td>\n",
       "      <td>0.226354</td>\n",
       "    </tr>\n",
       "    <tr>\n",
       "      <th>2521</th>\n",
       "      <td>101004155729</td>\n",
       "      <td>2022-01-31 12:20:00</td>\n",
       "      <td>2022-02-07 12:21:11</td>\n",
       "      <td>2022-01-31 14:48:06</td>\n",
       "      <td>ONTIME</td>\n",
       "      <td>Closed</td>\n",
       "      <td>Case Closed. Closed date : Mon Jan 31 14:48:06...</td>\n",
       "      <td>Ground Maintenance: Franklin Park - BPRD</td>\n",
       "      <td>Parks &amp; Recreation Department</td>\n",
       "      <td>Park Maintenance &amp; Safety</td>\n",
       "      <td>...</td>\n",
       "      <td></td>\n",
       "      <td></td>\n",
       "      <td></td>\n",
       "      <td>NaN</td>\n",
       "      <td>NaN</td>\n",
       "      <td>42.3594</td>\n",
       "      <td>-71.0587</td>\n",
       "      <td>Employee Generated</td>\n",
       "      <td>0 days 02:28:06</td>\n",
       "      <td>0.102847</td>\n",
       "    </tr>\n",
       "    <tr>\n",
       "      <th>2677</th>\n",
       "      <td>101004156474</td>\n",
       "      <td>2022-01-31 15:32:00</td>\n",
       "      <td>2022-02-14 15:32:53</td>\n",
       "      <td>2022-02-03 18:30:57</td>\n",
       "      <td>ONTIME</td>\n",
       "      <td>Closed</td>\n",
       "      <td>Case Closed. Closed date : Thu Feb 03 18:30:57...</td>\n",
       "      <td>PublicWorks: Complaint</td>\n",
       "      <td>Mayor's 24 Hour Hotline</td>\n",
       "      <td>Employee &amp; General Comments</td>\n",
       "      <td>...</td>\n",
       "      <td></td>\n",
       "      <td></td>\n",
       "      <td></td>\n",
       "      <td>NaN</td>\n",
       "      <td>NaN</td>\n",
       "      <td>42.3594</td>\n",
       "      <td>-71.0587</td>\n",
       "      <td>Constituent Call</td>\n",
       "      <td>3 days 02:58:57</td>\n",
       "      <td>3.124271</td>\n",
       "    </tr>\n",
       "    <tr>\n",
       "      <th>2687</th>\n",
       "      <td>101004156811</td>\n",
       "      <td>2022-01-31 16:48:07</td>\n",
       "      <td>2022-02-14 16:48:07</td>\n",
       "      <td>2022-01-31 16:51:07</td>\n",
       "      <td>ONTIME</td>\n",
       "      <td>Closed</td>\n",
       "      <td>Case Closed Case Noted</td>\n",
       "      <td>PublicWorks: Complaint</td>\n",
       "      <td>Mayor's 24 Hour Hotline</td>\n",
       "      <td>Employee &amp; General Comments</td>\n",
       "      <td>...</td>\n",
       "      <td></td>\n",
       "      <td></td>\n",
       "      <td></td>\n",
       "      <td>NaN</td>\n",
       "      <td>NaN</td>\n",
       "      <td>42.3594</td>\n",
       "      <td>-71.0587</td>\n",
       "      <td>Constituent Call</td>\n",
       "      <td>0 days 00:03:00</td>\n",
       "      <td>0.002083</td>\n",
       "    </tr>\n",
       "  </tbody>\n",
       "</table>\n",
       "<p>15 rows × 30 columns</p>\n",
       "</div>"
      ],
      "text/plain": [
       "      case_enquiry_id             open_dt           target_dt  \\\n",
       "163      101004115729 2022-01-04 11:11:00 2022-02-03 11:11:34   \n",
       "207      101004117130 2022-01-05 14:25:00 2022-01-14 14:25:51   \n",
       "301      101004118921 2022-01-07 12:55:08                 NaT   \n",
       "640      101004123032 2022-01-11 14:00:00 2022-01-25 14:00:53   \n",
       "882      101004121696 2022-01-10 10:35:00 2022-01-17 10:35:33   \n",
       "1280     101004141822 2022-01-20 12:49:51 2022-01-31 12:49:51   \n",
       "1509     101004129011 2022-01-18 09:11:00 2022-02-01 09:11:09   \n",
       "1574     101004144874 2022-01-24 09:32:51 2022-02-07 09:32:51   \n",
       "1612     101004146190 2022-01-25 12:48:25 2022-02-08 12:48:25   \n",
       "1777     101004145555 2022-01-24 18:24:00 2022-02-03 08:30:00   \n",
       "2433     101004115813 2022-01-04 12:06:54 2022-01-06 12:07:26   \n",
       "2489     101004116451 2022-01-05 02:15:02 2022-01-12 08:30:00   \n",
       "2521     101004155729 2022-01-31 12:20:00 2022-02-07 12:21:11   \n",
       "2677     101004156474 2022-01-31 15:32:00 2022-02-14 15:32:53   \n",
       "2687     101004156811 2022-01-31 16:48:07 2022-02-14 16:48:07   \n",
       "\n",
       "               closed_dt   ontime case_status  \\\n",
       "163  2022-01-05 09:43:58   ONTIME      Closed   \n",
       "207  2022-02-10 10:59:15  OVERDUE      Closed   \n",
       "301  2022-01-10 09:20:39   ONTIME      Closed   \n",
       "640  2022-01-12 12:37:49   ONTIME      Closed   \n",
       "882  2022-01-10 11:06:04   ONTIME      Closed   \n",
       "1280 2022-01-21 10:30:31   ONTIME      Closed   \n",
       "1509 2022-01-18 10:22:18   ONTIME      Closed   \n",
       "1574 2022-01-24 09:55:04   ONTIME      Closed   \n",
       "1612 2022-01-25 16:24:50   ONTIME      Closed   \n",
       "1777 2022-02-09 09:32:31  OVERDUE      Closed   \n",
       "2433 2022-01-04 14:57:18   ONTIME      Closed   \n",
       "2489 2022-01-05 07:40:59   ONTIME      Closed   \n",
       "2521 2022-01-31 14:48:06   ONTIME      Closed   \n",
       "2677 2022-02-03 18:30:57   ONTIME      Closed   \n",
       "2687 2022-01-31 16:51:07   ONTIME      Closed   \n",
       "\n",
       "                                         closure_reason  \\\n",
       "163   Case Closed. Closed date : Wed Jan 05 09:43:58...   \n",
       "207   Case Closed. Closed date : Thu Feb 10 10:59:15...   \n",
       "301   Case Closed. Closed date : 2022-01-10 09:20:39...   \n",
       "640   Case Closed. Closed date : Wed Jan 12 12:37:49...   \n",
       "882   Case Closed. Closed date : Mon Jan 10 11:06:04...   \n",
       "1280  Case Closed. Closed date : Fri Jan 21 10:30:31...   \n",
       "1509  Case Closed. Closed date : Tue Jan 18 10:22:18...   \n",
       "1574                         Case Closed Case Noted       \n",
       "1612  Case Closed. Closed date : 2022-01-25 16:24:50...   \n",
       "1777  Case Closed. Closed date : Wed Feb 09 09:32:31...   \n",
       "2433  Case Closed. Closed date : Tue Jan 04 14:57:18...   \n",
       "2489  Case Closed. Closed date : 2022-01-05 07:40:59...   \n",
       "2521  Case Closed. Closed date : Mon Jan 31 14:48:06...   \n",
       "2677  Case Closed. Closed date : Thu Feb 03 18:30:57...   \n",
       "2687                         Case Closed Case Noted       \n",
       "\n",
       "                                             case_title  \\\n",
       "163           DISPATCHED Heat - Excessive  Insufficient   \n",
       "207                                             printed   \n",
       "301                    General Comments For An Employee   \n",
       "640                              PublicWorks: Complaint   \n",
       "882   Ground Maintenance: Brewer/Burroughs Tot Lot -...   \n",
       "1280  Parks Lighting Issue: Mozart St. Playground - ...   \n",
       "1509                             PublicWorks: Complaint   \n",
       "1574                             PublicWorks: Complaint   \n",
       "1612                                     Other: Comment   \n",
       "1777           Parks Lighting Issue: Brophy Park - BPRD   \n",
       "2433                Improper Storage of Trash (Barrels)   \n",
       "2489                       Cemetery Maintenance Request   \n",
       "2521           Ground Maintenance: Franklin Park - BPRD   \n",
       "2677                             PublicWorks: Complaint   \n",
       "2687                             PublicWorks: Complaint   \n",
       "\n",
       "                            subject                       reason  ...  \\\n",
       "163           Inspectional Services                      Housing  ...   \n",
       "207   Parks & Recreation Department    Park Maintenance & Safety  ...   \n",
       "301         Mayor's 24 Hour Hotline  Employee & General Comments  ...   \n",
       "640         Mayor's 24 Hour Hotline  Employee & General Comments  ...   \n",
       "882   Parks & Recreation Department    Park Maintenance & Safety  ...   \n",
       "1280  Parks & Recreation Department    Park Maintenance & Safety  ...   \n",
       "1509        Mayor's 24 Hour Hotline  Employee & General Comments  ...   \n",
       "1574        Mayor's 24 Hour Hotline  Employee & General Comments  ...   \n",
       "1612        Mayor's 24 Hour Hotline  Employee & General Comments  ...   \n",
       "1777  Parks & Recreation Department    Park Maintenance & Safety  ...   \n",
       "2433        Public Works Department             Code Enforcement  ...   \n",
       "2489  Parks & Recreation Department                     Cemetery  ...   \n",
       "2521  Parks & Recreation Department    Park Maintenance & Safety  ...   \n",
       "2677        Mayor's 24 Hour Hotline  Employee & General Comments  ...   \n",
       "2687        Mayor's 24 Hour Hotline  Employee & General Comments  ...   \n",
       "\n",
       "     neighborhood_services_district ward precinct location_street_name  \\\n",
       "163                                                                NaN   \n",
       "207                                                                NaN   \n",
       "301                                                                NaN   \n",
       "640                                                                NaN   \n",
       "882                                                                NaN   \n",
       "1280                                                               NaN   \n",
       "1509                                                               NaN   \n",
       "1574                                                               NaN   \n",
       "1612                                                               NaN   \n",
       "1777                                                               NaN   \n",
       "2433                                                               NaN   \n",
       "2489                                                               NaN   \n",
       "2521                                                               NaN   \n",
       "2677                                                               NaN   \n",
       "2687                                                               NaN   \n",
       "\n",
       "     location_zipcode latitude longitude              source    case_duration  \\\n",
       "163               NaN  42.3594  -71.0587    Constituent Call  0 days 22:32:58   \n",
       "207               NaN  42.3594  -71.0587    Constituent Call 35 days 20:34:15   \n",
       "301               NaN  42.3594  -71.0587    Constituent Call  2 days 20:25:31   \n",
       "640               NaN  42.3594  -71.0587    Constituent Call  0 days 22:37:49   \n",
       "882               NaN  42.3594  -71.0587  Employee Generated  0 days 00:31:04   \n",
       "1280              NaN  42.3594  -71.0587        Self Service  0 days 21:40:40   \n",
       "1509              NaN  42.3594  -71.0587    Constituent Call  0 days 01:11:18   \n",
       "1574              NaN  42.3594  -71.0587    Constituent Call  0 days 00:22:13   \n",
       "1612              NaN  42.3594  -71.0587    Constituent Call  0 days 03:36:25   \n",
       "1777              NaN  42.3594  -71.0587    Constituent Call 15 days 15:08:31   \n",
       "2433              NaN  42.3594  -71.0587    Constituent Call  0 days 02:50:24   \n",
       "2489              NaN  42.3594  -71.0587    Constituent Call  0 days 05:25:57   \n",
       "2521              NaN  42.3594  -71.0587  Employee Generated  0 days 02:28:06   \n",
       "2677              NaN  42.3594  -71.0587    Constituent Call  3 days 02:58:57   \n",
       "2687              NaN  42.3594  -71.0587    Constituent Call  0 days 00:03:00   \n",
       "\n",
       "     duration_in_days  \n",
       "163          0.939560  \n",
       "207         35.857118  \n",
       "301          2.851053  \n",
       "640          0.942928  \n",
       "882          0.021574  \n",
       "1280         0.903241  \n",
       "1509         0.049514  \n",
       "1574         0.015428  \n",
       "1612         0.150289  \n",
       "1777        15.630914  \n",
       "2433         0.118333  \n",
       "2489         0.226354  \n",
       "2521         0.102847  \n",
       "2677         3.124271  \n",
       "2687         0.002083  \n",
       "\n",
       "[15 rows x 30 columns]"
      ]
     },
     "execution_count": 29,
     "metadata": {},
     "output_type": "execute_result"
    }
   ],
   "source": [
    "# uncomment and run the line below to check for the empty neighborhood label \n",
    "# print(df_closed['neighborhood'].unique())\n",
    "\n",
    "# gather the rows where neighborhood == ' ' \n",
    "df_no_neighborhood = df_closed.loc[(df_closed['neighborhood'] == ' ')]\n",
    "df_no_neighborhood.head(15) # display first 15 rows"
   ]
  },
  {
   "cell_type": "code",
   "execution_count": 30,
   "metadata": {
    "colab": {
     "base_uri": "https://localhost:8080/"
    },
    "executionInfo": {
     "elapsed": 181,
     "status": "ok",
     "timestamp": 1660750427158,
     "user": {
      "displayName": "Michelle Voong",
      "userId": "06511363073265027000"
     },
     "user_tz": 240
    },
    "id": "Bd4Yz5PI3XGo",
    "outputId": "f3a6c416-1997-49b6-e0b3-ac21d73def68"
   },
   "outputs": [
    {
     "name": "stdout",
     "output_type": "stream",
     "text": [
      "[42.3594]\n",
      "[-71.0587]\n"
     ]
    }
   ],
   "source": [
    "print(df_no_neighborhood['latitude'].unique())\n",
    "print(df_no_neighborhood['longitude'].unique())"
   ]
  },
  {
   "cell_type": "markdown",
   "metadata": {
    "id": "6NGLLmUA3XGo"
   },
   "source": [
    "The latitude and longitude values are the same for all of the rows without a ```neighborhood``` value. We can use the *Geopy* module to convert the latitude and longitude coordinates to a place or location address - also referred to as reverse geocoding. "
   ]
  },
  {
   "cell_type": "code",
   "execution_count": 31,
   "metadata": {
    "colab": {
     "base_uri": "https://localhost:8080/"
    },
    "executionInfo": {
     "elapsed": 342,
     "status": "ok",
     "timestamp": 1660750428607,
     "user": {
      "displayName": "Michelle Voong",
      "userId": "06511363073265027000"
     },
     "user_tz": 240
    },
    "id": "9-6lVzmX3XGo",
    "outputId": "1b3862bb-72a2-404a-d124-46d5cc46489c"
   },
   "outputs": [
    {
     "name": "stdout",
     "output_type": "stream",
     "text": [
      "{'place_id': 264213803, 'licence': 'Data © OpenStreetMap contributors, ODbL 1.0. https://osm.org/copyright', 'osm_type': 'way', 'osm_id': 816277585, 'lat': '42.3594696', 'lon': '-71.05880376899256', 'display_name': \"Sears' Crescent and Sears' Block Building, Franklin Avenue, Downtown Crossing, Downtown Boston, Boston, Suffolk County, Massachusetts, 02201, United States\", 'address': {'building': \"Sears' Crescent and Sears' Block Building\", 'road': 'Franklin Avenue', 'neighbourhood': 'Downtown Crossing', 'suburb': 'Downtown Boston', 'city': 'Boston', 'county': 'Suffolk County', 'state': 'Massachusetts', 'ISO3166-2-lvl4': 'US-MA', 'postcode': '02201', 'country': 'United States', 'country_code': 'us'}, 'boundingbox': ['42.3593149', '42.3596061', '-71.0592779', '-71.0584887']}\n"
     ]
    }
   ],
   "source": [
    "# import geopy \n",
    "from geopy.geocoders import Nominatim \n",
    "\n",
    "# make a Nominatim object and initialize, specify a user_agent \n",
    "# Nominatim requires this value to be set to your application name, to be able to limit the number of requests per application\n",
    "# Nominatim is a free service but provides low request limits: https://operations.osmfoundation.org/policies/nominatim/\n",
    "geolocator = Nominatim(user_agent=\"eda_geotest\")\n",
    "\n",
    "# set latitude and longitude and convert to string \n",
    "lat = str(df_no_neighborhood['latitude'].unique()[0])\n",
    "long = str(df_no_neighborhood['longitude'].unique()[0])\n",
    "\n",
    "# get the location information\n",
    "location = geolocator.reverse(lat + \",\" +long)\n",
    "\n",
    "# display location information, add .raw for more details\n",
    "print(location.raw)"
   ]
  },
  {
   "cell_type": "markdown",
   "metadata": {
    "id": "zaSDa5ZT3XGp"
   },
   "source": [
    "Quick Google Maps search of the location confirms that (42.3594, -71.0587) is Government Center. The output from *geopy* is Sear's Crescent and Sears' Block which are a pair of buildings adjacent to City Hall and City Hall Plaza, Government Center.\n",
    "\n",
    "Another quick look at the output from *geopy* shows that the ```lat``` and ```lon``` values are similar but different from the latitude and longitude values in the dataset. \n",
    "\n",
    "The requests without a neighborhood value have a general location of Government Center. At least we can confirm that requests without a neighborhood value are not outside of Boston or erroneous. "
   ]
  },
  {
   "cell_type": "markdown",
   "metadata": {
    "id": "CQGzIR183XGp"
   },
   "source": [
    "\n",
    "### During January 2022 - March 2022, where did the most case requests come from?\n",
    "\n",
    "To answer this question, we will take a look at the ```source``` column. "
   ]
  },
  {
   "cell_type": "code",
   "execution_count": 32,
   "metadata": {
    "colab": {
     "base_uri": "https://localhost:8080/"
    },
    "executionInfo": {
     "elapsed": 208,
     "status": "ok",
     "timestamp": 1660750433463,
     "user": {
      "displayName": "Michelle Voong",
      "userId": "06511363073265027000"
     },
     "user_tz": 240
    },
    "id": "KxlMdrp93XGp",
    "outputId": "aa8fe38a-c178-42ca-ae2f-0061474179a5"
   },
   "outputs": [
    {
     "data": {
      "text/plain": [
       "5"
      ]
     },
     "execution_count": 32,
     "metadata": {},
     "output_type": "execute_result"
    }
   ],
   "source": [
    "# has only 5 unique values so in this case we can use a pie chart \n",
    "len(df_closed['source'].unique())"
   ]
  },
  {
   "cell_type": "code",
   "execution_count": 33,
   "metadata": {
    "colab": {
     "base_uri": "https://localhost:8080/"
    },
    "executionInfo": {
     "elapsed": 183,
     "status": "ok",
     "timestamp": 1660750434887,
     "user": {
      "displayName": "Michelle Voong",
      "userId": "06511363073265027000"
     },
     "user_tz": 240
    },
    "id": "F13WugP83XGp",
    "outputId": "c4656084-14ca-4fe2-bdd5-470d3357f71e"
   },
   "outputs": [
    {
     "data": {
      "text/plain": [
       "Citizens Connect App    32066\n",
       "Constituent Call        21051\n",
       "City Worker App          3795\n",
       "Self Service             1632\n",
       "Employee Generated        876\n",
       "Name: source, dtype: int64"
      ]
     },
     "execution_count": 33,
     "metadata": {},
     "output_type": "execute_result"
    }
   ],
   "source": [
    "# displaying the number of requests by each source type \n",
    "df_closed['source'].value_counts()"
   ]
  },
  {
   "cell_type": "code",
   "execution_count": 34,
   "metadata": {
    "colab": {
     "base_uri": "https://localhost:8080/",
     "height": 248
    },
    "executionInfo": {
     "elapsed": 159,
     "status": "ok",
     "timestamp": 1660750436878,
     "user": {
      "displayName": "Michelle Voong",
      "userId": "06511363073265027000"
     },
     "user_tz": 240
    },
    "id": "Xs6qo0lP3XGp",
    "outputId": "f2fe9d7f-e665-45eb-8d34-5603a0663da7"
   },
   "outputs": [
    {
     "data": {
      "image/png": "[encoded data removed]",
      "text/plain": [
       "<Figure size 432x288 with 1 Axes>"
      ]
     },
     "metadata": {},
     "output_type": "display_data"
    }
   ],
   "source": [
    "# visualizing the breakdown of where case requests come from \n",
    "# seaborn doesn't have a default pie chart but you can add seaborn color palettes to matplotlib plots\n",
    "\n",
    "colors = sns.color_palette('pastel')[0:5]\n",
    "ax = df_closed['source'].value_counts().plot.pie(colors=colors)"
   ]
  },
  {
   "cell_type": "code",
   "execution_count": 35,
   "metadata": {
    "colab": {
     "base_uri": "https://localhost:8080/",
     "height": 248
    },
    "executionInfo": {
     "elapsed": 189,
     "status": "ok",
     "timestamp": 1660750438754,
     "user": {
      "displayName": "Michelle Voong",
      "userId": "06511363073265027000"
     },
     "user_tz": 240
    },
    "id": "CApeB0973XGp",
    "outputId": "1056d626-6e09-4729-d3a9-53ab836745d2"
   },
   "outputs": [
    {
     "data": {
      "image/png": "[encoded data removed]",
      "text/plain": [
       "<Figure size 432x288 with 1 Axes>"
      ]
     },
     "metadata": {},
     "output_type": "display_data"
    }
   ],
   "source": [
    "# label each slice with the percentage of requests per source \n",
    "ax = df_closed['source'].value_counts().plot.pie(colors=colors,autopct='%1.1f%%')\n",
    "\n",
    "# run the following to remove the default column name label *source*\n",
    "#ax.yaxis.set_visible(False)"
   ]
  },
  {
   "cell_type": "markdown",
   "metadata": {
    "id": "tKYqYK1_3XGp"
   },
   "source": [
    "From the pie chart, 54% of the requests from January 2022 - March 2022 came from the Citizens Connect App, 35.4% came from a Constituent Call, followed by 6.4% from the City Worker App. "
   ]
  },
  {
   "cell_type": "markdown",
   "metadata": {
    "id": "cnjoCNnQ3XGp"
   },
   "source": [
    "### How many different types of requests were there from January 2022 - March 2022?\n",
    "\n",
    "To answer this question, we will take a look at the ```reason``` column. "
   ]
  },
  {
   "cell_type": "code",
   "execution_count": 36,
   "metadata": {
    "colab": {
     "base_uri": "https://localhost:8080/"
    },
    "executionInfo": {
     "elapsed": 182,
     "status": "ok",
     "timestamp": 1660750441902,
     "user": {
      "displayName": "Michelle Voong",
      "userId": "06511363073265027000"
     },
     "user_tz": 240
    },
    "id": "zVpNc1UV3XGp",
    "outputId": "7881f507-6fde-4441-c23d-cfcd10accdc1"
   },
   "outputs": [
    {
     "data": {
      "text/plain": [
       "38"
      ]
     },
     "execution_count": 36,
     "metadata": {},
     "output_type": "execute_result"
    }
   ],
   "source": [
    "# how many different reasons are there \n",
    "len(df_closed['reason'].unique())"
   ]
  },
  {
   "cell_type": "code",
   "execution_count": 37,
   "metadata": {
    "colab": {
     "base_uri": "https://localhost:8080/"
    },
    "executionInfo": {
     "elapsed": 211,
     "status": "ok",
     "timestamp": 1660750444724,
     "user": {
      "displayName": "Michelle Voong",
      "userId": "06511363073265027000"
     },
     "user_tz": 240
    },
    "id": "Ie2Y3L243XGq",
    "outputId": "655b0a45-81f6-4c1a-85c0-ff78f91cde16"
   },
   "outputs": [
    {
     "data": {
      "text/plain": [
       "Enforcement & Abandoned Vehicles     14908\n",
       "Code Enforcement                     10437\n",
       "Street Cleaning                       8477\n",
       "Sanitation                            5993\n",
       "Highway Maintenance                   5032\n",
       "Signs & Signals                       2202\n",
       "Street Lights                         1774\n",
       "Recycling                             1690\n",
       "Housing                               1529\n",
       "Needle Program                        1298\n",
       "Building                              1293\n",
       "Park Maintenance & Safety             1001\n",
       "Trees                                  762\n",
       "Animal Issues                          580\n",
       "Environmental Services                 560\n",
       "Employee & General Comments            366\n",
       "Health                                 344\n",
       "Graffiti                               297\n",
       "Administrative & General Requests      261\n",
       "Notification                           141\n",
       "Traffic Management & Engineering       113\n",
       "Abandoned Bicycle                      108\n",
       "Sidewalk Cover / Manhole                53\n",
       "Catchbasin                              40\n",
       "Fire Hydrant                            26\n",
       "Noise Disturbance                       24\n",
       "Programs                                23\n",
       "Pothole                                 22\n",
       "Air Pollution Control                   13\n",
       "Operations                              11\n",
       "Neighborhood Services Issues             9\n",
       "Weights and Measures                     8\n",
       "Cemetery                                 7\n",
       "Generic Noise Disturbance                7\n",
       "Parking Complaints                       5\n",
       "Fire Department                          3\n",
       "Office of The Parking Clerk              2\n",
       "Billing                                  1\n",
       "Name: reason, dtype: int64"
      ]
     },
     "execution_count": 37,
     "metadata": {},
     "output_type": "execute_result"
    }
   ],
   "source": [
    "# number of requests by reason \n",
    "df_closed['reason'].value_counts()"
   ]
  },
  {
   "cell_type": "markdown",
   "metadata": {
    "id": "8mTokvaI3XGq"
   },
   "source": [
    "There were 38 different types of requests from January 2022 - March 2022, the top three with most requests being *Enforcement & Abandoned Vehicles* with 14,908 requests, *Code Enforcement* with 10,437 requests, then *Street Cleaning* with 8,477 requests. "
   ]
  },
  {
   "cell_type": "code",
   "execution_count": 38,
   "metadata": {
    "colab": {
     "base_uri": "https://localhost:8080/",
     "height": 834
    },
    "executionInfo": {
     "elapsed": 177,
     "status": "ok",
     "timestamp": 1660750447335,
     "user": {
      "displayName": "Michelle Voong",
      "userId": "06511363073265027000"
     },
     "user_tz": 240
    },
    "id": "PuNkyumW3XGq",
    "outputId": "f4730770-a7a1-4436-8006-caf5a04c567d"
   },
   "outputs": [
    {
     "data": {
      "text/html": [
       "<div>\n",
       "<style scoped>\n",
       "    .dataframe tbody tr th:only-of-type {\n",
       "        vertical-align: middle;\n",
       "    }\n",
       "\n",
       "    .dataframe tbody tr th {\n",
       "        vertical-align: top;\n",
       "    }\n",
       "\n",
       "    .dataframe thead th {\n",
       "        text-align: right;\n",
       "    }\n",
       "</style>\n",
       "<table border=\"1\" class=\"dataframe\">\n",
       "  <thead>\n",
       "    <tr style=\"text-align: right;\">\n",
       "      <th></th>\n",
       "      <th>count</th>\n",
       "      <th>unique</th>\n",
       "      <th>top</th>\n",
       "      <th>freq</th>\n",
       "    </tr>\n",
       "    <tr>\n",
       "      <th>neighborhood</th>\n",
       "      <th></th>\n",
       "      <th></th>\n",
       "      <th></th>\n",
       "      <th></th>\n",
       "    </tr>\n",
       "  </thead>\n",
       "  <tbody>\n",
       "    <tr>\n",
       "      <th></th>\n",
       "      <td>476</td>\n",
       "      <td>17</td>\n",
       "      <td>Employee &amp; General Comments</td>\n",
       "      <td>278</td>\n",
       "    </tr>\n",
       "    <tr>\n",
       "      <th>Allston</th>\n",
       "      <td>141</td>\n",
       "      <td>17</td>\n",
       "      <td>Code Enforcement</td>\n",
       "      <td>29</td>\n",
       "    </tr>\n",
       "    <tr>\n",
       "      <th>Allston / Brighton</th>\n",
       "      <td>3945</td>\n",
       "      <td>31</td>\n",
       "      <td>Enforcement &amp; Abandoned Vehicles</td>\n",
       "      <td>1065</td>\n",
       "    </tr>\n",
       "    <tr>\n",
       "      <th>Back Bay</th>\n",
       "      <td>2740</td>\n",
       "      <td>29</td>\n",
       "      <td>Enforcement &amp; Abandoned Vehicles</td>\n",
       "      <td>678</td>\n",
       "    </tr>\n",
       "    <tr>\n",
       "      <th>Beacon Hill</th>\n",
       "      <td>1595</td>\n",
       "      <td>23</td>\n",
       "      <td>Street Cleaning</td>\n",
       "      <td>467</td>\n",
       "    </tr>\n",
       "    <tr>\n",
       "      <th>Boston</th>\n",
       "      <td>1803</td>\n",
       "      <td>30</td>\n",
       "      <td>Enforcement &amp; Abandoned Vehicles</td>\n",
       "      <td>378</td>\n",
       "    </tr>\n",
       "    <tr>\n",
       "      <th>Brighton</th>\n",
       "      <td>293</td>\n",
       "      <td>21</td>\n",
       "      <td>Enforcement &amp; Abandoned Vehicles</td>\n",
       "      <td>64</td>\n",
       "    </tr>\n",
       "    <tr>\n",
       "      <th>Charlestown</th>\n",
       "      <td>2096</td>\n",
       "      <td>27</td>\n",
       "      <td>Enforcement &amp; Abandoned Vehicles</td>\n",
       "      <td>766</td>\n",
       "    </tr>\n",
       "    <tr>\n",
       "      <th>Chestnut Hill</th>\n",
       "      <td>4</td>\n",
       "      <td>3</td>\n",
       "      <td>Health</td>\n",
       "      <td>2</td>\n",
       "    </tr>\n",
       "    <tr>\n",
       "      <th>Dorchester</th>\n",
       "      <td>9148</td>\n",
       "      <td>32</td>\n",
       "      <td>Enforcement &amp; Abandoned Vehicles</td>\n",
       "      <td>2195</td>\n",
       "    </tr>\n",
       "    <tr>\n",
       "      <th>Downtown / Financial District</th>\n",
       "      <td>3419</td>\n",
       "      <td>28</td>\n",
       "      <td>Enforcement &amp; Abandoned Vehicles</td>\n",
       "      <td>807</td>\n",
       "    </tr>\n",
       "    <tr>\n",
       "      <th>East Boston</th>\n",
       "      <td>4420</td>\n",
       "      <td>27</td>\n",
       "      <td>Enforcement &amp; Abandoned Vehicles</td>\n",
       "      <td>1935</td>\n",
       "    </tr>\n",
       "    <tr>\n",
       "      <th>Fenway / Kenmore / Audubon Circle / Longwood</th>\n",
       "      <td>1034</td>\n",
       "      <td>28</td>\n",
       "      <td>Enforcement &amp; Abandoned Vehicles</td>\n",
       "      <td>202</td>\n",
       "    </tr>\n",
       "    <tr>\n",
       "      <th>Greater Mattapan</th>\n",
       "      <td>2429</td>\n",
       "      <td>27</td>\n",
       "      <td>Sanitation</td>\n",
       "      <td>546</td>\n",
       "    </tr>\n",
       "    <tr>\n",
       "      <th>Hyde Park</th>\n",
       "      <td>2308</td>\n",
       "      <td>28</td>\n",
       "      <td>Sanitation</td>\n",
       "      <td>431</td>\n",
       "    </tr>\n",
       "    <tr>\n",
       "      <th>Jamaica Plain</th>\n",
       "      <td>3696</td>\n",
       "      <td>28</td>\n",
       "      <td>Code Enforcement</td>\n",
       "      <td>819</td>\n",
       "    </tr>\n",
       "    <tr>\n",
       "      <th>Mattapan</th>\n",
       "      <td>72</td>\n",
       "      <td>16</td>\n",
       "      <td>Street Cleaning</td>\n",
       "      <td>19</td>\n",
       "    </tr>\n",
       "    <tr>\n",
       "      <th>Mission Hill</th>\n",
       "      <td>990</td>\n",
       "      <td>25</td>\n",
       "      <td>Enforcement &amp; Abandoned Vehicles</td>\n",
       "      <td>208</td>\n",
       "    </tr>\n",
       "    <tr>\n",
       "      <th>Roslindale</th>\n",
       "      <td>2083</td>\n",
       "      <td>30</td>\n",
       "      <td>Enforcement &amp; Abandoned Vehicles</td>\n",
       "      <td>387</td>\n",
       "    </tr>\n",
       "    <tr>\n",
       "      <th>Roxbury</th>\n",
       "      <td>5097</td>\n",
       "      <td>30</td>\n",
       "      <td>Enforcement &amp; Abandoned Vehicles</td>\n",
       "      <td>1019</td>\n",
       "    </tr>\n",
       "    <tr>\n",
       "      <th>South Boston</th>\n",
       "      <td>600</td>\n",
       "      <td>19</td>\n",
       "      <td>Enforcement &amp; Abandoned Vehicles</td>\n",
       "      <td>243</td>\n",
       "    </tr>\n",
       "    <tr>\n",
       "      <th>South Boston / South Boston Waterfront</th>\n",
       "      <td>5608</td>\n",
       "      <td>27</td>\n",
       "      <td>Enforcement &amp; Abandoned Vehicles</td>\n",
       "      <td>2530</td>\n",
       "    </tr>\n",
       "    <tr>\n",
       "      <th>South End</th>\n",
       "      <td>3666</td>\n",
       "      <td>27</td>\n",
       "      <td>Code Enforcement</td>\n",
       "      <td>775</td>\n",
       "    </tr>\n",
       "    <tr>\n",
       "      <th>West Roxbury</th>\n",
       "      <td>1698</td>\n",
       "      <td>24</td>\n",
       "      <td>Sanitation</td>\n",
       "      <td>450</td>\n",
       "    </tr>\n",
       "  </tbody>\n",
       "</table>\n",
       "</div>"
      ],
      "text/plain": [
       "                                             count unique  \\\n",
       "neighborhood                                                \n",
       "                                               476     17   \n",
       "Allston                                        141     17   \n",
       "Allston / Brighton                            3945     31   \n",
       "Back Bay                                      2740     29   \n",
       "Beacon Hill                                   1595     23   \n",
       "Boston                                        1803     30   \n",
       "Brighton                                       293     21   \n",
       "Charlestown                                   2096     27   \n",
       "Chestnut Hill                                    4      3   \n",
       "Dorchester                                    9148     32   \n",
       "Downtown / Financial District                 3419     28   \n",
       "East Boston                                   4420     27   \n",
       "Fenway / Kenmore / Audubon Circle / Longwood  1034     28   \n",
       "Greater Mattapan                              2429     27   \n",
       "Hyde Park                                     2308     28   \n",
       "Jamaica Plain                                 3696     28   \n",
       "Mattapan                                        72     16   \n",
       "Mission Hill                                   990     25   \n",
       "Roslindale                                    2083     30   \n",
       "Roxbury                                       5097     30   \n",
       "South Boston                                   600     19   \n",
       "South Boston / South Boston Waterfront        5608     27   \n",
       "South End                                     3666     27   \n",
       "West Roxbury                                  1698     24   \n",
       "\n",
       "                                                                           top  \\\n",
       "neighborhood                                                                     \n",
       "                                                   Employee & General Comments   \n",
       "Allston                                                       Code Enforcement   \n",
       "Allston / Brighton                            Enforcement & Abandoned Vehicles   \n",
       "Back Bay                                      Enforcement & Abandoned Vehicles   \n",
       "Beacon Hill                                                    Street Cleaning   \n",
       "Boston                                        Enforcement & Abandoned Vehicles   \n",
       "Brighton                                      Enforcement & Abandoned Vehicles   \n",
       "Charlestown                                   Enforcement & Abandoned Vehicles   \n",
       "Chestnut Hill                                                           Health   \n",
       "Dorchester                                    Enforcement & Abandoned Vehicles   \n",
       "Downtown / Financial District                 Enforcement & Abandoned Vehicles   \n",
       "East Boston                                   Enforcement & Abandoned Vehicles   \n",
       "Fenway / Kenmore / Audubon Circle / Longwood  Enforcement & Abandoned Vehicles   \n",
       "Greater Mattapan                                                    Sanitation   \n",
       "Hyde Park                                                           Sanitation   \n",
       "Jamaica Plain                                                 Code Enforcement   \n",
       "Mattapan                                                       Street Cleaning   \n",
       "Mission Hill                                  Enforcement & Abandoned Vehicles   \n",
       "Roslindale                                    Enforcement & Abandoned Vehicles   \n",
       "Roxbury                                       Enforcement & Abandoned Vehicles   \n",
       "South Boston                                  Enforcement & Abandoned Vehicles   \n",
       "South Boston / South Boston Waterfront        Enforcement & Abandoned Vehicles   \n",
       "South End                                                     Code Enforcement   \n",
       "West Roxbury                                                        Sanitation   \n",
       "\n",
       "                                              freq  \n",
       "neighborhood                                        \n",
       "                                               278  \n",
       "Allston                                         29  \n",
       "Allston / Brighton                            1065  \n",
       "Back Bay                                       678  \n",
       "Beacon Hill                                    467  \n",
       "Boston                                         378  \n",
       "Brighton                                        64  \n",
       "Charlestown                                    766  \n",
       "Chestnut Hill                                    2  \n",
       "Dorchester                                    2195  \n",
       "Downtown / Financial District                  807  \n",
       "East Boston                                   1935  \n",
       "Fenway / Kenmore / Audubon Circle / Longwood   202  \n",
       "Greater Mattapan                               546  \n",
       "Hyde Park                                      431  \n",
       "Jamaica Plain                                  819  \n",
       "Mattapan                                        19  \n",
       "Mission Hill                                   208  \n",
       "Roslindale                                     387  \n",
       "Roxbury                                       1019  \n",
       "South Boston                                   243  \n",
       "South Boston / South Boston Waterfront        2530  \n",
       "South End                                      775  \n",
       "West Roxbury                                   450  "
      ]
     },
     "execution_count": 38,
     "metadata": {},
     "output_type": "execute_result"
    }
   ],
   "source": [
    "# top case request reason by neighborhood \n",
    "df_closed.groupby(['neighborhood'])['reason'].describe()"
   ]
  },
  {
   "cell_type": "code",
   "execution_count": 39,
   "metadata": {
    "colab": {
     "base_uri": "https://localhost:8080/",
     "height": 455
    },
    "executionInfo": {
     "elapsed": 1542,
     "status": "ok",
     "timestamp": 1660750453246,
     "user": {
      "displayName": "Michelle Voong",
      "userId": "06511363073265027000"
     },
     "user_tz": 240
    },
    "id": "5exMcqY93XGq",
    "outputId": "194adbb6-e49b-4309-da8a-b6f8f85133ed"
   },
   "outputs": [
    {
     "data": {
      "text/html": [
       "<div>\n",
       "<style scoped>\n",
       "    .dataframe tbody tr th:only-of-type {\n",
       "        vertical-align: middle;\n",
       "    }\n",
       "\n",
       "    .dataframe tbody tr th {\n",
       "        vertical-align: top;\n",
       "    }\n",
       "\n",
       "    .dataframe thead th {\n",
       "        text-align: right;\n",
       "    }\n",
       "</style>\n",
       "<table border=\"1\" class=\"dataframe\">\n",
       "  <thead>\n",
       "    <tr style=\"text-align: right;\">\n",
       "      <th></th>\n",
       "      <th></th>\n",
       "      <th>count</th>\n",
       "    </tr>\n",
       "    <tr>\n",
       "      <th>neighborhood</th>\n",
       "      <th>reason</th>\n",
       "      <th></th>\n",
       "    </tr>\n",
       "  </thead>\n",
       "  <tbody>\n",
       "    <tr>\n",
       "      <th rowspan=\"5\" valign=\"top\"></th>\n",
       "      <th>Cemetery</th>\n",
       "      <td>7.0</td>\n",
       "    </tr>\n",
       "    <tr>\n",
       "      <th>Code Enforcement</th>\n",
       "      <td>9.0</td>\n",
       "    </tr>\n",
       "    <tr>\n",
       "      <th>Employee &amp; General Comments</th>\n",
       "      <td>278.0</td>\n",
       "    </tr>\n",
       "    <tr>\n",
       "      <th>Enforcement &amp; Abandoned Vehicles</th>\n",
       "      <td>17.0</td>\n",
       "    </tr>\n",
       "    <tr>\n",
       "      <th>Environmental Services</th>\n",
       "      <td>3.0</td>\n",
       "    </tr>\n",
       "    <tr>\n",
       "      <th>...</th>\n",
       "      <th>...</th>\n",
       "      <td>...</td>\n",
       "    </tr>\n",
       "    <tr>\n",
       "      <th rowspan=\"5\" valign=\"top\">West Roxbury</th>\n",
       "      <th>Signs &amp; Signals</th>\n",
       "      <td>95.0</td>\n",
       "    </tr>\n",
       "    <tr>\n",
       "      <th>Street Cleaning</th>\n",
       "      <td>159.0</td>\n",
       "    </tr>\n",
       "    <tr>\n",
       "      <th>Street Lights</th>\n",
       "      <td>50.0</td>\n",
       "    </tr>\n",
       "    <tr>\n",
       "      <th>Traffic Management &amp; Engineering</th>\n",
       "      <td>4.0</td>\n",
       "    </tr>\n",
       "    <tr>\n",
       "      <th>Trees</th>\n",
       "      <td>72.0</td>\n",
       "    </tr>\n",
       "  </tbody>\n",
       "</table>\n",
       "<p>594 rows × 1 columns</p>\n",
       "</div>"
      ],
      "text/plain": [
       "                                               count\n",
       "neighborhood reason                                 \n",
       "             Cemetery                            7.0\n",
       "             Code Enforcement                    9.0\n",
       "             Employee & General Comments       278.0\n",
       "             Enforcement & Abandoned Vehicles   17.0\n",
       "             Environmental Services              3.0\n",
       "...                                              ...\n",
       "West Roxbury Signs & Signals                    95.0\n",
       "             Street Cleaning                   159.0\n",
       "             Street Lights                      50.0\n",
       "             Traffic Management & Engineering    4.0\n",
       "             Trees                              72.0\n",
       "\n",
       "[594 rows x 1 columns]"
      ]
     },
     "execution_count": 39,
     "metadata": {},
     "output_type": "execute_result"
    }
   ],
   "source": [
    "# get counts for each request reason by neighborhood \n",
    "reason_by_neighborhood = df_closed.groupby(['neighborhood', 'reason'])['duration_in_days'].describe()[['count']]\n",
    "reason_by_neighborhood"
   ]
  },
  {
   "cell_type": "code",
   "execution_count": 40,
   "metadata": {
    "executionInfo": {
     "elapsed": 156,
     "status": "ok",
     "timestamp": 1660750455720,
     "user": {
      "displayName": "Michelle Voong",
      "userId": "06511363073265027000"
     },
     "user_tz": 240
    },
    "id": "UePCakuX3XGq"
   },
   "outputs": [],
   "source": [
    "# run this cell to write the reason by neighborhood to a csv to see all rows of data \n",
    "reason_by_neighborhood.to_csv('reasons_by_neighborhood.csv')"
   ]
  },
  {
   "cell_type": "code",
   "execution_count": 41,
   "metadata": {
    "colab": {
     "base_uri": "https://localhost:8080/",
     "height": 928
    },
    "executionInfo": {
     "elapsed": 168,
     "status": "ok",
     "timestamp": 1660750456753,
     "user": {
      "displayName": "Michelle Voong",
      "userId": "06511363073265027000"
     },
     "user_tz": 240
    },
    "id": "j71KzjHc3XGq",
    "outputId": "2a00b53b-0a92-4511-c0a4-f464cb6b45b7"
   },
   "outputs": [
    {
     "data": {
      "text/html": [
       "<div>\n",
       "<style scoped>\n",
       "    .dataframe tbody tr th:only-of-type {\n",
       "        vertical-align: middle;\n",
       "    }\n",
       "\n",
       "    .dataframe tbody tr th {\n",
       "        vertical-align: top;\n",
       "    }\n",
       "\n",
       "    .dataframe thead th {\n",
       "        text-align: right;\n",
       "    }\n",
       "</style>\n",
       "<table border=\"1\" class=\"dataframe\">\n",
       "  <thead>\n",
       "    <tr style=\"text-align: right;\">\n",
       "      <th></th>\n",
       "      <th>count</th>\n",
       "    </tr>\n",
       "    <tr>\n",
       "      <th>reason</th>\n",
       "      <th></th>\n",
       "    </tr>\n",
       "  </thead>\n",
       "  <tbody>\n",
       "    <tr>\n",
       "      <th>Abandoned Bicycle</th>\n",
       "      <td>8.0</td>\n",
       "    </tr>\n",
       "    <tr>\n",
       "      <th>Administrative &amp; General Requests</th>\n",
       "      <td>10.0</td>\n",
       "    </tr>\n",
       "    <tr>\n",
       "      <th>Air Pollution Control</th>\n",
       "      <td>4.0</td>\n",
       "    </tr>\n",
       "    <tr>\n",
       "      <th>Animal Issues</th>\n",
       "      <td>16.0</td>\n",
       "    </tr>\n",
       "    <tr>\n",
       "      <th>Building</th>\n",
       "      <td>52.0</td>\n",
       "    </tr>\n",
       "    <tr>\n",
       "      <th>Code Enforcement</th>\n",
       "      <td>775.0</td>\n",
       "    </tr>\n",
       "    <tr>\n",
       "      <th>Employee &amp; General Comments</th>\n",
       "      <td>1.0</td>\n",
       "    </tr>\n",
       "    <tr>\n",
       "      <th>Enforcement &amp; Abandoned Vehicles</th>\n",
       "      <td>712.0</td>\n",
       "    </tr>\n",
       "    <tr>\n",
       "      <th>Environmental Services</th>\n",
       "      <td>48.0</td>\n",
       "    </tr>\n",
       "    <tr>\n",
       "      <th>Fire Hydrant</th>\n",
       "      <td>2.0</td>\n",
       "    </tr>\n",
       "    <tr>\n",
       "      <th>Graffiti</th>\n",
       "      <td>55.0</td>\n",
       "    </tr>\n",
       "    <tr>\n",
       "      <th>Health</th>\n",
       "      <td>8.0</td>\n",
       "    </tr>\n",
       "    <tr>\n",
       "      <th>Highway Maintenance</th>\n",
       "      <td>360.0</td>\n",
       "    </tr>\n",
       "    <tr>\n",
       "      <th>Housing</th>\n",
       "      <td>40.0</td>\n",
       "    </tr>\n",
       "    <tr>\n",
       "      <th>Needle Program</th>\n",
       "      <td>269.0</td>\n",
       "    </tr>\n",
       "    <tr>\n",
       "      <th>Neighborhood Services Issues</th>\n",
       "      <td>1.0</td>\n",
       "    </tr>\n",
       "    <tr>\n",
       "      <th>Noise Disturbance</th>\n",
       "      <td>2.0</td>\n",
       "    </tr>\n",
       "    <tr>\n",
       "      <th>Notification</th>\n",
       "      <td>2.0</td>\n",
       "    </tr>\n",
       "    <tr>\n",
       "      <th>Park Maintenance &amp; Safety</th>\n",
       "      <td>73.0</td>\n",
       "    </tr>\n",
       "    <tr>\n",
       "      <th>Recycling</th>\n",
       "      <td>29.0</td>\n",
       "    </tr>\n",
       "    <tr>\n",
       "      <th>Sanitation</th>\n",
       "      <td>242.0</td>\n",
       "    </tr>\n",
       "    <tr>\n",
       "      <th>Sidewalk Cover / Manhole</th>\n",
       "      <td>1.0</td>\n",
       "    </tr>\n",
       "    <tr>\n",
       "      <th>Signs &amp; Signals</th>\n",
       "      <td>76.0</td>\n",
       "    </tr>\n",
       "    <tr>\n",
       "      <th>Street Cleaning</th>\n",
       "      <td>717.0</td>\n",
       "    </tr>\n",
       "    <tr>\n",
       "      <th>Street Lights</th>\n",
       "      <td>118.0</td>\n",
       "    </tr>\n",
       "    <tr>\n",
       "      <th>Traffic Management &amp; Engineering</th>\n",
       "      <td>7.0</td>\n",
       "    </tr>\n",
       "    <tr>\n",
       "      <th>Trees</th>\n",
       "      <td>38.0</td>\n",
       "    </tr>\n",
       "  </tbody>\n",
       "</table>\n",
       "</div>"
      ],
      "text/plain": [
       "                                   count\n",
       "reason                                  \n",
       "Abandoned Bicycle                    8.0\n",
       "Administrative & General Requests   10.0\n",
       "Air Pollution Control                4.0\n",
       "Animal Issues                       16.0\n",
       "Building                            52.0\n",
       "Code Enforcement                   775.0\n",
       "Employee & General Comments          1.0\n",
       "Enforcement & Abandoned Vehicles   712.0\n",
       "Environmental Services              48.0\n",
       "Fire Hydrant                         2.0\n",
       "Graffiti                            55.0\n",
       "Health                               8.0\n",
       "Highway Maintenance                360.0\n",
       "Housing                             40.0\n",
       "Needle Program                     269.0\n",
       "Neighborhood Services Issues         1.0\n",
       "Noise Disturbance                    2.0\n",
       "Notification                         2.0\n",
       "Park Maintenance & Safety           73.0\n",
       "Recycling                           29.0\n",
       "Sanitation                         242.0\n",
       "Sidewalk Cover / Manhole             1.0\n",
       "Signs & Signals                     76.0\n",
       "Street Cleaning                    717.0\n",
       "Street Lights                      118.0\n",
       "Traffic Management & Engineering     7.0\n",
       "Trees                               38.0"
      ]
     },
     "execution_count": 41,
     "metadata": {},
     "output_type": "execute_result"
    }
   ],
   "source": [
    "# let's take a look at the South End neighborhood specifically \n",
    "south_end_df = df_closed.loc[(df_closed['neighborhood'] == 'South End')]\n",
    "south_end_df.groupby(['reason'])['duration_in_days'].describe()[['count']]"
   ]
  },
  {
   "cell_type": "markdown",
   "metadata": {
    "id": "BLqIuZGT3XGq"
   },
   "source": [
    "### What types of cases typically take the longest to resolve?\n",
    "\n",
    "To answer this question, let's take a look at the ```duration_in_days``` and ```reason``` columns."
   ]
  },
  {
   "cell_type": "code",
   "execution_count": 42,
   "metadata": {
    "colab": {
     "base_uri": "https://localhost:8080/",
     "height": 383
    },
    "executionInfo": {
     "elapsed": 2775,
     "status": "ok",
     "timestamp": 1660750466295,
     "user": {
      "displayName": "Michelle Voong",
      "userId": "06511363073265027000"
     },
     "user_tz": 240
    },
    "id": "-UOoc__b3XGq",
    "outputId": "88753974-a3d6-4517-91a0-83d9dbdd2551"
   },
   "outputs": [
    {
     "data": {
      "text/plain": [
       "<seaborn.axisgrid.FacetGrid at 0x7f3cc3c0e520>"
      ]
     },
     "execution_count": 42,
     "metadata": {},
     "output_type": "execute_result"
    },
    {
     "data": {
      "image/png": "[encoded data removed]",
      "text/plain": [
       "<Figure size 360x360 with 1 Axes>"
      ]
     },
     "metadata": {},
     "output_type": "display_data"
    }
   ],
   "source": [
    "# what types of cases typically take the longest \n",
    "# case_duration by reason \n",
    "\n",
    "sns.catplot(x=\"reason\", y=\"duration_in_days\", kind=\"box\", data=df_closed,)"
   ]
  },
  {
   "cell_type": "code",
   "execution_count": 43,
   "metadata": {
    "colab": {
     "base_uri": "https://localhost:8080/",
     "height": 599
    },
    "executionInfo": {
     "elapsed": 2784,
     "status": "ok",
     "timestamp": 1660750476929,
     "user": {
      "displayName": "Michelle Voong",
      "userId": "06511363073265027000"
     },
     "user_tz": 240
    },
    "id": "0X3NFnhz3XGq",
    "outputId": "7ea80894-7944-48e1-98d0-f1793cccf6cd"
   },
   "outputs": [
    {
     "data": {
      "text/plain": [
       "<seaborn.axisgrid.FacetGrid at 0x7f3cc3c0ec70>"
      ]
     },
     "execution_count": 43,
     "metadata": {},
     "output_type": "execute_result"
    },
    {
     "data": {
      "image/png": "[encoded data removed]",
      "text/plain": [
       "<Figure size 720x576 with 1 Axes>"
      ]
     },
     "metadata": {},
     "output_type": "display_data"
    }
   ],
   "source": [
    "# The chart is kind of difficult to read... \n",
    "# Let's fix the size of the chart and flip the labels on the x-axis \n",
    "\n",
    "sns.catplot(y=\"reason\", x=\"duration_in_days\", kind=\"box\", data=df_closed,\n",
    "            height = 8, aspect = 1.25)"
   ]
  },
  {
   "cell_type": "markdown",
   "metadata": {
    "id": "S4efwpI-3XGr"
   },
   "source": [
    "Box plots display the five-number-summary, which includes: the minimum, the maximum, the sample median, and the first and third quartiles. \n",
    "\n",
    "The box plot shows the distribution ```duration_in_days``` in a way that allows comparisions between case ```reasons```. Box plots show the distribution of a numerical variable broken down by a categorical variable. \n",
    "\n",
    "The box shows the quartiles of the ```duration_in_days``` and the whiskers extend to show the rest of the distribution (minimum and maximum). Points that are shown outside of the whiskers are determined to be *outliers*. The line inside the box is the median. "
   ]
  },
  {
   "cell_type": "code",
   "execution_count": 44,
   "metadata": {
    "colab": {
     "base_uri": "https://localhost:8080/",
     "height": 1000
    },
    "executionInfo": {
     "elapsed": 163,
     "status": "ok",
     "timestamp": 1660750480961,
     "user": {
      "displayName": "Michelle Voong",
      "userId": "06511363073265027000"
     },
     "user_tz": 240
    },
    "id": "jNLPgTf83XGr",
    "outputId": "7be078db-25f5-47e6-ebb9-2372ae714892"
   },
   "outputs": [
    {
     "data": {
      "text/html": [
       "<div>\n",
       "<style scoped>\n",
       "    .dataframe tbody tr th:only-of-type {\n",
       "        vertical-align: middle;\n",
       "    }\n",
       "\n",
       "    .dataframe tbody tr th {\n",
       "        vertical-align: top;\n",
       "    }\n",
       "\n",
       "    .dataframe thead th {\n",
       "        text-align: right;\n",
       "    }\n",
       "</style>\n",
       "<table border=\"1\" class=\"dataframe\">\n",
       "  <thead>\n",
       "    <tr style=\"text-align: right;\">\n",
       "      <th></th>\n",
       "      <th>count</th>\n",
       "      <th>mean</th>\n",
       "      <th>std</th>\n",
       "      <th>min</th>\n",
       "      <th>25%</th>\n",
       "      <th>50%</th>\n",
       "      <th>75%</th>\n",
       "      <th>max</th>\n",
       "    </tr>\n",
       "    <tr>\n",
       "      <th>reason</th>\n",
       "      <th></th>\n",
       "      <th></th>\n",
       "      <th></th>\n",
       "      <th></th>\n",
       "      <th></th>\n",
       "      <th></th>\n",
       "      <th></th>\n",
       "      <th></th>\n",
       "    </tr>\n",
       "  </thead>\n",
       "  <tbody>\n",
       "    <tr>\n",
       "      <th>Abandoned Bicycle</th>\n",
       "      <td>108.0</td>\n",
       "      <td>15.100783</td>\n",
       "      <td>30.637974</td>\n",
       "      <td>0.005799</td>\n",
       "      <td>0.610787</td>\n",
       "      <td>1.154815</td>\n",
       "      <td>5.827731</td>\n",
       "      <td>129.944907</td>\n",
       "    </tr>\n",
       "    <tr>\n",
       "      <th>Administrative &amp; General Requests</th>\n",
       "      <td>261.0</td>\n",
       "      <td>3.812869</td>\n",
       "      <td>13.899890</td>\n",
       "      <td>0.000081</td>\n",
       "      <td>0.114005</td>\n",
       "      <td>0.781192</td>\n",
       "      <td>1.984132</td>\n",
       "      <td>129.670035</td>\n",
       "    </tr>\n",
       "    <tr>\n",
       "      <th>Air Pollution Control</th>\n",
       "      <td>13.0</td>\n",
       "      <td>8.872239</td>\n",
       "      <td>10.842552</td>\n",
       "      <td>0.001528</td>\n",
       "      <td>1.787616</td>\n",
       "      <td>1.790822</td>\n",
       "      <td>13.153194</td>\n",
       "      <td>30.967199</td>\n",
       "    </tr>\n",
       "    <tr>\n",
       "      <th>Animal Issues</th>\n",
       "      <td>580.0</td>\n",
       "      <td>0.904125</td>\n",
       "      <td>1.086867</td>\n",
       "      <td>0.000127</td>\n",
       "      <td>0.075793</td>\n",
       "      <td>0.705457</td>\n",
       "      <td>1.238536</td>\n",
       "      <td>11.121447</td>\n",
       "    </tr>\n",
       "    <tr>\n",
       "      <th>Billing</th>\n",
       "      <td>1.0</td>\n",
       "      <td>0.009178</td>\n",
       "      <td>NaN</td>\n",
       "      <td>0.009178</td>\n",
       "      <td>0.009178</td>\n",
       "      <td>0.009178</td>\n",
       "      <td>0.009178</td>\n",
       "      <td>0.009178</td>\n",
       "    </tr>\n",
       "    <tr>\n",
       "      <th>Building</th>\n",
       "      <td>1293.0</td>\n",
       "      <td>8.183306</td>\n",
       "      <td>16.727784</td>\n",
       "      <td>0.000046</td>\n",
       "      <td>0.642755</td>\n",
       "      <td>2.649641</td>\n",
       "      <td>8.094919</td>\n",
       "      <td>167.316273</td>\n",
       "    </tr>\n",
       "    <tr>\n",
       "      <th>Catchbasin</th>\n",
       "      <td>40.0</td>\n",
       "      <td>6.295217</td>\n",
       "      <td>10.713959</td>\n",
       "      <td>0.000174</td>\n",
       "      <td>0.946927</td>\n",
       "      <td>2.444572</td>\n",
       "      <td>7.476412</td>\n",
       "      <td>61.852523</td>\n",
       "    </tr>\n",
       "    <tr>\n",
       "      <th>Cemetery</th>\n",
       "      <td>7.0</td>\n",
       "      <td>33.686310</td>\n",
       "      <td>52.072679</td>\n",
       "      <td>0.000127</td>\n",
       "      <td>0.113744</td>\n",
       "      <td>0.594907</td>\n",
       "      <td>48.409045</td>\n",
       "      <td>138.163553</td>\n",
       "    </tr>\n",
       "    <tr>\n",
       "      <th>Code Enforcement</th>\n",
       "      <td>10437.0</td>\n",
       "      <td>0.646142</td>\n",
       "      <td>3.440879</td>\n",
       "      <td>0.000069</td>\n",
       "      <td>0.054375</td>\n",
       "      <td>0.234653</td>\n",
       "      <td>0.752095</td>\n",
       "      <td>146.231354</td>\n",
       "    </tr>\n",
       "    <tr>\n",
       "      <th>Employee &amp; General Comments</th>\n",
       "      <td>366.0</td>\n",
       "      <td>3.045888</td>\n",
       "      <td>11.407637</td>\n",
       "      <td>0.000243</td>\n",
       "      <td>0.050307</td>\n",
       "      <td>0.607309</td>\n",
       "      <td>1.707879</td>\n",
       "      <td>104.725579</td>\n",
       "    </tr>\n",
       "    <tr>\n",
       "      <th>Enforcement &amp; Abandoned Vehicles</th>\n",
       "      <td>14908.0</td>\n",
       "      <td>4.326244</td>\n",
       "      <td>17.119537</td>\n",
       "      <td>0.000058</td>\n",
       "      <td>0.057263</td>\n",
       "      <td>0.177986</td>\n",
       "      <td>0.620069</td>\n",
       "      <td>168.863750</td>\n",
       "    </tr>\n",
       "    <tr>\n",
       "      <th>Environmental Services</th>\n",
       "      <td>560.0</td>\n",
       "      <td>1.750664</td>\n",
       "      <td>3.612940</td>\n",
       "      <td>0.000069</td>\n",
       "      <td>0.500052</td>\n",
       "      <td>0.870752</td>\n",
       "      <td>1.994499</td>\n",
       "      <td>57.933796</td>\n",
       "    </tr>\n",
       "    <tr>\n",
       "      <th>Fire Department</th>\n",
       "      <td>3.0</td>\n",
       "      <td>0.598248</td>\n",
       "      <td>0.542678</td>\n",
       "      <td>0.001887</td>\n",
       "      <td>0.365845</td>\n",
       "      <td>0.729803</td>\n",
       "      <td>0.896429</td>\n",
       "      <td>1.063056</td>\n",
       "    </tr>\n",
       "    <tr>\n",
       "      <th>Fire Hydrant</th>\n",
       "      <td>26.0</td>\n",
       "      <td>4.028460</td>\n",
       "      <td>2.648591</td>\n",
       "      <td>0.000914</td>\n",
       "      <td>2.174317</td>\n",
       "      <td>3.593819</td>\n",
       "      <td>5.515179</td>\n",
       "      <td>10.837072</td>\n",
       "    </tr>\n",
       "    <tr>\n",
       "      <th>Generic Noise Disturbance</th>\n",
       "      <td>7.0</td>\n",
       "      <td>0.809901</td>\n",
       "      <td>1.071081</td>\n",
       "      <td>0.000498</td>\n",
       "      <td>0.010162</td>\n",
       "      <td>0.476505</td>\n",
       "      <td>1.120243</td>\n",
       "      <td>2.931493</td>\n",
       "    </tr>\n",
       "    <tr>\n",
       "      <th>Graffiti</th>\n",
       "      <td>297.0</td>\n",
       "      <td>60.795557</td>\n",
       "      <td>44.483313</td>\n",
       "      <td>0.000278</td>\n",
       "      <td>16.802164</td>\n",
       "      <td>58.580428</td>\n",
       "      <td>95.905475</td>\n",
       "      <td>173.824433</td>\n",
       "    </tr>\n",
       "    <tr>\n",
       "      <th>Health</th>\n",
       "      <td>344.0</td>\n",
       "      <td>1.524580</td>\n",
       "      <td>3.127143</td>\n",
       "      <td>0.000058</td>\n",
       "      <td>0.143215</td>\n",
       "      <td>0.894028</td>\n",
       "      <td>1.253898</td>\n",
       "      <td>39.648924</td>\n",
       "    </tr>\n",
       "    <tr>\n",
       "      <th>Highway Maintenance</th>\n",
       "      <td>5032.0</td>\n",
       "      <td>4.621423</td>\n",
       "      <td>14.838073</td>\n",
       "      <td>0.000081</td>\n",
       "      <td>0.070668</td>\n",
       "      <td>0.775781</td>\n",
       "      <td>2.315587</td>\n",
       "      <td>176.714560</td>\n",
       "    </tr>\n",
       "    <tr>\n",
       "      <th>Housing</th>\n",
       "      <td>1529.0</td>\n",
       "      <td>7.676885</td>\n",
       "      <td>14.967539</td>\n",
       "      <td>0.000058</td>\n",
       "      <td>0.692222</td>\n",
       "      <td>2.935729</td>\n",
       "      <td>8.104514</td>\n",
       "      <td>158.114988</td>\n",
       "    </tr>\n",
       "    <tr>\n",
       "      <th>Needle Program</th>\n",
       "      <td>1298.0</td>\n",
       "      <td>0.079918</td>\n",
       "      <td>0.243719</td>\n",
       "      <td>0.000081</td>\n",
       "      <td>0.017248</td>\n",
       "      <td>0.029554</td>\n",
       "      <td>0.053157</td>\n",
       "      <td>7.152766</td>\n",
       "    </tr>\n",
       "    <tr>\n",
       "      <th>Neighborhood Services Issues</th>\n",
       "      <td>9.0</td>\n",
       "      <td>31.791151</td>\n",
       "      <td>31.721388</td>\n",
       "      <td>4.324954</td>\n",
       "      <td>12.663229</td>\n",
       "      <td>24.884931</td>\n",
       "      <td>32.983403</td>\n",
       "      <td>109.890347</td>\n",
       "    </tr>\n",
       "    <tr>\n",
       "      <th>Noise Disturbance</th>\n",
       "      <td>24.0</td>\n",
       "      <td>0.909435</td>\n",
       "      <td>1.072071</td>\n",
       "      <td>0.000104</td>\n",
       "      <td>0.005830</td>\n",
       "      <td>0.614433</td>\n",
       "      <td>1.358082</td>\n",
       "      <td>3.525995</td>\n",
       "    </tr>\n",
       "    <tr>\n",
       "      <th>Notification</th>\n",
       "      <td>141.0</td>\n",
       "      <td>19.565133</td>\n",
       "      <td>20.603048</td>\n",
       "      <td>0.000544</td>\n",
       "      <td>1.802569</td>\n",
       "      <td>7.719329</td>\n",
       "      <td>38.391088</td>\n",
       "      <td>64.423113</td>\n",
       "    </tr>\n",
       "    <tr>\n",
       "      <th>Office of The Parking Clerk</th>\n",
       "      <td>2.0</td>\n",
       "      <td>2.440463</td>\n",
       "      <td>2.261498</td>\n",
       "      <td>0.841343</td>\n",
       "      <td>1.640903</td>\n",
       "      <td>2.440463</td>\n",
       "      <td>3.240023</td>\n",
       "      <td>4.039583</td>\n",
       "    </tr>\n",
       "    <tr>\n",
       "      <th>Operations</th>\n",
       "      <td>11.0</td>\n",
       "      <td>4.725810</td>\n",
       "      <td>5.460231</td>\n",
       "      <td>0.000266</td>\n",
       "      <td>0.697992</td>\n",
       "      <td>2.894306</td>\n",
       "      <td>7.657731</td>\n",
       "      <td>15.175023</td>\n",
       "    </tr>\n",
       "    <tr>\n",
       "      <th>Park Maintenance &amp; Safety</th>\n",
       "      <td>1001.0</td>\n",
       "      <td>10.480097</td>\n",
       "      <td>21.813287</td>\n",
       "      <td>0.000347</td>\n",
       "      <td>0.710787</td>\n",
       "      <td>1.846771</td>\n",
       "      <td>6.700729</td>\n",
       "      <td>144.606782</td>\n",
       "    </tr>\n",
       "    <tr>\n",
       "      <th>Parking Complaints</th>\n",
       "      <td>5.0</td>\n",
       "      <td>3.200009</td>\n",
       "      <td>4.912111</td>\n",
       "      <td>0.387477</td>\n",
       "      <td>0.388090</td>\n",
       "      <td>0.889826</td>\n",
       "      <td>2.483206</td>\n",
       "      <td>11.851447</td>\n",
       "    </tr>\n",
       "    <tr>\n",
       "      <th>Pothole</th>\n",
       "      <td>22.0</td>\n",
       "      <td>3.910974</td>\n",
       "      <td>3.141983</td>\n",
       "      <td>0.001771</td>\n",
       "      <td>1.924826</td>\n",
       "      <td>3.009109</td>\n",
       "      <td>5.652931</td>\n",
       "      <td>14.102245</td>\n",
       "    </tr>\n",
       "    <tr>\n",
       "      <th>Programs</th>\n",
       "      <td>23.0</td>\n",
       "      <td>0.658821</td>\n",
       "      <td>1.055246</td>\n",
       "      <td>0.000336</td>\n",
       "      <td>0.001233</td>\n",
       "      <td>0.056863</td>\n",
       "      <td>0.813414</td>\n",
       "      <td>3.142951</td>\n",
       "    </tr>\n",
       "    <tr>\n",
       "      <th>Recycling</th>\n",
       "      <td>1690.0</td>\n",
       "      <td>12.245377</td>\n",
       "      <td>9.035924</td>\n",
       "      <td>0.000081</td>\n",
       "      <td>6.856282</td>\n",
       "      <td>12.930035</td>\n",
       "      <td>16.928313</td>\n",
       "      <td>132.917153</td>\n",
       "    </tr>\n",
       "    <tr>\n",
       "      <th>Sanitation</th>\n",
       "      <td>5993.0</td>\n",
       "      <td>2.403129</td>\n",
       "      <td>3.185305</td>\n",
       "      <td>0.000058</td>\n",
       "      <td>0.260671</td>\n",
       "      <td>0.979294</td>\n",
       "      <td>3.836354</td>\n",
       "      <td>98.852222</td>\n",
       "    </tr>\n",
       "    <tr>\n",
       "      <th>Sidewalk Cover / Manhole</th>\n",
       "      <td>53.0</td>\n",
       "      <td>4.735583</td>\n",
       "      <td>8.858981</td>\n",
       "      <td>0.000127</td>\n",
       "      <td>0.358148</td>\n",
       "      <td>2.873461</td>\n",
       "      <td>5.035451</td>\n",
       "      <td>58.847674</td>\n",
       "    </tr>\n",
       "    <tr>\n",
       "      <th>Signs &amp; Signals</th>\n",
       "      <td>2202.0</td>\n",
       "      <td>6.620529</td>\n",
       "      <td>14.839239</td>\n",
       "      <td>0.000185</td>\n",
       "      <td>0.143718</td>\n",
       "      <td>1.167795</td>\n",
       "      <td>5.073134</td>\n",
       "      <td>140.114028</td>\n",
       "    </tr>\n",
       "    <tr>\n",
       "      <th>Street Cleaning</th>\n",
       "      <td>8477.0</td>\n",
       "      <td>1.082891</td>\n",
       "      <td>6.127272</td>\n",
       "      <td>0.000046</td>\n",
       "      <td>0.037975</td>\n",
       "      <td>0.100706</td>\n",
       "      <td>0.605370</td>\n",
       "      <td>109.824236</td>\n",
       "    </tr>\n",
       "    <tr>\n",
       "      <th>Street Lights</th>\n",
       "      <td>1774.0</td>\n",
       "      <td>18.585520</td>\n",
       "      <td>32.664829</td>\n",
       "      <td>0.000104</td>\n",
       "      <td>0.148079</td>\n",
       "      <td>1.984855</td>\n",
       "      <td>20.707622</td>\n",
       "      <td>181.600266</td>\n",
       "    </tr>\n",
       "    <tr>\n",
       "      <th>Traffic Management &amp; Engineering</th>\n",
       "      <td>113.0</td>\n",
       "      <td>11.388050</td>\n",
       "      <td>25.003672</td>\n",
       "      <td>0.000729</td>\n",
       "      <td>0.085231</td>\n",
       "      <td>0.842176</td>\n",
       "      <td>6.080509</td>\n",
       "      <td>125.919988</td>\n",
       "    </tr>\n",
       "    <tr>\n",
       "      <th>Trees</th>\n",
       "      <td>762.0</td>\n",
       "      <td>25.210341</td>\n",
       "      <td>41.285189</td>\n",
       "      <td>0.000139</td>\n",
       "      <td>0.018481</td>\n",
       "      <td>0.804022</td>\n",
       "      <td>39.169418</td>\n",
       "      <td>163.697106</td>\n",
       "    </tr>\n",
       "    <tr>\n",
       "      <th>Weights and Measures</th>\n",
       "      <td>8.0</td>\n",
       "      <td>0.985169</td>\n",
       "      <td>0.558955</td>\n",
       "      <td>0.107234</td>\n",
       "      <td>0.741134</td>\n",
       "      <td>0.900399</td>\n",
       "      <td>1.207185</td>\n",
       "      <td>1.808912</td>\n",
       "    </tr>\n",
       "  </tbody>\n",
       "</table>\n",
       "</div>"
      ],
      "text/plain": [
       "                                     count       mean        std       min  \\\n",
       "reason                                                                       \n",
       "Abandoned Bicycle                    108.0  15.100783  30.637974  0.005799   \n",
       "Administrative & General Requests    261.0   3.812869  13.899890  0.000081   \n",
       "Air Pollution Control                 13.0   8.872239  10.842552  0.001528   \n",
       "Animal Issues                        580.0   0.904125   1.086867  0.000127   \n",
       "Billing                                1.0   0.009178        NaN  0.009178   \n",
       "Building                            1293.0   8.183306  16.727784  0.000046   \n",
       "Catchbasin                            40.0   6.295217  10.713959  0.000174   \n",
       "Cemetery                               7.0  33.686310  52.072679  0.000127   \n",
       "Code Enforcement                   10437.0   0.646142   3.440879  0.000069   \n",
       "Employee & General Comments          366.0   3.045888  11.407637  0.000243   \n",
       "Enforcement & Abandoned Vehicles   14908.0   4.326244  17.119537  0.000058   \n",
       "Environmental Services               560.0   1.750664   3.612940  0.000069   \n",
       "Fire Department                        3.0   0.598248   0.542678  0.001887   \n",
       "Fire Hydrant                          26.0   4.028460   2.648591  0.000914   \n",
       "Generic Noise Disturbance              7.0   0.809901   1.071081  0.000498   \n",
       "Graffiti                             297.0  60.795557  44.483313  0.000278   \n",
       "Health                               344.0   1.524580   3.127143  0.000058   \n",
       "Highway Maintenance                 5032.0   4.621423  14.838073  0.000081   \n",
       "Housing                             1529.0   7.676885  14.967539  0.000058   \n",
       "Needle Program                      1298.0   0.079918   0.243719  0.000081   \n",
       "Neighborhood Services Issues           9.0  31.791151  31.721388  4.324954   \n",
       "Noise Disturbance                     24.0   0.909435   1.072071  0.000104   \n",
       "Notification                         141.0  19.565133  20.603048  0.000544   \n",
       "Office of The Parking Clerk            2.0   2.440463   2.261498  0.841343   \n",
       "Operations                            11.0   4.725810   5.460231  0.000266   \n",
       "Park Maintenance & Safety           1001.0  10.480097  21.813287  0.000347   \n",
       "Parking Complaints                     5.0   3.200009   4.912111  0.387477   \n",
       "Pothole                               22.0   3.910974   3.141983  0.001771   \n",
       "Programs                              23.0   0.658821   1.055246  0.000336   \n",
       "Recycling                           1690.0  12.245377   9.035924  0.000081   \n",
       "Sanitation                          5993.0   2.403129   3.185305  0.000058   \n",
       "Sidewalk Cover / Manhole              53.0   4.735583   8.858981  0.000127   \n",
       "Signs & Signals                     2202.0   6.620529  14.839239  0.000185   \n",
       "Street Cleaning                     8477.0   1.082891   6.127272  0.000046   \n",
       "Street Lights                       1774.0  18.585520  32.664829  0.000104   \n",
       "Traffic Management & Engineering     113.0  11.388050  25.003672  0.000729   \n",
       "Trees                                762.0  25.210341  41.285189  0.000139   \n",
       "Weights and Measures                   8.0   0.985169   0.558955  0.107234   \n",
       "\n",
       "                                         25%        50%        75%         max  \n",
       "reason                                                                          \n",
       "Abandoned Bicycle                   0.610787   1.154815   5.827731  129.944907  \n",
       "Administrative & General Requests   0.114005   0.781192   1.984132  129.670035  \n",
       "Air Pollution Control               1.787616   1.790822  13.153194   30.967199  \n",
       "Animal Issues                       0.075793   0.705457   1.238536   11.121447  \n",
       "Billing                             0.009178   0.009178   0.009178    0.009178  \n",
       "Building                            0.642755   2.649641   8.094919  167.316273  \n",
       "Catchbasin                          0.946927   2.444572   7.476412   61.852523  \n",
       "Cemetery                            0.113744   0.594907  48.409045  138.163553  \n",
       "Code Enforcement                    0.054375   0.234653   0.752095  146.231354  \n",
       "Employee & General Comments         0.050307   0.607309   1.707879  104.725579  \n",
       "Enforcement & Abandoned Vehicles    0.057263   0.177986   0.620069  168.863750  \n",
       "Environmental Services              0.500052   0.870752   1.994499   57.933796  \n",
       "Fire Department                     0.365845   0.729803   0.896429    1.063056  \n",
       "Fire Hydrant                        2.174317   3.593819   5.515179   10.837072  \n",
       "Generic Noise Disturbance           0.010162   0.476505   1.120243    2.931493  \n",
       "Graffiti                           16.802164  58.580428  95.905475  173.824433  \n",
       "Health                              0.143215   0.894028   1.253898   39.648924  \n",
       "Highway Maintenance                 0.070668   0.775781   2.315587  176.714560  \n",
       "Housing                             0.692222   2.935729   8.104514  158.114988  \n",
       "Needle Program                      0.017248   0.029554   0.053157    7.152766  \n",
       "Neighborhood Services Issues       12.663229  24.884931  32.983403  109.890347  \n",
       "Noise Disturbance                   0.005830   0.614433   1.358082    3.525995  \n",
       "Notification                        1.802569   7.719329  38.391088   64.423113  \n",
       "Office of The Parking Clerk         1.640903   2.440463   3.240023    4.039583  \n",
       "Operations                          0.697992   2.894306   7.657731   15.175023  \n",
       "Park Maintenance & Safety           0.710787   1.846771   6.700729  144.606782  \n",
       "Parking Complaints                  0.388090   0.889826   2.483206   11.851447  \n",
       "Pothole                             1.924826   3.009109   5.652931   14.102245  \n",
       "Programs                            0.001233   0.056863   0.813414    3.142951  \n",
       "Recycling                           6.856282  12.930035  16.928313  132.917153  \n",
       "Sanitation                          0.260671   0.979294   3.836354   98.852222  \n",
       "Sidewalk Cover / Manhole            0.358148   2.873461   5.035451   58.847674  \n",
       "Signs & Signals                     0.143718   1.167795   5.073134  140.114028  \n",
       "Street Cleaning                     0.037975   0.100706   0.605370  109.824236  \n",
       "Street Lights                       0.148079   1.984855  20.707622  181.600266  \n",
       "Traffic Management & Engineering    0.085231   0.842176   6.080509  125.919988  \n",
       "Trees                               0.018481   0.804022  39.169418  163.697106  \n",
       "Weights and Measures                0.741134   0.900399   1.207185    1.808912  "
      ]
     },
     "execution_count": 44,
     "metadata": {},
     "output_type": "execute_result"
    }
   ],
   "source": [
    "# descriptive statistics for duration_in_days by case reason \n",
    "# box plot in table form \n",
    "df_closed.groupby(['reason'])['duration_in_days'].describe()"
   ]
  },
  {
   "cell_type": "markdown",
   "metadata": {
    "id": "T_IsTpoz3XGr"
   },
   "source": [
    "Graffiti cases take on average take the longests time to resolve, 60.796 days. "
   ]
  },
  {
   "cell_type": "markdown",
   "metadata": {
    "id": "-ByM_sxd3XGr"
   },
   "source": [
    "Do cases typically take longer in one neighborhood over another?"
   ]
  },
  {
   "cell_type": "code",
   "execution_count": 45,
   "metadata": {
    "colab": {
     "base_uri": "https://localhost:8080/",
     "height": 599
    },
    "executionInfo": {
     "elapsed": 3773,
     "status": "ok",
     "timestamp": 1660750490053,
     "user": {
      "displayName": "Michelle Voong",
      "userId": "06511363073265027000"
     },
     "user_tz": 240
    },
    "id": "Rqv_P4YC3XGr",
    "outputId": "75d10473-471d-44a9-df91-6ff7770b018d"
   },
   "outputs": [
    {
     "data": {
      "text/plain": [
       "<seaborn.axisgrid.FacetGrid at 0x7f3cc3541610>"
      ]
     },
     "execution_count": 45,
     "metadata": {},
     "output_type": "execute_result"
    },
    {
     "data": {
      "image/png": "[encoded data removed]",
      "text/plain": [
       "<Figure size 720x576 with 1 Axes>"
      ]
     },
     "metadata": {},
     "output_type": "display_data"
    }
   ],
   "source": [
    "# do cases typically take longer in one neighborhood over another?\n",
    "\n",
    "sns.catplot(y=\"neighborhood\", x=\"duration_in_days\", kind=\"box\", data=df_closed,\n",
    "            height = 8, aspect = 1.25)"
   ]
  },
  {
   "cell_type": "markdown",
   "metadata": {
    "id": "Eny2G4fw3XGr"
   },
   "source": [
    "The box plot above shows several outliers for each category (```neighborhood```) making it difficult to read and quite overwhelming. \n",
    "\n",
    "Let's display the information in table form. "
   ]
  },
  {
   "cell_type": "code",
   "execution_count": 46,
   "metadata": {
    "colab": {
     "base_uri": "https://localhost:8080/",
     "height": 834
    },
    "executionInfo": {
     "elapsed": 171,
     "status": "ok",
     "timestamp": 1660750491278,
     "user": {
      "displayName": "Michelle Voong",
      "userId": "06511363073265027000"
     },
     "user_tz": 240
    },
    "id": "ATal5UEM3XGs",
    "outputId": "11f169b2-c65b-4664-d4e6-354230542862"
   },
   "outputs": [
    {
     "data": {
      "text/html": [
       "<div>\n",
       "<style scoped>\n",
       "    .dataframe tbody tr th:only-of-type {\n",
       "        vertical-align: middle;\n",
       "    }\n",
       "\n",
       "    .dataframe tbody tr th {\n",
       "        vertical-align: top;\n",
       "    }\n",
       "\n",
       "    .dataframe thead th {\n",
       "        text-align: right;\n",
       "    }\n",
       "</style>\n",
       "<table border=\"1\" class=\"dataframe\">\n",
       "  <thead>\n",
       "    <tr style=\"text-align: right;\">\n",
       "      <th></th>\n",
       "      <th>count</th>\n",
       "      <th>mean</th>\n",
       "      <th>std</th>\n",
       "      <th>min</th>\n",
       "      <th>25%</th>\n",
       "      <th>50%</th>\n",
       "      <th>75%</th>\n",
       "      <th>max</th>\n",
       "    </tr>\n",
       "    <tr>\n",
       "      <th>neighborhood</th>\n",
       "      <th></th>\n",
       "      <th></th>\n",
       "      <th></th>\n",
       "      <th></th>\n",
       "      <th></th>\n",
       "      <th></th>\n",
       "      <th></th>\n",
       "      <th></th>\n",
       "    </tr>\n",
       "  </thead>\n",
       "  <tbody>\n",
       "    <tr>\n",
       "      <th></th>\n",
       "      <td>476.0</td>\n",
       "      <td>4.178610</td>\n",
       "      <td>13.672122</td>\n",
       "      <td>0.000127</td>\n",
       "      <td>0.058209</td>\n",
       "      <td>0.705318</td>\n",
       "      <td>2.208099</td>\n",
       "      <td>138.163553</td>\n",
       "    </tr>\n",
       "    <tr>\n",
       "      <th>Allston</th>\n",
       "      <td>141.0</td>\n",
       "      <td>3.947410</td>\n",
       "      <td>9.929540</td>\n",
       "      <td>0.000058</td>\n",
       "      <td>0.134988</td>\n",
       "      <td>0.873414</td>\n",
       "      <td>2.763426</td>\n",
       "      <td>63.832847</td>\n",
       "    </tr>\n",
       "    <tr>\n",
       "      <th>Allston / Brighton</th>\n",
       "      <td>3945.0</td>\n",
       "      <td>4.622345</td>\n",
       "      <td>14.786827</td>\n",
       "      <td>0.000185</td>\n",
       "      <td>0.075984</td>\n",
       "      <td>0.511424</td>\n",
       "      <td>1.995000</td>\n",
       "      <td>161.749630</td>\n",
       "    </tr>\n",
       "    <tr>\n",
       "      <th>Back Bay</th>\n",
       "      <td>2740.0</td>\n",
       "      <td>4.900469</td>\n",
       "      <td>16.733563</td>\n",
       "      <td>0.000197</td>\n",
       "      <td>0.043553</td>\n",
       "      <td>0.215110</td>\n",
       "      <td>1.172946</td>\n",
       "      <td>166.873588</td>\n",
       "    </tr>\n",
       "    <tr>\n",
       "      <th>Beacon Hill</th>\n",
       "      <td>1595.0</td>\n",
       "      <td>2.485273</td>\n",
       "      <td>10.776832</td>\n",
       "      <td>0.000301</td>\n",
       "      <td>0.042506</td>\n",
       "      <td>0.167801</td>\n",
       "      <td>0.863617</td>\n",
       "      <td>136.561204</td>\n",
       "    </tr>\n",
       "    <tr>\n",
       "      <th>Boston</th>\n",
       "      <td>1803.0</td>\n",
       "      <td>5.152869</td>\n",
       "      <td>17.959729</td>\n",
       "      <td>0.000046</td>\n",
       "      <td>0.041944</td>\n",
       "      <td>0.345833</td>\n",
       "      <td>1.555781</td>\n",
       "      <td>156.934120</td>\n",
       "    </tr>\n",
       "    <tr>\n",
       "      <th>Brighton</th>\n",
       "      <td>293.0</td>\n",
       "      <td>5.162394</td>\n",
       "      <td>14.575959</td>\n",
       "      <td>0.000266</td>\n",
       "      <td>0.078623</td>\n",
       "      <td>0.547211</td>\n",
       "      <td>2.031343</td>\n",
       "      <td>126.706586</td>\n",
       "    </tr>\n",
       "    <tr>\n",
       "      <th>Charlestown</th>\n",
       "      <td>2096.0</td>\n",
       "      <td>4.147373</td>\n",
       "      <td>14.840357</td>\n",
       "      <td>0.000081</td>\n",
       "      <td>0.067653</td>\n",
       "      <td>0.278171</td>\n",
       "      <td>1.162135</td>\n",
       "      <td>139.983704</td>\n",
       "    </tr>\n",
       "    <tr>\n",
       "      <th>Chestnut Hill</th>\n",
       "      <td>4.0</td>\n",
       "      <td>19.075249</td>\n",
       "      <td>30.039288</td>\n",
       "      <td>0.148611</td>\n",
       "      <td>0.185148</td>\n",
       "      <td>6.448744</td>\n",
       "      <td>25.338845</td>\n",
       "      <td>63.254896</td>\n",
       "    </tr>\n",
       "    <tr>\n",
       "      <th>Dorchester</th>\n",
       "      <td>9148.0</td>\n",
       "      <td>3.956899</td>\n",
       "      <td>12.579649</td>\n",
       "      <td>0.000046</td>\n",
       "      <td>0.068087</td>\n",
       "      <td>0.515260</td>\n",
       "      <td>1.883400</td>\n",
       "      <td>156.208553</td>\n",
       "    </tr>\n",
       "    <tr>\n",
       "      <th>Downtown / Financial District</th>\n",
       "      <td>3419.0</td>\n",
       "      <td>3.475034</td>\n",
       "      <td>13.957725</td>\n",
       "      <td>0.000231</td>\n",
       "      <td>0.050648</td>\n",
       "      <td>0.234988</td>\n",
       "      <td>0.973443</td>\n",
       "      <td>176.714560</td>\n",
       "    </tr>\n",
       "    <tr>\n",
       "      <th>East Boston</th>\n",
       "      <td>4420.0</td>\n",
       "      <td>2.777781</td>\n",
       "      <td>10.877246</td>\n",
       "      <td>0.000058</td>\n",
       "      <td>0.037833</td>\n",
       "      <td>0.181094</td>\n",
       "      <td>0.902786</td>\n",
       "      <td>150.815174</td>\n",
       "    </tr>\n",
       "    <tr>\n",
       "      <th>Fenway / Kenmore / Audubon Circle / Longwood</th>\n",
       "      <td>1034.0</td>\n",
       "      <td>7.722932</td>\n",
       "      <td>19.772496</td>\n",
       "      <td>0.000150</td>\n",
       "      <td>0.101777</td>\n",
       "      <td>0.636291</td>\n",
       "      <td>2.556918</td>\n",
       "      <td>165.773264</td>\n",
       "    </tr>\n",
       "    <tr>\n",
       "      <th>Greater Mattapan</th>\n",
       "      <td>2429.0</td>\n",
       "      <td>4.807563</td>\n",
       "      <td>14.036534</td>\n",
       "      <td>0.000104</td>\n",
       "      <td>0.084375</td>\n",
       "      <td>0.678646</td>\n",
       "      <td>2.818472</td>\n",
       "      <td>158.114988</td>\n",
       "    </tr>\n",
       "    <tr>\n",
       "      <th>Hyde Park</th>\n",
       "      <td>2308.0</td>\n",
       "      <td>6.664146</td>\n",
       "      <td>16.259478</td>\n",
       "      <td>0.000127</td>\n",
       "      <td>0.081476</td>\n",
       "      <td>0.747078</td>\n",
       "      <td>5.331976</td>\n",
       "      <td>157.788715</td>\n",
       "    </tr>\n",
       "    <tr>\n",
       "      <th>Jamaica Plain</th>\n",
       "      <td>3696.0</td>\n",
       "      <td>6.216330</td>\n",
       "      <td>18.281044</td>\n",
       "      <td>0.000104</td>\n",
       "      <td>0.081823</td>\n",
       "      <td>0.569161</td>\n",
       "      <td>2.147717</td>\n",
       "      <td>148.726493</td>\n",
       "    </tr>\n",
       "    <tr>\n",
       "      <th>Mattapan</th>\n",
       "      <td>72.0</td>\n",
       "      <td>3.742091</td>\n",
       "      <td>11.557064</td>\n",
       "      <td>0.000069</td>\n",
       "      <td>0.071858</td>\n",
       "      <td>0.725631</td>\n",
       "      <td>2.012494</td>\n",
       "      <td>74.130579</td>\n",
       "    </tr>\n",
       "    <tr>\n",
       "      <th>Mission Hill</th>\n",
       "      <td>990.0</td>\n",
       "      <td>5.582632</td>\n",
       "      <td>18.433571</td>\n",
       "      <td>0.000081</td>\n",
       "      <td>0.055107</td>\n",
       "      <td>0.281186</td>\n",
       "      <td>1.690460</td>\n",
       "      <td>137.808854</td>\n",
       "    </tr>\n",
       "    <tr>\n",
       "      <th>Roslindale</th>\n",
       "      <td>2083.0</td>\n",
       "      <td>7.048947</td>\n",
       "      <td>21.030090</td>\n",
       "      <td>0.000289</td>\n",
       "      <td>0.109369</td>\n",
       "      <td>0.714190</td>\n",
       "      <td>2.658108</td>\n",
       "      <td>173.824433</td>\n",
       "    </tr>\n",
       "    <tr>\n",
       "      <th>Roxbury</th>\n",
       "      <td>5097.0</td>\n",
       "      <td>5.020254</td>\n",
       "      <td>17.307327</td>\n",
       "      <td>0.000069</td>\n",
       "      <td>0.070324</td>\n",
       "      <td>0.495382</td>\n",
       "      <td>1.817338</td>\n",
       "      <td>161.948993</td>\n",
       "    </tr>\n",
       "    <tr>\n",
       "      <th>South Boston</th>\n",
       "      <td>600.0</td>\n",
       "      <td>3.175501</td>\n",
       "      <td>14.327518</td>\n",
       "      <td>0.000058</td>\n",
       "      <td>0.055269</td>\n",
       "      <td>0.228287</td>\n",
       "      <td>1.015081</td>\n",
       "      <td>159.967488</td>\n",
       "    </tr>\n",
       "    <tr>\n",
       "      <th>South Boston / South Boston Waterfront</th>\n",
       "      <td>5608.0</td>\n",
       "      <td>3.160470</td>\n",
       "      <td>14.300232</td>\n",
       "      <td>0.000150</td>\n",
       "      <td>0.051296</td>\n",
       "      <td>0.181863</td>\n",
       "      <td>0.827731</td>\n",
       "      <td>181.600266</td>\n",
       "    </tr>\n",
       "    <tr>\n",
       "      <th>South End</th>\n",
       "      <td>3666.0</td>\n",
       "      <td>4.225789</td>\n",
       "      <td>16.643360</td>\n",
       "      <td>0.000243</td>\n",
       "      <td>0.043921</td>\n",
       "      <td>0.187778</td>\n",
       "      <td>0.967399</td>\n",
       "      <td>167.869965</td>\n",
       "    </tr>\n",
       "    <tr>\n",
       "      <th>West Roxbury</th>\n",
       "      <td>1698.0</td>\n",
       "      <td>6.004628</td>\n",
       "      <td>17.783995</td>\n",
       "      <td>0.000081</td>\n",
       "      <td>0.106288</td>\n",
       "      <td>0.787685</td>\n",
       "      <td>3.035735</td>\n",
       "      <td>161.054688</td>\n",
       "    </tr>\n",
       "  </tbody>\n",
       "</table>\n",
       "</div>"
      ],
      "text/plain": [
       "                                               count       mean        std  \\\n",
       "neighborhood                                                                 \n",
       "                                               476.0   4.178610  13.672122   \n",
       "Allston                                        141.0   3.947410   9.929540   \n",
       "Allston / Brighton                            3945.0   4.622345  14.786827   \n",
       "Back Bay                                      2740.0   4.900469  16.733563   \n",
       "Beacon Hill                                   1595.0   2.485273  10.776832   \n",
       "Boston                                        1803.0   5.152869  17.959729   \n",
       "Brighton                                       293.0   5.162394  14.575959   \n",
       "Charlestown                                   2096.0   4.147373  14.840357   \n",
       "Chestnut Hill                                    4.0  19.075249  30.039288   \n",
       "Dorchester                                    9148.0   3.956899  12.579649   \n",
       "Downtown / Financial District                 3419.0   3.475034  13.957725   \n",
       "East Boston                                   4420.0   2.777781  10.877246   \n",
       "Fenway / Kenmore / Audubon Circle / Longwood  1034.0   7.722932  19.772496   \n",
       "Greater Mattapan                              2429.0   4.807563  14.036534   \n",
       "Hyde Park                                     2308.0   6.664146  16.259478   \n",
       "Jamaica Plain                                 3696.0   6.216330  18.281044   \n",
       "Mattapan                                        72.0   3.742091  11.557064   \n",
       "Mission Hill                                   990.0   5.582632  18.433571   \n",
       "Roslindale                                    2083.0   7.048947  21.030090   \n",
       "Roxbury                                       5097.0   5.020254  17.307327   \n",
       "South Boston                                   600.0   3.175501  14.327518   \n",
       "South Boston / South Boston Waterfront        5608.0   3.160470  14.300232   \n",
       "South End                                     3666.0   4.225789  16.643360   \n",
       "West Roxbury                                  1698.0   6.004628  17.783995   \n",
       "\n",
       "                                                   min       25%       50%  \\\n",
       "neighborhood                                                                 \n",
       "                                              0.000127  0.058209  0.705318   \n",
       "Allston                                       0.000058  0.134988  0.873414   \n",
       "Allston / Brighton                            0.000185  0.075984  0.511424   \n",
       "Back Bay                                      0.000197  0.043553  0.215110   \n",
       "Beacon Hill                                   0.000301  0.042506  0.167801   \n",
       "Boston                                        0.000046  0.041944  0.345833   \n",
       "Brighton                                      0.000266  0.078623  0.547211   \n",
       "Charlestown                                   0.000081  0.067653  0.278171   \n",
       "Chestnut Hill                                 0.148611  0.185148  6.448744   \n",
       "Dorchester                                    0.000046  0.068087  0.515260   \n",
       "Downtown / Financial District                 0.000231  0.050648  0.234988   \n",
       "East Boston                                   0.000058  0.037833  0.181094   \n",
       "Fenway / Kenmore / Audubon Circle / Longwood  0.000150  0.101777  0.636291   \n",
       "Greater Mattapan                              0.000104  0.084375  0.678646   \n",
       "Hyde Park                                     0.000127  0.081476  0.747078   \n",
       "Jamaica Plain                                 0.000104  0.081823  0.569161   \n",
       "Mattapan                                      0.000069  0.071858  0.725631   \n",
       "Mission Hill                                  0.000081  0.055107  0.281186   \n",
       "Roslindale                                    0.000289  0.109369  0.714190   \n",
       "Roxbury                                       0.000069  0.070324  0.495382   \n",
       "South Boston                                  0.000058  0.055269  0.228287   \n",
       "South Boston / South Boston Waterfront        0.000150  0.051296  0.181863   \n",
       "South End                                     0.000243  0.043921  0.187778   \n",
       "West Roxbury                                  0.000081  0.106288  0.787685   \n",
       "\n",
       "                                                    75%         max  \n",
       "neighborhood                                                         \n",
       "                                               2.208099  138.163553  \n",
       "Allston                                        2.763426   63.832847  \n",
       "Allston / Brighton                             1.995000  161.749630  \n",
       "Back Bay                                       1.172946  166.873588  \n",
       "Beacon Hill                                    0.863617  136.561204  \n",
       "Boston                                         1.555781  156.934120  \n",
       "Brighton                                       2.031343  126.706586  \n",
       "Charlestown                                    1.162135  139.983704  \n",
       "Chestnut Hill                                 25.338845   63.254896  \n",
       "Dorchester                                     1.883400  156.208553  \n",
       "Downtown / Financial District                  0.973443  176.714560  \n",
       "East Boston                                    0.902786  150.815174  \n",
       "Fenway / Kenmore / Audubon Circle / Longwood   2.556918  165.773264  \n",
       "Greater Mattapan                               2.818472  158.114988  \n",
       "Hyde Park                                      5.331976  157.788715  \n",
       "Jamaica Plain                                  2.147717  148.726493  \n",
       "Mattapan                                       2.012494   74.130579  \n",
       "Mission Hill                                   1.690460  137.808854  \n",
       "Roslindale                                     2.658108  173.824433  \n",
       "Roxbury                                        1.817338  161.948993  \n",
       "South Boston                                   1.015081  159.967488  \n",
       "South Boston / South Boston Waterfront         0.827731  181.600266  \n",
       "South End                                      0.967399  167.869965  \n",
       "West Roxbury                                   3.035735  161.054688  "
      ]
     },
     "execution_count": 46,
     "metadata": {},
     "output_type": "execute_result"
    }
   ],
   "source": [
    "# in table form \n",
    "df_closed.groupby(['neighborhood'])['duration_in_days'].describe()"
   ]
  },
  {
   "cell_type": "markdown",
   "metadata": {
    "id": "PPQ6jDXE3XGs"
   },
   "source": [
    "In January 2022 - March 2022, cases took the longest in Chestnut Hill. Cases typically lasted on average 19.075 days but there were only 4 cases located in Chestnut Hill during this time. Smaller sample sizes could mean more variability (look at standard deviation to explain the spread of observations).  \n",
    "\n",
    "We can further look at the population of Chestnut Hill versus the other neighborhoods to try and make sense of this low case count. Additionally, we can broaden the time period of the cases to see if Chestnut Hill still has a low case count. \n",
    "\n",
    "From the table above we can see how long cases take by each neighborhood, it would be interesting to further breakdown by case reason for each neighborhood. "
   ]
  },
  {
   "cell_type": "markdown",
   "metadata": {
    "id": "k-jjw5d13XGs"
   },
   "source": [
    "### Wrap Up, Next Steps \n",
    "\n",
    "Further analysis could be done using the 311 dataset. Using the 311 data from previous years, we can see how number of requests have changed over the years, or how case duration may have changed over the years. \n",
    "\n",
    "Since most requests have latitude and longitude coordinates it could be interesting to plot each case request on a map to see if there are clusters of requests in certain locations.  \n",
    "\n",
    "Next steps could include gathering demographic data to overlay on top of the 311 dataset for further analysis. Another possible next step would be to build a model to predict how long a request could take given the request reason, subject, location, source, etc. "
   ]
  }
 ],
 "metadata": {
  "colab": {
   "name": "eda.ipynb",
   "provenance": []
  },
  "kernelspec": {
   "display_name": "Python 3",
   "language": "python",
   "name": "python3"
  },
  "language_info": {
   "codemirror_mode": {
    "name": "ipython",
    "version": 3
   },
   "file_extension": ".py",
   "mimetype": "text/x-python",
   "name": "python",
   "nbconvert_exporter": "python",
   "pygments_lexer": "ipython3",
   "version": "3.8.6"
  },
  "vscode": {
   "interpreter": {
    "hash": "56b72aab97c5d88c22a6bf5872989e2e65e9296dc12395fbfb8350007c775deb"
   }
  }
 },
 "nbformat": 4,
 "nbformat_minor": 4
}
