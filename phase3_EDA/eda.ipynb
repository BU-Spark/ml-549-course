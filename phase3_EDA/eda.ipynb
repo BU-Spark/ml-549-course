{
 "cells": [
  {
   "cell_type": "markdown",
   "metadata": {
    "id": "ddjpnB8_3XGb"
   },
   "source": [
    "# Getting Started With Exploratory Data Analysis (EDA)"
   ]
  },
  {
   "cell_type": "markdown",
   "metadata": {},
   "source": [
    "<a href=\"https://colab.research.google.com/github/BU-Spark/ml-549-course/blob/main/phase3_EDA/eda.ipynb\" target=\"_parent\"><img src=\"https://colab.research.google.com/assets/colab-badge.svg\" alt=\"Open In Colab\"/></a>\n",
    "\n",
    "This notebook serves as a starter guide or template for exploratory data analysis. It will go over the topics mentioned in the EDA guide. "
   ]
  },
  {
   "cell_type": "code",
   "execution_count": 1,
   "metadata": {
    "executionInfo": {
     "elapsed": 684,
     "status": "ok",
     "timestamp": 1660749047476,
     "user": {
      "displayName": "Michelle Voong",
      "userId": "06511363073265027000"
     },
     "user_tz": 240
    },
    "id": "Sz9Ta_KR3XGd"
   },
   "outputs": [],
   "source": [
    "# let's start off by importing the libraries we will need for eda\n",
    "import pandas as pd\n",
    "import numpy as np \n",
    "\n",
    "# for visualizations : \n",
    "import seaborn as sns\n",
    "import matplotlib.pyplot as plt"
   ]
  },
  {
   "cell_type": "markdown",
   "metadata": {
    "id": "Fp7TlhYn3XGe"
   },
   "source": [
    "The dataset we will be using in this tutorial is from Analyze Boston. Analyze Boston is the City of Boston's data hub and is a great resource for data sets regarding the city. \n",
    "\n",
    "We will be working with the 2022 311 Service Requests dataset. The dataset consists of service requests from all channels of engagement. 311 allows you to report non-emergency issues or request non-emergency City services. \n",
    "\n",
    "Link: https://data.boston.gov/dataset/311-service-requests "
   ]
  },
  {
   "cell_type": "code",
   "execution_count": 3,
   "metadata": {},
   "outputs": [
    {
     "name": "stdout",
     "output_type": "stream",
     "text": [
      "The file 311-requests.csv already exists.\n"
     ]
    }
   ],
   "source": [
    "import os\n",
    "import requests\n",
    "from tqdm import tqdm\n",
    "\n",
    "def download_csv(url, filename):\n",
    "    # Check if the file already exists\n",
    "    if os.path.exists(filename):\n",
    "        print(f\"The file {filename} already exists.\")\n",
    "        return\n",
    "\n",
    "    response = requests.get(url, stream=True)\n",
    "\n",
    "    total_size_in_bytes= int(response.headers.get('content-length', 0))\n",
    "    block_size = 1024 #1 Kibibyte\n",
    "    progress_bar = tqdm(total=total_size_in_bytes, unit='iB', unit_scale=True)\n",
    "\n",
    "    with open(filename, 'wb') as file:\n",
    "        for data in response.iter_content(block_size):\n",
    "            progress_bar.update(len(data))\n",
    "            file.write(data)\n",
    "    progress_bar.close()\n",
    "    if total_size_in_bytes != 0 and progress_bar.n != total_size_in_bytes:\n",
    "        print(\"ERROR, something went wrong\")\n",
    "\n",
    "# Use the function\n",
    "url = \"https://data.boston.gov/datastore/dump/81a7b022-f8fc-4da5-80e4-b160058ca207?bom=True\"\n",
    "filename = \"311-requests.csv\"\n",
    "download_csv(url, filename)"
   ]
  },
  {
   "cell_type": "code",
   "execution_count": 4,
   "metadata": {
    "executionInfo": {
     "elapsed": 3235,
     "status": "ok",
     "timestamp": 1660749130571,
     "user": {
      "displayName": "Michelle Voong",
      "userId": "06511363073265027000"
     },
     "user_tz": 240
    },
    "id": "NHmBeJL-3XGe"
   },
   "outputs": [
    {
     "name": "stderr",
     "output_type": "stream",
     "text": [
      "/var/folders/ly/jkydg4dj2vs93b_ds7yp5t7r0000gn/T/ipykernel_49480/924790900.py:2: DtypeWarning: Columns (14) have mixed types. Specify dtype option on import or set low_memory=False.\n",
      "  df = pd.read_csv('311-requests.csv')\n"
     ]
    }
   ],
   "source": [
    "# read in dataset\n",
    "df = pd.read_csv('311-requests.csv') "
   ]
  },
  {
   "cell_type": "code",
   "execution_count": 5,
   "metadata": {
    "colab": {
     "base_uri": "https://localhost:8080/",
     "height": 473
    },
    "executionInfo": {
     "elapsed": 185,
     "status": "ok",
     "timestamp": 1660749131739,
     "user": {
      "displayName": "Michelle Voong",
      "userId": "06511363073265027000"
     },
     "user_tz": 240
    },
    "id": "RuB_ntWw3XGe",
    "outputId": "a0b882db-254c-4b59-e463-fc82d73a859d"
   },
   "outputs": [
    {
     "data": {
      "text/html": [
       "<div>\n",
       "<style scoped>\n",
       "    .dataframe tbody tr th:only-of-type {\n",
       "        vertical-align: middle;\n",
       "    }\n",
       "\n",
       "    .dataframe tbody tr th {\n",
       "        vertical-align: top;\n",
       "    }\n",
       "\n",
       "    .dataframe thead th {\n",
       "        text-align: right;\n",
       "    }\n",
       "</style>\n",
       "<table border=\"1\" class=\"dataframe\">\n",
       "  <thead>\n",
       "    <tr style=\"text-align: right;\">\n",
       "      <th></th>\n",
       "      <th>_id</th>\n",
       "      <th>case_enquiry_id</th>\n",
       "      <th>open_dt</th>\n",
       "      <th>sla_target_dt</th>\n",
       "      <th>closed_dt</th>\n",
       "      <th>on_time</th>\n",
       "      <th>case_status</th>\n",
       "      <th>closure_reason</th>\n",
       "      <th>case_title</th>\n",
       "      <th>subject</th>\n",
       "      <th>...</th>\n",
       "      <th>neighborhood</th>\n",
       "      <th>neighborhood_services_district</th>\n",
       "      <th>ward</th>\n",
       "      <th>precinct</th>\n",
       "      <th>location_street_name</th>\n",
       "      <th>location_zipcode</th>\n",
       "      <th>latitude</th>\n",
       "      <th>longitude</th>\n",
       "      <th>geom_4326</th>\n",
       "      <th>source</th>\n",
       "    </tr>\n",
       "  </thead>\n",
       "  <tbody>\n",
       "    <tr>\n",
       "      <th>0</th>\n",
       "      <td>1</td>\n",
       "      <td>101004113346</td>\n",
       "      <td>2022-01-01 01:24:16</td>\n",
       "      <td>2022-01-04 03:30:00</td>\n",
       "      <td>2022-01-03 04:12:52</td>\n",
       "      <td>ONTIME</td>\n",
       "      <td>Closed</td>\n",
       "      <td>Case Closed. Closed date : 2022-01-03 09:12:52...</td>\n",
       "      <td>Parking Enforcement</td>\n",
       "      <td>Transportation - Traffic Division</td>\n",
       "      <td>...</td>\n",
       "      <td>Charlestown</td>\n",
       "      <td>2</td>\n",
       "      <td>2</td>\n",
       "      <td>0205</td>\n",
       "      <td>INTERSECTION Elm St &amp; Bartlett St</td>\n",
       "      <td>NaN</td>\n",
       "      <td>42.377998</td>\n",
       "      <td>-71.063353</td>\n",
       "      <td>0101000020E610000072405BF80DC451C0D275123C6230...</td>\n",
       "      <td>Citizens Connect App</td>\n",
       "    </tr>\n",
       "    <tr>\n",
       "      <th>1</th>\n",
       "      <td>2</td>\n",
       "      <td>101004113347</td>\n",
       "      <td>2022-01-01 01:40:20</td>\n",
       "      <td>NaN</td>\n",
       "      <td>2022-01-10 11:30:15</td>\n",
       "      <td>ONTIME</td>\n",
       "      <td>Closed</td>\n",
       "      <td>Case Closed. Closed date : 2022-01-10 16:30:15...</td>\n",
       "      <td>Schedule Bulk Item Pickup</td>\n",
       "      <td>Public Works Department</td>\n",
       "      <td>...</td>\n",
       "      <td>Jamaica Plain</td>\n",
       "      <td>11</td>\n",
       "      <td>Ward 19</td>\n",
       "      <td>1902</td>\n",
       "      <td>6 Moss Hill Rd</td>\n",
       "      <td>2130.0</td>\n",
       "      <td>42.311350</td>\n",
       "      <td>-71.124971</td>\n",
       "      <td>0101000020E6100000AE191D85FFC751C0E259DD4DDA27...</td>\n",
       "      <td>Self Service</td>\n",
       "    </tr>\n",
       "    <tr>\n",
       "      <th>2</th>\n",
       "      <td>3</td>\n",
       "      <td>101004113348</td>\n",
       "      <td>2022-01-01 01:46:29</td>\n",
       "      <td>2022-01-05 03:30:00</td>\n",
       "      <td>2022-01-01 10:10:16</td>\n",
       "      <td>ONTIME</td>\n",
       "      <td>Closed</td>\n",
       "      <td>Case Closed. Closed date : Sat Jan 01 15:10:16...</td>\n",
       "      <td>Improper Storage of Trash (Barrels)</td>\n",
       "      <td>Public Works Department</td>\n",
       "      <td>...</td>\n",
       "      <td>Beacon Hill</td>\n",
       "      <td>3</td>\n",
       "      <td>Ward 3</td>\n",
       "      <td>0306</td>\n",
       "      <td>14 S Russell St</td>\n",
       "      <td>2114.0</td>\n",
       "      <td>42.360720</td>\n",
       "      <td>-71.065880</td>\n",
       "      <td>0101000020E6100000BAC0AB6237C451C01BADBB0E2C2E...</td>\n",
       "      <td>Citizens Connect App</td>\n",
       "    </tr>\n",
       "    <tr>\n",
       "      <th>3</th>\n",
       "      <td>4</td>\n",
       "      <td>101004113349</td>\n",
       "      <td>2022-01-01 01:48:38</td>\n",
       "      <td>2022-01-04 03:30:00</td>\n",
       "      <td>2022-01-01 09:37:26</td>\n",
       "      <td>ONTIME</td>\n",
       "      <td>Closed</td>\n",
       "      <td>Case Closed. Closed date : Sat Jan 01 14:37:26...</td>\n",
       "      <td>Empty Litter Basket</td>\n",
       "      <td>Public Works Department</td>\n",
       "      <td>...</td>\n",
       "      <td>Back Bay</td>\n",
       "      <td>6</td>\n",
       "      <td>5</td>\n",
       "      <td>0501</td>\n",
       "      <td>INTERSECTION Bay St &amp; Fayette St</td>\n",
       "      <td>NaN</td>\n",
       "      <td>42.348241</td>\n",
       "      <td>-71.068550</td>\n",
       "      <td>0101000020E61000009E51771E63C451C0C9B81F28932C...</td>\n",
       "      <td>Citizens Connect App</td>\n",
       "    </tr>\n",
       "    <tr>\n",
       "      <th>4</th>\n",
       "      <td>5</td>\n",
       "      <td>101004113351</td>\n",
       "      <td>2022-01-01 02:19:00</td>\n",
       "      <td>2022-01-17 03:30:00</td>\n",
       "      <td>2022-08-05 06:47:07</td>\n",
       "      <td>OVERDUE</td>\n",
       "      <td>Closed</td>\n",
       "      <td>Case Closed. Closed date : 2022-08-05 10:47:07...</td>\n",
       "      <td>Sign Repair</td>\n",
       "      <td>Transportation - Traffic Division</td>\n",
       "      <td>...</td>\n",
       "      <td>West Roxbury</td>\n",
       "      <td>12</td>\n",
       "      <td>Ward 20</td>\n",
       "      <td>2015</td>\n",
       "      <td>223 Grove St</td>\n",
       "      <td>2132.0</td>\n",
       "      <td>42.261900</td>\n",
       "      <td>-71.157421</td>\n",
       "      <td>0101000020E61000000B500D2F13CA51C0EF75A8ED8521...</td>\n",
       "      <td>Constituent Call</td>\n",
       "    </tr>\n",
       "  </tbody>\n",
       "</table>\n",
       "<p>5 rows × 31 columns</p>\n",
       "</div>"
      ],
      "text/plain": [
       "   _id  case_enquiry_id              open_dt        sla_target_dt  \\\n",
       "0    1     101004113346  2022-01-01 01:24:16  2022-01-04 03:30:00   \n",
       "1    2     101004113347  2022-01-01 01:40:20                  NaN   \n",
       "2    3     101004113348  2022-01-01 01:46:29  2022-01-05 03:30:00   \n",
       "3    4     101004113349  2022-01-01 01:48:38  2022-01-04 03:30:00   \n",
       "4    5     101004113351  2022-01-01 02:19:00  2022-01-17 03:30:00   \n",
       "\n",
       "             closed_dt  on_time case_status  \\\n",
       "0  2022-01-03 04:12:52   ONTIME      Closed   \n",
       "1  2022-01-10 11:30:15   ONTIME      Closed   \n",
       "2  2022-01-01 10:10:16   ONTIME      Closed   \n",
       "3  2022-01-01 09:37:26   ONTIME      Closed   \n",
       "4  2022-08-05 06:47:07  OVERDUE      Closed   \n",
       "\n",
       "                                      closure_reason  \\\n",
       "0  Case Closed. Closed date : 2022-01-03 09:12:52...   \n",
       "1  Case Closed. Closed date : 2022-01-10 16:30:15...   \n",
       "2  Case Closed. Closed date : Sat Jan 01 15:10:16...   \n",
       "3  Case Closed. Closed date : Sat Jan 01 14:37:26...   \n",
       "4  Case Closed. Closed date : 2022-08-05 10:47:07...   \n",
       "\n",
       "                            case_title                            subject  \\\n",
       "0                  Parking Enforcement  Transportation - Traffic Division   \n",
       "1            Schedule Bulk Item Pickup            Public Works Department   \n",
       "2  Improper Storage of Trash (Barrels)            Public Works Department   \n",
       "3                  Empty Litter Basket            Public Works Department   \n",
       "4                          Sign Repair  Transportation - Traffic Division   \n",
       "\n",
       "   ...   neighborhood neighborhood_services_district     ward precinct  \\\n",
       "0  ...    Charlestown                              2        2     0205   \n",
       "1  ...  Jamaica Plain                             11  Ward 19     1902   \n",
       "2  ...    Beacon Hill                              3   Ward 3     0306   \n",
       "3  ...       Back Bay                              6        5     0501   \n",
       "4  ...   West Roxbury                             12  Ward 20     2015   \n",
       "\n",
       "                location_street_name location_zipcode   latitude  longitude  \\\n",
       "0  INTERSECTION Elm St & Bartlett St              NaN  42.377998 -71.063353   \n",
       "1                     6 Moss Hill Rd           2130.0  42.311350 -71.124971   \n",
       "2                    14 S Russell St           2114.0  42.360720 -71.065880   \n",
       "3   INTERSECTION Bay St & Fayette St              NaN  42.348241 -71.068550   \n",
       "4                       223 Grove St           2132.0  42.261900 -71.157421   \n",
       "\n",
       "                                           geom_4326                source  \n",
       "0  0101000020E610000072405BF80DC451C0D275123C6230...  Citizens Connect App  \n",
       "1  0101000020E6100000AE191D85FFC751C0E259DD4DDA27...          Self Service  \n",
       "2  0101000020E6100000BAC0AB6237C451C01BADBB0E2C2E...  Citizens Connect App  \n",
       "3  0101000020E61000009E51771E63C451C0C9B81F28932C...  Citizens Connect App  \n",
       "4  0101000020E61000000B500D2F13CA51C0EF75A8ED8521...      Constituent Call  \n",
       "\n",
       "[5 rows x 31 columns]"
      ]
     },
     "execution_count": 5,
     "metadata": {},
     "output_type": "execute_result"
    }
   ],
   "source": [
    "# let's look at the first five rows of the dataset\n",
    "df.head()"
   ]
  },
  {
   "cell_type": "markdown",
   "metadata": {
    "id": "V9awyGqH3XGf"
   },
   "source": [
    "How many observations/rows are there? <br>\n",
    "\n",
    "How many variables/columns are there? <br>\n",
    "\n",
    "What kinds of variables are there? Qualitative? Quantitative? Both? <br>"
   ]
  },
  {
   "cell_type": "code",
   "execution_count": 6,
   "metadata": {
    "colab": {
     "base_uri": "https://localhost:8080/"
    },
    "executionInfo": {
     "elapsed": 146,
     "status": "ok",
     "timestamp": 1660749139509,
     "user": {
      "displayName": "Michelle Voong",
      "userId": "06511363073265027000"
     },
     "user_tz": 240
    },
    "id": "7_i0S7QS3XGg",
    "outputId": "c8239e1d-45a7-4992-e9f8-9285d1f371c1"
   },
   "outputs": [
    {
     "data": {
      "text/plain": [
       "276599"
      ]
     },
     "execution_count": 6,
     "metadata": {},
     "output_type": "execute_result"
    }
   ],
   "source": [
    "# number of observations \n",
    "df.shape[0]"
   ]
  },
  {
   "cell_type": "code",
   "execution_count": 7,
   "metadata": {
    "colab": {
     "base_uri": "https://localhost:8080/"
    },
    "executionInfo": {
     "elapsed": 410,
     "status": "ok",
     "timestamp": 1660749141906,
     "user": {
      "displayName": "Michelle Voong",
      "userId": "06511363073265027000"
     },
     "user_tz": 240
    },
    "id": "FXPERBa33XGg",
    "outputId": "7919a93f-397b-434c-ae3d-6acd9e82f811"
   },
   "outputs": [
    {
     "name": "stdout",
     "output_type": "stream",
     "text": [
      "<class 'pandas.core.frame.DataFrame'>\n",
      "RangeIndex: 276599 entries, 0 to 276598\n",
      "Data columns (total 31 columns):\n",
      " #   Column                          Non-Null Count   Dtype  \n",
      "---  ------                          --------------   -----  \n",
      " 0   _id                             276599 non-null  int64  \n",
      " 1   case_enquiry_id                 276599 non-null  int64  \n",
      " 2   open_dt                         276599 non-null  object \n",
      " 3   sla_target_dt                   242468 non-null  object \n",
      " 4   closed_dt                       255570 non-null  object \n",
      " 5   on_time                         276599 non-null  object \n",
      " 6   case_status                     276599 non-null  object \n",
      " 7   closure_reason                  276599 non-null  object \n",
      " 8   case_title                      276595 non-null  object \n",
      " 9   subject                         276599 non-null  object \n",
      " 10  reason                          276599 non-null  object \n",
      " 11  type                            276599 non-null  object \n",
      " 12  queue                           276599 non-null  object \n",
      " 13  department                      276599 non-null  object \n",
      " 14  submitted_photo                 214 non-null     object \n",
      " 15  closed_photo                    78614 non-null   object \n",
      " 16  location                        276599 non-null  object \n",
      " 17  fire_district                   276095 non-null  object \n",
      " 18  pwd_district                    276471 non-null  object \n",
      " 19  city_council_district           276574 non-null  object \n",
      " 20  police_district                 276477 non-null  object \n",
      " 21  neighborhood                    276327 non-null  object \n",
      " 22  neighborhood_services_district  276574 non-null  object \n",
      " 23  ward                            276599 non-null  object \n",
      " 24  precinct                        276408 non-null  object \n",
      " 25  location_street_name            274167 non-null  object \n",
      " 26  location_zipcode                211677 non-null  float64\n",
      " 27  latitude                        274944 non-null  float64\n",
      " 28  longitude                       274944 non-null  float64\n",
      " 29  geom_4326                       274944 non-null  object \n",
      " 30  source                          276599 non-null  object \n",
      "dtypes: float64(3), int64(2), object(26)\n",
      "memory usage: 65.4+ MB\n"
     ]
    }
   ],
   "source": [
    "# to see column name, count, and dtype of each column \n",
    "df.info()"
   ]
  },
  {
   "cell_type": "markdown",
   "metadata": {
    "id": "L4hHLcT_3XGg"
   },
   "source": [
    "There are 146373 rows (observations). <br>\n",
    "\n",
    "There are 29 columns (variables). <br> \n",
    "\n",
    "There are both categorical and numerical variables. At quick glance there seems to be more categorical variables than numerical variables. \n",
    "\n",
    "Categorical Variables:\n",
    "```case_status```, ```neighborhood```, ```source```, etc. \n",
    "\n",
    "Numerical Variables: \n",
    "... maybe not?\n",
    "\n",
    "The ```case_enquiry_id``` is a unique identifier for each row, ```closedphoto``` has 0 non-null values so it might be worth it to drop this column since there is no additional information we can gather, columns such as ```location_zipcode```, ```latitude```, ```longitude``` not exactly numeric varaibles, since they are numbers that represent different codes. "
   ]
  },
  {
   "cell_type": "markdown",
   "metadata": {
    "id": "kx8VeHIz3XGh"
   },
   "source": [
    "### Cleaning \n",
    "\n",
    "Let's convert the three time variables (```open_dt```, ```target_dt```, and ```closed_dt```) from objects to pandas datetime objects.\n",
    "Let's focus on service requests for a set period of time in 2022. \n",
    "We will start by filtering for service requests that were opened from January 2022 to March 2022. "
   ]
  },
  {
   "cell_type": "code",
   "execution_count": 10,
   "metadata": {
    "executionInfo": {
     "elapsed": 397,
     "status": "ok",
     "timestamp": 1660749154304,
     "user": {
      "displayName": "Michelle Voong",
      "userId": "06511363073265027000"
     },
     "user_tz": 240
    },
    "id": "192xeVVj3XGi"
   },
   "outputs": [
    {
     "data": {
      "text/plain": [
       "_id                                        int64\n",
       "case_enquiry_id                            int64\n",
       "open_dt                           datetime64[ns]\n",
       "sla_target_dt                     datetime64[ns]\n",
       "closed_dt                         datetime64[ns]\n",
       "on_time                                   object\n",
       "case_status                               object\n",
       "closure_reason                            object\n",
       "case_title                                object\n",
       "subject                                   object\n",
       "reason                                    object\n",
       "type                                      object\n",
       "queue                                     object\n",
       "department                                object\n",
       "submitted_photo                           object\n",
       "closed_photo                              object\n",
       "location                                  object\n",
       "fire_district                             object\n",
       "pwd_district                              object\n",
       "city_council_district                     object\n",
       "police_district                           object\n",
       "neighborhood                              object\n",
       "neighborhood_services_district            object\n",
       "ward                                      object\n",
       "precinct                                  object\n",
       "location_street_name                      object\n",
       "location_zipcode                         float64\n",
       "latitude                                 float64\n",
       "longitude                                float64\n",
       "geom_4326                                 object\n",
       "source                                    object\n",
       "dtype: object"
      ]
     },
     "execution_count": 10,
     "metadata": {},
     "output_type": "execute_result"
    }
   ],
   "source": [
    "# changing the three columns with dates and times to pandas datetime object \n",
    "df['open_dt'] = pd.to_datetime(df['open_dt'])\n",
    "df['sla_target_dt'] = pd.to_datetime(df['sla_target_dt'])\n",
    "df['closed_dt'] = pd.to_datetime(df['closed_dt'])\n",
    "\n",
    "# output is long, but run the line below to check the type of the three columns \n",
    "df.dtypes"
   ]
  },
  {
   "cell_type": "code",
   "execution_count": 9,
   "metadata": {
    "colab": {
     "base_uri": "https://localhost:8080/",
     "height": 473
    },
    "executionInfo": {
     "elapsed": 466,
     "status": "ok",
     "timestamp": 1660749168157,
     "user": {
      "displayName": "Michelle Voong",
      "userId": "06511363073265027000"
     },
     "user_tz": 240
    },
    "id": "by1Bndru3XGi",
    "outputId": "136b7f95-18a7-4cf6-e7e5-fe23b29fd5d2"
   },
   "outputs": [
    {
     "data": {
      "text/html": [
       "<div>\n",
       "<style scoped>\n",
       "    .dataframe tbody tr th:only-of-type {\n",
       "        vertical-align: middle;\n",
       "    }\n",
       "\n",
       "    .dataframe tbody tr th {\n",
       "        vertical-align: top;\n",
       "    }\n",
       "\n",
       "    .dataframe thead th {\n",
       "        text-align: right;\n",
       "    }\n",
       "</style>\n",
       "<table border=\"1\" class=\"dataframe\">\n",
       "  <thead>\n",
       "    <tr style=\"text-align: right;\">\n",
       "      <th></th>\n",
       "      <th>_id</th>\n",
       "      <th>case_enquiry_id</th>\n",
       "      <th>open_dt</th>\n",
       "      <th>sla_target_dt</th>\n",
       "      <th>closed_dt</th>\n",
       "      <th>on_time</th>\n",
       "      <th>case_status</th>\n",
       "      <th>closure_reason</th>\n",
       "      <th>case_title</th>\n",
       "      <th>subject</th>\n",
       "      <th>...</th>\n",
       "      <th>neighborhood</th>\n",
       "      <th>neighborhood_services_district</th>\n",
       "      <th>ward</th>\n",
       "      <th>precinct</th>\n",
       "      <th>location_street_name</th>\n",
       "      <th>location_zipcode</th>\n",
       "      <th>latitude</th>\n",
       "      <th>longitude</th>\n",
       "      <th>geom_4326</th>\n",
       "      <th>source</th>\n",
       "    </tr>\n",
       "  </thead>\n",
       "  <tbody>\n",
       "    <tr>\n",
       "      <th>0</th>\n",
       "      <td>1</td>\n",
       "      <td>101004113346</td>\n",
       "      <td>2022-01-01 01:24:16</td>\n",
       "      <td>2022-01-04 03:30:00</td>\n",
       "      <td>2022-01-03 04:12:52</td>\n",
       "      <td>ONTIME</td>\n",
       "      <td>Closed</td>\n",
       "      <td>Case Closed. Closed date : 2022-01-03 09:12:52...</td>\n",
       "      <td>Parking Enforcement</td>\n",
       "      <td>Transportation - Traffic Division</td>\n",
       "      <td>...</td>\n",
       "      <td>Charlestown</td>\n",
       "      <td>2</td>\n",
       "      <td>2</td>\n",
       "      <td>0205</td>\n",
       "      <td>INTERSECTION Elm St &amp; Bartlett St</td>\n",
       "      <td>NaN</td>\n",
       "      <td>42.377998</td>\n",
       "      <td>-71.063353</td>\n",
       "      <td>0101000020E610000072405BF80DC451C0D275123C6230...</td>\n",
       "      <td>Citizens Connect App</td>\n",
       "    </tr>\n",
       "    <tr>\n",
       "      <th>1</th>\n",
       "      <td>2</td>\n",
       "      <td>101004113347</td>\n",
       "      <td>2022-01-01 01:40:20</td>\n",
       "      <td>NaT</td>\n",
       "      <td>2022-01-10 11:30:15</td>\n",
       "      <td>ONTIME</td>\n",
       "      <td>Closed</td>\n",
       "      <td>Case Closed. Closed date : 2022-01-10 16:30:15...</td>\n",
       "      <td>Schedule Bulk Item Pickup</td>\n",
       "      <td>Public Works Department</td>\n",
       "      <td>...</td>\n",
       "      <td>Jamaica Plain</td>\n",
       "      <td>11</td>\n",
       "      <td>Ward 19</td>\n",
       "      <td>1902</td>\n",
       "      <td>6 Moss Hill Rd</td>\n",
       "      <td>2130.0</td>\n",
       "      <td>42.311350</td>\n",
       "      <td>-71.124971</td>\n",
       "      <td>0101000020E6100000AE191D85FFC751C0E259DD4DDA27...</td>\n",
       "      <td>Self Service</td>\n",
       "    </tr>\n",
       "    <tr>\n",
       "      <th>2</th>\n",
       "      <td>3</td>\n",
       "      <td>101004113348</td>\n",
       "      <td>2022-01-01 01:46:29</td>\n",
       "      <td>2022-01-05 03:30:00</td>\n",
       "      <td>2022-01-01 10:10:16</td>\n",
       "      <td>ONTIME</td>\n",
       "      <td>Closed</td>\n",
       "      <td>Case Closed. Closed date : Sat Jan 01 15:10:16...</td>\n",
       "      <td>Improper Storage of Trash (Barrels)</td>\n",
       "      <td>Public Works Department</td>\n",
       "      <td>...</td>\n",
       "      <td>Beacon Hill</td>\n",
       "      <td>3</td>\n",
       "      <td>Ward 3</td>\n",
       "      <td>0306</td>\n",
       "      <td>14 S Russell St</td>\n",
       "      <td>2114.0</td>\n",
       "      <td>42.360720</td>\n",
       "      <td>-71.065880</td>\n",
       "      <td>0101000020E6100000BAC0AB6237C451C01BADBB0E2C2E...</td>\n",
       "      <td>Citizens Connect App</td>\n",
       "    </tr>\n",
       "    <tr>\n",
       "      <th>3</th>\n",
       "      <td>4</td>\n",
       "      <td>101004113349</td>\n",
       "      <td>2022-01-01 01:48:38</td>\n",
       "      <td>2022-01-04 03:30:00</td>\n",
       "      <td>2022-01-01 09:37:26</td>\n",
       "      <td>ONTIME</td>\n",
       "      <td>Closed</td>\n",
       "      <td>Case Closed. Closed date : Sat Jan 01 14:37:26...</td>\n",
       "      <td>Empty Litter Basket</td>\n",
       "      <td>Public Works Department</td>\n",
       "      <td>...</td>\n",
       "      <td>Back Bay</td>\n",
       "      <td>6</td>\n",
       "      <td>5</td>\n",
       "      <td>0501</td>\n",
       "      <td>INTERSECTION Bay St &amp; Fayette St</td>\n",
       "      <td>NaN</td>\n",
       "      <td>42.348241</td>\n",
       "      <td>-71.068550</td>\n",
       "      <td>0101000020E61000009E51771E63C451C0C9B81F28932C...</td>\n",
       "      <td>Citizens Connect App</td>\n",
       "    </tr>\n",
       "    <tr>\n",
       "      <th>4</th>\n",
       "      <td>5</td>\n",
       "      <td>101004113351</td>\n",
       "      <td>2022-01-01 02:19:00</td>\n",
       "      <td>2022-01-17 03:30:00</td>\n",
       "      <td>2022-08-05 06:47:07</td>\n",
       "      <td>OVERDUE</td>\n",
       "      <td>Closed</td>\n",
       "      <td>Case Closed. Closed date : 2022-08-05 10:47:07...</td>\n",
       "      <td>Sign Repair</td>\n",
       "      <td>Transportation - Traffic Division</td>\n",
       "      <td>...</td>\n",
       "      <td>West Roxbury</td>\n",
       "      <td>12</td>\n",
       "      <td>Ward 20</td>\n",
       "      <td>2015</td>\n",
       "      <td>223 Grove St</td>\n",
       "      <td>2132.0</td>\n",
       "      <td>42.261900</td>\n",
       "      <td>-71.157421</td>\n",
       "      <td>0101000020E61000000B500D2F13CA51C0EF75A8ED8521...</td>\n",
       "      <td>Constituent Call</td>\n",
       "    </tr>\n",
       "  </tbody>\n",
       "</table>\n",
       "<p>5 rows × 31 columns</p>\n",
       "</div>"
      ],
      "text/plain": [
       "   _id  case_enquiry_id             open_dt       sla_target_dt  \\\n",
       "0    1     101004113346 2022-01-01 01:24:16 2022-01-04 03:30:00   \n",
       "1    2     101004113347 2022-01-01 01:40:20                 NaT   \n",
       "2    3     101004113348 2022-01-01 01:46:29 2022-01-05 03:30:00   \n",
       "3    4     101004113349 2022-01-01 01:48:38 2022-01-04 03:30:00   \n",
       "4    5     101004113351 2022-01-01 02:19:00 2022-01-17 03:30:00   \n",
       "\n",
       "            closed_dt  on_time case_status  \\\n",
       "0 2022-01-03 04:12:52   ONTIME      Closed   \n",
       "1 2022-01-10 11:30:15   ONTIME      Closed   \n",
       "2 2022-01-01 10:10:16   ONTIME      Closed   \n",
       "3 2022-01-01 09:37:26   ONTIME      Closed   \n",
       "4 2022-08-05 06:47:07  OVERDUE      Closed   \n",
       "\n",
       "                                      closure_reason  \\\n",
       "0  Case Closed. Closed date : 2022-01-03 09:12:52...   \n",
       "1  Case Closed. Closed date : 2022-01-10 16:30:15...   \n",
       "2  Case Closed. Closed date : Sat Jan 01 15:10:16...   \n",
       "3  Case Closed. Closed date : Sat Jan 01 14:37:26...   \n",
       "4  Case Closed. Closed date : 2022-08-05 10:47:07...   \n",
       "\n",
       "                            case_title                            subject  \\\n",
       "0                  Parking Enforcement  Transportation - Traffic Division   \n",
       "1            Schedule Bulk Item Pickup            Public Works Department   \n",
       "2  Improper Storage of Trash (Barrels)            Public Works Department   \n",
       "3                  Empty Litter Basket            Public Works Department   \n",
       "4                          Sign Repair  Transportation - Traffic Division   \n",
       "\n",
       "   ...   neighborhood neighborhood_services_district     ward precinct  \\\n",
       "0  ...    Charlestown                              2        2     0205   \n",
       "1  ...  Jamaica Plain                             11  Ward 19     1902   \n",
       "2  ...    Beacon Hill                              3   Ward 3     0306   \n",
       "3  ...       Back Bay                              6        5     0501   \n",
       "4  ...   West Roxbury                             12  Ward 20     2015   \n",
       "\n",
       "                location_street_name location_zipcode   latitude  longitude  \\\n",
       "0  INTERSECTION Elm St & Bartlett St              NaN  42.377998 -71.063353   \n",
       "1                     6 Moss Hill Rd           2130.0  42.311350 -71.124971   \n",
       "2                    14 S Russell St           2114.0  42.360720 -71.065880   \n",
       "3   INTERSECTION Bay St & Fayette St              NaN  42.348241 -71.068550   \n",
       "4                       223 Grove St           2132.0  42.261900 -71.157421   \n",
       "\n",
       "                                           geom_4326                source  \n",
       "0  0101000020E610000072405BF80DC451C0D275123C6230...  Citizens Connect App  \n",
       "1  0101000020E6100000AE191D85FFC751C0E259DD4DDA27...          Self Service  \n",
       "2  0101000020E6100000BAC0AB6237C451C01BADBB0E2C2E...  Citizens Connect App  \n",
       "3  0101000020E61000009E51771E63C451C0C9B81F28932C...  Citizens Connect App  \n",
       "4  0101000020E61000000B500D2F13CA51C0EF75A8ED8521...      Constituent Call  \n",
       "\n",
       "[5 rows x 31 columns]"
      ]
     },
     "execution_count": 9,
     "metadata": {},
     "output_type": "execute_result"
    }
   ],
   "source": [
    "# filter data for 311 requests from january 2022 to march 2022 \n",
    "df_filtered = df.loc[(df['open_dt'] >= '2022-01-01') &\n",
    "                  (df['open_dt'] < '2022-03-31')]\n",
    "df_filtered.head()"
   ]
  },
  {
   "cell_type": "markdown",
   "metadata": {
    "id": "bN8js-KV3XGi"
   },
   "source": [
    "From our previous observation, since ```closedphoto``` column does not contain any non-null values, let's drop it. "
   ]
  },
  {
   "cell_type": "code",
   "execution_count": 12,
   "metadata": {
    "executionInfo": {
     "elapsed": 169,
     "status": "ok",
     "timestamp": 1660749175696,
     "user": {
      "displayName": "Michelle Voong",
      "userId": "06511363073265027000"
     },
     "user_tz": 240
    },
    "id": "1WbGfbB-3XGj"
   },
   "outputs": [],
   "source": [
    "# drop closedphoto column\n",
    "df_filtered = df_filtered.drop(columns=['closed_photo'])"
   ]
  },
  {
   "cell_type": "markdown",
   "metadata": {
    "id": "1-1Xft-j3XGj"
   },
   "source": [
    "After filtering the service requests, let's see how many observations we are left with.  "
   ]
  },
  {
   "cell_type": "code",
   "execution_count": 13,
   "metadata": {
    "colab": {
     "base_uri": "https://localhost:8080/"
    },
    "executionInfo": {
     "elapsed": 168,
     "status": "ok",
     "timestamp": 1660749180879,
     "user": {
      "displayName": "Michelle Voong",
      "userId": "06511363073265027000"
     },
     "user_tz": 240
    },
    "id": "zer9SUz53XGj",
    "outputId": "b79298af-30e4-4a51-f561-aa5f1fdf7df6"
   },
   "outputs": [
    {
     "data": {
      "text/plain": [
       "66464"
      ]
     },
     "execution_count": 13,
     "metadata": {},
     "output_type": "execute_result"
    }
   ],
   "source": [
    "# how many requests were opened from Jan 2022 to March 2022\n",
    "df_filtered.shape[0]"
   ]
  },
  {
   "cell_type": "markdown",
   "metadata": {
    "id": "Yp8drXE53XGj"
   },
   "source": [
    "From a quick preview of the dataframe, we can see that some of the requests are still open. \n",
    "Let's see how many observations are open vs. closed and then how many are ontime vs. overdue from the set of requests from January 2022 to March 2022. "
   ]
  },
  {
   "cell_type": "code",
   "execution_count": 15,
   "metadata": {
    "colab": {
     "base_uri": "https://localhost:8080/"
    },
    "executionInfo": {
     "elapsed": 154,
     "status": "ok",
     "timestamp": 1660749184353,
     "user": {
      "displayName": "Michelle Voong",
      "userId": "06511363073265027000"
     },
     "user_tz": 240
    },
    "id": "qVvAdLR33XGj",
    "outputId": "0ad96441-4ed2-47ce-c5fa-0d41370b5968"
   },
   "outputs": [
    {
     "data": {
      "text/plain": [
       "case_status\n",
       "Closed    61070\n",
       "Open       5394\n",
       "Name: count, dtype: int64"
      ]
     },
     "execution_count": 15,
     "metadata": {},
     "output_type": "execute_result"
    }
   ],
   "source": [
    "# checking how many open vs. closed cases\n",
    "df_filtered['case_status'].value_counts()"
   ]
  },
  {
   "cell_type": "code",
   "execution_count": 16,
   "metadata": {
    "colab": {
     "base_uri": "https://localhost:8080/",
     "height": 248
    },
    "executionInfo": {
     "elapsed": 418,
     "status": "ok",
     "timestamp": 1660749326726,
     "user": {
      "displayName": "Michelle Voong",
      "userId": "06511363073265027000"
     },
     "user_tz": 240
    },
    "id": "_r0bJVQKXme0",
    "outputId": "59e17c22-4fcb-487b-9161-63712109c85f"
   },
   "outputs": [
    {
     "data": {
      "image/png": "[encoded data removed]",
      "text/plain": [
       "<Figure size 640x480 with 1 Axes>"
      ]
     },
     "metadata": {},
     "output_type": "display_data"
    }
   ],
   "source": [
    "# visualize case_status in pie chart, set color palette \n",
    "colors = sns.color_palette('muted')[0:5]\n",
    "ax = df_filtered['case_status'].value_counts().plot.pie(colors=colors)\n",
    "ax.yaxis.set_visible(False)"
   ]
  },
  {
   "cell_type": "code",
   "execution_count": 19,
   "metadata": {
    "colab": {
     "base_uri": "https://localhost:8080/"
    },
    "executionInfo": {
     "elapsed": 224,
     "status": "ok",
     "timestamp": 1660749189364,
     "user": {
      "displayName": "Michelle Voong",
      "userId": "06511363073265027000"
     },
     "user_tz": 240
    },
    "id": "nQPtlHzC3XGk",
    "outputId": "3e1bcf12-7b65-49d8-e7ef-ac83f656b833"
   },
   "outputs": [
    {
     "data": {
      "text/plain": [
       "on_time\n",
       "ONTIME     54851\n",
       "OVERDUE    11613\n",
       "Name: count, dtype: int64"
      ]
     },
     "execution_count": 19,
     "metadata": {},
     "output_type": "execute_result"
    }
   ],
   "source": [
    "# checking how many ontime vs. overdue cases \n",
    "df_filtered['on_time'].value_counts()"
   ]
  },
  {
   "cell_type": "code",
   "execution_count": 21,
   "metadata": {
    "colab": {
     "base_uri": "https://localhost:8080/",
     "height": 248
    },
    "executionInfo": {
     "elapsed": 183,
     "status": "ok",
     "timestamp": 1660749624425,
     "user": {
      "displayName": "Michelle Voong",
      "userId": "06511363073265027000"
     },
     "user_tz": 240
    },
    "id": "ShFJvIZZY8pK",
    "outputId": "db9988e0-e740-47f4-ccb9-9547fbf12028"
   },
   "outputs": [
    {
     "data": {
      "image/png": "[encoded data removed]",
      "text/plain": [
       "<Figure size 640x480 with 1 Axes>"
      ]
     },
     "metadata": {},
     "output_type": "display_data"
    }
   ],
   "source": [
    "# visualize ontime in pie chart, set color palette \n",
    "colors = sns.color_palette('bright')[0:5]\n",
    "ax = df_filtered['on_time'].value_counts().plot.pie(colors=colors)\n",
    "ax.yaxis.set_visible(False)"
   ]
  },
  {
   "cell_type": "markdown",
   "metadata": {
    "id": "eRG8V6HJ3XGk"
   },
   "source": [
    "### Descriptive Statistics \n",
    "\n",
    "Pandas makes this easy! We can use ```describe()``` to get the descriptive statistics of the numerical columns. "
   ]
  },
  {
   "cell_type": "code",
   "execution_count": 22,
   "metadata": {
    "colab": {
     "base_uri": "https://localhost:8080/",
     "height": 300
    },
    "executionInfo": {
     "elapsed": 411,
     "status": "ok",
     "timestamp": 1660749657584,
     "user": {
      "displayName": "Michelle Voong",
      "userId": "06511363073265027000"
     },
     "user_tz": 240
    },
    "id": "TmoyIhcQ3XGk",
    "outputId": "9f5f96f5-63e6-49db-df1a-267feea6fd4e"
   },
   "outputs": [
    {
     "data": {
      "text/html": [
       "<div>\n",
       "<style scoped>\n",
       "    .dataframe tbody tr th:only-of-type {\n",
       "        vertical-align: middle;\n",
       "    }\n",
       "\n",
       "    .dataframe tbody tr th {\n",
       "        vertical-align: top;\n",
       "    }\n",
       "\n",
       "    .dataframe thead th {\n",
       "        text-align: right;\n",
       "    }\n",
       "</style>\n",
       "<table border=\"1\" class=\"dataframe\">\n",
       "  <thead>\n",
       "    <tr style=\"text-align: right;\">\n",
       "      <th></th>\n",
       "      <th>_id</th>\n",
       "      <th>case_enquiry_id</th>\n",
       "      <th>open_dt</th>\n",
       "      <th>sla_target_dt</th>\n",
       "      <th>closed_dt</th>\n",
       "      <th>location_zipcode</th>\n",
       "      <th>latitude</th>\n",
       "      <th>longitude</th>\n",
       "    </tr>\n",
       "  </thead>\n",
       "  <tbody>\n",
       "    <tr>\n",
       "      <th>count</th>\n",
       "      <td>66464.000000</td>\n",
       "      <td>6.646400e+04</td>\n",
       "      <td>66464</td>\n",
       "      <td>59450</td>\n",
       "      <td>61070</td>\n",
       "      <td>49782.000000</td>\n",
       "      <td>65984.000000</td>\n",
       "      <td>65984.000000</td>\n",
       "    </tr>\n",
       "    <tr>\n",
       "      <th>mean</th>\n",
       "      <td>33232.500000</td>\n",
       "      <td>1.010042e+11</td>\n",
       "      <td>2022-02-15 20:05:04.159379456</td>\n",
       "      <td>2022-03-08 19:53:51.031976192</td>\n",
       "      <td>2022-02-27 20:19:35.245472512</td>\n",
       "      <td>2126.916998</td>\n",
       "      <td>42.328284</td>\n",
       "      <td>-71.081085</td>\n",
       "    </tr>\n",
       "    <tr>\n",
       "      <th>min</th>\n",
       "      <td>1.000000</td>\n",
       "      <td>1.010041e+11</td>\n",
       "      <td>2022-01-01 01:24:16</td>\n",
       "      <td>2022-01-02 04:10:15</td>\n",
       "      <td>2022-01-01 04:06:21</td>\n",
       "      <td>2108.000000</td>\n",
       "      <td>42.231447</td>\n",
       "      <td>-71.189553</td>\n",
       "    </tr>\n",
       "    <tr>\n",
       "      <th>25%</th>\n",
       "      <td>16616.750000</td>\n",
       "      <td>1.010042e+11</td>\n",
       "      <td>2022-01-29 16:03:12.750000128</td>\n",
       "      <td>2022-02-02 08:08:11.249999872</td>\n",
       "      <td>2022-01-31 14:55:41.500000</td>\n",
       "      <td>2119.000000</td>\n",
       "      <td>42.303930</td>\n",
       "      <td>-71.102281</td>\n",
       "    </tr>\n",
       "    <tr>\n",
       "      <th>50%</th>\n",
       "      <td>33232.500000</td>\n",
       "      <td>1.010042e+11</td>\n",
       "      <td>2022-02-14 14:05:00</td>\n",
       "      <td>2022-02-22 03:30:00</td>\n",
       "      <td>2022-02-17 16:16:52.500000</td>\n",
       "      <td>2126.000000</td>\n",
       "      <td>42.334435</td>\n",
       "      <td>-71.073561</td>\n",
       "    </tr>\n",
       "    <tr>\n",
       "      <th>75%</th>\n",
       "      <td>49848.250000</td>\n",
       "      <td>1.010042e+11</td>\n",
       "      <td>2022-03-08 08:48:40.500000</td>\n",
       "      <td>2022-03-16 11:23:42.500000</td>\n",
       "      <td>2022-03-14 10:46:45</td>\n",
       "      <td>2130.000000</td>\n",
       "      <td>42.351632</td>\n",
       "      <td>-71.057221</td>\n",
       "    </tr>\n",
       "    <tr>\n",
       "      <th>max</th>\n",
       "      <td>66464.000000</td>\n",
       "      <td>1.010042e+11</td>\n",
       "      <td>2022-03-30 22:56:00</td>\n",
       "      <td>2024-03-19 16:43:37</td>\n",
       "      <td>2023-09-06 11:39:21</td>\n",
       "      <td>2467.000000</td>\n",
       "      <td>42.398123</td>\n",
       "      <td>-70.984134</td>\n",
       "    </tr>\n",
       "    <tr>\n",
       "      <th>std</th>\n",
       "      <td>19186.648483</td>\n",
       "      <td>3.744107e+04</td>\n",
       "      <td>NaN</td>\n",
       "      <td>NaN</td>\n",
       "      <td>NaN</td>\n",
       "      <td>17.177999</td>\n",
       "      <td>0.033024</td>\n",
       "      <td>0.035013</td>\n",
       "    </tr>\n",
       "  </tbody>\n",
       "</table>\n",
       "</div>"
      ],
      "text/plain": [
       "                _id  case_enquiry_id                        open_dt  \\\n",
       "count  66464.000000     6.646400e+04                          66464   \n",
       "mean   33232.500000     1.010042e+11  2022-02-15 20:05:04.159379456   \n",
       "min        1.000000     1.010041e+11            2022-01-01 01:24:16   \n",
       "25%    16616.750000     1.010042e+11  2022-01-29 16:03:12.750000128   \n",
       "50%    33232.500000     1.010042e+11            2022-02-14 14:05:00   \n",
       "75%    49848.250000     1.010042e+11     2022-03-08 08:48:40.500000   \n",
       "max    66464.000000     1.010042e+11            2022-03-30 22:56:00   \n",
       "std    19186.648483     3.744107e+04                            NaN   \n",
       "\n",
       "                       sla_target_dt                      closed_dt  \\\n",
       "count                          59450                          61070   \n",
       "mean   2022-03-08 19:53:51.031976192  2022-02-27 20:19:35.245472512   \n",
       "min              2022-01-02 04:10:15            2022-01-01 04:06:21   \n",
       "25%    2022-02-02 08:08:11.249999872     2022-01-31 14:55:41.500000   \n",
       "50%              2022-02-22 03:30:00     2022-02-17 16:16:52.500000   \n",
       "75%       2022-03-16 11:23:42.500000            2022-03-14 10:46:45   \n",
       "max              2024-03-19 16:43:37            2023-09-06 11:39:21   \n",
       "std                              NaN                            NaN   \n",
       "\n",
       "       location_zipcode      latitude     longitude  \n",
       "count      49782.000000  65984.000000  65984.000000  \n",
       "mean        2126.916998     42.328284    -71.081085  \n",
       "min         2108.000000     42.231447    -71.189553  \n",
       "25%         2119.000000     42.303930    -71.102281  \n",
       "50%         2126.000000     42.334435    -71.073561  \n",
       "75%         2130.000000     42.351632    -71.057221  \n",
       "max         2467.000000     42.398123    -70.984134  \n",
       "std           17.177999      0.033024      0.035013  "
      ]
     },
     "execution_count": 22,
     "metadata": {},
     "output_type": "execute_result"
    }
   ],
   "source": [
    "df_filtered.describe()"
   ]
  },
  {
   "cell_type": "markdown",
   "metadata": {
    "id": "ZD_Qbb3q3XGk"
   },
   "source": [
    "As mentioned before, the ```case_enquiry_id```, ```location_zipcode```, ```latitude```, and ```longitude``` columns are not numeric variables. The descriptive statistics are not very useful in this situation. \n",
    "\n",
    "What would be a useful numeric variable is the duration of a request. Let's calculate the duration of each of the requests from January 2022 to March 2022 and add it as a new column in our dataframe. "
   ]
  },
  {
   "cell_type": "code",
   "execution_count": 23,
   "metadata": {
    "colab": {
     "base_uri": "https://localhost:8080/",
     "height": 473
    },
    "executionInfo": {
     "elapsed": 292,
     "status": "ok",
     "timestamp": 1660750056171,
     "user": {
      "displayName": "Michelle Voong",
      "userId": "06511363073265027000"
     },
     "user_tz": 240
    },
    "id": "hn8idfZv3XGk",
    "outputId": "5699059b-f1c0-478f-8b3f-a59c7cf97def"
   },
   "outputs": [
    {
     "data": {
      "text/html": [
       "<div>\n",
       "<style scoped>\n",
       "    .dataframe tbody tr th:only-of-type {\n",
       "        vertical-align: middle;\n",
       "    }\n",
       "\n",
       "    .dataframe tbody tr th {\n",
       "        vertical-align: top;\n",
       "    }\n",
       "\n",
       "    .dataframe thead th {\n",
       "        text-align: right;\n",
       "    }\n",
       "</style>\n",
       "<table border=\"1\" class=\"dataframe\">\n",
       "  <thead>\n",
       "    <tr style=\"text-align: right;\">\n",
       "      <th></th>\n",
       "      <th>_id</th>\n",
       "      <th>case_enquiry_id</th>\n",
       "      <th>open_dt</th>\n",
       "      <th>sla_target_dt</th>\n",
       "      <th>closed_dt</th>\n",
       "      <th>on_time</th>\n",
       "      <th>case_status</th>\n",
       "      <th>closure_reason</th>\n",
       "      <th>case_title</th>\n",
       "      <th>subject</th>\n",
       "      <th>...</th>\n",
       "      <th>neighborhood_services_district</th>\n",
       "      <th>ward</th>\n",
       "      <th>precinct</th>\n",
       "      <th>location_street_name</th>\n",
       "      <th>location_zipcode</th>\n",
       "      <th>latitude</th>\n",
       "      <th>longitude</th>\n",
       "      <th>geom_4326</th>\n",
       "      <th>source</th>\n",
       "      <th>case_duration</th>\n",
       "    </tr>\n",
       "  </thead>\n",
       "  <tbody>\n",
       "    <tr>\n",
       "      <th>0</th>\n",
       "      <td>1</td>\n",
       "      <td>101004113346</td>\n",
       "      <td>2022-01-01 01:24:16</td>\n",
       "      <td>2022-01-04 03:30:00</td>\n",
       "      <td>2022-01-03 04:12:52</td>\n",
       "      <td>ONTIME</td>\n",
       "      <td>Closed</td>\n",
       "      <td>Case Closed. Closed date : 2022-01-03 09:12:52...</td>\n",
       "      <td>Parking Enforcement</td>\n",
       "      <td>Transportation - Traffic Division</td>\n",
       "      <td>...</td>\n",
       "      <td>2</td>\n",
       "      <td>2</td>\n",
       "      <td>0205</td>\n",
       "      <td>INTERSECTION Elm St &amp; Bartlett St</td>\n",
       "      <td>NaN</td>\n",
       "      <td>42.377998</td>\n",
       "      <td>-71.063353</td>\n",
       "      <td>0101000020E610000072405BF80DC451C0D275123C6230...</td>\n",
       "      <td>Citizens Connect App</td>\n",
       "      <td>2 days 02:48:36</td>\n",
       "    </tr>\n",
       "    <tr>\n",
       "      <th>1</th>\n",
       "      <td>2</td>\n",
       "      <td>101004113347</td>\n",
       "      <td>2022-01-01 01:40:20</td>\n",
       "      <td>NaT</td>\n",
       "      <td>2022-01-10 11:30:15</td>\n",
       "      <td>ONTIME</td>\n",
       "      <td>Closed</td>\n",
       "      <td>Case Closed. Closed date : 2022-01-10 16:30:15...</td>\n",
       "      <td>Schedule Bulk Item Pickup</td>\n",
       "      <td>Public Works Department</td>\n",
       "      <td>...</td>\n",
       "      <td>11</td>\n",
       "      <td>Ward 19</td>\n",
       "      <td>1902</td>\n",
       "      <td>6 Moss Hill Rd</td>\n",
       "      <td>2130.0</td>\n",
       "      <td>42.311350</td>\n",
       "      <td>-71.124971</td>\n",
       "      <td>0101000020E6100000AE191D85FFC751C0E259DD4DDA27...</td>\n",
       "      <td>Self Service</td>\n",
       "      <td>9 days 09:49:55</td>\n",
       "    </tr>\n",
       "    <tr>\n",
       "      <th>2</th>\n",
       "      <td>3</td>\n",
       "      <td>101004113348</td>\n",
       "      <td>2022-01-01 01:46:29</td>\n",
       "      <td>2022-01-05 03:30:00</td>\n",
       "      <td>2022-01-01 10:10:16</td>\n",
       "      <td>ONTIME</td>\n",
       "      <td>Closed</td>\n",
       "      <td>Case Closed. Closed date : Sat Jan 01 15:10:16...</td>\n",
       "      <td>Improper Storage of Trash (Barrels)</td>\n",
       "      <td>Public Works Department</td>\n",
       "      <td>...</td>\n",
       "      <td>3</td>\n",
       "      <td>Ward 3</td>\n",
       "      <td>0306</td>\n",
       "      <td>14 S Russell St</td>\n",
       "      <td>2114.0</td>\n",
       "      <td>42.360720</td>\n",
       "      <td>-71.065880</td>\n",
       "      <td>0101000020E6100000BAC0AB6237C451C01BADBB0E2C2E...</td>\n",
       "      <td>Citizens Connect App</td>\n",
       "      <td>0 days 08:23:47</td>\n",
       "    </tr>\n",
       "    <tr>\n",
       "      <th>3</th>\n",
       "      <td>4</td>\n",
       "      <td>101004113349</td>\n",
       "      <td>2022-01-01 01:48:38</td>\n",
       "      <td>2022-01-04 03:30:00</td>\n",
       "      <td>2022-01-01 09:37:26</td>\n",
       "      <td>ONTIME</td>\n",
       "      <td>Closed</td>\n",
       "      <td>Case Closed. Closed date : Sat Jan 01 14:37:26...</td>\n",
       "      <td>Empty Litter Basket</td>\n",
       "      <td>Public Works Department</td>\n",
       "      <td>...</td>\n",
       "      <td>6</td>\n",
       "      <td>5</td>\n",
       "      <td>0501</td>\n",
       "      <td>INTERSECTION Bay St &amp; Fayette St</td>\n",
       "      <td>NaN</td>\n",
       "      <td>42.348241</td>\n",
       "      <td>-71.068550</td>\n",
       "      <td>0101000020E61000009E51771E63C451C0C9B81F28932C...</td>\n",
       "      <td>Citizens Connect App</td>\n",
       "      <td>0 days 07:48:48</td>\n",
       "    </tr>\n",
       "    <tr>\n",
       "      <th>4</th>\n",
       "      <td>5</td>\n",
       "      <td>101004113351</td>\n",
       "      <td>2022-01-01 02:19:00</td>\n",
       "      <td>2022-01-17 03:30:00</td>\n",
       "      <td>2022-08-05 06:47:07</td>\n",
       "      <td>OVERDUE</td>\n",
       "      <td>Closed</td>\n",
       "      <td>Case Closed. Closed date : 2022-08-05 10:47:07...</td>\n",
       "      <td>Sign Repair</td>\n",
       "      <td>Transportation - Traffic Division</td>\n",
       "      <td>...</td>\n",
       "      <td>12</td>\n",
       "      <td>Ward 20</td>\n",
       "      <td>2015</td>\n",
       "      <td>223 Grove St</td>\n",
       "      <td>2132.0</td>\n",
       "      <td>42.261900</td>\n",
       "      <td>-71.157421</td>\n",
       "      <td>0101000020E61000000B500D2F13CA51C0EF75A8ED8521...</td>\n",
       "      <td>Constituent Call</td>\n",
       "      <td>216 days 04:28:07</td>\n",
       "    </tr>\n",
       "  </tbody>\n",
       "</table>\n",
       "<p>5 rows × 31 columns</p>\n",
       "</div>"
      ],
      "text/plain": [
       "   _id  case_enquiry_id             open_dt       sla_target_dt  \\\n",
       "0    1     101004113346 2022-01-01 01:24:16 2022-01-04 03:30:00   \n",
       "1    2     101004113347 2022-01-01 01:40:20                 NaT   \n",
       "2    3     101004113348 2022-01-01 01:46:29 2022-01-05 03:30:00   \n",
       "3    4     101004113349 2022-01-01 01:48:38 2022-01-04 03:30:00   \n",
       "4    5     101004113351 2022-01-01 02:19:00 2022-01-17 03:30:00   \n",
       "\n",
       "            closed_dt  on_time case_status  \\\n",
       "0 2022-01-03 04:12:52   ONTIME      Closed   \n",
       "1 2022-01-10 11:30:15   ONTIME      Closed   \n",
       "2 2022-01-01 10:10:16   ONTIME      Closed   \n",
       "3 2022-01-01 09:37:26   ONTIME      Closed   \n",
       "4 2022-08-05 06:47:07  OVERDUE      Closed   \n",
       "\n",
       "                                      closure_reason  \\\n",
       "0  Case Closed. Closed date : 2022-01-03 09:12:52...   \n",
       "1  Case Closed. Closed date : 2022-01-10 16:30:15...   \n",
       "2  Case Closed. Closed date : Sat Jan 01 15:10:16...   \n",
       "3  Case Closed. Closed date : Sat Jan 01 14:37:26...   \n",
       "4  Case Closed. Closed date : 2022-08-05 10:47:07...   \n",
       "\n",
       "                            case_title                            subject  \\\n",
       "0                  Parking Enforcement  Transportation - Traffic Division   \n",
       "1            Schedule Bulk Item Pickup            Public Works Department   \n",
       "2  Improper Storage of Trash (Barrels)            Public Works Department   \n",
       "3                  Empty Litter Basket            Public Works Department   \n",
       "4                          Sign Repair  Transportation - Traffic Division   \n",
       "\n",
       "   ... neighborhood_services_district     ward precinct  \\\n",
       "0  ...                              2        2     0205   \n",
       "1  ...                             11  Ward 19     1902   \n",
       "2  ...                              3   Ward 3     0306   \n",
       "3  ...                              6        5     0501   \n",
       "4  ...                             12  Ward 20     2015   \n",
       "\n",
       "                location_street_name location_zipcode   latitude  longitude  \\\n",
       "0  INTERSECTION Elm St & Bartlett St              NaN  42.377998 -71.063353   \n",
       "1                     6 Moss Hill Rd           2130.0  42.311350 -71.124971   \n",
       "2                    14 S Russell St           2114.0  42.360720 -71.065880   \n",
       "3   INTERSECTION Bay St & Fayette St              NaN  42.348241 -71.068550   \n",
       "4                       223 Grove St           2132.0  42.261900 -71.157421   \n",
       "\n",
       "                                           geom_4326                source  \\\n",
       "0  0101000020E610000072405BF80DC451C0D275123C6230...  Citizens Connect App   \n",
       "1  0101000020E6100000AE191D85FFC751C0E259DD4DDA27...          Self Service   \n",
       "2  0101000020E6100000BAC0AB6237C451C01BADBB0E2C2E...  Citizens Connect App   \n",
       "3  0101000020E61000009E51771E63C451C0C9B81F28932C...  Citizens Connect App   \n",
       "4  0101000020E61000000B500D2F13CA51C0EF75A8ED8521...      Constituent Call   \n",
       "\n",
       "      case_duration  \n",
       "0   2 days 02:48:36  \n",
       "1   9 days 09:49:55  \n",
       "2   0 days 08:23:47  \n",
       "3   0 days 07:48:48  \n",
       "4 216 days 04:28:07  \n",
       "\n",
       "[5 rows x 31 columns]"
      ]
     },
     "execution_count": 23,
     "metadata": {},
     "output_type": "execute_result"
    }
   ],
   "source": [
    "# calculating case duration and adding a new column (case_duration) to the dataframe \n",
    "duration = df_filtered['closed_dt'] - df_filtered['open_dt']\n",
    "df_filtered = df_filtered.assign(case_duration=duration)\n",
    "df_filtered.head()"
   ]
  },
  {
   "cell_type": "markdown",
   "metadata": {
    "id": "zkGd14C03XGl"
   },
   "source": [
    "Now we can see the new ```case_duration``` column. Some values are ```NaT```, which means there is a missing date. This makes sense because the ```case_status``` is ```OPEN```. \n",
    "\n",
    "Let's filter out the open cases and focus on analyzing the duration of the closed cases. "
   ]
  },
  {
   "cell_type": "code",
   "execution_count": 24,
   "metadata": {
    "colab": {
     "base_uri": "https://localhost:8080/",
     "height": 508
    },
    "executionInfo": {
     "elapsed": 186,
     "status": "ok",
     "timestamp": 1660750101255,
     "user": {
      "displayName": "Michelle Voong",
      "userId": "06511363073265027000"
     },
     "user_tz": 240
    },
    "id": "_iklB0Lp3XGl",
    "outputId": "7d94f836-1ddd-46df-8f52-3bafbb9080df"
   },
   "outputs": [
    {
     "data": {
      "text/html": [
       "<div>\n",
       "<style scoped>\n",
       "    .dataframe tbody tr th:only-of-type {\n",
       "        vertical-align: middle;\n",
       "    }\n",
       "\n",
       "    .dataframe tbody tr th {\n",
       "        vertical-align: top;\n",
       "    }\n",
       "\n",
       "    .dataframe thead th {\n",
       "        text-align: right;\n",
       "    }\n",
       "</style>\n",
       "<table border=\"1\" class=\"dataframe\">\n",
       "  <thead>\n",
       "    <tr style=\"text-align: right;\">\n",
       "      <th></th>\n",
       "      <th>_id</th>\n",
       "      <th>case_enquiry_id</th>\n",
       "      <th>open_dt</th>\n",
       "      <th>sla_target_dt</th>\n",
       "      <th>closed_dt</th>\n",
       "      <th>on_time</th>\n",
       "      <th>case_status</th>\n",
       "      <th>closure_reason</th>\n",
       "      <th>case_title</th>\n",
       "      <th>subject</th>\n",
       "      <th>...</th>\n",
       "      <th>neighborhood_services_district</th>\n",
       "      <th>ward</th>\n",
       "      <th>precinct</th>\n",
       "      <th>location_street_name</th>\n",
       "      <th>location_zipcode</th>\n",
       "      <th>latitude</th>\n",
       "      <th>longitude</th>\n",
       "      <th>geom_4326</th>\n",
       "      <th>source</th>\n",
       "      <th>case_duration</th>\n",
       "    </tr>\n",
       "  </thead>\n",
       "  <tbody>\n",
       "    <tr>\n",
       "      <th>0</th>\n",
       "      <td>1</td>\n",
       "      <td>101004113346</td>\n",
       "      <td>2022-01-01 01:24:16</td>\n",
       "      <td>2022-01-04 03:30:00</td>\n",
       "      <td>2022-01-03 04:12:52</td>\n",
       "      <td>ONTIME</td>\n",
       "      <td>Closed</td>\n",
       "      <td>Case Closed. Closed date : 2022-01-03 09:12:52...</td>\n",
       "      <td>Parking Enforcement</td>\n",
       "      <td>Transportation - Traffic Division</td>\n",
       "      <td>...</td>\n",
       "      <td>2</td>\n",
       "      <td>2</td>\n",
       "      <td>0205</td>\n",
       "      <td>INTERSECTION Elm St &amp; Bartlett St</td>\n",
       "      <td>NaN</td>\n",
       "      <td>42.377998</td>\n",
       "      <td>-71.063353</td>\n",
       "      <td>0101000020E610000072405BF80DC451C0D275123C6230...</td>\n",
       "      <td>Citizens Connect App</td>\n",
       "      <td>2 days 02:48:36</td>\n",
       "    </tr>\n",
       "    <tr>\n",
       "      <th>1</th>\n",
       "      <td>2</td>\n",
       "      <td>101004113347</td>\n",
       "      <td>2022-01-01 01:40:20</td>\n",
       "      <td>NaT</td>\n",
       "      <td>2022-01-10 11:30:15</td>\n",
       "      <td>ONTIME</td>\n",
       "      <td>Closed</td>\n",
       "      <td>Case Closed. Closed date : 2022-01-10 16:30:15...</td>\n",
       "      <td>Schedule Bulk Item Pickup</td>\n",
       "      <td>Public Works Department</td>\n",
       "      <td>...</td>\n",
       "      <td>11</td>\n",
       "      <td>Ward 19</td>\n",
       "      <td>1902</td>\n",
       "      <td>6 Moss Hill Rd</td>\n",
       "      <td>2130.0</td>\n",
       "      <td>42.311350</td>\n",
       "      <td>-71.124971</td>\n",
       "      <td>0101000020E6100000AE191D85FFC751C0E259DD4DDA27...</td>\n",
       "      <td>Self Service</td>\n",
       "      <td>9 days 09:49:55</td>\n",
       "    </tr>\n",
       "    <tr>\n",
       "      <th>2</th>\n",
       "      <td>3</td>\n",
       "      <td>101004113348</td>\n",
       "      <td>2022-01-01 01:46:29</td>\n",
       "      <td>2022-01-05 03:30:00</td>\n",
       "      <td>2022-01-01 10:10:16</td>\n",
       "      <td>ONTIME</td>\n",
       "      <td>Closed</td>\n",
       "      <td>Case Closed. Closed date : Sat Jan 01 15:10:16...</td>\n",
       "      <td>Improper Storage of Trash (Barrels)</td>\n",
       "      <td>Public Works Department</td>\n",
       "      <td>...</td>\n",
       "      <td>3</td>\n",
       "      <td>Ward 3</td>\n",
       "      <td>0306</td>\n",
       "      <td>14 S Russell St</td>\n",
       "      <td>2114.0</td>\n",
       "      <td>42.360720</td>\n",
       "      <td>-71.065880</td>\n",
       "      <td>0101000020E6100000BAC0AB6237C451C01BADBB0E2C2E...</td>\n",
       "      <td>Citizens Connect App</td>\n",
       "      <td>0 days 08:23:47</td>\n",
       "    </tr>\n",
       "    <tr>\n",
       "      <th>3</th>\n",
       "      <td>4</td>\n",
       "      <td>101004113349</td>\n",
       "      <td>2022-01-01 01:48:38</td>\n",
       "      <td>2022-01-04 03:30:00</td>\n",
       "      <td>2022-01-01 09:37:26</td>\n",
       "      <td>ONTIME</td>\n",
       "      <td>Closed</td>\n",
       "      <td>Case Closed. Closed date : Sat Jan 01 14:37:26...</td>\n",
       "      <td>Empty Litter Basket</td>\n",
       "      <td>Public Works Department</td>\n",
       "      <td>...</td>\n",
       "      <td>6</td>\n",
       "      <td>5</td>\n",
       "      <td>0501</td>\n",
       "      <td>INTERSECTION Bay St &amp; Fayette St</td>\n",
       "      <td>NaN</td>\n",
       "      <td>42.348241</td>\n",
       "      <td>-71.068550</td>\n",
       "      <td>0101000020E61000009E51771E63C451C0C9B81F28932C...</td>\n",
       "      <td>Citizens Connect App</td>\n",
       "      <td>0 days 07:48:48</td>\n",
       "    </tr>\n",
       "    <tr>\n",
       "      <th>4</th>\n",
       "      <td>5</td>\n",
       "      <td>101004113351</td>\n",
       "      <td>2022-01-01 02:19:00</td>\n",
       "      <td>2022-01-17 03:30:00</td>\n",
       "      <td>2022-08-05 06:47:07</td>\n",
       "      <td>OVERDUE</td>\n",
       "      <td>Closed</td>\n",
       "      <td>Case Closed. Closed date : 2022-08-05 10:47:07...</td>\n",
       "      <td>Sign Repair</td>\n",
       "      <td>Transportation - Traffic Division</td>\n",
       "      <td>...</td>\n",
       "      <td>12</td>\n",
       "      <td>Ward 20</td>\n",
       "      <td>2015</td>\n",
       "      <td>223 Grove St</td>\n",
       "      <td>2132.0</td>\n",
       "      <td>42.261900</td>\n",
       "      <td>-71.157421</td>\n",
       "      <td>0101000020E61000000B500D2F13CA51C0EF75A8ED8521...</td>\n",
       "      <td>Constituent Call</td>\n",
       "      <td>216 days 04:28:07</td>\n",
       "    </tr>\n",
       "  </tbody>\n",
       "</table>\n",
       "<p>5 rows × 31 columns</p>\n",
       "</div>"
      ],
      "text/plain": [
       "   _id  case_enquiry_id             open_dt       sla_target_dt  \\\n",
       "0    1     101004113346 2022-01-01 01:24:16 2022-01-04 03:30:00   \n",
       "1    2     101004113347 2022-01-01 01:40:20                 NaT   \n",
       "2    3     101004113348 2022-01-01 01:46:29 2022-01-05 03:30:00   \n",
       "3    4     101004113349 2022-01-01 01:48:38 2022-01-04 03:30:00   \n",
       "4    5     101004113351 2022-01-01 02:19:00 2022-01-17 03:30:00   \n",
       "\n",
       "            closed_dt  on_time case_status  \\\n",
       "0 2022-01-03 04:12:52   ONTIME      Closed   \n",
       "1 2022-01-10 11:30:15   ONTIME      Closed   \n",
       "2 2022-01-01 10:10:16   ONTIME      Closed   \n",
       "3 2022-01-01 09:37:26   ONTIME      Closed   \n",
       "4 2022-08-05 06:47:07  OVERDUE      Closed   \n",
       "\n",
       "                                      closure_reason  \\\n",
       "0  Case Closed. Closed date : 2022-01-03 09:12:52...   \n",
       "1  Case Closed. Closed date : 2022-01-10 16:30:15...   \n",
       "2  Case Closed. Closed date : Sat Jan 01 15:10:16...   \n",
       "3  Case Closed. Closed date : Sat Jan 01 14:37:26...   \n",
       "4  Case Closed. Closed date : 2022-08-05 10:47:07...   \n",
       "\n",
       "                            case_title                            subject  \\\n",
       "0                  Parking Enforcement  Transportation - Traffic Division   \n",
       "1            Schedule Bulk Item Pickup            Public Works Department   \n",
       "2  Improper Storage of Trash (Barrels)            Public Works Department   \n",
       "3                  Empty Litter Basket            Public Works Department   \n",
       "4                          Sign Repair  Transportation - Traffic Division   \n",
       "\n",
       "   ... neighborhood_services_district     ward precinct  \\\n",
       "0  ...                              2        2     0205   \n",
       "1  ...                             11  Ward 19     1902   \n",
       "2  ...                              3   Ward 3     0306   \n",
       "3  ...                              6        5     0501   \n",
       "4  ...                             12  Ward 20     2015   \n",
       "\n",
       "                location_street_name location_zipcode   latitude  longitude  \\\n",
       "0  INTERSECTION Elm St & Bartlett St              NaN  42.377998 -71.063353   \n",
       "1                     6 Moss Hill Rd           2130.0  42.311350 -71.124971   \n",
       "2                    14 S Russell St           2114.0  42.360720 -71.065880   \n",
       "3   INTERSECTION Bay St & Fayette St              NaN  42.348241 -71.068550   \n",
       "4                       223 Grove St           2132.0  42.261900 -71.157421   \n",
       "\n",
       "                                           geom_4326                source  \\\n",
       "0  0101000020E610000072405BF80DC451C0D275123C6230...  Citizens Connect App   \n",
       "1  0101000020E6100000AE191D85FFC751C0E259DD4DDA27...          Self Service   \n",
       "2  0101000020E6100000BAC0AB6237C451C01BADBB0E2C2E...  Citizens Connect App   \n",
       "3  0101000020E61000009E51771E63C451C0C9B81F28932C...  Citizens Connect App   \n",
       "4  0101000020E61000000B500D2F13CA51C0EF75A8ED8521...      Constituent Call   \n",
       "\n",
       "      case_duration  \n",
       "0   2 days 02:48:36  \n",
       "1   9 days 09:49:55  \n",
       "2   0 days 08:23:47  \n",
       "3   0 days 07:48:48  \n",
       "4 216 days 04:28:07  \n",
       "\n",
       "[5 rows x 31 columns]"
      ]
     },
     "execution_count": 24,
     "metadata": {},
     "output_type": "execute_result"
    }
   ],
   "source": [
    "# filter out the open cases\n",
    "df_closed = df_filtered.loc[(df_filtered['case_status'] == \"Closed\")]\n",
    "df_closed.head()"
   ]
  },
  {
   "cell_type": "markdown",
   "metadata": {
    "id": "0QDlAacu3XGl"
   },
   "source": [
    "With the closed cases, let's calculate the descriptive statistics of the new ```case_duration``` column. "
   ]
  },
  {
   "cell_type": "code",
   "execution_count": 25,
   "metadata": {
    "colab": {
     "base_uri": "https://localhost:8080/",
     "height": 300
    },
    "executionInfo": {
     "elapsed": 203,
     "status": "ok",
     "timestamp": 1660750128267,
     "user": {
      "displayName": "Michelle Voong",
      "userId": "06511363073265027000"
     },
     "user_tz": 240
    },
    "id": "yLcXjhBp3XGl",
    "outputId": "9d545e11-f7eb-494a-be03-6c68c34fe324"
   },
   "outputs": [
    {
     "data": {
      "text/html": [
       "<div>\n",
       "<style scoped>\n",
       "    .dataframe tbody tr th:only-of-type {\n",
       "        vertical-align: middle;\n",
       "    }\n",
       "\n",
       "    .dataframe tbody tr th {\n",
       "        vertical-align: top;\n",
       "    }\n",
       "\n",
       "    .dataframe thead th {\n",
       "        text-align: right;\n",
       "    }\n",
       "</style>\n",
       "<table border=\"1\" class=\"dataframe\">\n",
       "  <thead>\n",
       "    <tr style=\"text-align: right;\">\n",
       "      <th></th>\n",
       "      <th>case_duration</th>\n",
       "    </tr>\n",
       "  </thead>\n",
       "  <tbody>\n",
       "    <tr>\n",
       "      <th>count</th>\n",
       "      <td>61070</td>\n",
       "    </tr>\n",
       "    <tr>\n",
       "      <th>mean</th>\n",
       "      <td>12 days 09:11:46.411887997</td>\n",
       "    </tr>\n",
       "    <tr>\n",
       "      <th>std</th>\n",
       "      <td>54 days 01:28:23.439675193</td>\n",
       "    </tr>\n",
       "    <tr>\n",
       "      <th>min</th>\n",
       "      <td>0 days 00:00:04</td>\n",
       "    </tr>\n",
       "    <tr>\n",
       "      <th>25%</th>\n",
       "      <td>0 days 01:30:49.250000</td>\n",
       "    </tr>\n",
       "    <tr>\n",
       "      <th>50%</th>\n",
       "      <td>0 days 10:19:53</td>\n",
       "    </tr>\n",
       "    <tr>\n",
       "      <th>75%</th>\n",
       "      <td>1 days 21:10:48.500000</td>\n",
       "    </tr>\n",
       "    <tr>\n",
       "      <th>max</th>\n",
       "      <td>603 days 22:42:41</td>\n",
       "    </tr>\n",
       "  </tbody>\n",
       "</table>\n",
       "</div>"
      ],
      "text/plain": [
       "                    case_duration\n",
       "count                       61070\n",
       "mean   12 days 09:11:46.411887997\n",
       "std    54 days 01:28:23.439675193\n",
       "min               0 days 00:00:04\n",
       "25%        0 days 01:30:49.250000\n",
       "50%               0 days 10:19:53\n",
       "75%        1 days 21:10:48.500000\n",
       "max             603 days 22:42:41"
      ]
     },
     "execution_count": 25,
     "metadata": {},
     "output_type": "execute_result"
    }
   ],
   "source": [
    "# let's calculate the descriptive statistics again \n",
    "# using double brackets to display in a *fancy* table format\n",
    "df_closed[['case_duration']].describe()"
   ]
  },
  {
   "cell_type": "markdown",
   "metadata": {
    "id": "lrbhQFgx3XGl"
   },
   "source": [
    "From the table, we can see that the average case duration is ~4.5 days. <br>\n",
    "The standard deviation for the case duration is ~15.4 days. <br>\n",
    "The minimum time a case takes to close is 4 minutes. <br>\n",
    "The maximum time a case takes to close is ~181.6 days. <br>\n",
    "The inter-quartile range (IQR) is the difference between the 25% and 75% quantiles. <br>\n"
   ]
  },
  {
   "cell_type": "markdown",
   "metadata": {
    "id": "WPWkF9m83XGl"
   },
   "source": [
    "We can also calculate the *mode* and *median*."
   ]
  },
  {
   "cell_type": "code",
   "execution_count": 26,
   "metadata": {
    "colab": {
     "base_uri": "https://localhost:8080/"
    },
    "executionInfo": {
     "elapsed": 225,
     "status": "ok",
     "timestamp": 1660750137193,
     "user": {
      "displayName": "Michelle Voong",
      "userId": "06511363073265027000"
     },
     "user_tz": 240
    },
    "id": "8hiIOjvL3XGl",
    "outputId": "2f775a60-400f-4b4d-fd3a-7cdfb9cbc531"
   },
   "outputs": [
    {
     "data": {
      "text/plain": [
       "0   0 days 00:00:54\n",
       "1   0 days 00:00:57\n",
       "2   0 days 00:01:03\n",
       "Name: case_duration, dtype: timedelta64[ns]"
      ]
     },
     "execution_count": 26,
     "metadata": {},
     "output_type": "execute_result"
    }
   ],
   "source": [
    "df_closed['case_duration'].mode()"
   ]
  },
  {
   "cell_type": "code",
   "execution_count": 27,
   "metadata": {
    "colab": {
     "base_uri": "https://localhost:8080/"
    },
    "executionInfo": {
     "elapsed": 173,
     "status": "ok",
     "timestamp": 1660750139752,
     "user": {
      "displayName": "Michelle Voong",
      "userId": "06511363073265027000"
     },
     "user_tz": 240
    },
    "id": "HN9ce8lG3XGm",
    "outputId": "047ea66b-4b0a-4824-e7a6-e912b1584c63"
   },
   "outputs": [
    {
     "data": {
      "text/plain": [
       "Timedelta('0 days 10:19:53')"
      ]
     },
     "execution_count": 27,
     "metadata": {},
     "output_type": "execute_result"
    }
   ],
   "source": [
    "df_closed['case_duration'].median()"
   ]
  },
  {
   "cell_type": "markdown",
   "metadata": {
    "id": "cd58E_un3XGm"
   },
   "source": [
    "The descriptive statistics summary in table form is nice, but it would be nice to visualize the data in a histogram. Simply trying to plot using the values in the ```case_duration``` column will case an error. \n",
    "\n",
    "Currently, the values in ```case_duration``` are of type ```timedelta64[ns]```, ```df_closed['case_duration']``` is a Timedelta Series. We will need to apply what is called a frequency conversion to the values. \n",
    "\n",
    "\"Timedelta Series, TimedeltaIndex, and Timedelta scalars can be converted to other 'frequences' by dividing by another timedelta, or by astyping to a specific timedelta type.\" (See the link below for more information and code examples!)\n",
    "\n",
    "https://pandas.pydata.org/pandas-docs/stable/user_guide/timedeltas.html\n"
   ]
  },
  {
   "cell_type": "code",
   "execution_count": 28,
   "metadata": {
    "colab": {
     "base_uri": "https://localhost:8080/",
     "height": 300
    },
    "executionInfo": {
     "elapsed": 704,
     "status": "ok",
     "timestamp": 1660750262997,
     "user": {
      "displayName": "Michelle Voong",
      "userId": "06511363073265027000"
     },
     "user_tz": 240
    },
    "id": "s6WHP4lz3XGm",
    "outputId": "d6132bff-aebc-4f2d-a220-dd7a0456cd7c"
   },
   "outputs": [
    {
     "data": {
      "text/html": [
       "<div>\n",
       "<style scoped>\n",
       "    .dataframe tbody tr th:only-of-type {\n",
       "        vertical-align: middle;\n",
       "    }\n",
       "\n",
       "    .dataframe tbody tr th {\n",
       "        vertical-align: top;\n",
       "    }\n",
       "\n",
       "    .dataframe thead th {\n",
       "        text-align: right;\n",
       "    }\n",
       "</style>\n",
       "<table border=\"1\" class=\"dataframe\">\n",
       "  <thead>\n",
       "    <tr style=\"text-align: right;\">\n",
       "      <th></th>\n",
       "      <th>duration_in_days</th>\n",
       "    </tr>\n",
       "  </thead>\n",
       "  <tbody>\n",
       "    <tr>\n",
       "      <th>count</th>\n",
       "      <td>61070.000000</td>\n",
       "    </tr>\n",
       "    <tr>\n",
       "      <th>mean</th>\n",
       "      <td>12.383176</td>\n",
       "    </tr>\n",
       "    <tr>\n",
       "      <th>std</th>\n",
       "      <td>54.061382</td>\n",
       "    </tr>\n",
       "    <tr>\n",
       "      <th>min</th>\n",
       "      <td>0.000046</td>\n",
       "    </tr>\n",
       "    <tr>\n",
       "      <th>25%</th>\n",
       "      <td>0.063070</td>\n",
       "    </tr>\n",
       "    <tr>\n",
       "      <th>50%</th>\n",
       "      <td>0.430475</td>\n",
       "    </tr>\n",
       "    <tr>\n",
       "      <th>75%</th>\n",
       "      <td>1.882506</td>\n",
       "    </tr>\n",
       "    <tr>\n",
       "      <th>max</th>\n",
       "      <td>603.946308</td>\n",
       "    </tr>\n",
       "  </tbody>\n",
       "</table>\n",
       "</div>"
      ],
      "text/plain": [
       "       duration_in_days\n",
       "count      61070.000000\n",
       "mean          12.383176\n",
       "std           54.061382\n",
       "min            0.000046\n",
       "25%            0.063070\n",
       "50%            0.430475\n",
       "75%            1.882506\n",
       "max          603.946308"
      ]
     },
     "execution_count": 28,
     "metadata": {},
     "output_type": "execute_result"
    }
   ],
   "source": [
    "# dividing the case_duration values by Timedelta of 1 day \n",
    "duration_days = ( df_closed['case_duration'] / pd.Timedelta(days=1))\n",
    "\n",
    "# adding calculation to dataframe under duration_in_days column \n",
    "df_closed = df_closed.assign(duration_in_days=duration_days)\n",
    "\n",
    "# display descriptive statistics summary with new column addition \n",
    "df_closed[['duration_in_days']].describe()"
   ]
  },
  {
   "cell_type": "code",
   "execution_count": 29,
   "metadata": {
    "colab": {
     "base_uri": "https://localhost:8080/",
     "height": 383
    },
    "executionInfo": {
     "elapsed": 892,
     "status": "ok",
     "timestamp": 1660750281062,
     "user": {
      "displayName": "Michelle Voong",
      "userId": "06511363073265027000"
     },
     "user_tz": 240
    },
    "id": "4PRQnuLk3XGm",
    "outputId": "f7a4803a-043d-4cd3-8984-f3532ff87488"
   },
   "outputs": [
    {
     "data": {
      "text/plain": [
       "<seaborn.axisgrid.FacetGrid at 0x177a0d890>"
      ]
     },
     "execution_count": 29,
     "metadata": {},
     "output_type": "execute_result"
    },
    {
     "data": {
      "image/png": "[encoded data removed]",
      "text/plain": [
       "<Figure size 500x500 with 1 Axes>"
      ]
     },
     "metadata": {},
     "output_type": "display_data"
    }
   ],
   "source": [
    "# using seaborn library for visualizations \n",
    "sns.set_theme() # use this if you dont want the visualizations to be default matplotlibstyle\n",
    "sns.displot(df_closed, x=\"duration_in_days\", binwidth=1)"
   ]
  },
  {
   "cell_type": "markdown",
   "metadata": {
    "id": "dioIWQPo3XGm"
   },
   "source": [
    "From the plot above, the data seems to be skewed right meaning the right tail is much longer than the left. Let's try playing with different bin widths. "
   ]
  },
  {
   "cell_type": "code",
   "execution_count": 30,
   "metadata": {
    "colab": {
     "base_uri": "https://localhost:8080/",
     "height": 383
    },
    "executionInfo": {
     "elapsed": 880,
     "status": "ok",
     "timestamp": 1660750295412,
     "user": {
      "displayName": "Michelle Voong",
      "userId": "06511363073265027000"
     },
     "user_tz": 240
    },
    "id": "Iooy6P8t3XGm",
    "outputId": "f792b0a1-e687-4ee6-d6cd-8a684887fe50"
   },
   "outputs": [
    {
     "data": {
      "text/plain": [
       "<seaborn.axisgrid.FacetGrid at 0x2a176ef50>"
      ]
     },
     "execution_count": 30,
     "metadata": {},
     "output_type": "execute_result"
    },
    {
     "data": {
      "image/png": "[encoded data removed]",
      "text/plain": [
       "<Figure size 500x500 with 1 Axes>"
      ]
     },
     "metadata": {},
     "output_type": "display_data"
    }
   ],
   "source": [
    "# trying different bin sizes \n",
    "sns.displot(df_closed, x=\"duration_in_days\", binwidth=5)"
   ]
  },
  {
   "cell_type": "code",
   "execution_count": 31,
   "metadata": {
    "colab": {
     "base_uri": "https://localhost:8080/",
     "height": 383
    },
    "executionInfo": {
     "elapsed": 697,
     "status": "ok",
     "timestamp": 1660750334892,
     "user": {
      "displayName": "Michelle Voong",
      "userId": "06511363073265027000"
     },
     "user_tz": 240
    },
    "id": "oL04U4hf3XGm",
    "outputId": "820da582-7ae8-47c3-ed0a-256858c8b684"
   },
   "outputs": [
    {
     "data": {
      "text/plain": [
       "<seaborn.axisgrid.FacetGrid at 0x2a3bf9010>"
      ]
     },
     "execution_count": 31,
     "metadata": {},
     "output_type": "execute_result"
    },
    {
     "data": {
      "image/png": "[encoded data removed]",
      "text/plain": [
       "<Figure size 500x500 with 1 Axes>"
      ]
     },
     "metadata": {},
     "output_type": "display_data"
    }
   ],
   "source": [
    "# trying different bin sizes\n",
    "sns.displot(df_closed, x=\"duration_in_days\", binwidth=25)"
   ]
  },
  {
   "cell_type": "markdown",
   "metadata": {
    "id": "rtfMqO0C3XGm"
   },
   "source": [
    "Since the data is heavily skewed, let's apply log transformation to the data. The log transformation will *hopefully* reduce or remove the skewness of the original data. The assumption is that the original data follows a log-normal distribution. "
   ]
  },
  {
   "cell_type": "code",
   "execution_count": 32,
   "metadata": {
    "colab": {
     "base_uri": "https://localhost:8080/",
     "height": 383
    },
    "executionInfo": {
     "elapsed": 2337,
     "status": "ok",
     "timestamp": 1660750340765,
     "user": {
      "displayName": "Michelle Voong",
      "userId": "06511363073265027000"
     },
     "user_tz": 240
    },
    "id": "6VV_sVWT3XGn",
    "outputId": "67a01f0b-3990-4999-ee00-5540a082aeca"
   },
   "outputs": [
    {
     "data": {
      "text/plain": [
       "<seaborn.axisgrid.FacetGrid at 0x2a040e910>"
      ]
     },
     "execution_count": 32,
     "metadata": {},
     "output_type": "execute_result"
    },
    {
     "data": {
      "image/png": "[encoded data removed]",
      "text/plain": [
       "<Figure size 500x500 with 1 Axes>"
      ]
     },
     "metadata": {},
     "output_type": "display_data"
    }
   ],
   "source": [
    "# log-scale transformation since the data is heavliy skewed \n",
    "# add bin_width parameter to change bin sizes\n",
    "sns.displot(df_closed, x=\"duration_in_days\", log_scale=True)"
   ]
  },
  {
   "cell_type": "markdown",
   "metadata": {
    "id": "binkoCYV3XGn"
   },
   "source": [
    "### Which neighborhoods had the most requests from January 2022 - March 2022? \n",
    "\n",
    "To answer this question, we will take a look at the ```neighborhood``` column. "
   ]
  },
  {
   "cell_type": "code",
   "execution_count": 33,
   "metadata": {
    "colab": {
     "base_uri": "https://localhost:8080/"
    },
    "executionInfo": {
     "elapsed": 170,
     "status": "ok",
     "timestamp": 1660750403927,
     "user": {
      "displayName": "Michelle Voong",
      "userId": "06511363073265027000"
     },
     "user_tz": 240
    },
    "id": "QUO3mqWS3XGn",
    "outputId": "96f8ee2b-dc02-4274-9a34-eba7d7f35507"
   },
   "outputs": [
    {
     "data": {
      "text/plain": [
       "25"
      ]
     },
     "execution_count": 33,
     "metadata": {},
     "output_type": "execute_result"
    }
   ],
   "source": [
    "# has 25 unique values so a pie chart probably is not the best option\n",
    "len(df_closed['neighborhood'].unique()) "
   ]
  },
  {
   "cell_type": "code",
   "execution_count": 34,
   "metadata": {
    "colab": {
     "base_uri": "https://localhost:8080/",
     "height": 319
    },
    "executionInfo": {
     "elapsed": 557,
     "status": "ok",
     "timestamp": 1660750411947,
     "user": {
      "displayName": "Michelle Voong",
      "userId": "06511363073265027000"
     },
     "user_tz": 240
    },
    "id": "mpqvvxBc3XGn",
    "outputId": "9715e1f9-fcdc-46af-db35-11f2cdffea58"
   },
   "outputs": [
    {
     "data": {
      "text/plain": [
       "Text(0.5, 1.0, 'Number of Requests by Neighborhood')"
      ]
     },
     "execution_count": 34,
     "metadata": {},
     "output_type": "execute_result"
    },
    {
     "data": {
      "image/png": "[encoded data removed]",
      "text/plain": [
       "<Figure size 640x480 with 1 Axes>"
      ]
     },
     "metadata": {},
     "output_type": "display_data"
    }
   ],
   "source": [
    "# plot neighborhood counts \n",
    "sns.countplot(x=\"neighborhood\", data=df_closed).set_title('Number of Requests by Neighborhood')"
   ]
  },
  {
   "cell_type": "markdown",
   "metadata": {
    "id": "6_5kRhbj3XGn"
   },
   "source": [
    "Yikes! The x-axis labels are pretty hard to read. Let's fix that by plotting the bars horizontally. "
   ]
  },
  {
   "cell_type": "code",
   "execution_count": 35,
   "metadata": {
    "colab": {
     "base_uri": "https://localhost:8080/",
     "height": 319
    },
    "executionInfo": {
     "elapsed": 444,
     "status": "ok",
     "timestamp": 1660750414818,
     "user": {
      "displayName": "Michelle Voong",
      "userId": "06511363073265027000"
     },
     "user_tz": 240
    },
    "id": "XSimqizn3XGn",
    "outputId": "2f340f13-5e7f-4320-b3bb-75748160bea4"
   },
   "outputs": [
    {
     "data": {
      "text/plain": [
       "Text(0.5, 1.0, 'Number of Requests by Neighborhood')"
      ]
     },
     "execution_count": 35,
     "metadata": {},
     "output_type": "execute_result"
    },
    {
     "data": {
      "image/png": "[encoded data removed]",
      "text/plain": [
       "<Figure size 640x480 with 1 Axes>"
      ]
     },
     "metadata": {},
     "output_type": "display_data"
    }
   ],
   "source": [
    "# fixing orientation of the labels \n",
    "sns.countplot(y=\"neighborhood\", data=df_closed).set_title('Number of Requests by Neighborhood')"
   ]
  },
  {
   "cell_type": "markdown",
   "metadata": {
    "id": "y2UdSXDo3XGn"
   },
   "source": [
    "From the plot we can see that Dorchester has the most requests, followed by South Boston/South Boston Waterfront, then Roxbury. There's a bar that doesn't have a name...that's strange. Let's display the exact counts for each neighborhood. "
   ]
  },
  {
   "cell_type": "code",
   "execution_count": 36,
   "metadata": {
    "colab": {
     "base_uri": "https://localhost:8080/"
    },
    "executionInfo": {
     "elapsed": 180,
     "status": "ok",
     "timestamp": 1660750418544,
     "user": {
      "displayName": "Michelle Voong",
      "userId": "06511363073265027000"
     },
     "user_tz": 240
    },
    "id": "NT82lbGY3XGn",
    "outputId": "ae3b0945-c10a-4134-ab17-b60caceaebc7"
   },
   "outputs": [
    {
     "data": {
      "text/plain": [
       "neighborhood\n",
       "Dorchester                                      9366\n",
       "South Boston / South Boston Waterfront          5692\n",
       "Roxbury                                         5215\n",
       "East Boston                                     4521\n",
       "Allston / Brighton                              4056\n",
       "Jamaica Plain                                   3820\n",
       "South End                                       3733\n",
       "Downtown / Financial District                   3525\n",
       "Back Bay                                        2823\n",
       "Greater Mattapan                                2460\n",
       "Hyde Park                                       2357\n",
       "Charlestown                                     2186\n",
       "Roslindale                                      2134\n",
       "Boston                                          1900\n",
       "West Roxbury                                    1786\n",
       "Beacon Hill                                     1670\n",
       "Fenway / Kenmore / Audubon Circle / Longwood    1064\n",
       "Mission Hill                                    1032\n",
       "South Boston                                     630\n",
       "                                                 491\n",
       "Brighton                                         310\n",
       "Allston                                          151\n",
       "Mattapan                                          81\n",
       "Chestnut Hill                                      4\n",
       "Name: count, dtype: int64"
      ]
     },
     "execution_count": 36,
     "metadata": {},
     "output_type": "execute_result"
    }
   ],
   "source": [
    "# displaying number of requests by neighborhood in table form \n",
    "df_closed['neighborhood'].value_counts()"
   ]
  },
  {
   "cell_type": "markdown",
   "metadata": {
    "id": "2CXjK5bh3XGo"
   },
   "source": [
    "There are 476 requests without a neighborhood label. "
   ]
  },
  {
   "cell_type": "code",
   "execution_count": 37,
   "metadata": {
    "colab": {
     "base_uri": "https://localhost:8080/",
     "height": 1000
    },
    "executionInfo": {
     "elapsed": 188,
     "status": "ok",
     "timestamp": 1660750423767,
     "user": {
      "displayName": "Michelle Voong",
      "userId": "06511363073265027000"
     },
     "user_tz": 240
    },
    "id": "e8_Vk8og3XGo",
    "outputId": "7a7308f8-a331-4145-9319-2d6d7b9f2975"
   },
   "outputs": [
    {
     "data": {
      "text/html": [
       "<div>\n",
       "<style scoped>\n",
       "    .dataframe tbody tr th:only-of-type {\n",
       "        vertical-align: middle;\n",
       "    }\n",
       "\n",
       "    .dataframe tbody tr th {\n",
       "        vertical-align: top;\n",
       "    }\n",
       "\n",
       "    .dataframe thead th {\n",
       "        text-align: right;\n",
       "    }\n",
       "</style>\n",
       "<table border=\"1\" class=\"dataframe\">\n",
       "  <thead>\n",
       "    <tr style=\"text-align: right;\">\n",
       "      <th></th>\n",
       "      <th>_id</th>\n",
       "      <th>case_enquiry_id</th>\n",
       "      <th>open_dt</th>\n",
       "      <th>sla_target_dt</th>\n",
       "      <th>closed_dt</th>\n",
       "      <th>on_time</th>\n",
       "      <th>case_status</th>\n",
       "      <th>closure_reason</th>\n",
       "      <th>case_title</th>\n",
       "      <th>subject</th>\n",
       "      <th>...</th>\n",
       "      <th>ward</th>\n",
       "      <th>precinct</th>\n",
       "      <th>location_street_name</th>\n",
       "      <th>location_zipcode</th>\n",
       "      <th>latitude</th>\n",
       "      <th>longitude</th>\n",
       "      <th>geom_4326</th>\n",
       "      <th>source</th>\n",
       "      <th>case_duration</th>\n",
       "      <th>duration_in_days</th>\n",
       "    </tr>\n",
       "  </thead>\n",
       "  <tbody>\n",
       "    <tr>\n",
       "      <th>576</th>\n",
       "      <td>577</td>\n",
       "      <td>101004114256</td>\n",
       "      <td>2022-01-02 15:28:00</td>\n",
       "      <td>2022-01-12 03:30:00</td>\n",
       "      <td>2022-01-10 14:41:42</td>\n",
       "      <td>ONTIME</td>\n",
       "      <td>Closed</td>\n",
       "      <td>Case Closed. Closed date : 2022-01-10 19:41:42...</td>\n",
       "      <td>printed</td>\n",
       "      <td>Parks &amp; Recreation Department</td>\n",
       "      <td>...</td>\n",
       "      <td></td>\n",
       "      <td></td>\n",
       "      <td>NaN</td>\n",
       "      <td>NaN</td>\n",
       "      <td>42.294516</td>\n",
       "      <td>-71.153609</td>\n",
       "      <td>0101000020E6100000D55BB5BCD4C951C0B84E44B3B225...</td>\n",
       "      <td>Self Service</td>\n",
       "      <td>7 days 23:13:42</td>\n",
       "      <td>7.967847</td>\n",
       "    </tr>\n",
       "    <tr>\n",
       "      <th>772</th>\n",
       "      <td>773</td>\n",
       "      <td>101004114573</td>\n",
       "      <td>2022-01-03 04:43:00</td>\n",
       "      <td>2022-01-05 04:43:00</td>\n",
       "      <td>2022-01-04 05:10:41</td>\n",
       "      <td>ONTIME</td>\n",
       "      <td>Closed</td>\n",
       "      <td>Case Closed. Closed date : Tue Jan 04 10:10:41...</td>\n",
       "      <td>Unsanitary Conditions - Employees</td>\n",
       "      <td>Inspectional Services</td>\n",
       "      <td>...</td>\n",
       "      <td></td>\n",
       "      <td></td>\n",
       "      <td>NaN</td>\n",
       "      <td>NaN</td>\n",
       "      <td>NaN</td>\n",
       "      <td>NaN</td>\n",
       "      <td>NaN</td>\n",
       "      <td>Constituent Call</td>\n",
       "      <td>1 days 00:27:41</td>\n",
       "      <td>1.019225</td>\n",
       "    </tr>\n",
       "    <tr>\n",
       "      <th>935</th>\n",
       "      <td>936</td>\n",
       "      <td>101004114865</td>\n",
       "      <td>2022-01-03 08:18:00</td>\n",
       "      <td>NaT</td>\n",
       "      <td>2022-01-04 09:00:43</td>\n",
       "      <td>ONTIME</td>\n",
       "      <td>Closed</td>\n",
       "      <td>Case Closed. Closed date : Tue Jan 04 14:00:43...</td>\n",
       "      <td>Park Improvement: Ronan Park - BPRD</td>\n",
       "      <td>Parks &amp; Recreation Department</td>\n",
       "      <td>...</td>\n",
       "      <td></td>\n",
       "      <td></td>\n",
       "      <td>NaN</td>\n",
       "      <td>NaN</td>\n",
       "      <td>42.304110</td>\n",
       "      <td>-71.062630</td>\n",
       "      <td>0101000020E6100000917CAF2202C451C07121F916ED26...</td>\n",
       "      <td>Employee Generated</td>\n",
       "      <td>1 days 00:42:43</td>\n",
       "      <td>1.029664</td>\n",
       "    </tr>\n",
       "    <tr>\n",
       "      <th>1453</th>\n",
       "      <td>1454</td>\n",
       "      <td>101004115729</td>\n",
       "      <td>2022-01-04 06:11:00</td>\n",
       "      <td>2022-02-03 06:11:34</td>\n",
       "      <td>2022-01-05 04:43:58</td>\n",
       "      <td>ONTIME</td>\n",
       "      <td>Closed</td>\n",
       "      <td>Case Closed. Closed date : Wed Jan 05 09:43:58...</td>\n",
       "      <td>DISPATCHED Heat - Excessive  Insufficient</td>\n",
       "      <td>Inspectional Services</td>\n",
       "      <td>...</td>\n",
       "      <td></td>\n",
       "      <td></td>\n",
       "      <td>NaN</td>\n",
       "      <td>NaN</td>\n",
       "      <td>NaN</td>\n",
       "      <td>NaN</td>\n",
       "      <td>NaN</td>\n",
       "      <td>Constituent Call</td>\n",
       "      <td>0 days 22:32:58</td>\n",
       "      <td>0.939560</td>\n",
       "    </tr>\n",
       "    <tr>\n",
       "      <th>1516</th>\n",
       "      <td>1517</td>\n",
       "      <td>101004115813</td>\n",
       "      <td>2022-01-04 07:06:54</td>\n",
       "      <td>2022-01-06 07:07:26</td>\n",
       "      <td>2022-01-04 09:57:18</td>\n",
       "      <td>ONTIME</td>\n",
       "      <td>Closed</td>\n",
       "      <td>Case Closed. Closed date : Tue Jan 04 14:57:18...</td>\n",
       "      <td>Improper Storage of Trash (Barrels)</td>\n",
       "      <td>Public Works Department</td>\n",
       "      <td>...</td>\n",
       "      <td></td>\n",
       "      <td></td>\n",
       "      <td>NaN</td>\n",
       "      <td>NaN</td>\n",
       "      <td>NaN</td>\n",
       "      <td>NaN</td>\n",
       "      <td>NaN</td>\n",
       "      <td>Constituent Call</td>\n",
       "      <td>0 days 02:50:24</td>\n",
       "      <td>0.118333</td>\n",
       "    </tr>\n",
       "    <tr>\n",
       "      <th>1897</th>\n",
       "      <td>1898</td>\n",
       "      <td>101004116451</td>\n",
       "      <td>2022-01-04 21:15:02</td>\n",
       "      <td>2022-01-12 03:30:00</td>\n",
       "      <td>2022-01-05 02:40:59</td>\n",
       "      <td>ONTIME</td>\n",
       "      <td>Closed</td>\n",
       "      <td>Case Closed. Closed date : 2022-01-05 07:40:59...</td>\n",
       "      <td>Cemetery Maintenance Request</td>\n",
       "      <td>Parks &amp; Recreation Department</td>\n",
       "      <td>...</td>\n",
       "      <td></td>\n",
       "      <td></td>\n",
       "      <td>NaN</td>\n",
       "      <td>NaN</td>\n",
       "      <td>NaN</td>\n",
       "      <td>NaN</td>\n",
       "      <td>NaN</td>\n",
       "      <td>Constituent Call</td>\n",
       "      <td>0 days 05:25:57</td>\n",
       "      <td>0.226354</td>\n",
       "    </tr>\n",
       "    <tr>\n",
       "      <th>2003</th>\n",
       "      <td>2004</td>\n",
       "      <td>101004116598</td>\n",
       "      <td>2022-01-05 03:23:27</td>\n",
       "      <td>2022-01-19 03:30:00</td>\n",
       "      <td>2022-01-05 03:50:32</td>\n",
       "      <td>ONTIME</td>\n",
       "      <td>Closed</td>\n",
       "      <td>Case Closed. Closed date : 2022-01-05 08:50:32...</td>\n",
       "      <td>PARKS: Complaint</td>\n",
       "      <td>Mayor's 24 Hour Hotline</td>\n",
       "      <td>...</td>\n",
       "      <td></td>\n",
       "      <td></td>\n",
       "      <td>NaN</td>\n",
       "      <td>NaN</td>\n",
       "      <td>NaN</td>\n",
       "      <td>NaN</td>\n",
       "      <td>NaN</td>\n",
       "      <td>Constituent Call</td>\n",
       "      <td>0 days 00:27:05</td>\n",
       "      <td>0.018808</td>\n",
       "    </tr>\n",
       "    <tr>\n",
       "      <th>2099</th>\n",
       "      <td>2100</td>\n",
       "      <td>101004116744</td>\n",
       "      <td>2022-01-05 04:57:00</td>\n",
       "      <td>2022-01-12 04:58:04</td>\n",
       "      <td>2023-07-28 00:35:56</td>\n",
       "      <td>OVERDUE</td>\n",
       "      <td>Closed</td>\n",
       "      <td>Case Closed. Closed date : Fri Jul 28 04:35:56...</td>\n",
       "      <td>Equipment Repair: Medal of Honor Park - BPRD</td>\n",
       "      <td>Parks &amp; Recreation Department</td>\n",
       "      <td>...</td>\n",
       "      <td></td>\n",
       "      <td></td>\n",
       "      <td>NaN</td>\n",
       "      <td>NaN</td>\n",
       "      <td>42.336613</td>\n",
       "      <td>-71.032337</td>\n",
       "      <td>0101000020E6100000F741EECD11C251C008FE8C23162B...</td>\n",
       "      <td>Constituent Call</td>\n",
       "      <td>568 days 19:38:56</td>\n",
       "      <td>568.818704</td>\n",
       "    </tr>\n",
       "    <tr>\n",
       "      <th>2119</th>\n",
       "      <td>2120</td>\n",
       "      <td>101004116775</td>\n",
       "      <td>2022-01-05 05:14:00</td>\n",
       "      <td>2022-01-12 05:15:36</td>\n",
       "      <td>2022-01-05 05:16:31</td>\n",
       "      <td>ONTIME</td>\n",
       "      <td>Closed</td>\n",
       "      <td>Case Closed Case Noted</td>\n",
       "      <td>Ground Maintenance: Sweeney Playground - BPRD</td>\n",
       "      <td>Parks &amp; Recreation Department</td>\n",
       "      <td>...</td>\n",
       "      <td></td>\n",
       "      <td></td>\n",
       "      <td>NaN</td>\n",
       "      <td>NaN</td>\n",
       "      <td>42.337241</td>\n",
       "      <td>-71.051581</td>\n",
       "      <td>0101000020E6100000C59D9C184DC351C0980C06B32A2B...</td>\n",
       "      <td>Employee Generated</td>\n",
       "      <td>0 days 00:02:31</td>\n",
       "      <td>0.001748</td>\n",
       "    </tr>\n",
       "    <tr>\n",
       "      <th>2340</th>\n",
       "      <td>2341</td>\n",
       "      <td>101004117130</td>\n",
       "      <td>2022-01-05 09:25:00</td>\n",
       "      <td>2022-01-14 09:25:51</td>\n",
       "      <td>2022-02-10 05:59:15</td>\n",
       "      <td>OVERDUE</td>\n",
       "      <td>Closed</td>\n",
       "      <td>Case Closed. Closed date : Thu Feb 10 10:59:15...</td>\n",
       "      <td>printed</td>\n",
       "      <td>Parks &amp; Recreation Department</td>\n",
       "      <td>...</td>\n",
       "      <td></td>\n",
       "      <td></td>\n",
       "      <td>NaN</td>\n",
       "      <td>NaN</td>\n",
       "      <td>42.321412</td>\n",
       "      <td>-71.088664</td>\n",
       "      <td>0101000020E610000016AACDACACC551C07911DB082429...</td>\n",
       "      <td>Constituent Call</td>\n",
       "      <td>35 days 20:34:15</td>\n",
       "      <td>35.857118</td>\n",
       "    </tr>\n",
       "    <tr>\n",
       "      <th>2417</th>\n",
       "      <td>2418</td>\n",
       "      <td>101004117271</td>\n",
       "      <td>2022-01-05 11:14:00</td>\n",
       "      <td>2022-01-12 11:14:52</td>\n",
       "      <td>2022-01-13 05:14:49</td>\n",
       "      <td>OVERDUE</td>\n",
       "      <td>Closed</td>\n",
       "      <td>Case Closed. Closed date : Thu Jan 13 10:14:49...</td>\n",
       "      <td>Ground Maintenance: Chandler Pond - BPRD</td>\n",
       "      <td>Parks &amp; Recreation Department</td>\n",
       "      <td>...</td>\n",
       "      <td></td>\n",
       "      <td></td>\n",
       "      <td>NaN</td>\n",
       "      <td>NaN</td>\n",
       "      <td>42.345168</td>\n",
       "      <td>-71.166006</td>\n",
       "      <td>0101000020E6100000623E1CD69FCA51C0021F83772E2C...</td>\n",
       "      <td>Self Service</td>\n",
       "      <td>7 days 18:00:49</td>\n",
       "      <td>7.750567</td>\n",
       "    </tr>\n",
       "    <tr>\n",
       "      <th>2750</th>\n",
       "      <td>2751</td>\n",
       "      <td>101004117779</td>\n",
       "      <td>2022-01-06 04:37:26</td>\n",
       "      <td>2022-01-13 04:37:26</td>\n",
       "      <td>2022-05-24 09:32:57</td>\n",
       "      <td>OVERDUE</td>\n",
       "      <td>Closed</td>\n",
       "      <td>Case Closed. Closed date : 2022-05-24 13:32:57...</td>\n",
       "      <td>Cemetery Maintenance Request</td>\n",
       "      <td>Parks &amp; Recreation Department</td>\n",
       "      <td>...</td>\n",
       "      <td></td>\n",
       "      <td></td>\n",
       "      <td>NaN</td>\n",
       "      <td>NaN</td>\n",
       "      <td>NaN</td>\n",
       "      <td>NaN</td>\n",
       "      <td>NaN</td>\n",
       "      <td>Constituent Call</td>\n",
       "      <td>138 days 04:55:31</td>\n",
       "      <td>138.205220</td>\n",
       "    </tr>\n",
       "    <tr>\n",
       "      <th>2980</th>\n",
       "      <td>2981</td>\n",
       "      <td>101004118156</td>\n",
       "      <td>2022-01-06 09:22:08</td>\n",
       "      <td>2022-01-20 09:22:08</td>\n",
       "      <td>2022-01-06 22:14:51</td>\n",
       "      <td>ONTIME</td>\n",
       "      <td>Closed</td>\n",
       "      <td>Case Closed Case Noted  Will speak with contra...</td>\n",
       "      <td>PublicWorks: Complaint</td>\n",
       "      <td>Mayor's 24 Hour Hotline</td>\n",
       "      <td>...</td>\n",
       "      <td></td>\n",
       "      <td></td>\n",
       "      <td>NaN</td>\n",
       "      <td>NaN</td>\n",
       "      <td>NaN</td>\n",
       "      <td>NaN</td>\n",
       "      <td>NaN</td>\n",
       "      <td>Constituent Call</td>\n",
       "      <td>0 days 12:52:43</td>\n",
       "      <td>0.536609</td>\n",
       "    </tr>\n",
       "    <tr>\n",
       "      <th>3026</th>\n",
       "      <td>3027</td>\n",
       "      <td>101004118241</td>\n",
       "      <td>2022-01-06 10:09:49</td>\n",
       "      <td>2022-01-11 10:09:49</td>\n",
       "      <td>2022-01-06 10:12:00</td>\n",
       "      <td>ONTIME</td>\n",
       "      <td>Closed</td>\n",
       "      <td>Case Closed. Closed date : Thu Jan 06 15:12:00...</td>\n",
       "      <td>Poor Conditions of Property</td>\n",
       "      <td>Public Works Department</td>\n",
       "      <td>...</td>\n",
       "      <td></td>\n",
       "      <td></td>\n",
       "      <td>NaN</td>\n",
       "      <td>NaN</td>\n",
       "      <td>42.350467</td>\n",
       "      <td>-71.005813</td>\n",
       "      <td>0101000020E610000022AB873F5FC051C0AD34CB19DC2C...</td>\n",
       "      <td>Citizens Connect App</td>\n",
       "      <td>0 days 00:02:11</td>\n",
       "      <td>0.001516</td>\n",
       "    </tr>\n",
       "    <tr>\n",
       "      <th>3252</th>\n",
       "      <td>3253</td>\n",
       "      <td>101004118613</td>\n",
       "      <td>2022-01-07 00:46:12</td>\n",
       "      <td>2022-01-21 03:30:00</td>\n",
       "      <td>2022-01-07 04:27:58</td>\n",
       "      <td>ONTIME</td>\n",
       "      <td>Closed</td>\n",
       "      <td>Case Closed Case Noted</td>\n",
       "      <td>PublicWorks: Compliment</td>\n",
       "      <td>Mayor's 24 Hour Hotline</td>\n",
       "      <td>...</td>\n",
       "      <td></td>\n",
       "      <td></td>\n",
       "      <td>NaN</td>\n",
       "      <td>NaN</td>\n",
       "      <td>NaN</td>\n",
       "      <td>NaN</td>\n",
       "      <td>NaN</td>\n",
       "      <td>Constituent Call</td>\n",
       "      <td>0 days 03:41:46</td>\n",
       "      <td>0.154005</td>\n",
       "    </tr>\n",
       "  </tbody>\n",
       "</table>\n",
       "<p>15 rows × 32 columns</p>\n",
       "</div>"
      ],
      "text/plain": [
       "       _id  case_enquiry_id             open_dt       sla_target_dt  \\\n",
       "576    577     101004114256 2022-01-02 15:28:00 2022-01-12 03:30:00   \n",
       "772    773     101004114573 2022-01-03 04:43:00 2022-01-05 04:43:00   \n",
       "935    936     101004114865 2022-01-03 08:18:00                 NaT   \n",
       "1453  1454     101004115729 2022-01-04 06:11:00 2022-02-03 06:11:34   \n",
       "1516  1517     101004115813 2022-01-04 07:06:54 2022-01-06 07:07:26   \n",
       "1897  1898     101004116451 2022-01-04 21:15:02 2022-01-12 03:30:00   \n",
       "2003  2004     101004116598 2022-01-05 03:23:27 2022-01-19 03:30:00   \n",
       "2099  2100     101004116744 2022-01-05 04:57:00 2022-01-12 04:58:04   \n",
       "2119  2120     101004116775 2022-01-05 05:14:00 2022-01-12 05:15:36   \n",
       "2340  2341     101004117130 2022-01-05 09:25:00 2022-01-14 09:25:51   \n",
       "2417  2418     101004117271 2022-01-05 11:14:00 2022-01-12 11:14:52   \n",
       "2750  2751     101004117779 2022-01-06 04:37:26 2022-01-13 04:37:26   \n",
       "2980  2981     101004118156 2022-01-06 09:22:08 2022-01-20 09:22:08   \n",
       "3026  3027     101004118241 2022-01-06 10:09:49 2022-01-11 10:09:49   \n",
       "3252  3253     101004118613 2022-01-07 00:46:12 2022-01-21 03:30:00   \n",
       "\n",
       "               closed_dt  on_time case_status  \\\n",
       "576  2022-01-10 14:41:42   ONTIME      Closed   \n",
       "772  2022-01-04 05:10:41   ONTIME      Closed   \n",
       "935  2022-01-04 09:00:43   ONTIME      Closed   \n",
       "1453 2022-01-05 04:43:58   ONTIME      Closed   \n",
       "1516 2022-01-04 09:57:18   ONTIME      Closed   \n",
       "1897 2022-01-05 02:40:59   ONTIME      Closed   \n",
       "2003 2022-01-05 03:50:32   ONTIME      Closed   \n",
       "2099 2023-07-28 00:35:56  OVERDUE      Closed   \n",
       "2119 2022-01-05 05:16:31   ONTIME      Closed   \n",
       "2340 2022-02-10 05:59:15  OVERDUE      Closed   \n",
       "2417 2022-01-13 05:14:49  OVERDUE      Closed   \n",
       "2750 2022-05-24 09:32:57  OVERDUE      Closed   \n",
       "2980 2022-01-06 22:14:51   ONTIME      Closed   \n",
       "3026 2022-01-06 10:12:00   ONTIME      Closed   \n",
       "3252 2022-01-07 04:27:58   ONTIME      Closed   \n",
       "\n",
       "                                         closure_reason  \\\n",
       "576   Case Closed. Closed date : 2022-01-10 19:41:42...   \n",
       "772   Case Closed. Closed date : Tue Jan 04 10:10:41...   \n",
       "935   Case Closed. Closed date : Tue Jan 04 14:00:43...   \n",
       "1453  Case Closed. Closed date : Wed Jan 05 09:43:58...   \n",
       "1516  Case Closed. Closed date : Tue Jan 04 14:57:18...   \n",
       "1897  Case Closed. Closed date : 2022-01-05 07:40:59...   \n",
       "2003  Case Closed. Closed date : 2022-01-05 08:50:32...   \n",
       "2099  Case Closed. Closed date : Fri Jul 28 04:35:56...   \n",
       "2119                         Case Closed Case Noted       \n",
       "2340  Case Closed. Closed date : Thu Feb 10 10:59:15...   \n",
       "2417  Case Closed. Closed date : Thu Jan 13 10:14:49...   \n",
       "2750  Case Closed. Closed date : 2022-05-24 13:32:57...   \n",
       "2980  Case Closed Case Noted  Will speak with contra...   \n",
       "3026  Case Closed. Closed date : Thu Jan 06 15:12:00...   \n",
       "3252                         Case Closed Case Noted       \n",
       "\n",
       "                                         case_title  \\\n",
       "576                                         printed   \n",
       "772               Unsanitary Conditions - Employees   \n",
       "935             Park Improvement: Ronan Park - BPRD   \n",
       "1453      DISPATCHED Heat - Excessive  Insufficient   \n",
       "1516            Improper Storage of Trash (Barrels)   \n",
       "1897                   Cemetery Maintenance Request   \n",
       "2003                               PARKS: Complaint   \n",
       "2099   Equipment Repair: Medal of Honor Park - BPRD   \n",
       "2119  Ground Maintenance: Sweeney Playground - BPRD   \n",
       "2340                                        printed   \n",
       "2417       Ground Maintenance: Chandler Pond - BPRD   \n",
       "2750                   Cemetery Maintenance Request   \n",
       "2980                         PublicWorks: Complaint   \n",
       "3026                    Poor Conditions of Property   \n",
       "3252                        PublicWorks: Compliment   \n",
       "\n",
       "                            subject  ... ward precinct location_street_name  \\\n",
       "576   Parks & Recreation Department  ...                                NaN   \n",
       "772           Inspectional Services  ...                                NaN   \n",
       "935   Parks & Recreation Department  ...                                NaN   \n",
       "1453          Inspectional Services  ...                                NaN   \n",
       "1516        Public Works Department  ...                                NaN   \n",
       "1897  Parks & Recreation Department  ...                                NaN   \n",
       "2003        Mayor's 24 Hour Hotline  ...                                NaN   \n",
       "2099  Parks & Recreation Department  ...                                NaN   \n",
       "2119  Parks & Recreation Department  ...                                NaN   \n",
       "2340  Parks & Recreation Department  ...                                NaN   \n",
       "2417  Parks & Recreation Department  ...                                NaN   \n",
       "2750  Parks & Recreation Department  ...                                NaN   \n",
       "2980        Mayor's 24 Hour Hotline  ...                                NaN   \n",
       "3026        Public Works Department  ...                                NaN   \n",
       "3252        Mayor's 24 Hour Hotline  ...                                NaN   \n",
       "\n",
       "     location_zipcode   latitude  longitude  \\\n",
       "576               NaN  42.294516 -71.153609   \n",
       "772               NaN        NaN        NaN   \n",
       "935               NaN  42.304110 -71.062630   \n",
       "1453              NaN        NaN        NaN   \n",
       "1516              NaN        NaN        NaN   \n",
       "1897              NaN        NaN        NaN   \n",
       "2003              NaN        NaN        NaN   \n",
       "2099              NaN  42.336613 -71.032337   \n",
       "2119              NaN  42.337241 -71.051581   \n",
       "2340              NaN  42.321412 -71.088664   \n",
       "2417              NaN  42.345168 -71.166006   \n",
       "2750              NaN        NaN        NaN   \n",
       "2980              NaN        NaN        NaN   \n",
       "3026              NaN  42.350467 -71.005813   \n",
       "3252              NaN        NaN        NaN   \n",
       "\n",
       "                                              geom_4326                source  \\\n",
       "576   0101000020E6100000D55BB5BCD4C951C0B84E44B3B225...          Self Service   \n",
       "772                                                 NaN      Constituent Call   \n",
       "935   0101000020E6100000917CAF2202C451C07121F916ED26...    Employee Generated   \n",
       "1453                                                NaN      Constituent Call   \n",
       "1516                                                NaN      Constituent Call   \n",
       "1897                                                NaN      Constituent Call   \n",
       "2003                                                NaN      Constituent Call   \n",
       "2099  0101000020E6100000F741EECD11C251C008FE8C23162B...      Constituent Call   \n",
       "2119  0101000020E6100000C59D9C184DC351C0980C06B32A2B...    Employee Generated   \n",
       "2340  0101000020E610000016AACDACACC551C07911DB082429...      Constituent Call   \n",
       "2417  0101000020E6100000623E1CD69FCA51C0021F83772E2C...          Self Service   \n",
       "2750                                                NaN      Constituent Call   \n",
       "2980                                                NaN      Constituent Call   \n",
       "3026  0101000020E610000022AB873F5FC051C0AD34CB19DC2C...  Citizens Connect App   \n",
       "3252                                                NaN      Constituent Call   \n",
       "\n",
       "         case_duration duration_in_days  \n",
       "576    7 days 23:13:42         7.967847  \n",
       "772    1 days 00:27:41         1.019225  \n",
       "935    1 days 00:42:43         1.029664  \n",
       "1453   0 days 22:32:58         0.939560  \n",
       "1516   0 days 02:50:24         0.118333  \n",
       "1897   0 days 05:25:57         0.226354  \n",
       "2003   0 days 00:27:05         0.018808  \n",
       "2099 568 days 19:38:56       568.818704  \n",
       "2119   0 days 00:02:31         0.001748  \n",
       "2340  35 days 20:34:15        35.857118  \n",
       "2417   7 days 18:00:49         7.750567  \n",
       "2750 138 days 04:55:31       138.205220  \n",
       "2980   0 days 12:52:43         0.536609  \n",
       "3026   0 days 00:02:11         0.001516  \n",
       "3252   0 days 03:41:46         0.154005  \n",
       "\n",
       "[15 rows x 32 columns]"
      ]
     },
     "execution_count": 37,
     "metadata": {},
     "output_type": "execute_result"
    }
   ],
   "source": [
    "# uncomment and run the line below to check for the empty neighborhood label \n",
    "# print(df_closed['neighborhood'].unique())\n",
    "\n",
    "# gather the rows where neighborhood == ' ' \n",
    "df_no_neighborhood = df_closed.loc[(df_closed['neighborhood'] == ' ')]\n",
    "df_no_neighborhood.head(15) # display first 15 rows"
   ]
  },
  {
   "cell_type": "code",
   "execution_count": 38,
   "metadata": {
    "colab": {
     "base_uri": "https://localhost:8080/"
    },
    "executionInfo": {
     "elapsed": 181,
     "status": "ok",
     "timestamp": 1660750427158,
     "user": {
      "displayName": "Michelle Voong",
      "userId": "06511363073265027000"
     },
     "user_tz": 240
    },
    "id": "Bd4Yz5PI3XGo",
    "outputId": "f3a6c416-1997-49b6-e0b3-ac21d73def68"
   },
   "outputs": [
    {
     "name": "stdout",
     "output_type": "stream",
     "text": [
      "[42.294516           nan 42.3041104  42.33661312 42.33724058 42.32141219\n",
      " 42.34516806 42.35046694 42.34493332 42.2758377  42.31167752 42.29508845\n",
      " 42.36110634 42.28794909 42.39329593 42.38955433 42.32235584 42.36568931\n",
      " 42.33629881 42.37230192 42.24551863 42.34966436 42.33616981 42.26163626\n",
      " 42.34030789 42.27999356 42.28820179 42.37675526 42.38963138 42.35794553\n",
      " 42.28228589 42.32844047 42.25611906 42.26232777 42.36804986 42.24328715\n",
      " 42.24338644 42.24526421 42.24321985 42.32430554 42.36353593 42.36323421\n",
      " 42.37247538 42.3396485  42.39812282 42.37534713 42.3967721  42.25774264\n",
      " 42.36825668 42.32624019 42.31104669 42.31747464 42.38535606 42.3248107\n",
      " 42.3227959  42.32723596 42.31471571 42.35798814 42.37657328 42.37651798\n",
      " 42.32626408 42.31715702 42.35832673 42.33070473 42.37440052 42.35681992\n",
      " 42.37420066 42.35713859 42.38036225 42.36355674 42.38231012 42.27511509\n",
      " 42.38533656 42.31407664 42.38811764 42.38786849 42.3734846  42.24095785\n",
      " 42.37172506 42.34005562 42.33932379 42.35919869 42.39203779 42.36649714\n",
      " 42.30094738 42.2438013  42.27417141 42.35530487 42.36093842 42.36302687\n",
      " 42.32547102 42.33844517 42.28575089 42.39308289 42.32708718 42.3913691\n",
      " 42.35278444 42.33176381 42.39353629 42.36032151 42.37268929 42.30468117\n",
      " 42.28136612 42.29135262 42.37408724 42.38929333 42.38230439 42.30753822\n",
      " 42.38098025 42.31005565 42.32246406 42.32945397 42.31808397 42.3158899\n",
      " 42.36681486 42.23336195 42.39367637 42.36906106 42.39355911 42.23958243\n",
      " 42.3958711  42.31861366 42.35474733 42.38099619 42.29065164 42.37087422\n",
      " 42.31089023 42.28167351]\n",
      "[-71.15360944          nan -71.06263034 -71.0323367  -71.05158057\n",
      " -71.08866425 -71.16600564 -71.00581349 -71.12609679 -71.06404402\n",
      " -71.11556723 -71.09513436 -71.04033273 -71.04557492 -71.03624799\n",
      " -71.13267845 -71.10449931 -71.03356407 -71.12795415 -71.11145152\n",
      " -70.99981203 -71.13812967 -71.12071593 -71.01420456 -71.15201714\n",
      " -71.12607706 -71.1236714  -71.16277397 -71.03852551 -71.18077075\n",
      " -71.10719048 -71.10305874 -71.01087797 -71.08561882 -71.0899192\n",
      " -71.02987723 -71.02976633 -71.03183704 -71.02994062 -71.07870768\n",
      " -71.08338266 -71.08386462 -71.06257078 -71.07356125 -70.98872318\n",
      " -71.1450646  -71.1219426  -71.04102763 -71.10795554 -71.06892244\n",
      " -71.06878943 -71.0759894  -71.09463347 -71.08955531 -71.09624121\n",
      " -71.09065149 -71.07973795 -71.18067872 -71.10446471 -71.10433221\n",
      " -71.17568468 -71.16313493 -71.18046781 -71.09221836 -71.12174324\n",
      " -71.09242857 -71.08682568 -71.18647294 -71.03297389 -71.05349232\n",
      " -70.98413388 -71.02939967 -71.07788318 -71.1202479  -71.11892485\n",
      " -71.11912832 -71.11992045 -71.17811466 -71.02957821 -71.13283486\n",
      " -71.04911635 -71.06608716 -71.11963531 -71.05698301 -71.05241382\n",
      " -71.01911661 -71.04743731 -71.06355015 -71.10192571 -71.09956054\n",
      " -71.05014144 -71.07904767 -71.07329308 -71.03477882 -71.07915025\n",
      " -71.12325872 -71.07660136 -71.12116415 -71.08686963 -71.05796746\n",
      " -71.11694425 -70.9902016  -71.15609499 -71.05618515 -71.11886513\n",
      " -71.14492527 -71.11194061 -71.10776096 -71.05945216 -71.07396172\n",
      " -71.07494559 -71.07655455 -71.06617819 -71.07571548 -71.05329149\n",
      " -71.16586489 -71.13125641 -71.04380483 -71.13130533 -71.13485411\n",
      " -71.04220191 -71.09003192 -71.15292755 -71.11614003 -71.06652218\n",
      " -71.03585333 -71.04893717 -71.18955336]\n"
     ]
    }
   ],
   "source": [
    "print(df_no_neighborhood['latitude'].unique())\n",
    "print(df_no_neighborhood['longitude'].unique())"
   ]
  },
  {
   "cell_type": "markdown",
   "metadata": {
    "id": "6NGLLmUA3XGo"
   },
   "source": [
    "The latitude and longitude values are the same for all of the rows without a ```neighborhood``` value. We can use the *Geopy* module to convert the latitude and longitude coordinates to a place or location address - also referred to as reverse geocoding. "
   ]
  },
  {
   "cell_type": "code",
   "execution_count": 40,
   "metadata": {
    "colab": {
     "base_uri": "https://localhost:8080/"
    },
    "executionInfo": {
     "elapsed": 342,
     "status": "ok",
     "timestamp": 1660750428607,
     "user": {
      "displayName": "Michelle Voong",
      "userId": "06511363073265027000"
     },
     "user_tz": 240
    },
    "id": "9-6lVzmX3XGo",
    "outputId": "1b3862bb-72a2-404a-d124-46d5cc46489c"
   },
   "outputs": [
    {
     "name": "stdout",
     "output_type": "stream",
     "text": [
      "{'place_id': 18061366, 'licence': 'Data © OpenStreetMap contributors, ODbL 1.0. http://osm.org/copyright', 'osm_type': 'way', 'osm_id': 997190053, 'lat': '42.29455195', 'lon': '-71.15345176688841', 'class': 'leisure', 'type': 'pitch', 'place_rank': 30, 'importance': 9.99999999995449e-06, 'addresstype': 'leisure', 'name': '', 'display_name': 'Rickerhill Road, West Roxbury, Boston, Suffolk County, Massachusetts, 02467, United States', 'address': {'road': 'Rickerhill Road', 'suburb': 'West Roxbury', 'city': 'Boston', 'county': 'Suffolk County', 'state': 'Massachusetts', 'ISO3166-2-lvl4': 'US-MA', 'postcode': '02467', 'country': 'United States', 'country_code': 'us'}, 'boundingbox': ['42.2937511', '42.2952034', '-71.1542998', '-71.1527585']}\n"
     ]
    }
   ],
   "source": [
    "# import geopy \n",
    "from geopy.geocoders import Nominatim \n",
    "\n",
    "# make a Nominatim object and initialize, specify a user_agent \n",
    "# Nominatim requires this value to be set to your application name, to be able to limit the number of requests per application\n",
    "# Nominatim is a free service but provides low request limits: https://operations.osmfoundation.org/policies/nominatim/\n",
    "geolocator = Nominatim(user_agent=\"eda_geotest\")\n",
    "\n",
    "# set latitude and longitude and convert to string \n",
    "lat = str(df_no_neighborhood['latitude'].unique()[0])\n",
    "long = str(df_no_neighborhood['longitude'].unique()[0])\n",
    "\n",
    "# get the location information\n",
    "location = geolocator.reverse(lat + \",\" +long)\n",
    "\n",
    "# display location information, add .raw for more details\n",
    "print(location.raw)"
   ]
  },
  {
   "cell_type": "markdown",
   "metadata": {
    "id": "zaSDa5ZT3XGp"
   },
   "source": [
    "Quick Google Maps search of the location confirms that (42.3594, -71.0587) is Government Center. The output from *geopy* is Sear's Crescent and Sears' Block which are a pair of buildings adjacent to City Hall and City Hall Plaza, Government Center.\n",
    "\n",
    "Another quick look at the output from *geopy* shows that the ```lat``` and ```lon``` values are similar but different from the latitude and longitude values in the dataset. \n",
    "\n",
    "The requests without a neighborhood value have a general location of Government Center. At least we can confirm that requests without a neighborhood value are not outside of Boston or erroneous. "
   ]
  },
  {
   "cell_type": "markdown",
   "metadata": {
    "id": "CQGzIR183XGp"
   },
   "source": [
    "\n",
    "### During January 2022 - March 2022, where did the most case requests come from?\n",
    "\n",
    "To answer this question, we will take a look at the ```source``` column. "
   ]
  },
  {
   "cell_type": "code",
   "execution_count": 41,
   "metadata": {
    "colab": {
     "base_uri": "https://localhost:8080/"
    },
    "executionInfo": {
     "elapsed": 208,
     "status": "ok",
     "timestamp": 1660750433463,
     "user": {
      "displayName": "Michelle Voong",
      "userId": "06511363073265027000"
     },
     "user_tz": 240
    },
    "id": "KxlMdrp93XGp",
    "outputId": "aa8fe38a-c178-42ca-ae2f-0061474179a5"
   },
   "outputs": [
    {
     "data": {
      "text/plain": [
       "5"
      ]
     },
     "execution_count": 41,
     "metadata": {},
     "output_type": "execute_result"
    }
   ],
   "source": [
    "# has only 5 unique values so in this case we can use a pie chart \n",
    "len(df_closed['source'].unique())"
   ]
  },
  {
   "cell_type": "code",
   "execution_count": 42,
   "metadata": {
    "colab": {
     "base_uri": "https://localhost:8080/"
    },
    "executionInfo": {
     "elapsed": 183,
     "status": "ok",
     "timestamp": 1660750434887,
     "user": {
      "displayName": "Michelle Voong",
      "userId": "06511363073265027000"
     },
     "user_tz": 240
    },
    "id": "F13WugP83XGp",
    "outputId": "c4656084-14ca-4fe2-bdd5-470d3357f71e"
   },
   "outputs": [
    {
     "data": {
      "text/plain": [
       "source\n",
       "Citizens Connect App    32997\n",
       "Constituent Call        21403\n",
       "City Worker App          3953\n",
       "Self Service             1664\n",
       "Employee Generated       1053\n",
       "Name: count, dtype: int64"
      ]
     },
     "execution_count": 42,
     "metadata": {},
     "output_type": "execute_result"
    }
   ],
   "source": [
    "# displaying the number of requests by each source type \n",
    "df_closed['source'].value_counts()"
   ]
  },
  {
   "cell_type": "code",
   "execution_count": 43,
   "metadata": {
    "colab": {
     "base_uri": "https://localhost:8080/",
     "height": 248
    },
    "executionInfo": {
     "elapsed": 159,
     "status": "ok",
     "timestamp": 1660750436878,
     "user": {
      "displayName": "Michelle Voong",
      "userId": "06511363073265027000"
     },
     "user_tz": 240
    },
    "id": "Xs6qo0lP3XGp",
    "outputId": "f2fe9d7f-e665-45eb-8d34-5603a0663da7"
   },
   "outputs": [
    {
     "data": {
      "image/png": "[encoded data removed]",
      "text/plain": [
       "<Figure size 640x480 with 1 Axes>"
      ]
     },
     "metadata": {},
     "output_type": "display_data"
    }
   ],
   "source": [
    "# visualizing the breakdown of where case requests come from \n",
    "# seaborn doesn't have a default pie chart but you can add seaborn color palettes to matplotlib plots\n",
    "\n",
    "colors = sns.color_palette('pastel')[0:5]\n",
    "ax = df_closed['source'].value_counts().plot.pie(colors=colors)"
   ]
  },
  {
   "cell_type": "code",
   "execution_count": 44,
   "metadata": {
    "colab": {
     "base_uri": "https://localhost:8080/",
     "height": 248
    },
    "executionInfo": {
     "elapsed": 189,
     "status": "ok",
     "timestamp": 1660750438754,
     "user": {
      "displayName": "Michelle Voong",
      "userId": "06511363073265027000"
     },
     "user_tz": 240
    },
    "id": "CApeB0973XGp",
    "outputId": "1056d626-6e09-4729-d3a9-53ab836745d2"
   },
   "outputs": [
    {
     "data": {
      "image/png": "[encoded data removed]",
      "text/plain": [
       "<Figure size 640x480 with 1 Axes>"
      ]
     },
     "metadata": {},
     "output_type": "display_data"
    }
   ],
   "source": [
    "# label each slice with the percentage of requests per source \n",
    "ax = df_closed['source'].value_counts().plot.pie(colors=colors,autopct='%1.1f%%')\n",
    "\n",
    "# run the following to remove the default column name label *source*\n",
    "#ax.yaxis.set_visible(False)"
   ]
  },
  {
   "cell_type": "markdown",
   "metadata": {
    "id": "tKYqYK1_3XGp"
   },
   "source": [
    "From the pie chart, 54% of the requests from January 2022 - March 2022 came from the Citizens Connect App, 35.4% came from a Constituent Call, followed by 6.4% from the City Worker App. "
   ]
  },
  {
   "cell_type": "markdown",
   "metadata": {
    "id": "cnjoCNnQ3XGp"
   },
   "source": [
    "### How many different types of requests were there from January 2022 - March 2022?\n",
    "\n",
    "To answer this question, we will take a look at the ```reason``` column. "
   ]
  },
  {
   "cell_type": "code",
   "execution_count": 45,
   "metadata": {
    "colab": {
     "base_uri": "https://localhost:8080/"
    },
    "executionInfo": {
     "elapsed": 182,
     "status": "ok",
     "timestamp": 1660750441902,
     "user": {
      "displayName": "Michelle Voong",
      "userId": "06511363073265027000"
     },
     "user_tz": 240
    },
    "id": "zVpNc1UV3XGp",
    "outputId": "7881f507-6fde-4441-c23d-cfcd10accdc1"
   },
   "outputs": [
    {
     "data": {
      "text/plain": [
       "38"
      ]
     },
     "execution_count": 45,
     "metadata": {},
     "output_type": "execute_result"
    }
   ],
   "source": [
    "# how many different reasons are there \n",
    "len(df_closed['reason'].unique())"
   ]
  },
  {
   "cell_type": "code",
   "execution_count": 46,
   "metadata": {
    "colab": {
     "base_uri": "https://localhost:8080/"
    },
    "executionInfo": {
     "elapsed": 211,
     "status": "ok",
     "timestamp": 1660750444724,
     "user": {
      "displayName": "Michelle Voong",
      "userId": "06511363073265027000"
     },
     "user_tz": 240
    },
    "id": "Ie2Y3L243XGq",
    "outputId": "655b0a45-81f6-4c1a-85c0-ff78f91cde16"
   },
   "outputs": [
    {
     "data": {
      "text/plain": [
       "reason\n",
       "Enforcement & Abandoned Vehicles     15069\n",
       "Code Enforcement                     10437\n",
       "Street Cleaning                       8487\n",
       "Sanitation                            5993\n",
       "Highway Maintenance                   5293\n",
       "Signs & Signals                       2437\n",
       "Street Lights                         1970\n",
       "Recycling                             1690\n",
       "Housing                               1538\n",
       "Building                              1372\n",
       "Needle Program                        1298\n",
       "Trees                                 1121\n",
       "Park Maintenance & Safety             1024\n",
       "Graffiti                               592\n",
       "Animal Issues                          582\n",
       "Environmental Services                 562\n",
       "Employee & General Comments            377\n",
       "Health                                 343\n",
       "Administrative & General Requests      263\n",
       "Notification                           141\n",
       "Traffic Management & Engineering       119\n",
       "Abandoned Bicycle                      110\n",
       "Sidewalk Cover / Manhole                53\n",
       "Catchbasin                              40\n",
       "Fire Hydrant                            26\n",
       "Programs                                23\n",
       "Noise Disturbance                       22\n",
       "Pothole                                 22\n",
       "Air Pollution Control                   13\n",
       "Operations                              11\n",
       "Neighborhood Services Issues             9\n",
       "Weights and Measures                     8\n",
       "Generic Noise Disturbance                7\n",
       "Cemetery                                 7\n",
       "Parking Complaints                       5\n",
       "Fire Department                          3\n",
       "Office of The Parking Clerk              2\n",
       "Billing                                  1\n",
       "Name: count, dtype: int64"
      ]
     },
     "execution_count": 46,
     "metadata": {},
     "output_type": "execute_result"
    }
   ],
   "source": [
    "# number of requests by reason \n",
    "df_closed['reason'].value_counts()"
   ]
  },
  {
   "cell_type": "markdown",
   "metadata": {
    "id": "8mTokvaI3XGq"
   },
   "source": [
    "There were 38 different types of requests from January 2022 - March 2022, the top three with most requests being *Enforcement & Abandoned Vehicles* with 14,908 requests, *Code Enforcement* with 10,437 requests, then *Street Cleaning* with 8,477 requests. "
   ]
  },
  {
   "cell_type": "code",
   "execution_count": 47,
   "metadata": {
    "colab": {
     "base_uri": "https://localhost:8080/",
     "height": 834
    },
    "executionInfo": {
     "elapsed": 177,
     "status": "ok",
     "timestamp": 1660750447335,
     "user": {
      "displayName": "Michelle Voong",
      "userId": "06511363073265027000"
     },
     "user_tz": 240
    },
    "id": "PuNkyumW3XGq",
    "outputId": "f4730770-a7a1-4436-8006-caf5a04c567d"
   },
   "outputs": [
    {
     "data": {
      "text/html": [
       "<div>\n",
       "<style scoped>\n",
       "    .dataframe tbody tr th:only-of-type {\n",
       "        vertical-align: middle;\n",
       "    }\n",
       "\n",
       "    .dataframe tbody tr th {\n",
       "        vertical-align: top;\n",
       "    }\n",
       "\n",
       "    .dataframe thead th {\n",
       "        text-align: right;\n",
       "    }\n",
       "</style>\n",
       "<table border=\"1\" class=\"dataframe\">\n",
       "  <thead>\n",
       "    <tr style=\"text-align: right;\">\n",
       "      <th></th>\n",
       "      <th>count</th>\n",
       "      <th>unique</th>\n",
       "      <th>top</th>\n",
       "      <th>freq</th>\n",
       "    </tr>\n",
       "    <tr>\n",
       "      <th>neighborhood</th>\n",
       "      <th></th>\n",
       "      <th></th>\n",
       "      <th></th>\n",
       "      <th></th>\n",
       "    </tr>\n",
       "  </thead>\n",
       "  <tbody>\n",
       "    <tr>\n",
       "      <th></th>\n",
       "      <td>491</td>\n",
       "      <td>17</td>\n",
       "      <td>Employee &amp; General Comments</td>\n",
       "      <td>287</td>\n",
       "    </tr>\n",
       "    <tr>\n",
       "      <th>Allston</th>\n",
       "      <td>151</td>\n",
       "      <td>17</td>\n",
       "      <td>Code Enforcement</td>\n",
       "      <td>30</td>\n",
       "    </tr>\n",
       "    <tr>\n",
       "      <th>Allston / Brighton</th>\n",
       "      <td>4056</td>\n",
       "      <td>31</td>\n",
       "      <td>Enforcement &amp; Abandoned Vehicles</td>\n",
       "      <td>1062</td>\n",
       "    </tr>\n",
       "    <tr>\n",
       "      <th>Back Bay</th>\n",
       "      <td>2823</td>\n",
       "      <td>29</td>\n",
       "      <td>Enforcement &amp; Abandoned Vehicles</td>\n",
       "      <td>674</td>\n",
       "    </tr>\n",
       "    <tr>\n",
       "      <th>Beacon Hill</th>\n",
       "      <td>1670</td>\n",
       "      <td>23</td>\n",
       "      <td>Street Cleaning</td>\n",
       "      <td>468</td>\n",
       "    </tr>\n",
       "    <tr>\n",
       "      <th>Boston</th>\n",
       "      <td>1900</td>\n",
       "      <td>30</td>\n",
       "      <td>Enforcement &amp; Abandoned Vehicles</td>\n",
       "      <td>384</td>\n",
       "    </tr>\n",
       "    <tr>\n",
       "      <th>Brighton</th>\n",
       "      <td>310</td>\n",
       "      <td>22</td>\n",
       "      <td>Enforcement &amp; Abandoned Vehicles</td>\n",
       "      <td>67</td>\n",
       "    </tr>\n",
       "    <tr>\n",
       "      <th>Charlestown</th>\n",
       "      <td>2186</td>\n",
       "      <td>27</td>\n",
       "      <td>Enforcement &amp; Abandoned Vehicles</td>\n",
       "      <td>768</td>\n",
       "    </tr>\n",
       "    <tr>\n",
       "      <th>Chestnut Hill</th>\n",
       "      <td>4</td>\n",
       "      <td>3</td>\n",
       "      <td>Health</td>\n",
       "      <td>2</td>\n",
       "    </tr>\n",
       "    <tr>\n",
       "      <th>Dorchester</th>\n",
       "      <td>9366</td>\n",
       "      <td>32</td>\n",
       "      <td>Enforcement &amp; Abandoned Vehicles</td>\n",
       "      <td>2299</td>\n",
       "    </tr>\n",
       "    <tr>\n",
       "      <th>Downtown / Financial District</th>\n",
       "      <td>3525</td>\n",
       "      <td>28</td>\n",
       "      <td>Enforcement &amp; Abandoned Vehicles</td>\n",
       "      <td>815</td>\n",
       "    </tr>\n",
       "    <tr>\n",
       "      <th>East Boston</th>\n",
       "      <td>4521</td>\n",
       "      <td>27</td>\n",
       "      <td>Enforcement &amp; Abandoned Vehicles</td>\n",
       "      <td>1937</td>\n",
       "    </tr>\n",
       "    <tr>\n",
       "      <th>Fenway / Kenmore / Audubon Circle / Longwood</th>\n",
       "      <td>1064</td>\n",
       "      <td>28</td>\n",
       "      <td>Enforcement &amp; Abandoned Vehicles</td>\n",
       "      <td>202</td>\n",
       "    </tr>\n",
       "    <tr>\n",
       "      <th>Greater Mattapan</th>\n",
       "      <td>2460</td>\n",
       "      <td>27</td>\n",
       "      <td>Sanitation</td>\n",
       "      <td>546</td>\n",
       "    </tr>\n",
       "    <tr>\n",
       "      <th>Hyde Park</th>\n",
       "      <td>2357</td>\n",
       "      <td>28</td>\n",
       "      <td>Sanitation</td>\n",
       "      <td>431</td>\n",
       "    </tr>\n",
       "    <tr>\n",
       "      <th>Jamaica Plain</th>\n",
       "      <td>3820</td>\n",
       "      <td>28</td>\n",
       "      <td>Code Enforcement</td>\n",
       "      <td>819</td>\n",
       "    </tr>\n",
       "    <tr>\n",
       "      <th>Mattapan</th>\n",
       "      <td>81</td>\n",
       "      <td>16</td>\n",
       "      <td>Street Cleaning</td>\n",
       "      <td>22</td>\n",
       "    </tr>\n",
       "    <tr>\n",
       "      <th>Mission Hill</th>\n",
       "      <td>1032</td>\n",
       "      <td>25</td>\n",
       "      <td>Enforcement &amp; Abandoned Vehicles</td>\n",
       "      <td>208</td>\n",
       "    </tr>\n",
       "    <tr>\n",
       "      <th>Roslindale</th>\n",
       "      <td>2134</td>\n",
       "      <td>30</td>\n",
       "      <td>Enforcement &amp; Abandoned Vehicles</td>\n",
       "      <td>387</td>\n",
       "    </tr>\n",
       "    <tr>\n",
       "      <th>Roxbury</th>\n",
       "      <td>5215</td>\n",
       "      <td>30</td>\n",
       "      <td>Enforcement &amp; Abandoned Vehicles</td>\n",
       "      <td>1023</td>\n",
       "    </tr>\n",
       "    <tr>\n",
       "      <th>South Boston</th>\n",
       "      <td>630</td>\n",
       "      <td>19</td>\n",
       "      <td>Enforcement &amp; Abandoned Vehicles</td>\n",
       "      <td>252</td>\n",
       "    </tr>\n",
       "    <tr>\n",
       "      <th>South Boston / South Boston Waterfront</th>\n",
       "      <td>5692</td>\n",
       "      <td>27</td>\n",
       "      <td>Enforcement &amp; Abandoned Vehicles</td>\n",
       "      <td>2535</td>\n",
       "    </tr>\n",
       "    <tr>\n",
       "      <th>South End</th>\n",
       "      <td>3733</td>\n",
       "      <td>27</td>\n",
       "      <td>Code Enforcement</td>\n",
       "      <td>773</td>\n",
       "    </tr>\n",
       "    <tr>\n",
       "      <th>West Roxbury</th>\n",
       "      <td>1786</td>\n",
       "      <td>23</td>\n",
       "      <td>Sanitation</td>\n",
       "      <td>450</td>\n",
       "    </tr>\n",
       "  </tbody>\n",
       "</table>\n",
       "</div>"
      ],
      "text/plain": [
       "                                             count unique  \\\n",
       "neighborhood                                                \n",
       "                                               491     17   \n",
       "Allston                                        151     17   \n",
       "Allston / Brighton                            4056     31   \n",
       "Back Bay                                      2823     29   \n",
       "Beacon Hill                                   1670     23   \n",
       "Boston                                        1900     30   \n",
       "Brighton                                       310     22   \n",
       "Charlestown                                   2186     27   \n",
       "Chestnut Hill                                    4      3   \n",
       "Dorchester                                    9366     32   \n",
       "Downtown / Financial District                 3525     28   \n",
       "East Boston                                   4521     27   \n",
       "Fenway / Kenmore / Audubon Circle / Longwood  1064     28   \n",
       "Greater Mattapan                              2460     27   \n",
       "Hyde Park                                     2357     28   \n",
       "Jamaica Plain                                 3820     28   \n",
       "Mattapan                                        81     16   \n",
       "Mission Hill                                  1032     25   \n",
       "Roslindale                                    2134     30   \n",
       "Roxbury                                       5215     30   \n",
       "South Boston                                   630     19   \n",
       "South Boston / South Boston Waterfront        5692     27   \n",
       "South End                                     3733     27   \n",
       "West Roxbury                                  1786     23   \n",
       "\n",
       "                                                                           top  \\\n",
       "neighborhood                                                                     \n",
       "                                                   Employee & General Comments   \n",
       "Allston                                                       Code Enforcement   \n",
       "Allston / Brighton                            Enforcement & Abandoned Vehicles   \n",
       "Back Bay                                      Enforcement & Abandoned Vehicles   \n",
       "Beacon Hill                                                    Street Cleaning   \n",
       "Boston                                        Enforcement & Abandoned Vehicles   \n",
       "Brighton                                      Enforcement & Abandoned Vehicles   \n",
       "Charlestown                                   Enforcement & Abandoned Vehicles   \n",
       "Chestnut Hill                                                           Health   \n",
       "Dorchester                                    Enforcement & Abandoned Vehicles   \n",
       "Downtown / Financial District                 Enforcement & Abandoned Vehicles   \n",
       "East Boston                                   Enforcement & Abandoned Vehicles   \n",
       "Fenway / Kenmore / Audubon Circle / Longwood  Enforcement & Abandoned Vehicles   \n",
       "Greater Mattapan                                                    Sanitation   \n",
       "Hyde Park                                                           Sanitation   \n",
       "Jamaica Plain                                                 Code Enforcement   \n",
       "Mattapan                                                       Street Cleaning   \n",
       "Mission Hill                                  Enforcement & Abandoned Vehicles   \n",
       "Roslindale                                    Enforcement & Abandoned Vehicles   \n",
       "Roxbury                                       Enforcement & Abandoned Vehicles   \n",
       "South Boston                                  Enforcement & Abandoned Vehicles   \n",
       "South Boston / South Boston Waterfront        Enforcement & Abandoned Vehicles   \n",
       "South End                                                     Code Enforcement   \n",
       "West Roxbury                                                        Sanitation   \n",
       "\n",
       "                                              freq  \n",
       "neighborhood                                        \n",
       "                                               287  \n",
       "Allston                                         30  \n",
       "Allston / Brighton                            1062  \n",
       "Back Bay                                       674  \n",
       "Beacon Hill                                    468  \n",
       "Boston                                         384  \n",
       "Brighton                                        67  \n",
       "Charlestown                                    768  \n",
       "Chestnut Hill                                    2  \n",
       "Dorchester                                    2299  \n",
       "Downtown / Financial District                  815  \n",
       "East Boston                                   1937  \n",
       "Fenway / Kenmore / Audubon Circle / Longwood   202  \n",
       "Greater Mattapan                               546  \n",
       "Hyde Park                                      431  \n",
       "Jamaica Plain                                  819  \n",
       "Mattapan                                        22  \n",
       "Mission Hill                                   208  \n",
       "Roslindale                                     387  \n",
       "Roxbury                                       1023  \n",
       "South Boston                                   252  \n",
       "South Boston / South Boston Waterfront        2535  \n",
       "South End                                      773  \n",
       "West Roxbury                                   450  "
      ]
     },
     "execution_count": 47,
     "metadata": {},
     "output_type": "execute_result"
    }
   ],
   "source": [
    "# top case request reason by neighborhood \n",
    "df_closed.groupby(['neighborhood'])['reason'].describe()"
   ]
  },
  {
   "cell_type": "code",
   "execution_count": 48,
   "metadata": {
    "colab": {
     "base_uri": "https://localhost:8080/",
     "height": 455
    },
    "executionInfo": {
     "elapsed": 1542,
     "status": "ok",
     "timestamp": 1660750453246,
     "user": {
      "displayName": "Michelle Voong",
      "userId": "06511363073265027000"
     },
     "user_tz": 240
    },
    "id": "5exMcqY93XGq",
    "outputId": "194adbb6-e49b-4309-da8a-b6f8f85133ed"
   },
   "outputs": [
    {
     "data": {
      "text/html": [
       "<div>\n",
       "<style scoped>\n",
       "    .dataframe tbody tr th:only-of-type {\n",
       "        vertical-align: middle;\n",
       "    }\n",
       "\n",
       "    .dataframe tbody tr th {\n",
       "        vertical-align: top;\n",
       "    }\n",
       "\n",
       "    .dataframe thead th {\n",
       "        text-align: right;\n",
       "    }\n",
       "</style>\n",
       "<table border=\"1\" class=\"dataframe\">\n",
       "  <thead>\n",
       "    <tr style=\"text-align: right;\">\n",
       "      <th></th>\n",
       "      <th></th>\n",
       "      <th>count</th>\n",
       "    </tr>\n",
       "    <tr>\n",
       "      <th>neighborhood</th>\n",
       "      <th>reason</th>\n",
       "      <th></th>\n",
       "    </tr>\n",
       "  </thead>\n",
       "  <tbody>\n",
       "    <tr>\n",
       "      <th rowspan=\"5\" valign=\"top\"></th>\n",
       "      <th>Cemetery</th>\n",
       "      <td>7.0</td>\n",
       "    </tr>\n",
       "    <tr>\n",
       "      <th>Code Enforcement</th>\n",
       "      <td>9.0</td>\n",
       "    </tr>\n",
       "    <tr>\n",
       "      <th>Employee &amp; General Comments</th>\n",
       "      <td>287.0</td>\n",
       "    </tr>\n",
       "    <tr>\n",
       "      <th>Enforcement &amp; Abandoned Vehicles</th>\n",
       "      <td>17.0</td>\n",
       "    </tr>\n",
       "    <tr>\n",
       "      <th>Environmental Services</th>\n",
       "      <td>3.0</td>\n",
       "    </tr>\n",
       "    <tr>\n",
       "      <th>...</th>\n",
       "      <th>...</th>\n",
       "      <td>...</td>\n",
       "    </tr>\n",
       "    <tr>\n",
       "      <th rowspan=\"5\" valign=\"top\">West Roxbury</th>\n",
       "      <th>Signs &amp; Signals</th>\n",
       "      <td>111.0</td>\n",
       "    </tr>\n",
       "    <tr>\n",
       "      <th>Street Cleaning</th>\n",
       "      <td>159.0</td>\n",
       "    </tr>\n",
       "    <tr>\n",
       "      <th>Street Lights</th>\n",
       "      <td>50.0</td>\n",
       "    </tr>\n",
       "    <tr>\n",
       "      <th>Traffic Management &amp; Engineering</th>\n",
       "      <td>4.0</td>\n",
       "    </tr>\n",
       "    <tr>\n",
       "      <th>Trees</th>\n",
       "      <td>120.0</td>\n",
       "    </tr>\n",
       "  </tbody>\n",
       "</table>\n",
       "<p>594 rows × 1 columns</p>\n",
       "</div>"
      ],
      "text/plain": [
       "                                               count\n",
       "neighborhood reason                                 \n",
       "             Cemetery                            7.0\n",
       "             Code Enforcement                    9.0\n",
       "             Employee & General Comments       287.0\n",
       "             Enforcement & Abandoned Vehicles   17.0\n",
       "             Environmental Services              3.0\n",
       "...                                              ...\n",
       "West Roxbury Signs & Signals                   111.0\n",
       "             Street Cleaning                   159.0\n",
       "             Street Lights                      50.0\n",
       "             Traffic Management & Engineering    4.0\n",
       "             Trees                             120.0\n",
       "\n",
       "[594 rows x 1 columns]"
      ]
     },
     "execution_count": 48,
     "metadata": {},
     "output_type": "execute_result"
    }
   ],
   "source": [
    "# get counts for each request reason by neighborhood \n",
    "reason_by_neighborhood = df_closed.groupby(['neighborhood', 'reason'])['duration_in_days'].describe()[['count']]\n",
    "reason_by_neighborhood"
   ]
  },
  {
   "cell_type": "code",
   "execution_count": 49,
   "metadata": {
    "executionInfo": {
     "elapsed": 156,
     "status": "ok",
     "timestamp": 1660750455720,
     "user": {
      "displayName": "Michelle Voong",
      "userId": "06511363073265027000"
     },
     "user_tz": 240
    },
    "id": "UePCakuX3XGq"
   },
   "outputs": [],
   "source": [
    "# run this cell to write the reason by neighborhood to a csv to see all rows of data \n",
    "reason_by_neighborhood.to_csv('reasons_by_neighborhood.csv')"
   ]
  },
  {
   "cell_type": "code",
   "execution_count": 50,
   "metadata": {
    "colab": {
     "base_uri": "https://localhost:8080/",
     "height": 928
    },
    "executionInfo": {
     "elapsed": 168,
     "status": "ok",
     "timestamp": 1660750456753,
     "user": {
      "displayName": "Michelle Voong",
      "userId": "06511363073265027000"
     },
     "user_tz": 240
    },
    "id": "j71KzjHc3XGq",
    "outputId": "2a00b53b-0a92-4511-c0a4-f464cb6b45b7"
   },
   "outputs": [
    {
     "data": {
      "text/html": [
       "<div>\n",
       "<style scoped>\n",
       "    .dataframe tbody tr th:only-of-type {\n",
       "        vertical-align: middle;\n",
       "    }\n",
       "\n",
       "    .dataframe tbody tr th {\n",
       "        vertical-align: top;\n",
       "    }\n",
       "\n",
       "    .dataframe thead th {\n",
       "        text-align: right;\n",
       "    }\n",
       "</style>\n",
       "<table border=\"1\" class=\"dataframe\">\n",
       "  <thead>\n",
       "    <tr style=\"text-align: right;\">\n",
       "      <th></th>\n",
       "      <th>count</th>\n",
       "    </tr>\n",
       "    <tr>\n",
       "      <th>reason</th>\n",
       "      <th></th>\n",
       "    </tr>\n",
       "  </thead>\n",
       "  <tbody>\n",
       "    <tr>\n",
       "      <th>Abandoned Bicycle</th>\n",
       "      <td>8.0</td>\n",
       "    </tr>\n",
       "    <tr>\n",
       "      <th>Administrative &amp; General Requests</th>\n",
       "      <td>10.0</td>\n",
       "    </tr>\n",
       "    <tr>\n",
       "      <th>Air Pollution Control</th>\n",
       "      <td>4.0</td>\n",
       "    </tr>\n",
       "    <tr>\n",
       "      <th>Animal Issues</th>\n",
       "      <td>16.0</td>\n",
       "    </tr>\n",
       "    <tr>\n",
       "      <th>Building</th>\n",
       "      <td>52.0</td>\n",
       "    </tr>\n",
       "    <tr>\n",
       "      <th>Code Enforcement</th>\n",
       "      <td>773.0</td>\n",
       "    </tr>\n",
       "    <tr>\n",
       "      <th>Employee &amp; General Comments</th>\n",
       "      <td>1.0</td>\n",
       "    </tr>\n",
       "    <tr>\n",
       "      <th>Enforcement &amp; Abandoned Vehicles</th>\n",
       "      <td>712.0</td>\n",
       "    </tr>\n",
       "    <tr>\n",
       "      <th>Environmental Services</th>\n",
       "      <td>48.0</td>\n",
       "    </tr>\n",
       "    <tr>\n",
       "      <th>Fire Hydrant</th>\n",
       "      <td>2.0</td>\n",
       "    </tr>\n",
       "    <tr>\n",
       "      <th>Graffiti</th>\n",
       "      <td>100.0</td>\n",
       "    </tr>\n",
       "    <tr>\n",
       "      <th>Health</th>\n",
       "      <td>7.0</td>\n",
       "    </tr>\n",
       "    <tr>\n",
       "      <th>Highway Maintenance</th>\n",
       "      <td>367.0</td>\n",
       "    </tr>\n",
       "    <tr>\n",
       "      <th>Housing</th>\n",
       "      <td>40.0</td>\n",
       "    </tr>\n",
       "    <tr>\n",
       "      <th>Needle Program</th>\n",
       "      <td>269.0</td>\n",
       "    </tr>\n",
       "    <tr>\n",
       "      <th>Neighborhood Services Issues</th>\n",
       "      <td>1.0</td>\n",
       "    </tr>\n",
       "    <tr>\n",
       "      <th>Noise Disturbance</th>\n",
       "      <td>1.0</td>\n",
       "    </tr>\n",
       "    <tr>\n",
       "      <th>Notification</th>\n",
       "      <td>2.0</td>\n",
       "    </tr>\n",
       "    <tr>\n",
       "      <th>Park Maintenance &amp; Safety</th>\n",
       "      <td>74.0</td>\n",
       "    </tr>\n",
       "    <tr>\n",
       "      <th>Recycling</th>\n",
       "      <td>29.0</td>\n",
       "    </tr>\n",
       "    <tr>\n",
       "      <th>Sanitation</th>\n",
       "      <td>242.0</td>\n",
       "    </tr>\n",
       "    <tr>\n",
       "      <th>Sidewalk Cover / Manhole</th>\n",
       "      <td>1.0</td>\n",
       "    </tr>\n",
       "    <tr>\n",
       "      <th>Signs &amp; Signals</th>\n",
       "      <td>79.0</td>\n",
       "    </tr>\n",
       "    <tr>\n",
       "      <th>Street Cleaning</th>\n",
       "      <td>716.0</td>\n",
       "    </tr>\n",
       "    <tr>\n",
       "      <th>Street Lights</th>\n",
       "      <td>122.0</td>\n",
       "    </tr>\n",
       "    <tr>\n",
       "      <th>Traffic Management &amp; Engineering</th>\n",
       "      <td>7.0</td>\n",
       "    </tr>\n",
       "    <tr>\n",
       "      <th>Trees</th>\n",
       "      <td>50.0</td>\n",
       "    </tr>\n",
       "  </tbody>\n",
       "</table>\n",
       "</div>"
      ],
      "text/plain": [
       "                                   count\n",
       "reason                                  \n",
       "Abandoned Bicycle                    8.0\n",
       "Administrative & General Requests   10.0\n",
       "Air Pollution Control                4.0\n",
       "Animal Issues                       16.0\n",
       "Building                            52.0\n",
       "Code Enforcement                   773.0\n",
       "Employee & General Comments          1.0\n",
       "Enforcement & Abandoned Vehicles   712.0\n",
       "Environmental Services              48.0\n",
       "Fire Hydrant                         2.0\n",
       "Graffiti                           100.0\n",
       "Health                               7.0\n",
       "Highway Maintenance                367.0\n",
       "Housing                             40.0\n",
       "Needle Program                     269.0\n",
       "Neighborhood Services Issues         1.0\n",
       "Noise Disturbance                    1.0\n",
       "Notification                         2.0\n",
       "Park Maintenance & Safety           74.0\n",
       "Recycling                           29.0\n",
       "Sanitation                         242.0\n",
       "Sidewalk Cover / Manhole             1.0\n",
       "Signs & Signals                     79.0\n",
       "Street Cleaning                    716.0\n",
       "Street Lights                      122.0\n",
       "Traffic Management & Engineering     7.0\n",
       "Trees                               50.0"
      ]
     },
     "execution_count": 50,
     "metadata": {},
     "output_type": "execute_result"
    }
   ],
   "source": [
    "# let's take a look at the South End neighborhood specifically \n",
    "south_end_df = df_closed.loc[(df_closed['neighborhood'] == 'South End')]\n",
    "south_end_df.groupby(['reason'])['duration_in_days'].describe()[['count']]"
   ]
  },
  {
   "cell_type": "markdown",
   "metadata": {
    "id": "BLqIuZGT3XGq"
   },
   "source": [
    "### What types of cases typically take the longest to resolve?\n",
    "\n",
    "To answer this question, let's take a look at the ```duration_in_days``` and ```reason``` columns."
   ]
  },
  {
   "cell_type": "code",
   "execution_count": 51,
   "metadata": {
    "colab": {
     "base_uri": "https://localhost:8080/",
     "height": 383
    },
    "executionInfo": {
     "elapsed": 2775,
     "status": "ok",
     "timestamp": 1660750466295,
     "user": {
      "displayName": "Michelle Voong",
      "userId": "06511363073265027000"
     },
     "user_tz": 240
    },
    "id": "-UOoc__b3XGq",
    "outputId": "88753974-a3d6-4517-91a0-83d9dbdd2551"
   },
   "outputs": [
    {
     "data": {
      "text/plain": [
       "<seaborn.axisgrid.FacetGrid at 0x2a6234750>"
      ]
     },
     "execution_count": 51,
     "metadata": {},
     "output_type": "execute_result"
    },
    {
     "data": {
      "image/png": "[encoded data removed]",
      "text/plain": [
       "<Figure size 512.222x500 with 1 Axes>"
      ]
     },
     "metadata": {},
     "output_type": "display_data"
    }
   ],
   "source": [
    "# what types of cases typically take the longest \n",
    "# case_duration by reason \n",
    "\n",
    "sns.catplot(x=\"reason\", y=\"duration_in_days\", kind=\"box\", data=df_closed,)"
   ]
  },
  {
   "cell_type": "code",
   "execution_count": 52,
   "metadata": {
    "colab": {
     "base_uri": "https://localhost:8080/",
     "height": 599
    },
    "executionInfo": {
     "elapsed": 2784,
     "status": "ok",
     "timestamp": 1660750476929,
     "user": {
      "displayName": "Michelle Voong",
      "userId": "06511363073265027000"
     },
     "user_tz": 240
    },
    "id": "0X3NFnhz3XGq",
    "outputId": "7ea80894-7944-48e1-98d0-f1793cccf6cd"
   },
   "outputs": [
    {
     "data": {
      "text/plain": [
       "<seaborn.axisgrid.FacetGrid at 0x2a777f4d0>"
      ]
     },
     "execution_count": 52,
     "metadata": {},
     "output_type": "execute_result"
    },
    {
     "data": {
      "image/png": "[encoded data removed]",
      "text/plain": [
       "<Figure size 1012.22x800 with 1 Axes>"
      ]
     },
     "metadata": {},
     "output_type": "display_data"
    }
   ],
   "source": [
    "# The chart is kind of difficult to read... \n",
    "# Let's fix the size of the chart and flip the labels on the x-axis \n",
    "\n",
    "sns.catplot(y=\"reason\", x=\"duration_in_days\", kind=\"box\", data=df_closed,\n",
    "            height = 8, aspect = 1.25)"
   ]
  },
  {
   "cell_type": "markdown",
   "metadata": {
    "id": "S4efwpI-3XGr"
   },
   "source": [
    "Box plots display the five-number-summary, which includes: the minimum, the maximum, the sample median, and the first and third quartiles. \n",
    "\n",
    "The box plot shows the distribution ```duration_in_days``` in a way that allows comparisions between case ```reasons```. Box plots show the distribution of a numerical variable broken down by a categorical variable. \n",
    "\n",
    "The box shows the quartiles of the ```duration_in_days``` and the whiskers extend to show the rest of the distribution (minimum and maximum). Points that are shown outside of the whiskers are determined to be *outliers*. The line inside the box is the median. "
   ]
  },
  {
   "cell_type": "code",
   "execution_count": 53,
   "metadata": {
    "colab": {
     "base_uri": "https://localhost:8080/",
     "height": 1000
    },
    "executionInfo": {
     "elapsed": 163,
     "status": "ok",
     "timestamp": 1660750480961,
     "user": {
      "displayName": "Michelle Voong",
      "userId": "06511363073265027000"
     },
     "user_tz": 240
    },
    "id": "jNLPgTf83XGr",
    "outputId": "7be078db-25f5-47e6-ebb9-2372ae714892"
   },
   "outputs": [
    {
     "data": {
      "text/html": [
       "<div>\n",
       "<style scoped>\n",
       "    .dataframe tbody tr th:only-of-type {\n",
       "        vertical-align: middle;\n",
       "    }\n",
       "\n",
       "    .dataframe tbody tr th {\n",
       "        vertical-align: top;\n",
       "    }\n",
       "\n",
       "    .dataframe thead th {\n",
       "        text-align: right;\n",
       "    }\n",
       "</style>\n",
       "<table border=\"1\" class=\"dataframe\">\n",
       "  <thead>\n",
       "    <tr style=\"text-align: right;\">\n",
       "      <th></th>\n",
       "      <th>count</th>\n",
       "      <th>mean</th>\n",
       "      <th>std</th>\n",
       "      <th>min</th>\n",
       "      <th>25%</th>\n",
       "      <th>50%</th>\n",
       "      <th>75%</th>\n",
       "      <th>max</th>\n",
       "    </tr>\n",
       "    <tr>\n",
       "      <th>reason</th>\n",
       "      <th></th>\n",
       "      <th></th>\n",
       "      <th></th>\n",
       "      <th></th>\n",
       "      <th></th>\n",
       "      <th></th>\n",
       "      <th></th>\n",
       "      <th></th>\n",
       "    </tr>\n",
       "  </thead>\n",
       "  <tbody>\n",
       "    <tr>\n",
       "      <th>Abandoned Bicycle</th>\n",
       "      <td>110.0</td>\n",
       "      <td>18.958664</td>\n",
       "      <td>43.377611</td>\n",
       "      <td>0.005799</td>\n",
       "      <td>0.614913</td>\n",
       "      <td>1.185561</td>\n",
       "      <td>9.242028</td>\n",
       "      <td>317.709433</td>\n",
       "    </tr>\n",
       "    <tr>\n",
       "      <th>Administrative &amp; General Requests</th>\n",
       "      <td>263.0</td>\n",
       "      <td>4.802359</td>\n",
       "      <td>17.893667</td>\n",
       "      <td>0.000081</td>\n",
       "      <td>0.116655</td>\n",
       "      <td>0.790243</td>\n",
       "      <td>2.018640</td>\n",
       "      <td>140.842130</td>\n",
       "    </tr>\n",
       "    <tr>\n",
       "      <th>Air Pollution Control</th>\n",
       "      <td>13.0</td>\n",
       "      <td>8.872239</td>\n",
       "      <td>10.842552</td>\n",
       "      <td>0.001528</td>\n",
       "      <td>1.787616</td>\n",
       "      <td>1.790822</td>\n",
       "      <td>13.153194</td>\n",
       "      <td>30.967199</td>\n",
       "    </tr>\n",
       "    <tr>\n",
       "      <th>Animal Issues</th>\n",
       "      <td>582.0</td>\n",
       "      <td>0.901953</td>\n",
       "      <td>1.086186</td>\n",
       "      <td>0.000127</td>\n",
       "      <td>0.075110</td>\n",
       "      <td>0.701597</td>\n",
       "      <td>1.235906</td>\n",
       "      <td>11.121447</td>\n",
       "    </tr>\n",
       "    <tr>\n",
       "      <th>Billing</th>\n",
       "      <td>1.0</td>\n",
       "      <td>0.009178</td>\n",
       "      <td>NaN</td>\n",
       "      <td>0.009178</td>\n",
       "      <td>0.009178</td>\n",
       "      <td>0.009178</td>\n",
       "      <td>0.009178</td>\n",
       "      <td>0.009178</td>\n",
       "    </tr>\n",
       "    <tr>\n",
       "      <th>Building</th>\n",
       "      <td>1372.0</td>\n",
       "      <td>27.282942</td>\n",
       "      <td>86.255114</td>\n",
       "      <td>0.000046</td>\n",
       "      <td>0.714560</td>\n",
       "      <td>3.006603</td>\n",
       "      <td>10.899311</td>\n",
       "      <td>583.493900</td>\n",
       "    </tr>\n",
       "    <tr>\n",
       "      <th>Catchbasin</th>\n",
       "      <td>40.0</td>\n",
       "      <td>6.301467</td>\n",
       "      <td>10.713385</td>\n",
       "      <td>0.000174</td>\n",
       "      <td>0.946927</td>\n",
       "      <td>2.444572</td>\n",
       "      <td>7.486829</td>\n",
       "      <td>61.852523</td>\n",
       "    </tr>\n",
       "    <tr>\n",
       "      <th>Cemetery</th>\n",
       "      <td>7.0</td>\n",
       "      <td>33.692262</td>\n",
       "      <td>52.086613</td>\n",
       "      <td>0.000127</td>\n",
       "      <td>0.113744</td>\n",
       "      <td>0.594907</td>\n",
       "      <td>48.409045</td>\n",
       "      <td>138.205220</td>\n",
       "    </tr>\n",
       "    <tr>\n",
       "      <th>Code Enforcement</th>\n",
       "      <td>10437.0</td>\n",
       "      <td>0.707527</td>\n",
       "      <td>6.281534</td>\n",
       "      <td>0.000069</td>\n",
       "      <td>0.054375</td>\n",
       "      <td>0.234653</td>\n",
       "      <td>0.752431</td>\n",
       "      <td>524.912940</td>\n",
       "    </tr>\n",
       "    <tr>\n",
       "      <th>Employee &amp; General Comments</th>\n",
       "      <td>377.0</td>\n",
       "      <td>10.071810</td>\n",
       "      <td>45.294246</td>\n",
       "      <td>0.000243</td>\n",
       "      <td>0.057905</td>\n",
       "      <td>0.628194</td>\n",
       "      <td>1.882604</td>\n",
       "      <td>528.188426</td>\n",
       "    </tr>\n",
       "    <tr>\n",
       "      <th>Enforcement &amp; Abandoned Vehicles</th>\n",
       "      <td>15069.0</td>\n",
       "      <td>6.714668</td>\n",
       "      <td>30.906259</td>\n",
       "      <td>0.000058</td>\n",
       "      <td>0.058322</td>\n",
       "      <td>0.181100</td>\n",
       "      <td>0.659583</td>\n",
       "      <td>532.237755</td>\n",
       "    </tr>\n",
       "    <tr>\n",
       "      <th>Environmental Services</th>\n",
       "      <td>562.0</td>\n",
       "      <td>3.761080</td>\n",
       "      <td>33.924900</td>\n",
       "      <td>0.000069</td>\n",
       "      <td>0.501516</td>\n",
       "      <td>0.871707</td>\n",
       "      <td>2.015515</td>\n",
       "      <td>603.946308</td>\n",
       "    </tr>\n",
       "    <tr>\n",
       "      <th>Fire Department</th>\n",
       "      <td>3.0</td>\n",
       "      <td>0.598248</td>\n",
       "      <td>0.542678</td>\n",
       "      <td>0.001887</td>\n",
       "      <td>0.365845</td>\n",
       "      <td>0.729803</td>\n",
       "      <td>0.896429</td>\n",
       "      <td>1.063056</td>\n",
       "    </tr>\n",
       "    <tr>\n",
       "      <th>Fire Hydrant</th>\n",
       "      <td>26.0</td>\n",
       "      <td>4.028460</td>\n",
       "      <td>2.648591</td>\n",
       "      <td>0.000914</td>\n",
       "      <td>2.174317</td>\n",
       "      <td>3.593819</td>\n",
       "      <td>5.515179</td>\n",
       "      <td>10.837072</td>\n",
       "    </tr>\n",
       "    <tr>\n",
       "      <th>Generic Noise Disturbance</th>\n",
       "      <td>7.0</td>\n",
       "      <td>0.815853</td>\n",
       "      <td>1.084863</td>\n",
       "      <td>0.000498</td>\n",
       "      <td>0.010162</td>\n",
       "      <td>0.476505</td>\n",
       "      <td>1.120243</td>\n",
       "      <td>2.973160</td>\n",
       "    </tr>\n",
       "    <tr>\n",
       "      <th>Graffiti</th>\n",
       "      <td>592.0</td>\n",
       "      <td>169.467446</td>\n",
       "      <td>141.808644</td>\n",
       "      <td>0.000278</td>\n",
       "      <td>58.621837</td>\n",
       "      <td>146.779716</td>\n",
       "      <td>234.771024</td>\n",
       "      <td>584.074375</td>\n",
       "    </tr>\n",
       "    <tr>\n",
       "      <th>Health</th>\n",
       "      <td>343.0</td>\n",
       "      <td>1.488471</td>\n",
       "      <td>3.058219</td>\n",
       "      <td>0.000058</td>\n",
       "      <td>0.142726</td>\n",
       "      <td>0.891817</td>\n",
       "      <td>1.243704</td>\n",
       "      <td>39.648924</td>\n",
       "    </tr>\n",
       "    <tr>\n",
       "      <th>Highway Maintenance</th>\n",
       "      <td>5293.0</td>\n",
       "      <td>28.490884</td>\n",
       "      <td>103.978375</td>\n",
       "      <td>0.000081</td>\n",
       "      <td>0.080775</td>\n",
       "      <td>0.833935</td>\n",
       "      <td>2.895012</td>\n",
       "      <td>603.940174</td>\n",
       "    </tr>\n",
       "    <tr>\n",
       "      <th>Housing</th>\n",
       "      <td>1538.0</td>\n",
       "      <td>9.243702</td>\n",
       "      <td>26.612208</td>\n",
       "      <td>0.000058</td>\n",
       "      <td>0.699439</td>\n",
       "      <td>2.948287</td>\n",
       "      <td>8.218006</td>\n",
       "      <td>563.609132</td>\n",
       "    </tr>\n",
       "    <tr>\n",
       "      <th>Needle Program</th>\n",
       "      <td>1298.0</td>\n",
       "      <td>0.079950</td>\n",
       "      <td>0.243778</td>\n",
       "      <td>0.000081</td>\n",
       "      <td>0.017248</td>\n",
       "      <td>0.029554</td>\n",
       "      <td>0.053157</td>\n",
       "      <td>7.152766</td>\n",
       "    </tr>\n",
       "    <tr>\n",
       "      <th>Neighborhood Services Issues</th>\n",
       "      <td>9.0</td>\n",
       "      <td>31.795781</td>\n",
       "      <td>31.734212</td>\n",
       "      <td>4.324954</td>\n",
       "      <td>12.663229</td>\n",
       "      <td>24.884931</td>\n",
       "      <td>32.983403</td>\n",
       "      <td>109.932014</td>\n",
       "    </tr>\n",
       "    <tr>\n",
       "      <th>Noise Disturbance</th>\n",
       "      <td>22.0</td>\n",
       "      <td>0.701848</td>\n",
       "      <td>0.846763</td>\n",
       "      <td>0.000104</td>\n",
       "      <td>0.003857</td>\n",
       "      <td>0.543137</td>\n",
       "      <td>1.285790</td>\n",
       "      <td>3.525995</td>\n",
       "    </tr>\n",
       "    <tr>\n",
       "      <th>Notification</th>\n",
       "      <td>141.0</td>\n",
       "      <td>19.571043</td>\n",
       "      <td>20.613594</td>\n",
       "      <td>0.000544</td>\n",
       "      <td>1.802569</td>\n",
       "      <td>7.719329</td>\n",
       "      <td>38.391088</td>\n",
       "      <td>64.464780</td>\n",
       "    </tr>\n",
       "    <tr>\n",
       "      <th>Office of The Parking Clerk</th>\n",
       "      <td>2.0</td>\n",
       "      <td>2.440463</td>\n",
       "      <td>2.261498</td>\n",
       "      <td>0.841343</td>\n",
       "      <td>1.640903</td>\n",
       "      <td>2.440463</td>\n",
       "      <td>3.240023</td>\n",
       "      <td>4.039583</td>\n",
       "    </tr>\n",
       "    <tr>\n",
       "      <th>Operations</th>\n",
       "      <td>11.0</td>\n",
       "      <td>4.729598</td>\n",
       "      <td>5.466478</td>\n",
       "      <td>0.000266</td>\n",
       "      <td>0.697992</td>\n",
       "      <td>2.894306</td>\n",
       "      <td>7.657731</td>\n",
       "      <td>15.175023</td>\n",
       "    </tr>\n",
       "    <tr>\n",
       "      <th>Park Maintenance &amp; Safety</th>\n",
       "      <td>1024.0</td>\n",
       "      <td>16.923169</td>\n",
       "      <td>52.385723</td>\n",
       "      <td>0.000347</td>\n",
       "      <td>0.727187</td>\n",
       "      <td>1.884959</td>\n",
       "      <td>7.189925</td>\n",
       "      <td>568.818704</td>\n",
       "    </tr>\n",
       "    <tr>\n",
       "      <th>Parking Complaints</th>\n",
       "      <td>5.0</td>\n",
       "      <td>3.200009</td>\n",
       "      <td>4.912111</td>\n",
       "      <td>0.387477</td>\n",
       "      <td>0.388090</td>\n",
       "      <td>0.889826</td>\n",
       "      <td>2.483206</td>\n",
       "      <td>11.851447</td>\n",
       "    </tr>\n",
       "    <tr>\n",
       "      <th>Pothole</th>\n",
       "      <td>22.0</td>\n",
       "      <td>3.914762</td>\n",
       "      <td>3.149216</td>\n",
       "      <td>0.001771</td>\n",
       "      <td>1.924826</td>\n",
       "      <td>3.009109</td>\n",
       "      <td>5.652931</td>\n",
       "      <td>14.143912</td>\n",
       "    </tr>\n",
       "    <tr>\n",
       "      <th>Programs</th>\n",
       "      <td>23.0</td>\n",
       "      <td>0.658821</td>\n",
       "      <td>1.055246</td>\n",
       "      <td>0.000336</td>\n",
       "      <td>0.001233</td>\n",
       "      <td>0.056863</td>\n",
       "      <td>0.813414</td>\n",
       "      <td>3.142951</td>\n",
       "    </tr>\n",
       "    <tr>\n",
       "      <th>Recycling</th>\n",
       "      <td>1690.0</td>\n",
       "      <td>12.251664</td>\n",
       "      <td>9.039872</td>\n",
       "      <td>0.000081</td>\n",
       "      <td>6.856282</td>\n",
       "      <td>12.930035</td>\n",
       "      <td>16.941421</td>\n",
       "      <td>132.958819</td>\n",
       "    </tr>\n",
       "    <tr>\n",
       "      <th>Sanitation</th>\n",
       "      <td>5993.0</td>\n",
       "      <td>2.404214</td>\n",
       "      <td>3.187054</td>\n",
       "      <td>0.000058</td>\n",
       "      <td>0.260671</td>\n",
       "      <td>0.979294</td>\n",
       "      <td>3.836354</td>\n",
       "      <td>98.852222</td>\n",
       "    </tr>\n",
       "    <tr>\n",
       "      <th>Sidewalk Cover / Manhole</th>\n",
       "      <td>53.0</td>\n",
       "      <td>4.736369</td>\n",
       "      <td>8.863875</td>\n",
       "      <td>0.000127</td>\n",
       "      <td>0.358148</td>\n",
       "      <td>2.873461</td>\n",
       "      <td>5.035451</td>\n",
       "      <td>58.889340</td>\n",
       "    </tr>\n",
       "    <tr>\n",
       "      <th>Signs &amp; Signals</th>\n",
       "      <td>2437.0</td>\n",
       "      <td>23.367197</td>\n",
       "      <td>55.238733</td>\n",
       "      <td>0.000185</td>\n",
       "      <td>0.274618</td>\n",
       "      <td>1.857025</td>\n",
       "      <td>7.673981</td>\n",
       "      <td>515.893796</td>\n",
       "    </tr>\n",
       "    <tr>\n",
       "      <th>Street Cleaning</th>\n",
       "      <td>8487.0</td>\n",
       "      <td>1.439782</td>\n",
       "      <td>12.383683</td>\n",
       "      <td>0.000046</td>\n",
       "      <td>0.038113</td>\n",
       "      <td>0.101053</td>\n",
       "      <td>0.608889</td>\n",
       "      <td>494.961852</td>\n",
       "    </tr>\n",
       "    <tr>\n",
       "      <th>Street Lights</th>\n",
       "      <td>1970.0</td>\n",
       "      <td>46.262683</td>\n",
       "      <td>93.575251</td>\n",
       "      <td>0.000104</td>\n",
       "      <td>0.206887</td>\n",
       "      <td>3.820035</td>\n",
       "      <td>45.018024</td>\n",
       "      <td>587.427130</td>\n",
       "    </tr>\n",
       "    <tr>\n",
       "      <th>Traffic Management &amp; Engineering</th>\n",
       "      <td>119.0</td>\n",
       "      <td>18.775796</td>\n",
       "      <td>40.643543</td>\n",
       "      <td>0.000729</td>\n",
       "      <td>0.089311</td>\n",
       "      <td>0.899005</td>\n",
       "      <td>11.439566</td>\n",
       "      <td>183.835914</td>\n",
       "    </tr>\n",
       "    <tr>\n",
       "      <th>Trees</th>\n",
       "      <td>1121.0</td>\n",
       "      <td>102.862058</td>\n",
       "      <td>134.693373</td>\n",
       "      <td>0.000139</td>\n",
       "      <td>0.086539</td>\n",
       "      <td>34.293947</td>\n",
       "      <td>154.915880</td>\n",
       "      <td>589.909977</td>\n",
       "    </tr>\n",
       "    <tr>\n",
       "      <th>Weights and Measures</th>\n",
       "      <td>8.0</td>\n",
       "      <td>0.985169</td>\n",
       "      <td>0.558955</td>\n",
       "      <td>0.107234</td>\n",
       "      <td>0.741134</td>\n",
       "      <td>0.900399</td>\n",
       "      <td>1.207185</td>\n",
       "      <td>1.808912</td>\n",
       "    </tr>\n",
       "  </tbody>\n",
       "</table>\n",
       "</div>"
      ],
      "text/plain": [
       "                                     count        mean         std       min  \\\n",
       "reason                                                                         \n",
       "Abandoned Bicycle                    110.0   18.958664   43.377611  0.005799   \n",
       "Administrative & General Requests    263.0    4.802359   17.893667  0.000081   \n",
       "Air Pollution Control                 13.0    8.872239   10.842552  0.001528   \n",
       "Animal Issues                        582.0    0.901953    1.086186  0.000127   \n",
       "Billing                                1.0    0.009178         NaN  0.009178   \n",
       "Building                            1372.0   27.282942   86.255114  0.000046   \n",
       "Catchbasin                            40.0    6.301467   10.713385  0.000174   \n",
       "Cemetery                               7.0   33.692262   52.086613  0.000127   \n",
       "Code Enforcement                   10437.0    0.707527    6.281534  0.000069   \n",
       "Employee & General Comments          377.0   10.071810   45.294246  0.000243   \n",
       "Enforcement & Abandoned Vehicles   15069.0    6.714668   30.906259  0.000058   \n",
       "Environmental Services               562.0    3.761080   33.924900  0.000069   \n",
       "Fire Department                        3.0    0.598248    0.542678  0.001887   \n",
       "Fire Hydrant                          26.0    4.028460    2.648591  0.000914   \n",
       "Generic Noise Disturbance              7.0    0.815853    1.084863  0.000498   \n",
       "Graffiti                             592.0  169.467446  141.808644  0.000278   \n",
       "Health                               343.0    1.488471    3.058219  0.000058   \n",
       "Highway Maintenance                 5293.0   28.490884  103.978375  0.000081   \n",
       "Housing                             1538.0    9.243702   26.612208  0.000058   \n",
       "Needle Program                      1298.0    0.079950    0.243778  0.000081   \n",
       "Neighborhood Services Issues           9.0   31.795781   31.734212  4.324954   \n",
       "Noise Disturbance                     22.0    0.701848    0.846763  0.000104   \n",
       "Notification                         141.0   19.571043   20.613594  0.000544   \n",
       "Office of The Parking Clerk            2.0    2.440463    2.261498  0.841343   \n",
       "Operations                            11.0    4.729598    5.466478  0.000266   \n",
       "Park Maintenance & Safety           1024.0   16.923169   52.385723  0.000347   \n",
       "Parking Complaints                     5.0    3.200009    4.912111  0.387477   \n",
       "Pothole                               22.0    3.914762    3.149216  0.001771   \n",
       "Programs                              23.0    0.658821    1.055246  0.000336   \n",
       "Recycling                           1690.0   12.251664    9.039872  0.000081   \n",
       "Sanitation                          5993.0    2.404214    3.187054  0.000058   \n",
       "Sidewalk Cover / Manhole              53.0    4.736369    8.863875  0.000127   \n",
       "Signs & Signals                     2437.0   23.367197   55.238733  0.000185   \n",
       "Street Cleaning                     8487.0    1.439782   12.383683  0.000046   \n",
       "Street Lights                       1970.0   46.262683   93.575251  0.000104   \n",
       "Traffic Management & Engineering     119.0   18.775796   40.643543  0.000729   \n",
       "Trees                               1121.0  102.862058  134.693373  0.000139   \n",
       "Weights and Measures                   8.0    0.985169    0.558955  0.107234   \n",
       "\n",
       "                                         25%         50%         75%  \\\n",
       "reason                                                                 \n",
       "Abandoned Bicycle                   0.614913    1.185561    9.242028   \n",
       "Administrative & General Requests   0.116655    0.790243    2.018640   \n",
       "Air Pollution Control               1.787616    1.790822   13.153194   \n",
       "Animal Issues                       0.075110    0.701597    1.235906   \n",
       "Billing                             0.009178    0.009178    0.009178   \n",
       "Building                            0.714560    3.006603   10.899311   \n",
       "Catchbasin                          0.946927    2.444572    7.486829   \n",
       "Cemetery                            0.113744    0.594907   48.409045   \n",
       "Code Enforcement                    0.054375    0.234653    0.752431   \n",
       "Employee & General Comments         0.057905    0.628194    1.882604   \n",
       "Enforcement & Abandoned Vehicles    0.058322    0.181100    0.659583   \n",
       "Environmental Services              0.501516    0.871707    2.015515   \n",
       "Fire Department                     0.365845    0.729803    0.896429   \n",
       "Fire Hydrant                        2.174317    3.593819    5.515179   \n",
       "Generic Noise Disturbance           0.010162    0.476505    1.120243   \n",
       "Graffiti                           58.621837  146.779716  234.771024   \n",
       "Health                              0.142726    0.891817    1.243704   \n",
       "Highway Maintenance                 0.080775    0.833935    2.895012   \n",
       "Housing                             0.699439    2.948287    8.218006   \n",
       "Needle Program                      0.017248    0.029554    0.053157   \n",
       "Neighborhood Services Issues       12.663229   24.884931   32.983403   \n",
       "Noise Disturbance                   0.003857    0.543137    1.285790   \n",
       "Notification                        1.802569    7.719329   38.391088   \n",
       "Office of The Parking Clerk         1.640903    2.440463    3.240023   \n",
       "Operations                          0.697992    2.894306    7.657731   \n",
       "Park Maintenance & Safety           0.727187    1.884959    7.189925   \n",
       "Parking Complaints                  0.388090    0.889826    2.483206   \n",
       "Pothole                             1.924826    3.009109    5.652931   \n",
       "Programs                            0.001233    0.056863    0.813414   \n",
       "Recycling                           6.856282   12.930035   16.941421   \n",
       "Sanitation                          0.260671    0.979294    3.836354   \n",
       "Sidewalk Cover / Manhole            0.358148    2.873461    5.035451   \n",
       "Signs & Signals                     0.274618    1.857025    7.673981   \n",
       "Street Cleaning                     0.038113    0.101053    0.608889   \n",
       "Street Lights                       0.206887    3.820035   45.018024   \n",
       "Traffic Management & Engineering    0.089311    0.899005   11.439566   \n",
       "Trees                               0.086539   34.293947  154.915880   \n",
       "Weights and Measures                0.741134    0.900399    1.207185   \n",
       "\n",
       "                                          max  \n",
       "reason                                         \n",
       "Abandoned Bicycle                  317.709433  \n",
       "Administrative & General Requests  140.842130  \n",
       "Air Pollution Control               30.967199  \n",
       "Animal Issues                       11.121447  \n",
       "Billing                              0.009178  \n",
       "Building                           583.493900  \n",
       "Catchbasin                          61.852523  \n",
       "Cemetery                           138.205220  \n",
       "Code Enforcement                   524.912940  \n",
       "Employee & General Comments        528.188426  \n",
       "Enforcement & Abandoned Vehicles   532.237755  \n",
       "Environmental Services             603.946308  \n",
       "Fire Department                      1.063056  \n",
       "Fire Hydrant                        10.837072  \n",
       "Generic Noise Disturbance            2.973160  \n",
       "Graffiti                           584.074375  \n",
       "Health                              39.648924  \n",
       "Highway Maintenance                603.940174  \n",
       "Housing                            563.609132  \n",
       "Needle Program                       7.152766  \n",
       "Neighborhood Services Issues       109.932014  \n",
       "Noise Disturbance                    3.525995  \n",
       "Notification                        64.464780  \n",
       "Office of The Parking Clerk          4.039583  \n",
       "Operations                          15.175023  \n",
       "Park Maintenance & Safety          568.818704  \n",
       "Parking Complaints                  11.851447  \n",
       "Pothole                             14.143912  \n",
       "Programs                             3.142951  \n",
       "Recycling                          132.958819  \n",
       "Sanitation                          98.852222  \n",
       "Sidewalk Cover / Manhole            58.889340  \n",
       "Signs & Signals                    515.893796  \n",
       "Street Cleaning                    494.961852  \n",
       "Street Lights                      587.427130  \n",
       "Traffic Management & Engineering   183.835914  \n",
       "Trees                              589.909977  \n",
       "Weights and Measures                 1.808912  "
      ]
     },
     "execution_count": 53,
     "metadata": {},
     "output_type": "execute_result"
    }
   ],
   "source": [
    "# descriptive statistics for duration_in_days by case reason \n",
    "# box plot in table form \n",
    "df_closed.groupby(['reason'])['duration_in_days'].describe()"
   ]
  },
  {
   "cell_type": "markdown",
   "metadata": {
    "id": "T_IsTpoz3XGr"
   },
   "source": [
    "Graffiti cases take on average take the longests time to resolve, 60.796 days. "
   ]
  },
  {
   "cell_type": "markdown",
   "metadata": {
    "id": "-ByM_sxd3XGr"
   },
   "source": [
    "Do cases typically take longer in one neighborhood over another?"
   ]
  },
  {
   "cell_type": "code",
   "execution_count": 54,
   "metadata": {
    "colab": {
     "base_uri": "https://localhost:8080/",
     "height": 599
    },
    "executionInfo": {
     "elapsed": 3773,
     "status": "ok",
     "timestamp": 1660750490053,
     "user": {
      "displayName": "Michelle Voong",
      "userId": "06511363073265027000"
     },
     "user_tz": 240
    },
    "id": "Rqv_P4YC3XGr",
    "outputId": "75d10473-471d-44a9-df91-6ff7770b018d"
   },
   "outputs": [
    {
     "data": {
      "text/plain": [
       "<seaborn.axisgrid.FacetGrid at 0x2a79d67d0>"
      ]
     },
     "execution_count": 54,
     "metadata": {},
     "output_type": "execute_result"
    },
    {
     "data": {
      "image/png": "[encoded data removed]",
      "text/plain": [
       "<Figure size 1012.22x800 with 1 Axes>"
      ]
     },
     "metadata": {},
     "output_type": "display_data"
    }
   ],
   "source": [
    "# do cases typically take longer in one neighborhood over another?\n",
    "\n",
    "sns.catplot(y=\"neighborhood\", x=\"duration_in_days\", kind=\"box\", data=df_closed,\n",
    "            height = 8, aspect = 1.25)"
   ]
  },
  {
   "cell_type": "markdown",
   "metadata": {
    "id": "Eny2G4fw3XGr"
   },
   "source": [
    "The box plot above shows several outliers for each category (```neighborhood```) making it difficult to read and quite overwhelming. \n",
    "\n",
    "Let's display the information in table form. "
   ]
  },
  {
   "cell_type": "code",
   "execution_count": 55,
   "metadata": {
    "colab": {
     "base_uri": "https://localhost:8080/",
     "height": 834
    },
    "executionInfo": {
     "elapsed": 171,
     "status": "ok",
     "timestamp": 1660750491278,
     "user": {
      "displayName": "Michelle Voong",
      "userId": "06511363073265027000"
     },
     "user_tz": 240
    },
    "id": "ATal5UEM3XGs",
    "outputId": "11f169b2-c65b-4664-d4e6-354230542862"
   },
   "outputs": [
    {
     "data": {
      "text/html": [
       "<div>\n",
       "<style scoped>\n",
       "    .dataframe tbody tr th:only-of-type {\n",
       "        vertical-align: middle;\n",
       "    }\n",
       "\n",
       "    .dataframe tbody tr th {\n",
       "        vertical-align: top;\n",
       "    }\n",
       "\n",
       "    .dataframe thead th {\n",
       "        text-align: right;\n",
       "    }\n",
       "</style>\n",
       "<table border=\"1\" class=\"dataframe\">\n",
       "  <thead>\n",
       "    <tr style=\"text-align: right;\">\n",
       "      <th></th>\n",
       "      <th>count</th>\n",
       "      <th>mean</th>\n",
       "      <th>std</th>\n",
       "      <th>min</th>\n",
       "      <th>25%</th>\n",
       "      <th>50%</th>\n",
       "      <th>75%</th>\n",
       "      <th>max</th>\n",
       "    </tr>\n",
       "    <tr>\n",
       "      <th>neighborhood</th>\n",
       "      <th></th>\n",
       "      <th></th>\n",
       "      <th></th>\n",
       "      <th></th>\n",
       "      <th></th>\n",
       "      <th></th>\n",
       "      <th></th>\n",
       "      <th></th>\n",
       "    </tr>\n",
       "  </thead>\n",
       "  <tbody>\n",
       "    <tr>\n",
       "      <th></th>\n",
       "      <td>491.0</td>\n",
       "      <td>10.833381</td>\n",
       "      <td>43.836903</td>\n",
       "      <td>0.000127</td>\n",
       "      <td>0.061603</td>\n",
       "      <td>0.734352</td>\n",
       "      <td>2.676522</td>\n",
       "      <td>568.818704</td>\n",
       "    </tr>\n",
       "    <tr>\n",
       "      <th>Allston</th>\n",
       "      <td>151.0</td>\n",
       "      <td>15.539769</td>\n",
       "      <td>56.261137</td>\n",
       "      <td>0.000058</td>\n",
       "      <td>0.136285</td>\n",
       "      <td>0.942199</td>\n",
       "      <td>2.944201</td>\n",
       "      <td>375.104931</td>\n",
       "    </tr>\n",
       "    <tr>\n",
       "      <th>Allston / Brighton</th>\n",
       "      <td>4056.0</td>\n",
       "      <td>11.868263</td>\n",
       "      <td>46.064457</td>\n",
       "      <td>0.000185</td>\n",
       "      <td>0.080631</td>\n",
       "      <td>0.554369</td>\n",
       "      <td>2.507882</td>\n",
       "      <td>540.453831</td>\n",
       "    </tr>\n",
       "    <tr>\n",
       "      <th>Back Bay</th>\n",
       "      <td>2823.0</td>\n",
       "      <td>16.855041</td>\n",
       "      <td>67.367068</td>\n",
       "      <td>0.000197</td>\n",
       "      <td>0.045862</td>\n",
       "      <td>0.247512</td>\n",
       "      <td>1.528461</td>\n",
       "      <td>570.771458</td>\n",
       "    </tr>\n",
       "    <tr>\n",
       "      <th>Beacon Hill</th>\n",
       "      <td>1670.0</td>\n",
       "      <td>19.272320</td>\n",
       "      <td>81.824212</td>\n",
       "      <td>0.000301</td>\n",
       "      <td>0.045593</td>\n",
       "      <td>0.192951</td>\n",
       "      <td>1.080414</td>\n",
       "      <td>594.315162</td>\n",
       "    </tr>\n",
       "    <tr>\n",
       "      <th>Boston</th>\n",
       "      <td>1900.0</td>\n",
       "      <td>18.526613</td>\n",
       "      <td>71.031982</td>\n",
       "      <td>0.000046</td>\n",
       "      <td>0.046267</td>\n",
       "      <td>0.407917</td>\n",
       "      <td>1.934959</td>\n",
       "      <td>562.049248</td>\n",
       "    </tr>\n",
       "    <tr>\n",
       "      <th>Brighton</th>\n",
       "      <td>310.0</td>\n",
       "      <td>8.123019</td>\n",
       "      <td>29.190079</td>\n",
       "      <td>0.000266</td>\n",
       "      <td>0.079433</td>\n",
       "      <td>0.585486</td>\n",
       "      <td>2.148709</td>\n",
       "      <td>326.748692</td>\n",
       "    </tr>\n",
       "    <tr>\n",
       "      <th>Charlestown</th>\n",
       "      <td>2186.0</td>\n",
       "      <td>17.604676</td>\n",
       "      <td>72.191774</td>\n",
       "      <td>0.000081</td>\n",
       "      <td>0.072396</td>\n",
       "      <td>0.325388</td>\n",
       "      <td>1.674595</td>\n",
       "      <td>589.909977</td>\n",
       "    </tr>\n",
       "    <tr>\n",
       "      <th>Chestnut Hill</th>\n",
       "      <td>4.0</td>\n",
       "      <td>19.085666</td>\n",
       "      <td>30.059715</td>\n",
       "      <td>0.148611</td>\n",
       "      <td>0.185148</td>\n",
       "      <td>6.448744</td>\n",
       "      <td>25.349262</td>\n",
       "      <td>63.296563</td>\n",
       "    </tr>\n",
       "    <tr>\n",
       "      <th>Dorchester</th>\n",
       "      <td>9366.0</td>\n",
       "      <td>9.491881</td>\n",
       "      <td>42.849586</td>\n",
       "      <td>0.000046</td>\n",
       "      <td>0.071412</td>\n",
       "      <td>0.554543</td>\n",
       "      <td>2.071262</td>\n",
       "      <td>587.427130</td>\n",
       "    </tr>\n",
       "    <tr>\n",
       "      <th>Downtown / Financial District</th>\n",
       "      <td>3525.0</td>\n",
       "      <td>14.441185</td>\n",
       "      <td>65.895016</td>\n",
       "      <td>0.000231</td>\n",
       "      <td>0.052859</td>\n",
       "      <td>0.257211</td>\n",
       "      <td>1.141690</td>\n",
       "      <td>571.885799</td>\n",
       "    </tr>\n",
       "    <tr>\n",
       "      <th>East Boston</th>\n",
       "      <td>4521.0</td>\n",
       "      <td>8.631525</td>\n",
       "      <td>45.052398</td>\n",
       "      <td>0.000058</td>\n",
       "      <td>0.039456</td>\n",
       "      <td>0.195949</td>\n",
       "      <td>1.001644</td>\n",
       "      <td>580.336366</td>\n",
       "    </tr>\n",
       "    <tr>\n",
       "      <th>Fenway / Kenmore / Audubon Circle / Longwood</th>\n",
       "      <td>1064.0</td>\n",
       "      <td>17.341071</td>\n",
       "      <td>60.847297</td>\n",
       "      <td>0.000150</td>\n",
       "      <td>0.105350</td>\n",
       "      <td>0.676551</td>\n",
       "      <td>2.828874</td>\n",
       "      <td>551.646620</td>\n",
       "    </tr>\n",
       "    <tr>\n",
       "      <th>Greater Mattapan</th>\n",
       "      <td>2460.0</td>\n",
       "      <td>9.876554</td>\n",
       "      <td>45.725297</td>\n",
       "      <td>0.000104</td>\n",
       "      <td>0.086091</td>\n",
       "      <td>0.699769</td>\n",
       "      <td>3.032526</td>\n",
       "      <td>562.062465</td>\n",
       "    </tr>\n",
       "    <tr>\n",
       "      <th>Hyde Park</th>\n",
       "      <td>2357.0</td>\n",
       "      <td>12.544617</td>\n",
       "      <td>47.043353</td>\n",
       "      <td>0.000127</td>\n",
       "      <td>0.084641</td>\n",
       "      <td>0.776609</td>\n",
       "      <td>6.126782</td>\n",
       "      <td>537.164329</td>\n",
       "    </tr>\n",
       "    <tr>\n",
       "      <th>Jamaica Plain</th>\n",
       "      <td>3820.0</td>\n",
       "      <td>15.715611</td>\n",
       "      <td>58.847274</td>\n",
       "      <td>0.000104</td>\n",
       "      <td>0.086536</td>\n",
       "      <td>0.614716</td>\n",
       "      <td>2.743571</td>\n",
       "      <td>585.815822</td>\n",
       "    </tr>\n",
       "    <tr>\n",
       "      <th>Mattapan</th>\n",
       "      <td>81.0</td>\n",
       "      <td>3.436738</td>\n",
       "      <td>10.947848</td>\n",
       "      <td>0.000069</td>\n",
       "      <td>0.045116</td>\n",
       "      <td>0.724549</td>\n",
       "      <td>1.977836</td>\n",
       "      <td>74.172245</td>\n",
       "    </tr>\n",
       "    <tr>\n",
       "      <th>Mission Hill</th>\n",
       "      <td>1032.0</td>\n",
       "      <td>15.367266</td>\n",
       "      <td>57.689062</td>\n",
       "      <td>0.000081</td>\n",
       "      <td>0.060599</td>\n",
       "      <td>0.354983</td>\n",
       "      <td>2.059719</td>\n",
       "      <td>576.776076</td>\n",
       "    </tr>\n",
       "    <tr>\n",
       "      <th>Roslindale</th>\n",
       "      <td>2134.0</td>\n",
       "      <td>14.755597</td>\n",
       "      <td>57.398020</td>\n",
       "      <td>0.000289</td>\n",
       "      <td>0.114181</td>\n",
       "      <td>0.737297</td>\n",
       "      <td>2.900839</td>\n",
       "      <td>563.609132</td>\n",
       "    </tr>\n",
       "    <tr>\n",
       "      <th>Roxbury</th>\n",
       "      <td>5215.0</td>\n",
       "      <td>11.810554</td>\n",
       "      <td>53.418036</td>\n",
       "      <td>0.000069</td>\n",
       "      <td>0.073767</td>\n",
       "      <td>0.532662</td>\n",
       "      <td>2.002870</td>\n",
       "      <td>603.946308</td>\n",
       "    </tr>\n",
       "    <tr>\n",
       "      <th>South Boston</th>\n",
       "      <td>630.0</td>\n",
       "      <td>6.656760</td>\n",
       "      <td>38.121694</td>\n",
       "      <td>0.000058</td>\n",
       "      <td>0.056256</td>\n",
       "      <td>0.231331</td>\n",
       "      <td>1.078061</td>\n",
       "      <td>525.996389</td>\n",
       "    </tr>\n",
       "    <tr>\n",
       "      <th>South Boston / South Boston Waterfront</th>\n",
       "      <td>5692.0</td>\n",
       "      <td>7.849862</td>\n",
       "      <td>39.280858</td>\n",
       "      <td>0.000150</td>\n",
       "      <td>0.052755</td>\n",
       "      <td>0.191372</td>\n",
       "      <td>0.899716</td>\n",
       "      <td>550.002245</td>\n",
       "    </tr>\n",
       "    <tr>\n",
       "      <th>South End</th>\n",
       "      <td>3733.0</td>\n",
       "      <td>9.892021</td>\n",
       "      <td>46.265123</td>\n",
       "      <td>0.000243</td>\n",
       "      <td>0.044919</td>\n",
       "      <td>0.197199</td>\n",
       "      <td>1.029641</td>\n",
       "      <td>578.972523</td>\n",
       "    </tr>\n",
       "    <tr>\n",
       "      <th>West Roxbury</th>\n",
       "      <td>1786.0</td>\n",
       "      <td>20.642900</td>\n",
       "      <td>74.433785</td>\n",
       "      <td>0.000081</td>\n",
       "      <td>0.120972</td>\n",
       "      <td>0.830689</td>\n",
       "      <td>4.028979</td>\n",
       "      <td>580.101019</td>\n",
       "    </tr>\n",
       "  </tbody>\n",
       "</table>\n",
       "</div>"
      ],
      "text/plain": [
       "                                               count       mean        std  \\\n",
       "neighborhood                                                                 \n",
       "                                               491.0  10.833381  43.836903   \n",
       "Allston                                        151.0  15.539769  56.261137   \n",
       "Allston / Brighton                            4056.0  11.868263  46.064457   \n",
       "Back Bay                                      2823.0  16.855041  67.367068   \n",
       "Beacon Hill                                   1670.0  19.272320  81.824212   \n",
       "Boston                                        1900.0  18.526613  71.031982   \n",
       "Brighton                                       310.0   8.123019  29.190079   \n",
       "Charlestown                                   2186.0  17.604676  72.191774   \n",
       "Chestnut Hill                                    4.0  19.085666  30.059715   \n",
       "Dorchester                                    9366.0   9.491881  42.849586   \n",
       "Downtown / Financial District                 3525.0  14.441185  65.895016   \n",
       "East Boston                                   4521.0   8.631525  45.052398   \n",
       "Fenway / Kenmore / Audubon Circle / Longwood  1064.0  17.341071  60.847297   \n",
       "Greater Mattapan                              2460.0   9.876554  45.725297   \n",
       "Hyde Park                                     2357.0  12.544617  47.043353   \n",
       "Jamaica Plain                                 3820.0  15.715611  58.847274   \n",
       "Mattapan                                        81.0   3.436738  10.947848   \n",
       "Mission Hill                                  1032.0  15.367266  57.689062   \n",
       "Roslindale                                    2134.0  14.755597  57.398020   \n",
       "Roxbury                                       5215.0  11.810554  53.418036   \n",
       "South Boston                                   630.0   6.656760  38.121694   \n",
       "South Boston / South Boston Waterfront        5692.0   7.849862  39.280858   \n",
       "South End                                     3733.0   9.892021  46.265123   \n",
       "West Roxbury                                  1786.0  20.642900  74.433785   \n",
       "\n",
       "                                                   min       25%       50%  \\\n",
       "neighborhood                                                                 \n",
       "                                              0.000127  0.061603  0.734352   \n",
       "Allston                                       0.000058  0.136285  0.942199   \n",
       "Allston / Brighton                            0.000185  0.080631  0.554369   \n",
       "Back Bay                                      0.000197  0.045862  0.247512   \n",
       "Beacon Hill                                   0.000301  0.045593  0.192951   \n",
       "Boston                                        0.000046  0.046267  0.407917   \n",
       "Brighton                                      0.000266  0.079433  0.585486   \n",
       "Charlestown                                   0.000081  0.072396  0.325388   \n",
       "Chestnut Hill                                 0.148611  0.185148  6.448744   \n",
       "Dorchester                                    0.000046  0.071412  0.554543   \n",
       "Downtown / Financial District                 0.000231  0.052859  0.257211   \n",
       "East Boston                                   0.000058  0.039456  0.195949   \n",
       "Fenway / Kenmore / Audubon Circle / Longwood  0.000150  0.105350  0.676551   \n",
       "Greater Mattapan                              0.000104  0.086091  0.699769   \n",
       "Hyde Park                                     0.000127  0.084641  0.776609   \n",
       "Jamaica Plain                                 0.000104  0.086536  0.614716   \n",
       "Mattapan                                      0.000069  0.045116  0.724549   \n",
       "Mission Hill                                  0.000081  0.060599  0.354983   \n",
       "Roslindale                                    0.000289  0.114181  0.737297   \n",
       "Roxbury                                       0.000069  0.073767  0.532662   \n",
       "South Boston                                  0.000058  0.056256  0.231331   \n",
       "South Boston / South Boston Waterfront        0.000150  0.052755  0.191372   \n",
       "South End                                     0.000243  0.044919  0.197199   \n",
       "West Roxbury                                  0.000081  0.120972  0.830689   \n",
       "\n",
       "                                                    75%         max  \n",
       "neighborhood                                                         \n",
       "                                               2.676522  568.818704  \n",
       "Allston                                        2.944201  375.104931  \n",
       "Allston / Brighton                             2.507882  540.453831  \n",
       "Back Bay                                       1.528461  570.771458  \n",
       "Beacon Hill                                    1.080414  594.315162  \n",
       "Boston                                         1.934959  562.049248  \n",
       "Brighton                                       2.148709  326.748692  \n",
       "Charlestown                                    1.674595  589.909977  \n",
       "Chestnut Hill                                 25.349262   63.296563  \n",
       "Dorchester                                     2.071262  587.427130  \n",
       "Downtown / Financial District                  1.141690  571.885799  \n",
       "East Boston                                    1.001644  580.336366  \n",
       "Fenway / Kenmore / Audubon Circle / Longwood   2.828874  551.646620  \n",
       "Greater Mattapan                               3.032526  562.062465  \n",
       "Hyde Park                                      6.126782  537.164329  \n",
       "Jamaica Plain                                  2.743571  585.815822  \n",
       "Mattapan                                       1.977836   74.172245  \n",
       "Mission Hill                                   2.059719  576.776076  \n",
       "Roslindale                                     2.900839  563.609132  \n",
       "Roxbury                                        2.002870  603.946308  \n",
       "South Boston                                   1.078061  525.996389  \n",
       "South Boston / South Boston Waterfront         0.899716  550.002245  \n",
       "South End                                      1.029641  578.972523  \n",
       "West Roxbury                                   4.028979  580.101019  "
      ]
     },
     "execution_count": 55,
     "metadata": {},
     "output_type": "execute_result"
    }
   ],
   "source": [
    "# in table form \n",
    "df_closed.groupby(['neighborhood'])['duration_in_days'].describe()"
   ]
  },
  {
   "cell_type": "markdown",
   "metadata": {
    "id": "PPQ6jDXE3XGs"
   },
   "source": [
    "In January 2022 - March 2022, cases took the longest in Chestnut Hill. Cases typically lasted on average 19.075 days but there were only 4 cases located in Chestnut Hill during this time. Smaller sample sizes could mean more variability (look at standard deviation to explain the spread of observations).  \n",
    "\n",
    "We can further look at the population of Chestnut Hill versus the other neighborhoods to try and make sense of this low case count. Additionally, we can broaden the time period of the cases to see if Chestnut Hill still has a low case count. \n",
    "\n",
    "From the table above we can see how long cases take by each neighborhood, it would be interesting to further breakdown by case reason for each neighborhood. "
   ]
  },
  {
   "cell_type": "markdown",
   "metadata": {
    "id": "k-jjw5d13XGs"
   },
   "source": [
    "### Wrap Up, Next Steps \n",
    "\n",
    "Further analysis could be done using the 311 dataset. Using the 311 data from previous years, we can see how number of requests have changed over the years, or how case duration may have changed over the years. \n",
    "\n",
    "Since most requests have latitude and longitude coordinates it could be interesting to plot each case request on a map to see if there are clusters of requests in certain locations.  \n",
    "\n",
    "Next steps could include gathering demographic data to overlay on top of the 311 dataset for further analysis. Another possible next step would be to build a model to predict how long a request could take given the request reason, subject, location, source, etc. "
   ]
  }
 ],
 "metadata": {
  "colab": {
   "name": "eda.ipynb",
   "provenance": []
  },
  "kernelspec": {
   "display_name": "Python 3",
   "language": "python",
   "name": "python3"
  },
  "language_info": {
   "codemirror_mode": {
    "name": "ipython",
    "version": 3
   },
   "file_extension": ".py",
   "mimetype": "text/x-python",
   "name": "python",
   "nbconvert_exporter": "python",
   "pygments_lexer": "ipython3",
   "version": "3.11.5"
  },
  "vscode": {
   "interpreter": {
    "hash": "56b72aab97c5d88c22a6bf5872989e2e65e9296dc12395fbfb8350007c775deb"
   }
  }
 },
 "nbformat": 4,
 "nbformat_minor": 4
}
