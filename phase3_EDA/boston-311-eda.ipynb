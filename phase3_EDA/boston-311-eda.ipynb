{
 "cells": [
  {
   "cell_type": "markdown",
   "metadata": {
    "id": "ddjpnB8_3XGb"
   },
   "source": [
    "# Getting Started With Exploratory Data Analysis (EDA)"
   ]
  },
  {
   "cell_type": "markdown",
   "metadata": {},
   "source": [
    "<a href=\"https://colab.research.google.com/github/BU-Spark/ml-549-course/blob/main/phase3_EDA/eda.ipynb\" target=\"_parent\"><img src=\"https://colab.research.google.com/assets/colab-badge.svg\" alt=\"Open In Colab\"/></a>\n",
    "\n",
    "This notebook serves as a starter guide or template for exploratory data analysis. It will go over the topics mentioned in the EDA guide. "
   ]
  },
  {
   "cell_type": "code",
   "execution_count": null,
   "metadata": {
    "executionInfo": {
     "elapsed": 684,
     "status": "ok",
     "timestamp": 1660749047476,
     "user": {
      "displayName": "Michelle Voong",
      "userId": "06511363073265027000"
     },
     "user_tz": 240
    },
    "id": "Sz9Ta_KR3XGd"
   },
   "outputs": [],
   "source": [
    "# let's start off by importing the libraries we will need for eda\n",
    "import pandas as pd\n",
    "import numpy as np \n",
    "\n",
    "# for visualizations : \n",
    "import seaborn as sns\n",
    "import matplotlib.pyplot as plt"
   ]
  },
  {
   "cell_type": "markdown",
   "metadata": {
    "id": "Fp7TlhYn3XGe"
   },
   "source": [
    "The dataset we will be using in this tutorial is from Analyze Boston. Analyze Boston is the City of Boston's data hub and is a great resource for data sets regarding the city. \n",
    "\n",
    "We will be working with the 2022 311 Service Requests dataset. The dataset consists of service requests from all channels of engagement. 311 allows you to report non-emergency issues or request non-emergency City services. \n",
    "\n",
    "Link: https://data.boston.gov/dataset/311-service-requests "
   ]
  },
  {
   "cell_type": "code",
   "execution_count": null,
   "metadata": {},
   "outputs": [],
   "source": [
    "import os\n",
    "import requests\n",
    "from tqdm import tqdm\n",
    "\n",
    "def download_csv(url, filename):\n",
    "    # Check if the file already exists\n",
    "    if os.path.exists(filename):\n",
    "        print(f\"The file {filename} already exists.\")\n",
    "        return\n",
    "\n",
    "    response = requests.get(url, stream=True)\n",
    "\n",
    "    total_size_in_bytes= int(response.headers.get('content-length', 0))\n",
    "    block_size = 1024 #1 Kibibyte\n",
    "    progress_bar = tqdm(total=total_size_in_bytes, unit='iB', unit_scale=True)\n",
    "\n",
    "    with open(filename, 'wb') as file:\n",
    "        for data in response.iter_content(block_size):\n",
    "            progress_bar.update(len(data))\n",
    "            file.write(data)\n",
    "    progress_bar.close()\n",
    "    if total_size_in_bytes != 0 and progress_bar.n != total_size_in_bytes:\n",
    "        print(\"ERROR, something went wrong\")\n",
    "\n",
    "# Use the function\n",
    "url = \"https://data.boston.gov/datastore/dump/81a7b022-f8fc-4da5-80e4-b160058ca207?bom=True\"\n",
    "filename = \"311-requests.csv\"\n",
    "download_csv(url, filename)"
   ]
  },
  {
   "cell_type": "code",
   "execution_count": null,
   "metadata": {
    "executionInfo": {
     "elapsed": 3235,
     "status": "ok",
     "timestamp": 1660749130571,
     "user": {
      "displayName": "Michelle Voong",
      "userId": "06511363073265027000"
     },
     "user_tz": 240
    },
    "id": "NHmBeJL-3XGe"
   },
   "outputs": [],
   "source": [
    "# read in dataset\n",
    "df = pd.read_csv('311-requests.csv') "
   ]
  },
  {
   "cell_type": "code",
   "execution_count": null,
   "metadata": {
    "colab": {
     "base_uri": "https://localhost:8080/",
     "height": 473
    },
    "executionInfo": {
     "elapsed": 185,
     "status": "ok",
     "timestamp": 1660749131739,
     "user": {
      "displayName": "Michelle Voong",
      "userId": "06511363073265027000"
     },
     "user_tz": 240
    },
    "id": "RuB_ntWw3XGe",
    "outputId": "a0b882db-254c-4b59-e463-fc82d73a859d"
   },
   "outputs": [],
   "source": [
    "# let's look at the first five rows of the dataset\n",
    "df.head()"
   ]
  },
  {
   "cell_type": "markdown",
   "metadata": {
    "id": "V9awyGqH3XGf"
   },
   "source": [
    "How many observations/rows are there? <br>\n",
    "\n",
    "How many variables/columns are there? <br>\n",
    "\n",
    "What kinds of variables are there? Qualitative? Quantitative? Both? <br>"
   ]
  },
  {
   "cell_type": "code",
   "execution_count": null,
   "metadata": {
    "colab": {
     "base_uri": "https://localhost:8080/"
    },
    "executionInfo": {
     "elapsed": 146,
     "status": "ok",
     "timestamp": 1660749139509,
     "user": {
      "displayName": "Michelle Voong",
      "userId": "06511363073265027000"
     },
     "user_tz": 240
    },
    "id": "7_i0S7QS3XGg",
    "outputId": "c8239e1d-45a7-4992-e9f8-9285d1f371c1"
   },
   "outputs": [],
   "source": [
    "# number of observations \n",
    "df.shape[0]"
   ]
  },
  {
   "cell_type": "code",
   "execution_count": null,
   "metadata": {
    "colab": {
     "base_uri": "https://localhost:8080/"
    },
    "executionInfo": {
     "elapsed": 410,
     "status": "ok",
     "timestamp": 1660749141906,
     "user": {
      "displayName": "Michelle Voong",
      "userId": "06511363073265027000"
     },
     "user_tz": 240
    },
    "id": "FXPERBa33XGg",
    "outputId": "7919a93f-397b-434c-ae3d-6acd9e82f811"
   },
   "outputs": [],
   "source": [
    "# to see column name, count, and dtype of each column \n",
    "df.info()"
   ]
  },
  {
   "cell_type": "markdown",
   "metadata": {
    "id": "L4hHLcT_3XGg"
   },
   "source": [
    "There are 146373 rows (observations). <br>\n",
    "\n",
    "There are 29 columns (variables). <br> \n",
    "\n",
    "There are both categorical and numerical variables. At quick glance there seems to be more categorical variables than numerical variables. \n",
    "\n",
    "Categorical Variables:\n",
    "```case_status```, ```neighborhood```, ```source```, etc. \n",
    "\n",
    "Numerical Variables: \n",
    "... maybe not?\n",
    "\n",
    "The ```case_enquiry_id``` is a unique identifier for each row, ```closedphoto``` has 0 non-null values so it might be worth it to drop this column since there is no additional information we can gather, columns such as ```location_zipcode```, ```latitude```, ```longitude``` not exactly numeric varaibles, since they are numbers that represent different codes. "
   ]
  },
  {
   "cell_type": "markdown",
   "metadata": {
    "id": "kx8VeHIz3XGh"
   },
   "source": [
    "### Cleaning \n",
    "\n",
    "Let's convert the three time variables (```open_dt```, ```target_dt```, and ```closed_dt```) from objects to pandas datetime objects.\n",
    "Let's focus on service requests for a set period of time in 2022. \n",
    "We will start by filtering for service requests that were opened from January 2022 to March 2022. "
   ]
  },
  {
   "cell_type": "code",
   "execution_count": null,
   "metadata": {
    "executionInfo": {
     "elapsed": 397,
     "status": "ok",
     "timestamp": 1660749154304,
     "user": {
      "displayName": "Michelle Voong",
      "userId": "06511363073265027000"
     },
     "user_tz": 240
    },
    "id": "192xeVVj3XGi"
   },
   "outputs": [],
   "source": [
    "# changing the three columns with dates and times to pandas datetime object \n",
    "df['open_dt'] = pd.to_datetime(df['open_dt'])\n",
    "df['sla_target_dt'] = pd.to_datetime(df['sla_target_dt'])\n",
    "df['closed_dt'] = pd.to_datetime(df['closed_dt'])\n",
    "\n",
    "# output is long, but run the line below to check the type of the three columns \n",
    "df.dtypes"
   ]
  },
  {
   "cell_type": "code",
   "execution_count": null,
   "metadata": {
    "colab": {
     "base_uri": "https://localhost:8080/",
     "height": 473
    },
    "executionInfo": {
     "elapsed": 466,
     "status": "ok",
     "timestamp": 1660749168157,
     "user": {
      "displayName": "Michelle Voong",
      "userId": "06511363073265027000"
     },
     "user_tz": 240
    },
    "id": "by1Bndru3XGi",
    "outputId": "136b7f95-18a7-4cf6-e7e5-fe23b29fd5d2"
   },
   "outputs": [],
   "source": [
    "# filter data for 311 requests from january 2022 to march 2022 \n",
    "df_filtered = df.loc[(df['open_dt'] >= '2022-01-01') &\n",
    "                  (df['open_dt'] < '2022-03-31')]\n",
    "df_filtered.head()"
   ]
  },
  {
   "cell_type": "markdown",
   "metadata": {
    "id": "bN8js-KV3XGi"
   },
   "source": [
    "From our previous observation, since ```closedphoto``` column does not contain any non-null values, let's drop it. "
   ]
  },
  {
   "cell_type": "code",
   "execution_count": null,
   "metadata": {
    "executionInfo": {
     "elapsed": 169,
     "status": "ok",
     "timestamp": 1660749175696,
     "user": {
      "displayName": "Michelle Voong",
      "userId": "06511363073265027000"
     },
     "user_tz": 240
    },
    "id": "1WbGfbB-3XGj"
   },
   "outputs": [],
   "source": [
    "# drop closedphoto column\n",
    "df_filtered = df_filtered.drop(columns=['closed_photo'])"
   ]
  },
  {
   "cell_type": "markdown",
   "metadata": {
    "id": "1-1Xft-j3XGj"
   },
   "source": [
    "After filtering the service requests, let's see how many observations we are left with.  "
   ]
  },
  {
   "cell_type": "code",
   "execution_count": null,
   "metadata": {
    "colab": {
     "base_uri": "https://localhost:8080/"
    },
    "executionInfo": {
     "elapsed": 168,
     "status": "ok",
     "timestamp": 1660749180879,
     "user": {
      "displayName": "Michelle Voong",
      "userId": "06511363073265027000"
     },
     "user_tz": 240
    },
    "id": "zer9SUz53XGj",
    "outputId": "b79298af-30e4-4a51-f561-aa5f1fdf7df6"
   },
   "outputs": [],
   "source": [
    "# how many requests were opened from Jan 2022 to March 2022\n",
    "df_filtered.shape[0]"
   ]
  },
  {
   "cell_type": "markdown",
   "metadata": {
    "id": "Yp8drXE53XGj"
   },
   "source": [
    "From a quick preview of the dataframe, we can see that some of the requests are still open. \n",
    "Let's see how many observations are open vs. closed and then how many are ontime vs. overdue from the set of requests from January 2022 to March 2022. "
   ]
  },
  {
   "cell_type": "code",
   "execution_count": null,
   "metadata": {
    "colab": {
     "base_uri": "https://localhost:8080/"
    },
    "executionInfo": {
     "elapsed": 154,
     "status": "ok",
     "timestamp": 1660749184353,
     "user": {
      "displayName": "Michelle Voong",
      "userId": "06511363073265027000"
     },
     "user_tz": 240
    },
    "id": "qVvAdLR33XGj",
    "outputId": "0ad96441-4ed2-47ce-c5fa-0d41370b5968"
   },
   "outputs": [],
   "source": [
    "# checking how many open vs. closed cases\n",
    "df_filtered['case_status'].value_counts()"
   ]
  },
  {
   "cell_type": "code",
   "execution_count": null,
   "metadata": {
    "colab": {
     "base_uri": "https://localhost:8080/",
     "height": 248
    },
    "executionInfo": {
     "elapsed": 418,
     "status": "ok",
     "timestamp": 1660749326726,
     "user": {
      "displayName": "Michelle Voong",
      "userId": "06511363073265027000"
     },
     "user_tz": 240
    },
    "id": "_r0bJVQKXme0",
    "outputId": "59e17c22-4fcb-487b-9161-63712109c85f"
   },
   "outputs": [],
   "source": [
    "# visualize case_status in pie chart, set color palette \n",
    "colors = sns.color_palette('muted')[0:5]\n",
    "ax = df_filtered['case_status'].value_counts().plot.pie(colors=colors)\n",
    "ax.yaxis.set_visible(False)"
   ]
  },
  {
   "cell_type": "code",
   "execution_count": null,
   "metadata": {
    "colab": {
     "base_uri": "https://localhost:8080/"
    },
    "executionInfo": {
     "elapsed": 224,
     "status": "ok",
     "timestamp": 1660749189364,
     "user": {
      "displayName": "Michelle Voong",
      "userId": "06511363073265027000"
     },
     "user_tz": 240
    },
    "id": "nQPtlHzC3XGk",
    "outputId": "3e1bcf12-7b65-49d8-e7ef-ac83f656b833"
   },
   "outputs": [],
   "source": [
    "# checking how many ontime vs. overdue cases \n",
    "df_filtered['on_time'].value_counts()"
   ]
  },
  {
   "cell_type": "code",
   "execution_count": null,
   "metadata": {
    "colab": {
     "base_uri": "https://localhost:8080/",
     "height": 248
    },
    "executionInfo": {
     "elapsed": 183,
     "status": "ok",
     "timestamp": 1660749624425,
     "user": {
      "displayName": "Michelle Voong",
      "userId": "06511363073265027000"
     },
     "user_tz": 240
    },
    "id": "ShFJvIZZY8pK",
    "outputId": "db9988e0-e740-47f4-ccb9-9547fbf12028"
   },
   "outputs": [],
   "source": [
    "# visualize ontime in pie chart, set color palette \n",
    "colors = sns.color_palette('bright')[0:5]\n",
    "ax = df_filtered['on_time'].value_counts().plot.pie(colors=colors)\n",
    "ax.yaxis.set_visible(False)"
   ]
  },
  {
   "cell_type": "markdown",
   "metadata": {
    "id": "eRG8V6HJ3XGk"
   },
   "source": [
    "### Descriptive Statistics \n",
    "\n",
    "Pandas makes this easy! We can use ```describe()``` to get the descriptive statistics of the numerical columns. "
   ]
  },
  {
   "cell_type": "code",
   "execution_count": null,
   "metadata": {
    "colab": {
     "base_uri": "https://localhost:8080/",
     "height": 300
    },
    "executionInfo": {
     "elapsed": 411,
     "status": "ok",
     "timestamp": 1660749657584,
     "user": {
      "displayName": "Michelle Voong",
      "userId": "06511363073265027000"
     },
     "user_tz": 240
    },
    "id": "TmoyIhcQ3XGk",
    "outputId": "9f5f96f5-63e6-49db-df1a-267feea6fd4e"
   },
   "outputs": [],
   "source": [
    "df_filtered.describe()"
   ]
  },
  {
   "cell_type": "markdown",
   "metadata": {
    "id": "ZD_Qbb3q3XGk"
   },
   "source": [
    "As mentioned before, the ```case_enquiry_id```, ```location_zipcode```, ```latitude```, and ```longitude``` columns are not numeric variables. The descriptive statistics are not very useful in this situation. \n",
    "\n",
    "What would be a useful numeric variable is the duration of a request. Let's calculate the duration of each of the requests from January 2022 to March 2022 and add it as a new column in our dataframe. "
   ]
  },
  {
   "cell_type": "code",
   "execution_count": null,
   "metadata": {
    "colab": {
     "base_uri": "https://localhost:8080/",
     "height": 473
    },
    "executionInfo": {
     "elapsed": 292,
     "status": "ok",
     "timestamp": 1660750056171,
     "user": {
      "displayName": "Michelle Voong",
      "userId": "06511363073265027000"
     },
     "user_tz": 240
    },
    "id": "hn8idfZv3XGk",
    "outputId": "5699059b-f1c0-478f-8b3f-a59c7cf97def"
   },
   "outputs": [],
   "source": [
    "# calculating case duration and adding a new column (case_duration) to the dataframe \n",
    "duration = df_filtered['closed_dt'] - df_filtered['open_dt']\n",
    "df_filtered = df_filtered.assign(case_duration=duration)\n",
    "df_filtered.head()"
   ]
  },
  {
   "cell_type": "markdown",
   "metadata": {
    "id": "zkGd14C03XGl"
   },
   "source": [
    "Now we can see the new ```case_duration``` column. Some values are ```NaT```, which means there is a missing date. This makes sense because the ```case_status``` is ```OPEN```. \n",
    "\n",
    "Let's filter out the open cases and focus on analyzing the duration of the closed cases. "
   ]
  },
  {
   "cell_type": "code",
   "execution_count": null,
   "metadata": {
    "colab": {
     "base_uri": "https://localhost:8080/",
     "height": 508
    },
    "executionInfo": {
     "elapsed": 186,
     "status": "ok",
     "timestamp": 1660750101255,
     "user": {
      "displayName": "Michelle Voong",
      "userId": "06511363073265027000"
     },
     "user_tz": 240
    },
    "id": "_iklB0Lp3XGl",
    "outputId": "7d94f836-1ddd-46df-8f52-3bafbb9080df"
   },
   "outputs": [],
   "source": [
    "# filter out the open cases\n",
    "df_closed = df_filtered.loc[(df_filtered['case_status'] == \"Closed\")]\n",
    "df_closed.head()"
   ]
  },
  {
   "cell_type": "markdown",
   "metadata": {
    "id": "0QDlAacu3XGl"
   },
   "source": [
    "With the closed cases, let's calculate the descriptive statistics of the new ```case_duration``` column. "
   ]
  },
  {
   "cell_type": "code",
   "execution_count": null,
   "metadata": {
    "colab": {
     "base_uri": "https://localhost:8080/",
     "height": 300
    },
    "executionInfo": {
     "elapsed": 203,
     "status": "ok",
     "timestamp": 1660750128267,
     "user": {
      "displayName": "Michelle Voong",
      "userId": "06511363073265027000"
     },
     "user_tz": 240
    },
    "id": "yLcXjhBp3XGl",
    "outputId": "9d545e11-f7eb-494a-be03-6c68c34fe324"
   },
   "outputs": [],
   "source": [
    "# let's calculate the descriptive statistics again \n",
    "# using double brackets to display in a *fancy* table format\n",
    "df_closed[['case_duration']].describe()"
   ]
  },
  {
   "cell_type": "markdown",
   "metadata": {
    "id": "lrbhQFgx3XGl"
   },
   "source": [
    "From the table, we can see that the average case duration is ~4.5 days. <br>\n",
    "The standard deviation for the case duration is ~15.4 days. <br>\n",
    "The minimum time a case takes to close is 4 minutes. <br>\n",
    "The maximum time a case takes to close is ~181.6 days. <br>\n",
    "The inter-quartile range (IQR) is the difference between the 25% and 75% quantiles. <br>\n"
   ]
  },
  {
   "cell_type": "markdown",
   "metadata": {
    "id": "WPWkF9m83XGl"
   },
   "source": [
    "We can also calculate the *mode* and *median*."
   ]
  },
  {
   "cell_type": "code",
   "execution_count": null,
   "metadata": {
    "colab": {
     "base_uri": "https://localhost:8080/"
    },
    "executionInfo": {
     "elapsed": 225,
     "status": "ok",
     "timestamp": 1660750137193,
     "user": {
      "displayName": "Michelle Voong",
      "userId": "06511363073265027000"
     },
     "user_tz": 240
    },
    "id": "8hiIOjvL3XGl",
    "outputId": "2f775a60-400f-4b4d-fd3a-7cdfb9cbc531"
   },
   "outputs": [],
   "source": [
    "df_closed['case_duration'].mode()"
   ]
  },
  {
   "cell_type": "code",
   "execution_count": null,
   "metadata": {
    "colab": {
     "base_uri": "https://localhost:8080/"
    },
    "executionInfo": {
     "elapsed": 173,
     "status": "ok",
     "timestamp": 1660750139752,
     "user": {
      "displayName": "Michelle Voong",
      "userId": "06511363073265027000"
     },
     "user_tz": 240
    },
    "id": "HN9ce8lG3XGm",
    "outputId": "047ea66b-4b0a-4824-e7a6-e912b1584c63"
   },
   "outputs": [],
   "source": [
    "df_closed['case_duration'].median()"
   ]
  },
  {
   "cell_type": "markdown",
   "metadata": {
    "id": "cd58E_un3XGm"
   },
   "source": [
    "The descriptive statistics summary in table form is nice, but it would be nice to visualize the data in a histogram. Simply trying to plot using the values in the ```case_duration``` column will case an error. \n",
    "\n",
    "Currently, the values in ```case_duration``` are of type ```timedelta64[ns]```, ```df_closed['case_duration']``` is a Timedelta Series. We will need to apply what is called a frequency conversion to the values. \n",
    "\n",
    "\"Timedelta Series, TimedeltaIndex, and Timedelta scalars can be converted to other 'frequences' by dividing by another timedelta, or by astyping to a specific timedelta type.\" (See the link below for more information and code examples!)\n",
    "\n",
    "https://pandas.pydata.org/pandas-docs/stable/user_guide/timedeltas.html\n"
   ]
  },
  {
   "cell_type": "code",
   "execution_count": null,
   "metadata": {
    "colab": {
     "base_uri": "https://localhost:8080/",
     "height": 300
    },
    "executionInfo": {
     "elapsed": 704,
     "status": "ok",
     "timestamp": 1660750262997,
     "user": {
      "displayName": "Michelle Voong",
      "userId": "06511363073265027000"
     },
     "user_tz": 240
    },
    "id": "s6WHP4lz3XGm",
    "outputId": "d6132bff-aebc-4f2d-a220-dd7a0456cd7c"
   },
   "outputs": [],
   "source": [
    "# dividing the case_duration values by Timedelta of 1 day \n",
    "duration_days = ( df_closed['case_duration'] / pd.Timedelta(days=1))\n",
    "\n",
    "# adding calculation to dataframe under duration_in_days column \n",
    "df_closed = df_closed.assign(duration_in_days=duration_days)\n",
    "\n",
    "# display descriptive statistics summary with new column addition \n",
    "df_closed[['duration_in_days']].describe()"
   ]
  },
  {
   "cell_type": "code",
   "execution_count": null,
   "metadata": {
    "colab": {
     "base_uri": "https://localhost:8080/",
     "height": 383
    },
    "executionInfo": {
     "elapsed": 892,
     "status": "ok",
     "timestamp": 1660750281062,
     "user": {
      "displayName": "Michelle Voong",
      "userId": "06511363073265027000"
     },
     "user_tz": 240
    },
    "id": "4PRQnuLk3XGm",
    "outputId": "f7a4803a-043d-4cd3-8984-f3532ff87488"
   },
   "outputs": [],
   "source": [
    "# using seaborn library for visualizations \n",
    "sns.set_theme() # use this if you dont want the visualizations to be default matplotlibstyle\n",
    "sns.displot(df_closed, x=\"duration_in_days\", binwidth=1)"
   ]
  },
  {
   "cell_type": "markdown",
   "metadata": {
    "id": "dioIWQPo3XGm"
   },
   "source": [
    "From the plot above, the data seems to be skewed right meaning the right tail is much longer than the left. Let's try playing with different bin widths. "
   ]
  },
  {
   "cell_type": "code",
   "execution_count": null,
   "metadata": {
    "colab": {
     "base_uri": "https://localhost:8080/",
     "height": 383
    },
    "executionInfo": {
     "elapsed": 880,
     "status": "ok",
     "timestamp": 1660750295412,
     "user": {
      "displayName": "Michelle Voong",
      "userId": "06511363073265027000"
     },
     "user_tz": 240
    },
    "id": "Iooy6P8t3XGm",
    "outputId": "f792b0a1-e687-4ee6-d6cd-8a684887fe50"
   },
   "outputs": [],
   "source": [
    "# trying different bin sizes \n",
    "sns.displot(df_closed, x=\"duration_in_days\", binwidth=5)"
   ]
  },
  {
   "cell_type": "code",
   "execution_count": null,
   "metadata": {
    "colab": {
     "base_uri": "https://localhost:8080/",
     "height": 383
    },
    "executionInfo": {
     "elapsed": 697,
     "status": "ok",
     "timestamp": 1660750334892,
     "user": {
      "displayName": "Michelle Voong",
      "userId": "06511363073265027000"
     },
     "user_tz": 240
    },
    "id": "oL04U4hf3XGm",
    "outputId": "820da582-7ae8-47c3-ed0a-256858c8b684"
   },
   "outputs": [],
   "source": [
    "# trying different bin sizes\n",
    "sns.displot(df_closed, x=\"duration_in_days\", binwidth=25)"
   ]
  },
  {
   "cell_type": "markdown",
   "metadata": {
    "id": "rtfMqO0C3XGm"
   },
   "source": [
    "Since the data is heavily skewed, let's apply log transformation to the data. The log transformation will *hopefully* reduce or remove the skewness of the original data. The assumption is that the original data follows a log-normal distribution. "
   ]
  },
  {
   "cell_type": "code",
   "execution_count": null,
   "metadata": {
    "colab": {
     "base_uri": "https://localhost:8080/",
     "height": 383
    },
    "executionInfo": {
     "elapsed": 2337,
     "status": "ok",
     "timestamp": 1660750340765,
     "user": {
      "displayName": "Michelle Voong",
      "userId": "06511363073265027000"
     },
     "user_tz": 240
    },
    "id": "6VV_sVWT3XGn",
    "outputId": "67a01f0b-3990-4999-ee00-5540a082aeca"
   },
   "outputs": [],
   "source": [
    "# log-scale transformation since the data is heavliy skewed \n",
    "# add bin_width parameter to change bin sizes\n",
    "sns.displot(df_closed, x=\"duration_in_days\", log_scale=True)"
   ]
  },
  {
   "cell_type": "markdown",
   "metadata": {
    "id": "binkoCYV3XGn"
   },
   "source": [
    "### Which neighborhoods had the most requests from January 2022 - March 2022? \n",
    "\n",
    "To answer this question, we will take a look at the ```neighborhood``` column. "
   ]
  },
  {
   "cell_type": "code",
   "execution_count": null,
   "metadata": {
    "colab": {
     "base_uri": "https://localhost:8080/"
    },
    "executionInfo": {
     "elapsed": 170,
     "status": "ok",
     "timestamp": 1660750403927,
     "user": {
      "displayName": "Michelle Voong",
      "userId": "06511363073265027000"
     },
     "user_tz": 240
    },
    "id": "QUO3mqWS3XGn",
    "outputId": "96f8ee2b-dc02-4274-9a34-eba7d7f35507"
   },
   "outputs": [],
   "source": [
    "# has 25 unique values so a pie chart probably is not the best option\n",
    "len(df_closed['neighborhood'].unique()) "
   ]
  },
  {
   "cell_type": "code",
   "execution_count": null,
   "metadata": {
    "colab": {
     "base_uri": "https://localhost:8080/",
     "height": 319
    },
    "executionInfo": {
     "elapsed": 557,
     "status": "ok",
     "timestamp": 1660750411947,
     "user": {
      "displayName": "Michelle Voong",
      "userId": "06511363073265027000"
     },
     "user_tz": 240
    },
    "id": "mpqvvxBc3XGn",
    "outputId": "9715e1f9-fcdc-46af-db35-11f2cdffea58"
   },
   "outputs": [],
   "source": [
    "# plot neighborhood counts \n",
    "sns.countplot(x=\"neighborhood\", data=df_closed).set_title('Number of Requests by Neighborhood')"
   ]
  },
  {
   "cell_type": "markdown",
   "metadata": {
    "id": "6_5kRhbj3XGn"
   },
   "source": [
    "Yikes! The x-axis labels are pretty hard to read. Let's fix that by plotting the bars horizontally. "
   ]
  },
  {
   "cell_type": "code",
   "execution_count": null,
   "metadata": {
    "colab": {
     "base_uri": "https://localhost:8080/",
     "height": 319
    },
    "executionInfo": {
     "elapsed": 444,
     "status": "ok",
     "timestamp": 1660750414818,
     "user": {
      "displayName": "Michelle Voong",
      "userId": "06511363073265027000"
     },
     "user_tz": 240
    },
    "id": "XSimqizn3XGn",
    "outputId": "2f340f13-5e7f-4320-b3bb-75748160bea4"
   },
   "outputs": [],
   "source": [
    "# fixing orientation of the labels \n",
    "sns.countplot(y=\"neighborhood\", data=df_closed).set_title('Number of Requests by Neighborhood')"
   ]
  },
  {
   "cell_type": "markdown",
   "metadata": {
    "id": "y2UdSXDo3XGn"
   },
   "source": [
    "From the plot we can see that Dorchester has the most requests, followed by South Boston/South Boston Waterfront, then Roxbury. There's a bar that doesn't have a name...that's strange. Let's display the exact counts for each neighborhood. "
   ]
  },
  {
   "cell_type": "code",
   "execution_count": null,
   "metadata": {
    "colab": {
     "base_uri": "https://localhost:8080/"
    },
    "executionInfo": {
     "elapsed": 180,
     "status": "ok",
     "timestamp": 1660750418544,
     "user": {
      "displayName": "Michelle Voong",
      "userId": "06511363073265027000"
     },
     "user_tz": 240
    },
    "id": "NT82lbGY3XGn",
    "outputId": "ae3b0945-c10a-4134-ab17-b60caceaebc7"
   },
   "outputs": [],
   "source": [
    "# displaying number of requests by neighborhood in table form \n",
    "df_closed['neighborhood'].value_counts()"
   ]
  },
  {
   "cell_type": "markdown",
   "metadata": {
    "id": "2CXjK5bh3XGo"
   },
   "source": [
    "There are 476 requests without a neighborhood label. "
   ]
  },
  {
   "cell_type": "code",
   "execution_count": null,
   "metadata": {
    "colab": {
     "base_uri": "https://localhost:8080/",
     "height": 1000
    },
    "executionInfo": {
     "elapsed": 188,
     "status": "ok",
     "timestamp": 1660750423767,
     "user": {
      "displayName": "Michelle Voong",
      "userId": "06511363073265027000"
     },
     "user_tz": 240
    },
    "id": "e8_Vk8og3XGo",
    "outputId": "7a7308f8-a331-4145-9319-2d6d7b9f2975"
   },
   "outputs": [],
   "source": [
    "# uncomment and run the line below to check for the empty neighborhood label \n",
    "# print(df_closed['neighborhood'].unique())\n",
    "\n",
    "# gather the rows where neighborhood == ' ' \n",
    "df_no_neighborhood = df_closed.loc[(df_closed['neighborhood'] == ' ')]\n",
    "df_no_neighborhood.head(15) # display first 15 rows"
   ]
  },
  {
   "cell_type": "code",
   "execution_count": null,
   "metadata": {
    "colab": {
     "base_uri": "https://localhost:8080/"
    },
    "executionInfo": {
     "elapsed": 181,
     "status": "ok",
     "timestamp": 1660750427158,
     "user": {
      "displayName": "Michelle Voong",
      "userId": "06511363073265027000"
     },
     "user_tz": 240
    },
    "id": "Bd4Yz5PI3XGo",
    "outputId": "f3a6c416-1997-49b6-e0b3-ac21d73def68"
   },
   "outputs": [],
   "source": [
    "print(df_no_neighborhood['latitude'].unique())\n",
    "print(df_no_neighborhood['longitude'].unique())"
   ]
  },
  {
   "cell_type": "markdown",
   "metadata": {
    "id": "6NGLLmUA3XGo"
   },
   "source": [
    "The latitude and longitude values are the same for all of the rows without a ```neighborhood``` value. We can use the *Geopy* module to convert the latitude and longitude coordinates to a place or location address - also referred to as reverse geocoding. "
   ]
  },
  {
   "cell_type": "code",
   "execution_count": null,
   "metadata": {
    "colab": {
     "base_uri": "https://localhost:8080/"
    },
    "executionInfo": {
     "elapsed": 342,
     "status": "ok",
     "timestamp": 1660750428607,
     "user": {
      "displayName": "Michelle Voong",
      "userId": "06511363073265027000"
     },
     "user_tz": 240
    },
    "id": "9-6lVzmX3XGo",
    "outputId": "1b3862bb-72a2-404a-d124-46d5cc46489c"
   },
   "outputs": [],
   "source": [
    "# import geopy \n",
    "from geopy.geocoders import Nominatim \n",
    "\n",
    "# make a Nominatim object and initialize, specify a user_agent \n",
    "# Nominatim requires this value to be set to your application name, to be able to limit the number of requests per application\n",
    "# Nominatim is a free service but provides low request limits: https://operations.osmfoundation.org/policies/nominatim/\n",
    "geolocator = Nominatim(user_agent=\"eda_geotest\")\n",
    "\n",
    "# set latitude and longitude and convert to string \n",
    "lat = str(df_no_neighborhood['latitude'].unique()[0])\n",
    "long = str(df_no_neighborhood['longitude'].unique()[0])\n",
    "\n",
    "# get the location information\n",
    "location = geolocator.reverse(lat + \",\" +long)\n",
    "\n",
    "# display location information, add .raw for more details\n",
    "print(location.raw)"
   ]
  },
  {
   "cell_type": "markdown",
   "metadata": {
    "id": "zaSDa5ZT3XGp"
   },
   "source": [
    "Quick Google Maps search of the location confirms that (42.3594, -71.0587) is Government Center. The output from *geopy* is Sear's Crescent and Sears' Block which are a pair of buildings adjacent to City Hall and City Hall Plaza, Government Center.\n",
    "\n",
    "Another quick look at the output from *geopy* shows that the ```lat``` and ```lon``` values are similar but different from the latitude and longitude values in the dataset. \n",
    "\n",
    "The requests without a neighborhood value have a general location of Government Center. At least we can confirm that requests without a neighborhood value are not outside of Boston or erroneous. "
   ]
  },
  {
   "cell_type": "markdown",
   "metadata": {
    "id": "CQGzIR183XGp"
   },
   "source": [
    "\n",
    "### During January 2022 - March 2022, where did the most case requests come from?\n",
    "\n",
    "To answer this question, we will take a look at the ```source``` column. "
   ]
  },
  {
   "cell_type": "code",
   "execution_count": null,
   "metadata": {
    "colab": {
     "base_uri": "https://localhost:8080/"
    },
    "executionInfo": {
     "elapsed": 208,
     "status": "ok",
     "timestamp": 1660750433463,
     "user": {
      "displayName": "Michelle Voong",
      "userId": "06511363073265027000"
     },
     "user_tz": 240
    },
    "id": "KxlMdrp93XGp",
    "outputId": "aa8fe38a-c178-42ca-ae2f-0061474179a5"
   },
   "outputs": [],
   "source": [
    "# has only 5 unique values so in this case we can use a pie chart \n",
    "len(df_closed['source'].unique())"
   ]
  },
  {
   "cell_type": "code",
   "execution_count": null,
   "metadata": {
    "colab": {
     "base_uri": "https://localhost:8080/"
    },
    "executionInfo": {
     "elapsed": 183,
     "status": "ok",
     "timestamp": 1660750434887,
     "user": {
      "displayName": "Michelle Voong",
      "userId": "06511363073265027000"
     },
     "user_tz": 240
    },
    "id": "F13WugP83XGp",
    "outputId": "c4656084-14ca-4fe2-bdd5-470d3357f71e"
   },
   "outputs": [],
   "source": [
    "# displaying the number of requests by each source type \n",
    "df_closed['source'].value_counts()"
   ]
  },
  {
   "cell_type": "code",
   "execution_count": null,
   "metadata": {
    "colab": {
     "base_uri": "https://localhost:8080/",
     "height": 248
    },
    "executionInfo": {
     "elapsed": 159,
     "status": "ok",
     "timestamp": 1660750436878,
     "user": {
      "displayName": "Michelle Voong",
      "userId": "06511363073265027000"
     },
     "user_tz": 240
    },
    "id": "Xs6qo0lP3XGp",
    "outputId": "f2fe9d7f-e665-45eb-8d34-5603a0663da7"
   },
   "outputs": [],
   "source": [
    "# visualizing the breakdown of where case requests come from \n",
    "# seaborn doesn't have a default pie chart but you can add seaborn color palettes to matplotlib plots\n",
    "\n",
    "colors = sns.color_palette('pastel')[0:5]\n",
    "ax = df_closed['source'].value_counts().plot.pie(colors=colors)"
   ]
  },
  {
   "cell_type": "code",
   "execution_count": null,
   "metadata": {
    "colab": {
     "base_uri": "https://localhost:8080/",
     "height": 248
    },
    "executionInfo": {
     "elapsed": 189,
     "status": "ok",
     "timestamp": 1660750438754,
     "user": {
      "displayName": "Michelle Voong",
      "userId": "06511363073265027000"
     },
     "user_tz": 240
    },
    "id": "CApeB0973XGp",
    "outputId": "1056d626-6e09-4729-d3a9-53ab836745d2"
   },
   "outputs": [],
   "source": [
    "# label each slice with the percentage of requests per source \n",
    "ax = df_closed['source'].value_counts().plot.pie(colors=colors,autopct='%1.1f%%')\n",
    "\n",
    "# run the following to remove the default column name label *source*\n",
    "#ax.yaxis.set_visible(False)"
   ]
  },
  {
   "cell_type": "markdown",
   "metadata": {
    "id": "tKYqYK1_3XGp"
   },
   "source": [
    "From the pie chart, 54% of the requests from January 2022 - March 2022 came from the Citizens Connect App, 35.4% came from a Constituent Call, followed by 6.4% from the City Worker App. "
   ]
  },
  {
   "cell_type": "markdown",
   "metadata": {
    "id": "cnjoCNnQ3XGp"
   },
   "source": [
    "### How many different types of requests were there from January 2022 - March 2022?\n",
    "\n",
    "To answer this question, we will take a look at the ```reason``` column. "
   ]
  },
  {
   "cell_type": "code",
   "execution_count": null,
   "metadata": {
    "colab": {
     "base_uri": "https://localhost:8080/"
    },
    "executionInfo": {
     "elapsed": 182,
     "status": "ok",
     "timestamp": 1660750441902,
     "user": {
      "displayName": "Michelle Voong",
      "userId": "06511363073265027000"
     },
     "user_tz": 240
    },
    "id": "zVpNc1UV3XGp",
    "outputId": "7881f507-6fde-4441-c23d-cfcd10accdc1"
   },
   "outputs": [],
   "source": [
    "# how many different reasons are there \n",
    "len(df_closed['reason'].unique())"
   ]
  },
  {
   "cell_type": "code",
   "execution_count": null,
   "metadata": {
    "colab": {
     "base_uri": "https://localhost:8080/"
    },
    "executionInfo": {
     "elapsed": 211,
     "status": "ok",
     "timestamp": 1660750444724,
     "user": {
      "displayName": "Michelle Voong",
      "userId": "06511363073265027000"
     },
     "user_tz": 240
    },
    "id": "Ie2Y3L243XGq",
    "outputId": "655b0a45-81f6-4c1a-85c0-ff78f91cde16"
   },
   "outputs": [],
   "source": [
    "# number of requests by reason \n",
    "df_closed['reason'].value_counts()"
   ]
  },
  {
   "cell_type": "markdown",
   "metadata": {
    "id": "8mTokvaI3XGq"
   },
   "source": [
    "There were 38 different types of requests from January 2022 - March 2022, the top three with most requests being *Enforcement & Abandoned Vehicles* with 14,908 requests, *Code Enforcement* with 10,437 requests, then *Street Cleaning* with 8,477 requests. "
   ]
  },
  {
   "cell_type": "code",
   "execution_count": null,
   "metadata": {
    "colab": {
     "base_uri": "https://localhost:8080/",
     "height": 834
    },
    "executionInfo": {
     "elapsed": 177,
     "status": "ok",
     "timestamp": 1660750447335,
     "user": {
      "displayName": "Michelle Voong",
      "userId": "06511363073265027000"
     },
     "user_tz": 240
    },
    "id": "PuNkyumW3XGq",
    "outputId": "f4730770-a7a1-4436-8006-caf5a04c567d"
   },
   "outputs": [],
   "source": [
    "# top case request reason by neighborhood \n",
    "df_closed.groupby(['neighborhood'])['reason'].describe()"
   ]
  },
  {
   "cell_type": "code",
   "execution_count": null,
   "metadata": {
    "colab": {
     "base_uri": "https://localhost:8080/",
     "height": 455
    },
    "executionInfo": {
     "elapsed": 1542,
     "status": "ok",
     "timestamp": 1660750453246,
     "user": {
      "displayName": "Michelle Voong",
      "userId": "06511363073265027000"
     },
     "user_tz": 240
    },
    "id": "5exMcqY93XGq",
    "outputId": "194adbb6-e49b-4309-da8a-b6f8f85133ed"
   },
   "outputs": [],
   "source": [
    "# get counts for each request reason by neighborhood \n",
    "reason_by_neighborhood = df_closed.groupby(['neighborhood', 'reason'])['duration_in_days'].describe()[['count']]\n",
    "reason_by_neighborhood"
   ]
  },
  {
   "cell_type": "code",
   "execution_count": null,
   "metadata": {
    "executionInfo": {
     "elapsed": 156,
     "status": "ok",
     "timestamp": 1660750455720,
     "user": {
      "displayName": "Michelle Voong",
      "userId": "06511363073265027000"
     },
     "user_tz": 240
    },
    "id": "UePCakuX3XGq"
   },
   "outputs": [],
   "source": [
    "# run this cell to write the reason by neighborhood to a csv to see all rows of data \n",
    "reason_by_neighborhood.to_csv('reasons_by_neighborhood.csv')"
   ]
  },
  {
   "cell_type": "code",
   "execution_count": null,
   "metadata": {
    "colab": {
     "base_uri": "https://localhost:8080/",
     "height": 928
    },
    "executionInfo": {
     "elapsed": 168,
     "status": "ok",
     "timestamp": 1660750456753,
     "user": {
      "displayName": "Michelle Voong",
      "userId": "06511363073265027000"
     },
     "user_tz": 240
    },
    "id": "j71KzjHc3XGq",
    "outputId": "2a00b53b-0a92-4511-c0a4-f464cb6b45b7"
   },
   "outputs": [],
   "source": [
    "# let's take a look at the South End neighborhood specifically \n",
    "south_end_df = df_closed.loc[(df_closed['neighborhood'] == 'South End')]\n",
    "south_end_df.groupby(['reason'])['duration_in_days'].describe()[['count']]"
   ]
  },
  {
   "cell_type": "markdown",
   "metadata": {
    "id": "BLqIuZGT3XGq"
   },
   "source": [
    "### What types of cases typically take the longest to resolve?\n",
    "\n",
    "To answer this question, let's take a look at the ```duration_in_days``` and ```reason``` columns."
   ]
  },
  {
   "cell_type": "code",
   "execution_count": null,
   "metadata": {
    "colab": {
     "base_uri": "https://localhost:8080/",
     "height": 383
    },
    "executionInfo": {
     "elapsed": 2775,
     "status": "ok",
     "timestamp": 1660750466295,
     "user": {
      "displayName": "Michelle Voong",
      "userId": "06511363073265027000"
     },
     "user_tz": 240
    },
    "id": "-UOoc__b3XGq",
    "outputId": "88753974-a3d6-4517-91a0-83d9dbdd2551"
   },
   "outputs": [],
   "source": [
    "# what types of cases typically take the longest \n",
    "# case_duration by reason \n",
    "\n",
    "sns.catplot(x=\"reason\", y=\"duration_in_days\", kind=\"box\", data=df_closed,)"
   ]
  },
  {
   "cell_type": "code",
   "execution_count": null,
   "metadata": {
    "colab": {
     "base_uri": "https://localhost:8080/",
     "height": 599
    },
    "executionInfo": {
     "elapsed": 2784,
     "status": "ok",
     "timestamp": 1660750476929,
     "user": {
      "displayName": "Michelle Voong",
      "userId": "06511363073265027000"
     },
     "user_tz": 240
    },
    "id": "0X3NFnhz3XGq",
    "outputId": "7ea80894-7944-48e1-98d0-f1793cccf6cd"
   },
   "outputs": [],
   "source": [
    "# The chart is kind of difficult to read... \n",
    "# Let's fix the size of the chart and flip the labels on the x-axis \n",
    "\n",
    "sns.catplot(y=\"reason\", x=\"duration_in_days\", kind=\"box\", data=df_closed,\n",
    "            height = 8, aspect = 1.25)"
   ]
  },
  {
   "cell_type": "markdown",
   "metadata": {
    "id": "S4efwpI-3XGr"
   },
   "source": [
    "Box plots display the five-number-summary, which includes: the minimum, the maximum, the sample median, and the first and third quartiles. \n",
    "\n",
    "The box plot shows the distribution ```duration_in_days``` in a way that allows comparisions between case ```reasons```. Box plots show the distribution of a numerical variable broken down by a categorical variable. \n",
    "\n",
    "The box shows the quartiles of the ```duration_in_days``` and the whiskers extend to show the rest of the distribution (minimum and maximum). Points that are shown outside of the whiskers are determined to be *outliers*. The line inside the box is the median. "
   ]
  },
  {
   "cell_type": "code",
   "execution_count": null,
   "metadata": {
    "colab": {
     "base_uri": "https://localhost:8080/",
     "height": 1000
    },
    "executionInfo": {
     "elapsed": 163,
     "status": "ok",
     "timestamp": 1660750480961,
     "user": {
      "displayName": "Michelle Voong",
      "userId": "06511363073265027000"
     },
     "user_tz": 240
    },
    "id": "jNLPgTf83XGr",
    "outputId": "7be078db-25f5-47e6-ebb9-2372ae714892"
   },
   "outputs": [],
   "source": [
    "# descriptive statistics for duration_in_days by case reason \n",
    "# box plot in table form \n",
    "df_closed.groupby(['reason'])['duration_in_days'].describe()"
   ]
  },
  {
   "cell_type": "markdown",
   "metadata": {
    "id": "T_IsTpoz3XGr"
   },
   "source": [
    "Graffiti cases take on average take the longests time to resolve, 60.796 days. "
   ]
  },
  {
   "cell_type": "markdown",
   "metadata": {
    "id": "-ByM_sxd3XGr"
   },
   "source": [
    "Do cases typically take longer in one neighborhood over another?"
   ]
  },
  {
   "cell_type": "code",
   "execution_count": null,
   "metadata": {
    "colab": {
     "base_uri": "https://localhost:8080/",
     "height": 599
    },
    "executionInfo": {
     "elapsed": 3773,
     "status": "ok",
     "timestamp": 1660750490053,
     "user": {
      "displayName": "Michelle Voong",
      "userId": "06511363073265027000"
     },
     "user_tz": 240
    },
    "id": "Rqv_P4YC3XGr",
    "outputId": "75d10473-471d-44a9-df91-6ff7770b018d"
   },
   "outputs": [],
   "source": [
    "# do cases typically take longer in one neighborhood over another?\n",
    "\n",
    "sns.catplot(y=\"neighborhood\", x=\"duration_in_days\", kind=\"box\", data=df_closed,\n",
    "            height = 8, aspect = 1.25)"
   ]
  },
  {
   "cell_type": "markdown",
   "metadata": {
    "id": "Eny2G4fw3XGr"
   },
   "source": [
    "The box plot above shows several outliers for each category (```neighborhood```) making it difficult to read and quite overwhelming. \n",
    "\n",
    "Let's display the information in table form. "
   ]
  },
  {
   "cell_type": "code",
   "execution_count": null,
   "metadata": {
    "colab": {
     "base_uri": "https://localhost:8080/",
     "height": 834
    },
    "executionInfo": {
     "elapsed": 171,
     "status": "ok",
     "timestamp": 1660750491278,
     "user": {
      "displayName": "Michelle Voong",
      "userId": "06511363073265027000"
     },
     "user_tz": 240
    },
    "id": "ATal5UEM3XGs",
    "outputId": "11f169b2-c65b-4664-d4e6-354230542862"
   },
   "outputs": [],
   "source": [
    "# in table form \n",
    "df_closed.groupby(['neighborhood'])['duration_in_days'].describe()"
   ]
  },
  {
   "cell_type": "markdown",
   "metadata": {
    "id": "PPQ6jDXE3XGs"
   },
   "source": [
    "In January 2022 - March 2022, cases took the longest in Chestnut Hill. Cases typically lasted on average 19.075 days but there were only 4 cases located in Chestnut Hill during this time. Smaller sample sizes could mean more variability (look at standard deviation to explain the spread of observations).  \n",
    "\n",
    "We can further look at the population of Chestnut Hill versus the other neighborhoods to try and make sense of this low case count. Additionally, we can broaden the time period of the cases to see if Chestnut Hill still has a low case count. \n",
    "\n",
    "From the table above we can see how long cases take by each neighborhood, it would be interesting to further breakdown by case reason for each neighborhood. "
   ]
  },
  {
   "cell_type": "markdown",
   "metadata": {
    "id": "k-jjw5d13XGs"
   },
   "source": [
    "### Wrap Up, Next Steps \n",
    "\n",
    "Further analysis could be done using the 311 dataset. Using the 311 data from previous years, we can see how number of requests have changed over the years, or how case duration may have changed over the years. \n",
    "\n",
    "Since most requests have latitude and longitude coordinates it could be interesting to plot each case request on a map to see if there are clusters of requests in certain locations.  \n",
    "\n",
    "Next steps could include gathering demographic data to overlay on top of the 311 dataset for further analysis. Another possible next step would be to build a model to predict how long a request could take given the request reason, subject, location, source, etc. "
   ]
  }
 ],
 "metadata": {
  "colab": {
   "name": "eda.ipynb",
   "provenance": []
  },
  "kernelspec": {
   "display_name": "Python 3",
   "language": "python",
   "name": "python3"
  },
  "language_info": {
   "codemirror_mode": {
    "name": "ipython",
    "version": 3
   },
   "file_extension": ".py",
   "mimetype": "text/x-python",
   "name": "python",
   "nbconvert_exporter": "python",
   "pygments_lexer": "ipython3",
   "version": "3.11.5"
  },
  "vscode": {
   "interpreter": {
    "hash": "56b72aab97c5d88c22a6bf5872989e2e65e9296dc12395fbfb8350007c775deb"
   }
  }
 },
 "nbformat": 4,
 "nbformat_minor": 4
}
